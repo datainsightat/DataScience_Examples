{
 "cells": [
  {
   "cell_type": "markdown",
   "metadata": {
    "deletable": true,
    "editable": true
   },
   "source": [
    "<a href=\"https://cognitiveclass.ai\"><img src = \"https://ibm.box.com/shared/static/9gegpsmnsoo25ikkbl4qzlvlyjbgxs5x.png\" width = 400> </a>\n",
    "\n",
    "<h1 align=center><font size = 5>From Understanding to Preparation</font></h1>"
   ]
  },
  {
   "cell_type": "markdown",
   "metadata": {
    "deletable": true,
    "editable": true
   },
   "source": [
    "## Introduction\n",
    "\n",
    "In this lab, we will continue learning about the data science methodology, and focus on the **Data Understanding** and the **Data Preparation** stages."
   ]
  },
  {
   "cell_type": "markdown",
   "metadata": {
    "deletable": true,
    "editable": true
   },
   "source": [
    "## Table of Contents\n",
    "\n",
    "<div class=\"alert alert-block alert-info\" style=\"margin-top: 20px\">\n",
    "1. [Recap](#0)<br>\n",
    "2. [Data Understanding](#2)<br>\n",
    "3. [Data Preparation](#4)<br>\n",
    "</div>\n",
    "<hr>"
   ]
  },
  {
   "cell_type": "markdown",
   "metadata": {
    "deletable": true,
    "editable": true
   },
   "source": [
    "# Recap <a id=\"0\"></a>"
   ]
  },
  {
   "cell_type": "markdown",
   "metadata": {
    "deletable": true,
    "editable": true
   },
   "source": [
    "In Lab **From Requirements to Collection**, we learned that the data we need to answer the question developed in the business understanding stage, namely *can we automate the process of determining the cuisine of a given recipe?*, is readily available. A researcher named Yong-Yeol Ahn scraped tens of thousands of food recipes (cuisines and ingredients) from three different websites, namely:"
   ]
  },
  {
   "cell_type": "markdown",
   "metadata": {
    "deletable": true,
    "editable": true
   },
   "source": [
    "<img src=\"https://ibm.box.com/shared/static/4fruwan7wmjov3gywiz3swlojw0srv54.png\" width=500>\n",
    "<div align=\"center\">\n",
    "www.allrecipes.com\n",
    "</div>\n",
    "<br/><br/>\n",
    "<img src=\"https://ibm.box.com/shared/static/cebfdbr22fjxa47lltp0bs533r103g0z.png\" width=500>\n",
    "<div align=\"center\">\n",
    "www.epicurious.com\n",
    "</div>\n",
    "<br/><br/>\n",
    "<img src=\"https://ibm.box.com/shared/static/epk727njg7xrz49pbkpkzd05cm5ywqmu.png\" width=500>\n",
    "<div align=\"center\">\n",
    "www.menupan.com\n",
    "</div>\n",
    "<br/><br/>"
   ]
  },
  {
   "cell_type": "markdown",
   "metadata": {
    "deletable": true,
    "editable": true
   },
   "source": [
    "For more information on Yong-Yeol Ahn and his research, you can read his paper on [Flavor Network and the Principles of Food Pairing](http://yongyeol.com/papers/ahn-flavornet-2011.pdf)."
   ]
  },
  {
   "cell_type": "markdown",
   "metadata": {
    "deletable": true,
    "editable": true
   },
   "source": [
    "We also collected the data and placed it on an IBM server for your convenience.\n",
    "\n",
    "------------"
   ]
  },
  {
   "cell_type": "markdown",
   "metadata": {},
   "source": [
    "# Data Understanding <a id=\"2\"></a>"
   ]
  },
  {
   "cell_type": "markdown",
   "metadata": {
    "deletable": true,
    "editable": true
   },
   "source": [
    "<img src=\"https://ibm.box.com/shared/static/89geb3m0ge1z73s92hl8o8wdcpcrggtz.png\" width=500>"
   ]
  },
  {
   "cell_type": "markdown",
   "metadata": {},
   "source": [
    "<h4 style=\"color: red\";> Important note: Please note that you are not expected to know how to program in R. The following code is meant to illustrate the stages of data understanding and data preparation, so it is totally fine if you do not understand the individual lines of code. We have a full course on programming in R, <a href=\"http://cocl.us/RP0101EN_DS0103EN_LAB3_R\">R101</a>, so please feel free to complete the course if you are interested in learning how to program in R."
   ]
  },
  {
   "cell_type": "markdown",
   "metadata": {},
   "source": [
    "### Using this notebook:\n",
    "\n",
    "To run any of the following cells of code, you can type **Shift + Enter** to excute the code in a cell."
   ]
  },
  {
   "cell_type": "markdown",
   "metadata": {},
   "source": [
    "Get the version of R installed."
   ]
  },
  {
   "cell_type": "code",
   "execution_count": 1,
   "metadata": {
    "collapsed": false
   },
   "outputs": [
    {
     "data": {
      "text/html": [
       "'R version 3.4.3 (2017-11-30)'"
      ],
      "text/latex": [
       "'R version 3.4.3 (2017-11-30)'"
      ],
      "text/markdown": [
       "'R version 3.4.3 (2017-11-30)'"
      ],
      "text/plain": [
       "[1] \"R version 3.4.3 (2017-11-30)\""
      ]
     },
     "metadata": {},
     "output_type": "display_data"
    }
   ],
   "source": [
    "# check R version\n",
    "R.Version()$version.string"
   ]
  },
  {
   "cell_type": "markdown",
   "metadata": {},
   "source": [
    "Download the data from the IBM server."
   ]
  },
  {
   "cell_type": "code",
   "execution_count": 2,
   "metadata": {
    "collapsed": false,
    "deletable": true,
    "editable": true
   },
   "outputs": [],
   "source": [
    "# click here and press Shift + Enter\n",
    "download.file(\"https://ibm.box.com/shared/static/5wah9atr5o1akuuavl2z9tkjzdinr1lv.csv\",\n",
    "              destfile = \"/resources/data/recipes.csv\", quiet = TRUE)\n",
    "\n",
    "recipes <- read.csv(\"/resources/data/recipes.csv\") # takes 30 seconds"
   ]
  },
  {
   "cell_type": "markdown",
   "metadata": {},
   "source": [
    "Show the first few rows."
   ]
  },
  {
   "cell_type": "code",
   "execution_count": 3,
   "metadata": {
    "collapsed": false
   },
   "outputs": [
    {
     "data": {
      "text/html": [
       "<table>\n",
       "<thead><tr><th scope=col>country</th><th scope=col>almond</th><th scope=col>angelica</th><th scope=col>anise</th><th scope=col>anise_seed</th><th scope=col>apple</th><th scope=col>apple_brandy</th><th scope=col>apricot</th><th scope=col>armagnac</th><th scope=col>artemisia</th><th scope=col>⋯</th><th scope=col>whiskey</th><th scope=col>white_bread</th><th scope=col>white_wine</th><th scope=col>whole_grain_wheat_flour</th><th scope=col>wine</th><th scope=col>wood</th><th scope=col>yam</th><th scope=col>yeast</th><th scope=col>yogurt</th><th scope=col>zucchini</th></tr></thead>\n",
       "<tbody>\n",
       "\t<tr><td>Vietnamese</td><td>No        </td><td>No        </td><td>No        </td><td>No        </td><td>No        </td><td>No        </td><td>No        </td><td>No        </td><td>No        </td><td>⋯         </td><td>No        </td><td>No        </td><td>No        </td><td>No        </td><td>No        </td><td>No        </td><td>No        </td><td>No        </td><td>No        </td><td>No        </td></tr>\n",
       "\t<tr><td>Vietnamese</td><td>No        </td><td>No        </td><td>No        </td><td>No        </td><td>No        </td><td>No        </td><td>No        </td><td>No        </td><td>No        </td><td>⋯         </td><td>No        </td><td>No        </td><td>No        </td><td>No        </td><td>No        </td><td>No        </td><td>No        </td><td>No        </td><td>No        </td><td>No        </td></tr>\n",
       "\t<tr><td>Vietnamese</td><td>No        </td><td>No        </td><td>No        </td><td>No        </td><td>No        </td><td>No        </td><td>No        </td><td>No        </td><td>No        </td><td>⋯         </td><td>No        </td><td>No        </td><td>No        </td><td>No        </td><td>No        </td><td>No        </td><td>No        </td><td>No        </td><td>No        </td><td>No        </td></tr>\n",
       "\t<tr><td>Vietnamese</td><td>No        </td><td>No        </td><td>No        </td><td>No        </td><td>No        </td><td>No        </td><td>No        </td><td>No        </td><td>No        </td><td>⋯         </td><td>No        </td><td>No        </td><td>No        </td><td>No        </td><td>No        </td><td>No        </td><td>No        </td><td>No        </td><td>No        </td><td>No        </td></tr>\n",
       "\t<tr><td>Vietnamese</td><td>No        </td><td>No        </td><td>No        </td><td>No        </td><td>No        </td><td>No        </td><td>No        </td><td>No        </td><td>No        </td><td>⋯         </td><td>No        </td><td>No        </td><td>No        </td><td>No        </td><td>No        </td><td>No        </td><td>No        </td><td>No        </td><td>No        </td><td>No        </td></tr>\n",
       "\t<tr><td>Vietnamese</td><td>No        </td><td>No        </td><td>No        </td><td>No        </td><td>No        </td><td>No        </td><td>No        </td><td>No        </td><td>No        </td><td>⋯         </td><td>No        </td><td>No        </td><td>No        </td><td>No        </td><td>No        </td><td>No        </td><td>No        </td><td>No        </td><td>No        </td><td>No        </td></tr>\n",
       "</tbody>\n",
       "</table>\n"
      ],
      "text/latex": [
       "\\begin{tabular}{r|llllllllllllllllllllllllllllllllllllllllllllllllllllllllllllllllllllllllllllllllllllllllllllllllllllllllllllllllllllllllllllllllllllllllllllllllllllllllllllllllllllllllllllllllllllllllllllllllllllllllllllllllllllllllllllllllllllllllllllllllllllllllllllllllllllllllllllllllllllllllllllllllllllllllllllllllllllllllllllllllllllllllllllllllllllllllllllllllllllllllllllllllllllllllllllllll}\n",
       " country & almond & angelica & anise & anise\\_seed & apple & apple\\_brandy & apricot & armagnac & artemisia & ⋯ & whiskey & white\\_bread & white\\_wine & whole\\_grain\\_wheat\\_flour & wine & wood & yam & yeast & yogurt & zucchini\\\\\n",
       "\\hline\n",
       "\t Vietnamese & No         & No         & No         & No         & No         & No         & No         & No         & No         & ⋯          & No         & No         & No         & No         & No         & No         & No         & No         & No         & No        \\\\\n",
       "\t Vietnamese & No         & No         & No         & No         & No         & No         & No         & No         & No         & ⋯          & No         & No         & No         & No         & No         & No         & No         & No         & No         & No        \\\\\n",
       "\t Vietnamese & No         & No         & No         & No         & No         & No         & No         & No         & No         & ⋯          & No         & No         & No         & No         & No         & No         & No         & No         & No         & No        \\\\\n",
       "\t Vietnamese & No         & No         & No         & No         & No         & No         & No         & No         & No         & ⋯          & No         & No         & No         & No         & No         & No         & No         & No         & No         & No        \\\\\n",
       "\t Vietnamese & No         & No         & No         & No         & No         & No         & No         & No         & No         & ⋯          & No         & No         & No         & No         & No         & No         & No         & No         & No         & No        \\\\\n",
       "\t Vietnamese & No         & No         & No         & No         & No         & No         & No         & No         & No         & ⋯          & No         & No         & No         & No         & No         & No         & No         & No         & No         & No        \\\\\n",
       "\\end{tabular}\n"
      ],
      "text/markdown": [
       "\n",
       "country | almond | angelica | anise | anise_seed | apple | apple_brandy | apricot | armagnac | artemisia | ⋯ | whiskey | white_bread | white_wine | whole_grain_wheat_flour | wine | wood | yam | yeast | yogurt | zucchini | \n",
       "|---|---|---|---|---|---|\n",
       "| Vietnamese | No         | No         | No         | No         | No         | No         | No         | No         | No         | ⋯          | No         | No         | No         | No         | No         | No         | No         | No         | No         | No         | \n",
       "| Vietnamese | No         | No         | No         | No         | No         | No         | No         | No         | No         | ⋯          | No         | No         | No         | No         | No         | No         | No         | No         | No         | No         | \n",
       "| Vietnamese | No         | No         | No         | No         | No         | No         | No         | No         | No         | ⋯          | No         | No         | No         | No         | No         | No         | No         | No         | No         | No         | \n",
       "| Vietnamese | No         | No         | No         | No         | No         | No         | No         | No         | No         | ⋯          | No         | No         | No         | No         | No         | No         | No         | No         | No         | No         | \n",
       "| Vietnamese | No         | No         | No         | No         | No         | No         | No         | No         | No         | ⋯          | No         | No         | No         | No         | No         | No         | No         | No         | No         | No         | \n",
       "| Vietnamese | No         | No         | No         | No         | No         | No         | No         | No         | No         | ⋯          | No         | No         | No         | No         | No         | No         | No         | No         | No         | No         | \n",
       "\n",
       "\n"
      ],
      "text/plain": [
       "  country    almond angelica anise anise_seed apple apple_brandy apricot\n",
       "1 Vietnamese No     No       No    No         No    No           No     \n",
       "2 Vietnamese No     No       No    No         No    No           No     \n",
       "3 Vietnamese No     No       No    No         No    No           No     \n",
       "4 Vietnamese No     No       No    No         No    No           No     \n",
       "5 Vietnamese No     No       No    No         No    No           No     \n",
       "6 Vietnamese No     No       No    No         No    No           No     \n",
       "  armagnac artemisia ⋯ whiskey white_bread white_wine whole_grain_wheat_flour\n",
       "1 No       No        ⋯ No      No          No         No                     \n",
       "2 No       No        ⋯ No      No          No         No                     \n",
       "3 No       No        ⋯ No      No          No         No                     \n",
       "4 No       No        ⋯ No      No          No         No                     \n",
       "5 No       No        ⋯ No      No          No         No                     \n",
       "6 No       No        ⋯ No      No          No         No                     \n",
       "  wine wood yam yeast yogurt zucchini\n",
       "1 No   No   No  No    No     No      \n",
       "2 No   No   No  No    No     No      \n",
       "3 No   No   No  No    No     No      \n",
       "4 No   No   No  No    No     No      \n",
       "5 No   No   No  No    No     No      \n",
       "6 No   No   No  No    No     No      "
      ]
     },
     "metadata": {},
     "output_type": "display_data"
    }
   ],
   "source": [
    "head(recipes)"
   ]
  },
  {
   "cell_type": "markdown",
   "metadata": {},
   "source": [
    "Get the dimensions of the dataframe."
   ]
  },
  {
   "cell_type": "code",
   "execution_count": 4,
   "metadata": {
    "collapsed": false
   },
   "outputs": [
    {
     "data": {
      "text/html": [
       "57691"
      ],
      "text/latex": [
       "57691"
      ],
      "text/markdown": [
       "57691"
      ],
      "text/plain": [
       "[1] 57691"
      ]
     },
     "metadata": {},
     "output_type": "display_data"
    }
   ],
   "source": [
    "nrow(recipes)"
   ]
  },
  {
   "cell_type": "code",
   "execution_count": 5,
   "metadata": {
    "collapsed": false
   },
   "outputs": [
    {
     "data": {
      "text/html": [
       "384"
      ],
      "text/latex": [
       "384"
      ],
      "text/markdown": [
       "384"
      ],
      "text/plain": [
       "[1] 384"
      ]
     },
     "metadata": {},
     "output_type": "display_data"
    }
   ],
   "source": [
    "ncol(recipes)"
   ]
  },
  {
   "cell_type": "markdown",
   "metadata": {},
   "source": [
    "So our dataset consists of 57,691 recipes. Each row represents a recipe, and for each recipe, the corresponding cuisine is documented as well as whether 384 ingredients exist in the recipe or not beginning with almond and ending with zucchini."
   ]
  },
  {
   "cell_type": "markdown",
   "metadata": {},
   "source": [
    "We know that a basic sushi recipe includes the ingredients:\n",
    "* rice\n",
    "* soy sauce\n",
    "* wasabi\n",
    "* some fish/vegetables"
   ]
  },
  {
   "cell_type": "markdown",
   "metadata": {},
   "source": [
    "Let's check that these ingredients exist in our dataframe:"
   ]
  },
  {
   "cell_type": "code",
   "execution_count": 6,
   "metadata": {
    "collapsed": false
   },
   "outputs": [
    {
     "data": {
      "text/html": [
       "<ol class=list-inline>\n",
       "\t<li>'brown_rice'</li>\n",
       "\t<li>'licorice'</li>\n",
       "\t<li>'rice'</li>\n",
       "</ol>\n"
      ],
      "text/latex": [
       "\\begin{enumerate*}\n",
       "\\item 'brown\\_rice'\n",
       "\\item 'licorice'\n",
       "\\item 'rice'\n",
       "\\end{enumerate*}\n"
      ],
      "text/markdown": [
       "1. 'brown_rice'\n",
       "2. 'licorice'\n",
       "3. 'rice'\n",
       "\n",
       "\n"
      ],
      "text/plain": [
       "[1] \"brown_rice\" \"licorice\"   \"rice\"      "
      ]
     },
     "metadata": {},
     "output_type": "display_data"
    },
    {
     "data": {
      "text/html": [
       "'wasabi'"
      ],
      "text/latex": [
       "'wasabi'"
      ],
      "text/markdown": [
       "'wasabi'"
      ],
      "text/plain": [
       "[1] \"wasabi\""
      ]
     },
     "metadata": {},
     "output_type": "display_data"
    },
    {
     "data": {
      "text/html": [
       "<ol class=list-inline>\n",
       "\t<li>'soy_sauce'</li>\n",
       "\t<li>'soybean'</li>\n",
       "\t<li>'soybean_oil'</li>\n",
       "</ol>\n"
      ],
      "text/latex": [
       "\\begin{enumerate*}\n",
       "\\item 'soy\\_sauce'\n",
       "\\item 'soybean'\n",
       "\\item 'soybean\\_oil'\n",
       "\\end{enumerate*}\n"
      ],
      "text/markdown": [
       "1. 'soy_sauce'\n",
       "2. 'soybean'\n",
       "3. 'soybean_oil'\n",
       "\n",
       "\n"
      ],
      "text/plain": [
       "[1] \"soy_sauce\"   \"soybean\"     \"soybean_oil\""
      ]
     },
     "metadata": {},
     "output_type": "display_data"
    }
   ],
   "source": [
    "grep(\"rice\", names(recipes), value = TRUE) # yes as rice\n",
    "grep(\"wasabi\", names(recipes), value = TRUE) # yes\n",
    "grep(\"soy\", names(recipes), value = TRUE) # yes as soy_sauce"
   ]
  },
  {
   "cell_type": "markdown",
   "metadata": {},
   "source": [
    "Yes, they do!\n",
    "\n",
    "* rice exists as rice.\n",
    "* wasabi exists as wasabi.\n",
    "* soy exists as soy_sauce.\n",
    "\n",
    "So maybe if a recipe contains all three ingredients: rice, wasabi, and soy_sauce, then we can confidently say that the recipe is a **Japanese** cuisine! Let's keep this in mind!\n",
    "\n",
    "----------------"
   ]
  },
  {
   "cell_type": "markdown",
   "metadata": {
    "deletable": true,
    "editable": true
   },
   "source": [
    "# Data Preparation <a id=\"4\"></a>"
   ]
  },
  {
   "cell_type": "markdown",
   "metadata": {},
   "source": [
    "<img src=\"https://ibm.box.com/shared/static/lqc2j3r0ndhokh77mubohwjqybzf8dhk.png\" width=500>"
   ]
  },
  {
   "cell_type": "markdown",
   "metadata": {},
   "source": [
    "In this section, we will prepare the data for the next stage in the data science methodology, which is modeling. This stage involves exploring the data further and making sure that it is in the right format for the machine learning algorithm that we selected in the analytic approach stage, which is decision trees."
   ]
  },
  {
   "cell_type": "markdown",
   "metadata": {},
   "source": [
    "First, look at the data to see if it needs cleaning."
   ]
  },
  {
   "cell_type": "code",
   "execution_count": 7,
   "metadata": {
    "collapsed": false
   },
   "outputs": [
    {
     "data": {
      "text/plain": [
       "\n",
       "                African                American                   asian \n",
       "                    115                   40150                      17 \n",
       "                  Asian                 Austria              Bangladesh \n",
       "                   1176                      21                       4 \n",
       "                Belgium            Cajun_Creole                  Canada \n",
       "                     11                     146                     774 \n",
       "              Caribbean   Central_SouthAmerican                   China \n",
       "                    183                     241                     130 \n",
       "                chinese                 Chinese            East-African \n",
       "                     86                     226                      11 \n",
       "             east_asian          Eastern-Europe EasternEuropean_Russian \n",
       "                    951                     235                     146 \n",
       "       English_Scottish                  France                  French \n",
       "                    204                     268                     996 \n",
       "                 German                 Germany                   Greek \n",
       "                     52                     237                     225 \n",
       "                  India                  Indian               Indonesia \n",
       "                    324                     274                      12 \n",
       "                   Iran                   Irish                  Israel \n",
       "                     21                      86                       9 \n",
       "                italian                 Italian                   Italy \n",
       "                     74                    1715                    1461 \n",
       "                  Japan                japanese                Japanese \n",
       "                     85                      99                     136 \n",
       "                 Jewish                   Korea                  korean \n",
       "                    320                      32                     767 \n",
       "                Lebanon                Malaysia           Mediterranean \n",
       "                     31                      18                     289 \n",
       "                Mexican                  mexico                  Mexico \n",
       "                    622                      14                    1754 \n",
       "          MiddleEastern                Moroccan             Netherlands \n",
       "                    248                     137                      32 \n",
       "          North-African                Pakistan             Philippines \n",
       "                     60                      19                      43 \n",
       "               Portugal             Scandinavia            Scandinavian \n",
       "                     50                     158                      92 \n",
       "          South-African           South-America       Southern_SoulFood \n",
       "                     16                     103                     346 \n",
       "           Southwestern                   Spain      Spanish_Portuguese \n",
       "                    108                      75                     291 \n",
       "            Switzerland                    Thai                Thailand \n",
       "                     20                     164                     125 \n",
       "                 Turkey          UK-and-Ireland                 Vietnam \n",
       "                     16                     282                      30 \n",
       "             Vietnamese            West-African                 western \n",
       "                     65                      13                     450 "
      ]
     },
     "metadata": {},
     "output_type": "display_data"
    }
   ],
   "source": [
    "base::table(recipes$country) # frequency table"
   ]
  },
  {
   "cell_type": "markdown",
   "metadata": {},
   "source": [
    "By looking at the above table, we can make the following observations:\n",
    "\n",
    "1. Cuisine column is labeled as Country, which is inaccurate.\n",
    "2. Cuisine names are not consistent as not all of them start with an uppercase first letter.\n",
    "3. Some cuisines are duplicated as variation of the country name, such as Vietnam and Vietnamese.\n",
    "4. Some cuisines have very few recipes."
   ]
  },
  {
   "cell_type": "markdown",
   "metadata": {},
   "source": [
    "#### Let's fixes these problems."
   ]
  },
  {
   "cell_type": "markdown",
   "metadata": {},
   "source": [
    "Fix the name of the column showing the cuisine."
   ]
  },
  {
   "cell_type": "code",
   "execution_count": 8,
   "metadata": {
    "collapsed": true
   },
   "outputs": [],
   "source": [
    "colnames(recipes)[1] = \"cuisine\""
   ]
  },
  {
   "cell_type": "markdown",
   "metadata": {},
   "source": [
    "Make all the cuisine names lowercase."
   ]
  },
  {
   "cell_type": "code",
   "execution_count": 9,
   "metadata": {
    "collapsed": false
   },
   "outputs": [
    {
     "data": {
      "text/html": [
       "<table>\n",
       "<thead><tr><th scope=col>cuisine</th><th scope=col>almond</th><th scope=col>angelica</th><th scope=col>anise</th><th scope=col>anise_seed</th><th scope=col>apple</th><th scope=col>apple_brandy</th><th scope=col>apricot</th><th scope=col>armagnac</th><th scope=col>artemisia</th><th scope=col>⋯</th><th scope=col>whiskey</th><th scope=col>white_bread</th><th scope=col>white_wine</th><th scope=col>whole_grain_wheat_flour</th><th scope=col>wine</th><th scope=col>wood</th><th scope=col>yam</th><th scope=col>yeast</th><th scope=col>yogurt</th><th scope=col>zucchini</th></tr></thead>\n",
       "<tbody>\n",
       "\t<tr><td>vietnamese</td><td>No        </td><td>No        </td><td>No        </td><td>No        </td><td>No        </td><td>No        </td><td>No        </td><td>No        </td><td>No        </td><td>⋯         </td><td>No        </td><td>No        </td><td>No        </td><td>No        </td><td>No        </td><td>No        </td><td>No        </td><td>No        </td><td>No        </td><td>No        </td></tr>\n",
       "\t<tr><td>vietnamese</td><td>No        </td><td>No        </td><td>No        </td><td>No        </td><td>No        </td><td>No        </td><td>No        </td><td>No        </td><td>No        </td><td>⋯         </td><td>No        </td><td>No        </td><td>No        </td><td>No        </td><td>No        </td><td>No        </td><td>No        </td><td>No        </td><td>No        </td><td>No        </td></tr>\n",
       "\t<tr><td>vietnamese</td><td>No        </td><td>No        </td><td>No        </td><td>No        </td><td>No        </td><td>No        </td><td>No        </td><td>No        </td><td>No        </td><td>⋯         </td><td>No        </td><td>No        </td><td>No        </td><td>No        </td><td>No        </td><td>No        </td><td>No        </td><td>No        </td><td>No        </td><td>No        </td></tr>\n",
       "\t<tr><td>vietnamese</td><td>No        </td><td>No        </td><td>No        </td><td>No        </td><td>No        </td><td>No        </td><td>No        </td><td>No        </td><td>No        </td><td>⋯         </td><td>No        </td><td>No        </td><td>No        </td><td>No        </td><td>No        </td><td>No        </td><td>No        </td><td>No        </td><td>No        </td><td>No        </td></tr>\n",
       "\t<tr><td>vietnamese</td><td>No        </td><td>No        </td><td>No        </td><td>No        </td><td>No        </td><td>No        </td><td>No        </td><td>No        </td><td>No        </td><td>⋯         </td><td>No        </td><td>No        </td><td>No        </td><td>No        </td><td>No        </td><td>No        </td><td>No        </td><td>No        </td><td>No        </td><td>No        </td></tr>\n",
       "\t<tr><td>vietnamese</td><td>No        </td><td>No        </td><td>No        </td><td>No        </td><td>No        </td><td>No        </td><td>No        </td><td>No        </td><td>No        </td><td>⋯         </td><td>No        </td><td>No        </td><td>No        </td><td>No        </td><td>No        </td><td>No        </td><td>No        </td><td>No        </td><td>No        </td><td>No        </td></tr>\n",
       "\t<tr><td>vietnamese</td><td>No        </td><td>No        </td><td>No        </td><td>No        </td><td>No        </td><td>No        </td><td>No        </td><td>No        </td><td>No        </td><td>⋯         </td><td>No        </td><td>No        </td><td>No        </td><td>No        </td><td>No        </td><td>No        </td><td>No        </td><td>No        </td><td>No        </td><td>No        </td></tr>\n",
       "\t<tr><td>vietnamese</td><td>No        </td><td>No        </td><td>No        </td><td>No        </td><td>No        </td><td>No        </td><td>No        </td><td>No        </td><td>No        </td><td>⋯         </td><td>No        </td><td>No        </td><td>No        </td><td>No        </td><td>No        </td><td>No        </td><td>No        </td><td>No        </td><td>No        </td><td>No        </td></tr>\n",
       "\t<tr><td>vietnamese</td><td>No        </td><td>No        </td><td>No        </td><td>No        </td><td>No        </td><td>No        </td><td>No        </td><td>No        </td><td>No        </td><td>⋯         </td><td>No        </td><td>No        </td><td>No        </td><td>No        </td><td>No        </td><td>No        </td><td>No        </td><td>No        </td><td>No        </td><td>No        </td></tr>\n",
       "\t<tr><td>vietnamese</td><td>No        </td><td>No        </td><td>No        </td><td>No        </td><td>No        </td><td>No        </td><td>No        </td><td>No        </td><td>No        </td><td>⋯         </td><td>No        </td><td>No        </td><td>No        </td><td>No        </td><td>No        </td><td>No        </td><td>No        </td><td>No        </td><td>No        </td><td>No        </td></tr>\n",
       "\t<tr><td>vietnamese</td><td>No        </td><td>No        </td><td>No        </td><td>No        </td><td>No        </td><td>No        </td><td>No        </td><td>No        </td><td>No        </td><td>⋯         </td><td>No        </td><td>No        </td><td>No        </td><td>No        </td><td>No        </td><td>No        </td><td>No        </td><td>No        </td><td>No        </td><td>No        </td></tr>\n",
       "\t<tr><td>vietnamese</td><td>No        </td><td>No        </td><td>No        </td><td>No        </td><td>No        </td><td>No        </td><td>No        </td><td>No        </td><td>No        </td><td>⋯         </td><td>No        </td><td>No        </td><td>No        </td><td>No        </td><td>No        </td><td>No        </td><td>No        </td><td>No        </td><td>No        </td><td>No        </td></tr>\n",
       "\t<tr><td>vietnamese</td><td>No        </td><td>No        </td><td>No        </td><td>No        </td><td>No        </td><td>No        </td><td>No        </td><td>No        </td><td>No        </td><td>⋯         </td><td>No        </td><td>No        </td><td>No        </td><td>No        </td><td>No        </td><td>No        </td><td>No        </td><td>No        </td><td>No        </td><td>No        </td></tr>\n",
       "\t<tr><td>vietnamese</td><td>No        </td><td>No        </td><td>No        </td><td>No        </td><td>No        </td><td>No        </td><td>No        </td><td>No        </td><td>No        </td><td>⋯         </td><td>No        </td><td>No        </td><td>No        </td><td>No        </td><td>Yes       </td><td>No        </td><td>No        </td><td>No        </td><td>No        </td><td>No        </td></tr>\n",
       "\t<tr><td>vietnamese</td><td>No        </td><td>No        </td><td>No        </td><td>No        </td><td>No        </td><td>No        </td><td>No        </td><td>No        </td><td>No        </td><td>⋯         </td><td>No        </td><td>No        </td><td>No        </td><td>No        </td><td>Yes       </td><td>No        </td><td>No        </td><td>No        </td><td>No        </td><td>No        </td></tr>\n",
       "\t<tr><td>vietnamese</td><td>No        </td><td>No        </td><td>No        </td><td>No        </td><td>No        </td><td>No        </td><td>No        </td><td>No        </td><td>No        </td><td>⋯         </td><td>No        </td><td>No        </td><td>No        </td><td>No        </td><td>No        </td><td>No        </td><td>No        </td><td>No        </td><td>No        </td><td>No        </td></tr>\n",
       "\t<tr><td>vietnamese</td><td>No        </td><td>No        </td><td>No        </td><td>No        </td><td>No        </td><td>No        </td><td>No        </td><td>No        </td><td>No        </td><td>⋯         </td><td>No        </td><td>No        </td><td>No        </td><td>No        </td><td>No        </td><td>No        </td><td>No        </td><td>No        </td><td>No        </td><td>No        </td></tr>\n",
       "\t<tr><td>vietnamese</td><td>No        </td><td>No        </td><td>No        </td><td>No        </td><td>No        </td><td>No        </td><td>No        </td><td>No        </td><td>No        </td><td>⋯         </td><td>No        </td><td>No        </td><td>No        </td><td>No        </td><td>No        </td><td>No        </td><td>No        </td><td>No        </td><td>No        </td><td>No        </td></tr>\n",
       "\t<tr><td>vietnamese</td><td>No        </td><td>No        </td><td>No        </td><td>No        </td><td>No        </td><td>No        </td><td>No        </td><td>No        </td><td>No        </td><td>⋯         </td><td>No        </td><td>No        </td><td>No        </td><td>No        </td><td>Yes       </td><td>No        </td><td>No        </td><td>No        </td><td>No        </td><td>No        </td></tr>\n",
       "\t<tr><td>vietnamese</td><td>No        </td><td>No        </td><td>No        </td><td>No        </td><td>No        </td><td>No        </td><td>No        </td><td>No        </td><td>No        </td><td>⋯         </td><td>No        </td><td>No        </td><td>No        </td><td>No        </td><td>No        </td><td>No        </td><td>No        </td><td>Yes       </td><td>No        </td><td>No        </td></tr>\n",
       "\t<tr><td>vietnamese</td><td>No        </td><td>No        </td><td>No        </td><td>No        </td><td>No        </td><td>No        </td><td>No        </td><td>No        </td><td>No        </td><td>⋯         </td><td>No        </td><td>No        </td><td>No        </td><td>No        </td><td>No        </td><td>No        </td><td>No        </td><td>No        </td><td>No        </td><td>No        </td></tr>\n",
       "\t<tr><td>vietnamese</td><td>No        </td><td>No        </td><td>No        </td><td>No        </td><td>No        </td><td>No        </td><td>No        </td><td>No        </td><td>No        </td><td>⋯         </td><td>No        </td><td>No        </td><td>No        </td><td>No        </td><td>No        </td><td>No        </td><td>No        </td><td>No        </td><td>No        </td><td>No        </td></tr>\n",
       "\t<tr><td>vietnamese</td><td>No        </td><td>No        </td><td>No        </td><td>No        </td><td>No        </td><td>No        </td><td>No        </td><td>No        </td><td>No        </td><td>⋯         </td><td>No        </td><td>No        </td><td>No        </td><td>No        </td><td>No        </td><td>No        </td><td>No        </td><td>No        </td><td>No        </td><td>No        </td></tr>\n",
       "\t<tr><td>vietnamese</td><td>No        </td><td>No        </td><td>No        </td><td>No        </td><td>No        </td><td>No        </td><td>No        </td><td>No        </td><td>No        </td><td>⋯         </td><td>No        </td><td>No        </td><td>No        </td><td>No        </td><td>No        </td><td>No        </td><td>No        </td><td>No        </td><td>No        </td><td>No        </td></tr>\n",
       "\t<tr><td>vietnamese</td><td>No        </td><td>No        </td><td>No        </td><td>No        </td><td>No        </td><td>No        </td><td>No        </td><td>No        </td><td>No        </td><td>⋯         </td><td>No        </td><td>No        </td><td>No        </td><td>No        </td><td>No        </td><td>No        </td><td>No        </td><td>No        </td><td>No        </td><td>No        </td></tr>\n",
       "\t<tr><td>vietnamese</td><td>No        </td><td>No        </td><td>No        </td><td>No        </td><td>No        </td><td>No        </td><td>No        </td><td>No        </td><td>No        </td><td>⋯         </td><td>No        </td><td>No        </td><td>No        </td><td>No        </td><td>No        </td><td>No        </td><td>No        </td><td>No        </td><td>No        </td><td>No        </td></tr>\n",
       "\t<tr><td>vietnamese</td><td>No        </td><td>No        </td><td>No        </td><td>No        </td><td>No        </td><td>No        </td><td>No        </td><td>No        </td><td>No        </td><td>⋯         </td><td>No        </td><td>No        </td><td>Yes       </td><td>No        </td><td>No        </td><td>No        </td><td>No        </td><td>No        </td><td>No        </td><td>No        </td></tr>\n",
       "\t<tr><td>vietnamese</td><td>No        </td><td>No        </td><td>No        </td><td>No        </td><td>No        </td><td>No        </td><td>No        </td><td>No        </td><td>No        </td><td>⋯         </td><td>No        </td><td>No        </td><td>No        </td><td>No        </td><td>No        </td><td>No        </td><td>No        </td><td>No        </td><td>No        </td><td>No        </td></tr>\n",
       "\t<tr><td>vietnamese</td><td>No        </td><td>No        </td><td>No        </td><td>No        </td><td>No        </td><td>No        </td><td>No        </td><td>No        </td><td>No        </td><td>⋯         </td><td>No        </td><td>No        </td><td>No        </td><td>No        </td><td>Yes       </td><td>No        </td><td>No        </td><td>No        </td><td>No        </td><td>No        </td></tr>\n",
       "\t<tr><td>vietnamese</td><td>No        </td><td>No        </td><td>No        </td><td>No        </td><td>No        </td><td>No        </td><td>No        </td><td>No        </td><td>No        </td><td>⋯         </td><td>No        </td><td>No        </td><td>No        </td><td>No        </td><td>No        </td><td>No        </td><td>No        </td><td>No        </td><td>No        </td><td>No        </td></tr>\n",
       "\t<tr><td>⋮</td><td>⋮</td><td>⋮</td><td>⋮</td><td>⋮</td><td>⋮</td><td>⋮</td><td>⋮</td><td>⋮</td><td>⋮</td><td>⋱</td><td>⋮</td><td>⋮</td><td>⋮</td><td>⋮</td><td>⋮</td><td>⋮</td><td>⋮</td><td>⋮</td><td>⋮</td><td>⋮</td></tr>\n",
       "\t<tr><td>japan</td><td>No   </td><td>No   </td><td>No   </td><td>No   </td><td>No   </td><td>No   </td><td>No   </td><td>No   </td><td>No   </td><td>⋯    </td><td>No   </td><td>No   </td><td>No   </td><td>No   </td><td>Yes  </td><td>No   </td><td>No   </td><td>No   </td><td>No   </td><td>No   </td></tr>\n",
       "\t<tr><td>japan</td><td>No   </td><td>No   </td><td>No   </td><td>No   </td><td>No   </td><td>No   </td><td>No   </td><td>No   </td><td>No   </td><td>⋯    </td><td>No   </td><td>No   </td><td>No   </td><td>No   </td><td>No   </td><td>No   </td><td>No   </td><td>No   </td><td>No   </td><td>No   </td></tr>\n",
       "\t<tr><td>japan</td><td>No   </td><td>No   </td><td>No   </td><td>No   </td><td>No   </td><td>No   </td><td>No   </td><td>No   </td><td>No   </td><td>⋯    </td><td>No   </td><td>No   </td><td>No   </td><td>No   </td><td>Yes  </td><td>No   </td><td>No   </td><td>No   </td><td>No   </td><td>No   </td></tr>\n",
       "\t<tr><td>japan</td><td>No   </td><td>No   </td><td>No   </td><td>No   </td><td>No   </td><td>No   </td><td>No   </td><td>No   </td><td>No   </td><td>⋯    </td><td>No   </td><td>No   </td><td>No   </td><td>No   </td><td>No   </td><td>No   </td><td>No   </td><td>No   </td><td>No   </td><td>No   </td></tr>\n",
       "\t<tr><td>japan</td><td>No   </td><td>No   </td><td>No   </td><td>No   </td><td>No   </td><td>No   </td><td>No   </td><td>No   </td><td>No   </td><td>⋯    </td><td>No   </td><td>No   </td><td>No   </td><td>No   </td><td>Yes  </td><td>No   </td><td>No   </td><td>No   </td><td>No   </td><td>No   </td></tr>\n",
       "\t<tr><td>japan</td><td>No   </td><td>No   </td><td>No   </td><td>No   </td><td>No   </td><td>No   </td><td>No   </td><td>No   </td><td>No   </td><td>⋯    </td><td>No   </td><td>No   </td><td>No   </td><td>No   </td><td>No   </td><td>No   </td><td>No   </td><td>No   </td><td>No   </td><td>No   </td></tr>\n",
       "\t<tr><td>japan</td><td>No   </td><td>No   </td><td>No   </td><td>No   </td><td>No   </td><td>No   </td><td>No   </td><td>No   </td><td>No   </td><td>⋯    </td><td>No   </td><td>No   </td><td>No   </td><td>No   </td><td>No   </td><td>No   </td><td>No   </td><td>No   </td><td>No   </td><td>No   </td></tr>\n",
       "\t<tr><td>japan</td><td>No   </td><td>No   </td><td>No   </td><td>No   </td><td>No   </td><td>No   </td><td>No   </td><td>No   </td><td>No   </td><td>⋯    </td><td>No   </td><td>No   </td><td>No   </td><td>No   </td><td>No   </td><td>No   </td><td>No   </td><td>No   </td><td>No   </td><td>No   </td></tr>\n",
       "\t<tr><td>japan</td><td>No   </td><td>No   </td><td>No   </td><td>No   </td><td>No   </td><td>No   </td><td>No   </td><td>No   </td><td>No   </td><td>⋯    </td><td>No   </td><td>No   </td><td>No   </td><td>No   </td><td>No   </td><td>No   </td><td>No   </td><td>No   </td><td>No   </td><td>No   </td></tr>\n",
       "\t<tr><td>japan</td><td>No   </td><td>No   </td><td>No   </td><td>No   </td><td>No   </td><td>No   </td><td>No   </td><td>No   </td><td>No   </td><td>⋯    </td><td>No   </td><td>No   </td><td>No   </td><td>No   </td><td>No   </td><td>No   </td><td>No   </td><td>No   </td><td>No   </td><td>No   </td></tr>\n",
       "\t<tr><td>japan</td><td>No   </td><td>No   </td><td>No   </td><td>No   </td><td>No   </td><td>No   </td><td>No   </td><td>No   </td><td>No   </td><td>⋯    </td><td>No   </td><td>No   </td><td>No   </td><td>No   </td><td>No   </td><td>No   </td><td>No   </td><td>No   </td><td>No   </td><td>No   </td></tr>\n",
       "\t<tr><td>japan</td><td>No   </td><td>No   </td><td>No   </td><td>No   </td><td>No   </td><td>No   </td><td>No   </td><td>No   </td><td>No   </td><td>⋯    </td><td>No   </td><td>No   </td><td>No   </td><td>No   </td><td>No   </td><td>No   </td><td>No   </td><td>No   </td><td>No   </td><td>No   </td></tr>\n",
       "\t<tr><td>japan</td><td>No   </td><td>No   </td><td>No   </td><td>No   </td><td>No   </td><td>No   </td><td>No   </td><td>No   </td><td>No   </td><td>⋯    </td><td>No   </td><td>No   </td><td>No   </td><td>No   </td><td>No   </td><td>No   </td><td>No   </td><td>No   </td><td>No   </td><td>No   </td></tr>\n",
       "\t<tr><td>japan</td><td>No   </td><td>No   </td><td>No   </td><td>No   </td><td>No   </td><td>No   </td><td>No   </td><td>No   </td><td>No   </td><td>⋯    </td><td>No   </td><td>No   </td><td>No   </td><td>No   </td><td>Yes  </td><td>No   </td><td>No   </td><td>No   </td><td>No   </td><td>No   </td></tr>\n",
       "\t<tr><td>japan</td><td>No   </td><td>No   </td><td>No   </td><td>No   </td><td>No   </td><td>No   </td><td>No   </td><td>No   </td><td>No   </td><td>⋯    </td><td>No   </td><td>No   </td><td>No   </td><td>No   </td><td>Yes  </td><td>No   </td><td>No   </td><td>No   </td><td>No   </td><td>No   </td></tr>\n",
       "\t<tr><td>japan</td><td>No   </td><td>No   </td><td>No   </td><td>No   </td><td>No   </td><td>No   </td><td>No   </td><td>No   </td><td>No   </td><td>⋯    </td><td>No   </td><td>No   </td><td>No   </td><td>No   </td><td>No   </td><td>No   </td><td>No   </td><td>No   </td><td>No   </td><td>No   </td></tr>\n",
       "\t<tr><td>japan</td><td>No   </td><td>No   </td><td>No   </td><td>No   </td><td>No   </td><td>No   </td><td>No   </td><td>No   </td><td>No   </td><td>⋯    </td><td>No   </td><td>No   </td><td>No   </td><td>No   </td><td>No   </td><td>No   </td><td>No   </td><td>No   </td><td>No   </td><td>No   </td></tr>\n",
       "\t<tr><td>japan</td><td>No   </td><td>No   </td><td>No   </td><td>No   </td><td>No   </td><td>No   </td><td>No   </td><td>No   </td><td>No   </td><td>⋯    </td><td>No   </td><td>No   </td><td>No   </td><td>No   </td><td>No   </td><td>No   </td><td>No   </td><td>No   </td><td>No   </td><td>No   </td></tr>\n",
       "\t<tr><td>japan</td><td>No   </td><td>No   </td><td>No   </td><td>No   </td><td>No   </td><td>No   </td><td>No   </td><td>No   </td><td>No   </td><td>⋯    </td><td>No   </td><td>No   </td><td>No   </td><td>No   </td><td>No   </td><td>No   </td><td>No   </td><td>No   </td><td>No   </td><td>No   </td></tr>\n",
       "\t<tr><td>japan</td><td>No   </td><td>No   </td><td>No   </td><td>No   </td><td>No   </td><td>No   </td><td>No   </td><td>No   </td><td>No   </td><td>⋯    </td><td>No   </td><td>No   </td><td>No   </td><td>No   </td><td>No   </td><td>No   </td><td>No   </td><td>No   </td><td>No   </td><td>No   </td></tr>\n",
       "\t<tr><td>japan</td><td>No   </td><td>No   </td><td>No   </td><td>No   </td><td>No   </td><td>No   </td><td>No   </td><td>No   </td><td>No   </td><td>⋯    </td><td>No   </td><td>No   </td><td>No   </td><td>No   </td><td>No   </td><td>No   </td><td>No   </td><td>No   </td><td>No   </td><td>No   </td></tr>\n",
       "\t<tr><td>japan</td><td>No   </td><td>No   </td><td>No   </td><td>No   </td><td>No   </td><td>No   </td><td>No   </td><td>No   </td><td>No   </td><td>⋯    </td><td>No   </td><td>No   </td><td>No   </td><td>No   </td><td>No   </td><td>No   </td><td>No   </td><td>No   </td><td>No   </td><td>No   </td></tr>\n",
       "\t<tr><td>japan</td><td>No   </td><td>No   </td><td>No   </td><td>No   </td><td>No   </td><td>No   </td><td>No   </td><td>No   </td><td>No   </td><td>⋯    </td><td>No   </td><td>No   </td><td>No   </td><td>No   </td><td>No   </td><td>No   </td><td>No   </td><td>No   </td><td>No   </td><td>No   </td></tr>\n",
       "\t<tr><td>japan</td><td>No   </td><td>No   </td><td>No   </td><td>No   </td><td>No   </td><td>No   </td><td>No   </td><td>No   </td><td>No   </td><td>⋯    </td><td>No   </td><td>No   </td><td>No   </td><td>No   </td><td>Yes  </td><td>No   </td><td>No   </td><td>No   </td><td>No   </td><td>No   </td></tr>\n",
       "\t<tr><td>japan</td><td>No   </td><td>No   </td><td>No   </td><td>No   </td><td>No   </td><td>No   </td><td>No   </td><td>No   </td><td>No   </td><td>⋯    </td><td>No   </td><td>No   </td><td>No   </td><td>No   </td><td>No   </td><td>No   </td><td>No   </td><td>No   </td><td>No   </td><td>No   </td></tr>\n",
       "\t<tr><td>japan</td><td>No   </td><td>No   </td><td>No   </td><td>No   </td><td>No   </td><td>No   </td><td>No   </td><td>No   </td><td>No   </td><td>⋯    </td><td>No   </td><td>No   </td><td>No   </td><td>No   </td><td>No   </td><td>No   </td><td>No   </td><td>No   </td><td>No   </td><td>No   </td></tr>\n",
       "\t<tr><td>japan</td><td>No   </td><td>No   </td><td>No   </td><td>No   </td><td>No   </td><td>No   </td><td>No   </td><td>No   </td><td>No   </td><td>⋯    </td><td>No   </td><td>No   </td><td>No   </td><td>No   </td><td>No   </td><td>No   </td><td>No   </td><td>No   </td><td>No   </td><td>No   </td></tr>\n",
       "\t<tr><td>japan</td><td>No   </td><td>No   </td><td>No   </td><td>No   </td><td>No   </td><td>No   </td><td>No   </td><td>No   </td><td>No   </td><td>⋯    </td><td>No   </td><td>No   </td><td>No   </td><td>No   </td><td>No   </td><td>No   </td><td>No   </td><td>No   </td><td>No   </td><td>No   </td></tr>\n",
       "\t<tr><td>japan</td><td>No   </td><td>No   </td><td>No   </td><td>No   </td><td>No   </td><td>No   </td><td>No   </td><td>No   </td><td>No   </td><td>⋯    </td><td>No   </td><td>No   </td><td>No   </td><td>No   </td><td>No   </td><td>No   </td><td>No   </td><td>No   </td><td>No   </td><td>No   </td></tr>\n",
       "\t<tr><td>japan</td><td>No   </td><td>No   </td><td>No   </td><td>No   </td><td>No   </td><td>No   </td><td>No   </td><td>No   </td><td>No   </td><td>⋯    </td><td>No   </td><td>No   </td><td>No   </td><td>No   </td><td>No   </td><td>No   </td><td>No   </td><td>No   </td><td>No   </td><td>No   </td></tr>\n",
       "</tbody>\n",
       "</table>\n"
      ],
      "text/latex": [
       "\\begin{tabular}{r|llllllllllllllllllllllllllllllllllllllllllllllllllllllllllllllllllllllllllllllllllllllllllllllllllllllllllllllllllllllllllllllllllllllllllllllllllllllllllllllllllllllllllllllllllllllllllllllllllllllllllllllllllllllllllllllllllllllllllllllllllllllllllllllllllllllllllllllllllllllllllllllllllllllllllllllllllllllllllllllllllllllllllllllllllllllllllllllllllllllllllllllllllllllllllllllll}\n",
       " cuisine & almond & angelica & anise & anise\\_seed & apple & apple\\_brandy & apricot & armagnac & artemisia & ⋯ & whiskey & white\\_bread & white\\_wine & whole\\_grain\\_wheat\\_flour & wine & wood & yam & yeast & yogurt & zucchini\\\\\n",
       "\\hline\n",
       "\t vietnamese & No         & No         & No         & No         & No         & No         & No         & No         & No         & ⋯          & No         & No         & No         & No         & No         & No         & No         & No         & No         & No        \\\\\n",
       "\t vietnamese & No         & No         & No         & No         & No         & No         & No         & No         & No         & ⋯          & No         & No         & No         & No         & No         & No         & No         & No         & No         & No        \\\\\n",
       "\t vietnamese & No         & No         & No         & No         & No         & No         & No         & No         & No         & ⋯          & No         & No         & No         & No         & No         & No         & No         & No         & No         & No        \\\\\n",
       "\t vietnamese & No         & No         & No         & No         & No         & No         & No         & No         & No         & ⋯          & No         & No         & No         & No         & No         & No         & No         & No         & No         & No        \\\\\n",
       "\t vietnamese & No         & No         & No         & No         & No         & No         & No         & No         & No         & ⋯          & No         & No         & No         & No         & No         & No         & No         & No         & No         & No        \\\\\n",
       "\t vietnamese & No         & No         & No         & No         & No         & No         & No         & No         & No         & ⋯          & No         & No         & No         & No         & No         & No         & No         & No         & No         & No        \\\\\n",
       "\t vietnamese & No         & No         & No         & No         & No         & No         & No         & No         & No         & ⋯          & No         & No         & No         & No         & No         & No         & No         & No         & No         & No        \\\\\n",
       "\t vietnamese & No         & No         & No         & No         & No         & No         & No         & No         & No         & ⋯          & No         & No         & No         & No         & No         & No         & No         & No         & No         & No        \\\\\n",
       "\t vietnamese & No         & No         & No         & No         & No         & No         & No         & No         & No         & ⋯          & No         & No         & No         & No         & No         & No         & No         & No         & No         & No        \\\\\n",
       "\t vietnamese & No         & No         & No         & No         & No         & No         & No         & No         & No         & ⋯          & No         & No         & No         & No         & No         & No         & No         & No         & No         & No        \\\\\n",
       "\t vietnamese & No         & No         & No         & No         & No         & No         & No         & No         & No         & ⋯          & No         & No         & No         & No         & No         & No         & No         & No         & No         & No        \\\\\n",
       "\t vietnamese & No         & No         & No         & No         & No         & No         & No         & No         & No         & ⋯          & No         & No         & No         & No         & No         & No         & No         & No         & No         & No        \\\\\n",
       "\t vietnamese & No         & No         & No         & No         & No         & No         & No         & No         & No         & ⋯          & No         & No         & No         & No         & No         & No         & No         & No         & No         & No        \\\\\n",
       "\t vietnamese & No         & No         & No         & No         & No         & No         & No         & No         & No         & ⋯          & No         & No         & No         & No         & Yes        & No         & No         & No         & No         & No        \\\\\n",
       "\t vietnamese & No         & No         & No         & No         & No         & No         & No         & No         & No         & ⋯          & No         & No         & No         & No         & Yes        & No         & No         & No         & No         & No        \\\\\n",
       "\t vietnamese & No         & No         & No         & No         & No         & No         & No         & No         & No         & ⋯          & No         & No         & No         & No         & No         & No         & No         & No         & No         & No        \\\\\n",
       "\t vietnamese & No         & No         & No         & No         & No         & No         & No         & No         & No         & ⋯          & No         & No         & No         & No         & No         & No         & No         & No         & No         & No        \\\\\n",
       "\t vietnamese & No         & No         & No         & No         & No         & No         & No         & No         & No         & ⋯          & No         & No         & No         & No         & No         & No         & No         & No         & No         & No        \\\\\n",
       "\t vietnamese & No         & No         & No         & No         & No         & No         & No         & No         & No         & ⋯          & No         & No         & No         & No         & Yes        & No         & No         & No         & No         & No        \\\\\n",
       "\t vietnamese & No         & No         & No         & No         & No         & No         & No         & No         & No         & ⋯          & No         & No         & No         & No         & No         & No         & No         & Yes        & No         & No        \\\\\n",
       "\t vietnamese & No         & No         & No         & No         & No         & No         & No         & No         & No         & ⋯          & No         & No         & No         & No         & No         & No         & No         & No         & No         & No        \\\\\n",
       "\t vietnamese & No         & No         & No         & No         & No         & No         & No         & No         & No         & ⋯          & No         & No         & No         & No         & No         & No         & No         & No         & No         & No        \\\\\n",
       "\t vietnamese & No         & No         & No         & No         & No         & No         & No         & No         & No         & ⋯          & No         & No         & No         & No         & No         & No         & No         & No         & No         & No        \\\\\n",
       "\t vietnamese & No         & No         & No         & No         & No         & No         & No         & No         & No         & ⋯          & No         & No         & No         & No         & No         & No         & No         & No         & No         & No        \\\\\n",
       "\t vietnamese & No         & No         & No         & No         & No         & No         & No         & No         & No         & ⋯          & No         & No         & No         & No         & No         & No         & No         & No         & No         & No        \\\\\n",
       "\t vietnamese & No         & No         & No         & No         & No         & No         & No         & No         & No         & ⋯          & No         & No         & No         & No         & No         & No         & No         & No         & No         & No        \\\\\n",
       "\t vietnamese & No         & No         & No         & No         & No         & No         & No         & No         & No         & ⋯          & No         & No         & Yes        & No         & No         & No         & No         & No         & No         & No        \\\\\n",
       "\t vietnamese & No         & No         & No         & No         & No         & No         & No         & No         & No         & ⋯          & No         & No         & No         & No         & No         & No         & No         & No         & No         & No        \\\\\n",
       "\t vietnamese & No         & No         & No         & No         & No         & No         & No         & No         & No         & ⋯          & No         & No         & No         & No         & Yes        & No         & No         & No         & No         & No        \\\\\n",
       "\t vietnamese & No         & No         & No         & No         & No         & No         & No         & No         & No         & ⋯          & No         & No         & No         & No         & No         & No         & No         & No         & No         & No        \\\\\n",
       "\t ⋮ & ⋮ & ⋮ & ⋮ & ⋮ & ⋮ & ⋮ & ⋮ & ⋮ & ⋮ & ⋱ & ⋮ & ⋮ & ⋮ & ⋮ & ⋮ & ⋮ & ⋮ & ⋮ & ⋮ & ⋮\\\\\n",
       "\t japan & No    & No    & No    & No    & No    & No    & No    & No    & No    & ⋯     & No    & No    & No    & No    & Yes   & No    & No    & No    & No    & No   \\\\\n",
       "\t japan & No    & No    & No    & No    & No    & No    & No    & No    & No    & ⋯     & No    & No    & No    & No    & No    & No    & No    & No    & No    & No   \\\\\n",
       "\t japan & No    & No    & No    & No    & No    & No    & No    & No    & No    & ⋯     & No    & No    & No    & No    & Yes   & No    & No    & No    & No    & No   \\\\\n",
       "\t japan & No    & No    & No    & No    & No    & No    & No    & No    & No    & ⋯     & No    & No    & No    & No    & No    & No    & No    & No    & No    & No   \\\\\n",
       "\t japan & No    & No    & No    & No    & No    & No    & No    & No    & No    & ⋯     & No    & No    & No    & No    & Yes   & No    & No    & No    & No    & No   \\\\\n",
       "\t japan & No    & No    & No    & No    & No    & No    & No    & No    & No    & ⋯     & No    & No    & No    & No    & No    & No    & No    & No    & No    & No   \\\\\n",
       "\t japan & No    & No    & No    & No    & No    & No    & No    & No    & No    & ⋯     & No    & No    & No    & No    & No    & No    & No    & No    & No    & No   \\\\\n",
       "\t japan & No    & No    & No    & No    & No    & No    & No    & No    & No    & ⋯     & No    & No    & No    & No    & No    & No    & No    & No    & No    & No   \\\\\n",
       "\t japan & No    & No    & No    & No    & No    & No    & No    & No    & No    & ⋯     & No    & No    & No    & No    & No    & No    & No    & No    & No    & No   \\\\\n",
       "\t japan & No    & No    & No    & No    & No    & No    & No    & No    & No    & ⋯     & No    & No    & No    & No    & No    & No    & No    & No    & No    & No   \\\\\n",
       "\t japan & No    & No    & No    & No    & No    & No    & No    & No    & No    & ⋯     & No    & No    & No    & No    & No    & No    & No    & No    & No    & No   \\\\\n",
       "\t japan & No    & No    & No    & No    & No    & No    & No    & No    & No    & ⋯     & No    & No    & No    & No    & No    & No    & No    & No    & No    & No   \\\\\n",
       "\t japan & No    & No    & No    & No    & No    & No    & No    & No    & No    & ⋯     & No    & No    & No    & No    & No    & No    & No    & No    & No    & No   \\\\\n",
       "\t japan & No    & No    & No    & No    & No    & No    & No    & No    & No    & ⋯     & No    & No    & No    & No    & Yes   & No    & No    & No    & No    & No   \\\\\n",
       "\t japan & No    & No    & No    & No    & No    & No    & No    & No    & No    & ⋯     & No    & No    & No    & No    & Yes   & No    & No    & No    & No    & No   \\\\\n",
       "\t japan & No    & No    & No    & No    & No    & No    & No    & No    & No    & ⋯     & No    & No    & No    & No    & No    & No    & No    & No    & No    & No   \\\\\n",
       "\t japan & No    & No    & No    & No    & No    & No    & No    & No    & No    & ⋯     & No    & No    & No    & No    & No    & No    & No    & No    & No    & No   \\\\\n",
       "\t japan & No    & No    & No    & No    & No    & No    & No    & No    & No    & ⋯     & No    & No    & No    & No    & No    & No    & No    & No    & No    & No   \\\\\n",
       "\t japan & No    & No    & No    & No    & No    & No    & No    & No    & No    & ⋯     & No    & No    & No    & No    & No    & No    & No    & No    & No    & No   \\\\\n",
       "\t japan & No    & No    & No    & No    & No    & No    & No    & No    & No    & ⋯     & No    & No    & No    & No    & No    & No    & No    & No    & No    & No   \\\\\n",
       "\t japan & No    & No    & No    & No    & No    & No    & No    & No    & No    & ⋯     & No    & No    & No    & No    & No    & No    & No    & No    & No    & No   \\\\\n",
       "\t japan & No    & No    & No    & No    & No    & No    & No    & No    & No    & ⋯     & No    & No    & No    & No    & No    & No    & No    & No    & No    & No   \\\\\n",
       "\t japan & No    & No    & No    & No    & No    & No    & No    & No    & No    & ⋯     & No    & No    & No    & No    & No    & No    & No    & No    & No    & No   \\\\\n",
       "\t japan & No    & No    & No    & No    & No    & No    & No    & No    & No    & ⋯     & No    & No    & No    & No    & Yes   & No    & No    & No    & No    & No   \\\\\n",
       "\t japan & No    & No    & No    & No    & No    & No    & No    & No    & No    & ⋯     & No    & No    & No    & No    & No    & No    & No    & No    & No    & No   \\\\\n",
       "\t japan & No    & No    & No    & No    & No    & No    & No    & No    & No    & ⋯     & No    & No    & No    & No    & No    & No    & No    & No    & No    & No   \\\\\n",
       "\t japan & No    & No    & No    & No    & No    & No    & No    & No    & No    & ⋯     & No    & No    & No    & No    & No    & No    & No    & No    & No    & No   \\\\\n",
       "\t japan & No    & No    & No    & No    & No    & No    & No    & No    & No    & ⋯     & No    & No    & No    & No    & No    & No    & No    & No    & No    & No   \\\\\n",
       "\t japan & No    & No    & No    & No    & No    & No    & No    & No    & No    & ⋯     & No    & No    & No    & No    & No    & No    & No    & No    & No    & No   \\\\\n",
       "\t japan & No    & No    & No    & No    & No    & No    & No    & No    & No    & ⋯     & No    & No    & No    & No    & No    & No    & No    & No    & No    & No   \\\\\n",
       "\\end{tabular}\n"
      ],
      "text/markdown": [
       "\n",
       "cuisine | almond | angelica | anise | anise_seed | apple | apple_brandy | apricot | armagnac | artemisia | ⋯ | whiskey | white_bread | white_wine | whole_grain_wheat_flour | wine | wood | yam | yeast | yogurt | zucchini | \n",
       "|---|---|---|---|---|---|---|---|---|---|---|---|---|---|---|---|---|---|---|---|---|---|---|---|---|---|---|---|---|---|---|---|---|---|---|---|---|---|---|---|---|---|---|---|---|---|---|---|---|---|---|---|---|---|---|---|---|---|---|---|---|\n",
       "| vietnamese | No         | No         | No         | No         | No         | No         | No         | No         | No         | ⋯          | No         | No         | No         | No         | No         | No         | No         | No         | No         | No         | \n",
       "| vietnamese | No         | No         | No         | No         | No         | No         | No         | No         | No         | ⋯          | No         | No         | No         | No         | No         | No         | No         | No         | No         | No         | \n",
       "| vietnamese | No         | No         | No         | No         | No         | No         | No         | No         | No         | ⋯          | No         | No         | No         | No         | No         | No         | No         | No         | No         | No         | \n",
       "| vietnamese | No         | No         | No         | No         | No         | No         | No         | No         | No         | ⋯          | No         | No         | No         | No         | No         | No         | No         | No         | No         | No         | \n",
       "| vietnamese | No         | No         | No         | No         | No         | No         | No         | No         | No         | ⋯          | No         | No         | No         | No         | No         | No         | No         | No         | No         | No         | \n",
       "| vietnamese | No         | No         | No         | No         | No         | No         | No         | No         | No         | ⋯          | No         | No         | No         | No         | No         | No         | No         | No         | No         | No         | \n",
       "| vietnamese | No         | No         | No         | No         | No         | No         | No         | No         | No         | ⋯          | No         | No         | No         | No         | No         | No         | No         | No         | No         | No         | \n",
       "| vietnamese | No         | No         | No         | No         | No         | No         | No         | No         | No         | ⋯          | No         | No         | No         | No         | No         | No         | No         | No         | No         | No         | \n",
       "| vietnamese | No         | No         | No         | No         | No         | No         | No         | No         | No         | ⋯          | No         | No         | No         | No         | No         | No         | No         | No         | No         | No         | \n",
       "| vietnamese | No         | No         | No         | No         | No         | No         | No         | No         | No         | ⋯          | No         | No         | No         | No         | No         | No         | No         | No         | No         | No         | \n",
       "| vietnamese | No         | No         | No         | No         | No         | No         | No         | No         | No         | ⋯          | No         | No         | No         | No         | No         | No         | No         | No         | No         | No         | \n",
       "| vietnamese | No         | No         | No         | No         | No         | No         | No         | No         | No         | ⋯          | No         | No         | No         | No         | No         | No         | No         | No         | No         | No         | \n",
       "| vietnamese | No         | No         | No         | No         | No         | No         | No         | No         | No         | ⋯          | No         | No         | No         | No         | No         | No         | No         | No         | No         | No         | \n",
       "| vietnamese | No         | No         | No         | No         | No         | No         | No         | No         | No         | ⋯          | No         | No         | No         | No         | Yes        | No         | No         | No         | No         | No         | \n",
       "| vietnamese | No         | No         | No         | No         | No         | No         | No         | No         | No         | ⋯          | No         | No         | No         | No         | Yes        | No         | No         | No         | No         | No         | \n",
       "| vietnamese | No         | No         | No         | No         | No         | No         | No         | No         | No         | ⋯          | No         | No         | No         | No         | No         | No         | No         | No         | No         | No         | \n",
       "| vietnamese | No         | No         | No         | No         | No         | No         | No         | No         | No         | ⋯          | No         | No         | No         | No         | No         | No         | No         | No         | No         | No         | \n",
       "| vietnamese | No         | No         | No         | No         | No         | No         | No         | No         | No         | ⋯          | No         | No         | No         | No         | No         | No         | No         | No         | No         | No         | \n",
       "| vietnamese | No         | No         | No         | No         | No         | No         | No         | No         | No         | ⋯          | No         | No         | No         | No         | Yes        | No         | No         | No         | No         | No         | \n",
       "| vietnamese | No         | No         | No         | No         | No         | No         | No         | No         | No         | ⋯          | No         | No         | No         | No         | No         | No         | No         | Yes        | No         | No         | \n",
       "| vietnamese | No         | No         | No         | No         | No         | No         | No         | No         | No         | ⋯          | No         | No         | No         | No         | No         | No         | No         | No         | No         | No         | \n",
       "| vietnamese | No         | No         | No         | No         | No         | No         | No         | No         | No         | ⋯          | No         | No         | No         | No         | No         | No         | No         | No         | No         | No         | \n",
       "| vietnamese | No         | No         | No         | No         | No         | No         | No         | No         | No         | ⋯          | No         | No         | No         | No         | No         | No         | No         | No         | No         | No         | \n",
       "| vietnamese | No         | No         | No         | No         | No         | No         | No         | No         | No         | ⋯          | No         | No         | No         | No         | No         | No         | No         | No         | No         | No         | \n",
       "| vietnamese | No         | No         | No         | No         | No         | No         | No         | No         | No         | ⋯          | No         | No         | No         | No         | No         | No         | No         | No         | No         | No         | \n",
       "| vietnamese | No         | No         | No         | No         | No         | No         | No         | No         | No         | ⋯          | No         | No         | No         | No         | No         | No         | No         | No         | No         | No         | \n",
       "| vietnamese | No         | No         | No         | No         | No         | No         | No         | No         | No         | ⋯          | No         | No         | Yes        | No         | No         | No         | No         | No         | No         | No         | \n",
       "| vietnamese | No         | No         | No         | No         | No         | No         | No         | No         | No         | ⋯          | No         | No         | No         | No         | No         | No         | No         | No         | No         | No         | \n",
       "| vietnamese | No         | No         | No         | No         | No         | No         | No         | No         | No         | ⋯          | No         | No         | No         | No         | Yes        | No         | No         | No         | No         | No         | \n",
       "| vietnamese | No         | No         | No         | No         | No         | No         | No         | No         | No         | ⋯          | No         | No         | No         | No         | No         | No         | No         | No         | No         | No         | \n",
       "| ⋮ | ⋮ | ⋮ | ⋮ | ⋮ | ⋮ | ⋮ | ⋮ | ⋮ | ⋮ | ⋱ | ⋮ | ⋮ | ⋮ | ⋮ | ⋮ | ⋮ | ⋮ | ⋮ | ⋮ | ⋮ | \n",
       "| japan | No    | No    | No    | No    | No    | No    | No    | No    | No    | ⋯     | No    | No    | No    | No    | Yes   | No    | No    | No    | No    | No    | \n",
       "| japan | No    | No    | No    | No    | No    | No    | No    | No    | No    | ⋯     | No    | No    | No    | No    | No    | No    | No    | No    | No    | No    | \n",
       "| japan | No    | No    | No    | No    | No    | No    | No    | No    | No    | ⋯     | No    | No    | No    | No    | Yes   | No    | No    | No    | No    | No    | \n",
       "| japan | No    | No    | No    | No    | No    | No    | No    | No    | No    | ⋯     | No    | No    | No    | No    | No    | No    | No    | No    | No    | No    | \n",
       "| japan | No    | No    | No    | No    | No    | No    | No    | No    | No    | ⋯     | No    | No    | No    | No    | Yes   | No    | No    | No    | No    | No    | \n",
       "| japan | No    | No    | No    | No    | No    | No    | No    | No    | No    | ⋯     | No    | No    | No    | No    | No    | No    | No    | No    | No    | No    | \n",
       "| japan | No    | No    | No    | No    | No    | No    | No    | No    | No    | ⋯     | No    | No    | No    | No    | No    | No    | No    | No    | No    | No    | \n",
       "| japan | No    | No    | No    | No    | No    | No    | No    | No    | No    | ⋯     | No    | No    | No    | No    | No    | No    | No    | No    | No    | No    | \n",
       "| japan | No    | No    | No    | No    | No    | No    | No    | No    | No    | ⋯     | No    | No    | No    | No    | No    | No    | No    | No    | No    | No    | \n",
       "| japan | No    | No    | No    | No    | No    | No    | No    | No    | No    | ⋯     | No    | No    | No    | No    | No    | No    | No    | No    | No    | No    | \n",
       "| japan | No    | No    | No    | No    | No    | No    | No    | No    | No    | ⋯     | No    | No    | No    | No    | No    | No    | No    | No    | No    | No    | \n",
       "| japan | No    | No    | No    | No    | No    | No    | No    | No    | No    | ⋯     | No    | No    | No    | No    | No    | No    | No    | No    | No    | No    | \n",
       "| japan | No    | No    | No    | No    | No    | No    | No    | No    | No    | ⋯     | No    | No    | No    | No    | No    | No    | No    | No    | No    | No    | \n",
       "| japan | No    | No    | No    | No    | No    | No    | No    | No    | No    | ⋯     | No    | No    | No    | No    | Yes   | No    | No    | No    | No    | No    | \n",
       "| japan | No    | No    | No    | No    | No    | No    | No    | No    | No    | ⋯     | No    | No    | No    | No    | Yes   | No    | No    | No    | No    | No    | \n",
       "| japan | No    | No    | No    | No    | No    | No    | No    | No    | No    | ⋯     | No    | No    | No    | No    | No    | No    | No    | No    | No    | No    | \n",
       "| japan | No    | No    | No    | No    | No    | No    | No    | No    | No    | ⋯     | No    | No    | No    | No    | No    | No    | No    | No    | No    | No    | \n",
       "| japan | No    | No    | No    | No    | No    | No    | No    | No    | No    | ⋯     | No    | No    | No    | No    | No    | No    | No    | No    | No    | No    | \n",
       "| japan | No    | No    | No    | No    | No    | No    | No    | No    | No    | ⋯     | No    | No    | No    | No    | No    | No    | No    | No    | No    | No    | \n",
       "| japan | No    | No    | No    | No    | No    | No    | No    | No    | No    | ⋯     | No    | No    | No    | No    | No    | No    | No    | No    | No    | No    | \n",
       "| japan | No    | No    | No    | No    | No    | No    | No    | No    | No    | ⋯     | No    | No    | No    | No    | No    | No    | No    | No    | No    | No    | \n",
       "| japan | No    | No    | No    | No    | No    | No    | No    | No    | No    | ⋯     | No    | No    | No    | No    | No    | No    | No    | No    | No    | No    | \n",
       "| japan | No    | No    | No    | No    | No    | No    | No    | No    | No    | ⋯     | No    | No    | No    | No    | No    | No    | No    | No    | No    | No    | \n",
       "| japan | No    | No    | No    | No    | No    | No    | No    | No    | No    | ⋯     | No    | No    | No    | No    | Yes   | No    | No    | No    | No    | No    | \n",
       "| japan | No    | No    | No    | No    | No    | No    | No    | No    | No    | ⋯     | No    | No    | No    | No    | No    | No    | No    | No    | No    | No    | \n",
       "| japan | No    | No    | No    | No    | No    | No    | No    | No    | No    | ⋯     | No    | No    | No    | No    | No    | No    | No    | No    | No    | No    | \n",
       "| japan | No    | No    | No    | No    | No    | No    | No    | No    | No    | ⋯     | No    | No    | No    | No    | No    | No    | No    | No    | No    | No    | \n",
       "| japan | No    | No    | No    | No    | No    | No    | No    | No    | No    | ⋯     | No    | No    | No    | No    | No    | No    | No    | No    | No    | No    | \n",
       "| japan | No    | No    | No    | No    | No    | No    | No    | No    | No    | ⋯     | No    | No    | No    | No    | No    | No    | No    | No    | No    | No    | \n",
       "| japan | No    | No    | No    | No    | No    | No    | No    | No    | No    | ⋯     | No    | No    | No    | No    | No    | No    | No    | No    | No    | No    | \n",
       "\n",
       "\n"
      ],
      "text/plain": [
       "      cuisine    almond angelica anise anise_seed apple apple_brandy apricot\n",
       "1     vietnamese No     No       No    No         No    No           No     \n",
       "2     vietnamese No     No       No    No         No    No           No     \n",
       "3     vietnamese No     No       No    No         No    No           No     \n",
       "4     vietnamese No     No       No    No         No    No           No     \n",
       "5     vietnamese No     No       No    No         No    No           No     \n",
       "6     vietnamese No     No       No    No         No    No           No     \n",
       "7     vietnamese No     No       No    No         No    No           No     \n",
       "8     vietnamese No     No       No    No         No    No           No     \n",
       "9     vietnamese No     No       No    No         No    No           No     \n",
       "10    vietnamese No     No       No    No         No    No           No     \n",
       "11    vietnamese No     No       No    No         No    No           No     \n",
       "12    vietnamese No     No       No    No         No    No           No     \n",
       "13    vietnamese No     No       No    No         No    No           No     \n",
       "14    vietnamese No     No       No    No         No    No           No     \n",
       "15    vietnamese No     No       No    No         No    No           No     \n",
       "16    vietnamese No     No       No    No         No    No           No     \n",
       "17    vietnamese No     No       No    No         No    No           No     \n",
       "18    vietnamese No     No       No    No         No    No           No     \n",
       "19    vietnamese No     No       No    No         No    No           No     \n",
       "20    vietnamese No     No       No    No         No    No           No     \n",
       "21    vietnamese No     No       No    No         No    No           No     \n",
       "22    vietnamese No     No       No    No         No    No           No     \n",
       "23    vietnamese No     No       No    No         No    No           No     \n",
       "24    vietnamese No     No       No    No         No    No           No     \n",
       "25    vietnamese No     No       No    No         No    No           No     \n",
       "26    vietnamese No     No       No    No         No    No           No     \n",
       "27    vietnamese No     No       No    No         No    No           No     \n",
       "28    vietnamese No     No       No    No         No    No           No     \n",
       "29    vietnamese No     No       No    No         No    No           No     \n",
       "30    vietnamese No     No       No    No         No    No           No     \n",
       "⋮     ⋮          ⋮      ⋮        ⋮     ⋮          ⋮     ⋮            ⋮      \n",
       "57662 japan      No     No       No    No         No    No           No     \n",
       "57663 japan      No     No       No    No         No    No           No     \n",
       "57664 japan      No     No       No    No         No    No           No     \n",
       "57665 japan      No     No       No    No         No    No           No     \n",
       "57666 japan      No     No       No    No         No    No           No     \n",
       "57667 japan      No     No       No    No         No    No           No     \n",
       "57668 japan      No     No       No    No         No    No           No     \n",
       "57669 japan      No     No       No    No         No    No           No     \n",
       "57670 japan      No     No       No    No         No    No           No     \n",
       "57671 japan      No     No       No    No         No    No           No     \n",
       "57672 japan      No     No       No    No         No    No           No     \n",
       "57673 japan      No     No       No    No         No    No           No     \n",
       "57674 japan      No     No       No    No         No    No           No     \n",
       "57675 japan      No     No       No    No         No    No           No     \n",
       "57676 japan      No     No       No    No         No    No           No     \n",
       "57677 japan      No     No       No    No         No    No           No     \n",
       "57678 japan      No     No       No    No         No    No           No     \n",
       "57679 japan      No     No       No    No         No    No           No     \n",
       "57680 japan      No     No       No    No         No    No           No     \n",
       "57681 japan      No     No       No    No         No    No           No     \n",
       "57682 japan      No     No       No    No         No    No           No     \n",
       "57683 japan      No     No       No    No         No    No           No     \n",
       "57684 japan      No     No       No    No         No    No           No     \n",
       "57685 japan      No     No       No    No         No    No           No     \n",
       "57686 japan      No     No       No    No         No    No           No     \n",
       "57687 japan      No     No       No    No         No    No           No     \n",
       "57688 japan      No     No       No    No         No    No           No     \n",
       "57689 japan      No     No       No    No         No    No           No     \n",
       "57690 japan      No     No       No    No         No    No           No     \n",
       "57691 japan      No     No       No    No         No    No           No     \n",
       "      armagnac artemisia ⋯ whiskey white_bread white_wine\n",
       "1     No       No        ⋯ No      No          No        \n",
       "2     No       No        ⋯ No      No          No        \n",
       "3     No       No        ⋯ No      No          No        \n",
       "4     No       No        ⋯ No      No          No        \n",
       "5     No       No        ⋯ No      No          No        \n",
       "6     No       No        ⋯ No      No          No        \n",
       "7     No       No        ⋯ No      No          No        \n",
       "8     No       No        ⋯ No      No          No        \n",
       "9     No       No        ⋯ No      No          No        \n",
       "10    No       No        ⋯ No      No          No        \n",
       "11    No       No        ⋯ No      No          No        \n",
       "12    No       No        ⋯ No      No          No        \n",
       "13    No       No        ⋯ No      No          No        \n",
       "14    No       No        ⋯ No      No          No        \n",
       "15    No       No        ⋯ No      No          No        \n",
       "16    No       No        ⋯ No      No          No        \n",
       "17    No       No        ⋯ No      No          No        \n",
       "18    No       No        ⋯ No      No          No        \n",
       "19    No       No        ⋯ No      No          No        \n",
       "20    No       No        ⋯ No      No          No        \n",
       "21    No       No        ⋯ No      No          No        \n",
       "22    No       No        ⋯ No      No          No        \n",
       "23    No       No        ⋯ No      No          No        \n",
       "24    No       No        ⋯ No      No          No        \n",
       "25    No       No        ⋯ No      No          No        \n",
       "26    No       No        ⋯ No      No          No        \n",
       "27    No       No        ⋯ No      No          Yes       \n",
       "28    No       No        ⋯ No      No          No        \n",
       "29    No       No        ⋯ No      No          No        \n",
       "30    No       No        ⋯ No      No          No        \n",
       "⋮     ⋮        ⋮         ⋱ ⋮       ⋮           ⋮         \n",
       "57662 No       No        ⋯ No      No          No        \n",
       "57663 No       No        ⋯ No      No          No        \n",
       "57664 No       No        ⋯ No      No          No        \n",
       "57665 No       No        ⋯ No      No          No        \n",
       "57666 No       No        ⋯ No      No          No        \n",
       "57667 No       No        ⋯ No      No          No        \n",
       "57668 No       No        ⋯ No      No          No        \n",
       "57669 No       No        ⋯ No      No          No        \n",
       "57670 No       No        ⋯ No      No          No        \n",
       "57671 No       No        ⋯ No      No          No        \n",
       "57672 No       No        ⋯ No      No          No        \n",
       "57673 No       No        ⋯ No      No          No        \n",
       "57674 No       No        ⋯ No      No          No        \n",
       "57675 No       No        ⋯ No      No          No        \n",
       "57676 No       No        ⋯ No      No          No        \n",
       "57677 No       No        ⋯ No      No          No        \n",
       "57678 No       No        ⋯ No      No          No        \n",
       "57679 No       No        ⋯ No      No          No        \n",
       "57680 No       No        ⋯ No      No          No        \n",
       "57681 No       No        ⋯ No      No          No        \n",
       "57682 No       No        ⋯ No      No          No        \n",
       "57683 No       No        ⋯ No      No          No        \n",
       "57684 No       No        ⋯ No      No          No        \n",
       "57685 No       No        ⋯ No      No          No        \n",
       "57686 No       No        ⋯ No      No          No        \n",
       "57687 No       No        ⋯ No      No          No        \n",
       "57688 No       No        ⋯ No      No          No        \n",
       "57689 No       No        ⋯ No      No          No        \n",
       "57690 No       No        ⋯ No      No          No        \n",
       "57691 No       No        ⋯ No      No          No        \n",
       "      whole_grain_wheat_flour wine wood yam yeast yogurt zucchini\n",
       "1     No                      No   No   No  No    No     No      \n",
       "2     No                      No   No   No  No    No     No      \n",
       "3     No                      No   No   No  No    No     No      \n",
       "4     No                      No   No   No  No    No     No      \n",
       "5     No                      No   No   No  No    No     No      \n",
       "6     No                      No   No   No  No    No     No      \n",
       "7     No                      No   No   No  No    No     No      \n",
       "8     No                      No   No   No  No    No     No      \n",
       "9     No                      No   No   No  No    No     No      \n",
       "10    No                      No   No   No  No    No     No      \n",
       "11    No                      No   No   No  No    No     No      \n",
       "12    No                      No   No   No  No    No     No      \n",
       "13    No                      No   No   No  No    No     No      \n",
       "14    No                      Yes  No   No  No    No     No      \n",
       "15    No                      Yes  No   No  No    No     No      \n",
       "16    No                      No   No   No  No    No     No      \n",
       "17    No                      No   No   No  No    No     No      \n",
       "18    No                      No   No   No  No    No     No      \n",
       "19    No                      Yes  No   No  No    No     No      \n",
       "20    No                      No   No   No  Yes   No     No      \n",
       "21    No                      No   No   No  No    No     No      \n",
       "22    No                      No   No   No  No    No     No      \n",
       "23    No                      No   No   No  No    No     No      \n",
       "24    No                      No   No   No  No    No     No      \n",
       "25    No                      No   No   No  No    No     No      \n",
       "26    No                      No   No   No  No    No     No      \n",
       "27    No                      No   No   No  No    No     No      \n",
       "28    No                      No   No   No  No    No     No      \n",
       "29    No                      Yes  No   No  No    No     No      \n",
       "30    No                      No   No   No  No    No     No      \n",
       "⋮     ⋮                       ⋮    ⋮    ⋮   ⋮     ⋮      ⋮       \n",
       "57662 No                      Yes  No   No  No    No     No      \n",
       "57663 No                      No   No   No  No    No     No      \n",
       "57664 No                      Yes  No   No  No    No     No      \n",
       "57665 No                      No   No   No  No    No     No      \n",
       "57666 No                      Yes  No   No  No    No     No      \n",
       "57667 No                      No   No   No  No    No     No      \n",
       "57668 No                      No   No   No  No    No     No      \n",
       "57669 No                      No   No   No  No    No     No      \n",
       "57670 No                      No   No   No  No    No     No      \n",
       "57671 No                      No   No   No  No    No     No      \n",
       "57672 No                      No   No   No  No    No     No      \n",
       "57673 No                      No   No   No  No    No     No      \n",
       "57674 No                      No   No   No  No    No     No      \n",
       "57675 No                      Yes  No   No  No    No     No      \n",
       "57676 No                      Yes  No   No  No    No     No      \n",
       "57677 No                      No   No   No  No    No     No      \n",
       "57678 No                      No   No   No  No    No     No      \n",
       "57679 No                      No   No   No  No    No     No      \n",
       "57680 No                      No   No   No  No    No     No      \n",
       "57681 No                      No   No   No  No    No     No      \n",
       "57682 No                      No   No   No  No    No     No      \n",
       "57683 No                      No   No   No  No    No     No      \n",
       "57684 No                      No   No   No  No    No     No      \n",
       "57685 No                      Yes  No   No  No    No     No      \n",
       "57686 No                      No   No   No  No    No     No      \n",
       "57687 No                      No   No   No  No    No     No      \n",
       "57688 No                      No   No   No  No    No     No      \n",
       "57689 No                      No   No   No  No    No     No      \n",
       "57690 No                      No   No   No  No    No     No      \n",
       "57691 No                      No   No   No  No    No     No      "
      ]
     },
     "metadata": {},
     "output_type": "display_data"
    }
   ],
   "source": [
    "recipes$cuisine <- tolower(as.character(recipes$cuisine))\n",
    "\n",
    "recipes"
   ]
  },
  {
   "cell_type": "markdown",
   "metadata": {},
   "source": [
    "Make the cuisine names consistent."
   ]
  },
  {
   "cell_type": "code",
   "execution_count": 10,
   "metadata": {
    "collapsed": false
   },
   "outputs": [
    {
     "data": {
      "text/html": [
       "<table>\n",
       "<thead><tr><th scope=col>cuisine</th><th scope=col>almond</th><th scope=col>angelica</th><th scope=col>anise</th><th scope=col>anise_seed</th><th scope=col>apple</th><th scope=col>apple_brandy</th><th scope=col>apricot</th><th scope=col>armagnac</th><th scope=col>artemisia</th><th scope=col>⋯</th><th scope=col>whiskey</th><th scope=col>white_bread</th><th scope=col>white_wine</th><th scope=col>whole_grain_wheat_flour</th><th scope=col>wine</th><th scope=col>wood</th><th scope=col>yam</th><th scope=col>yeast</th><th scope=col>yogurt</th><th scope=col>zucchini</th></tr></thead>\n",
       "<tbody>\n",
       "\t<tr><td>vietnamese</td><td>No        </td><td>No        </td><td>No        </td><td>No        </td><td>No        </td><td>No        </td><td>No        </td><td>No        </td><td>No        </td><td>⋯         </td><td>No        </td><td>No        </td><td>No        </td><td>No        </td><td>No        </td><td>No        </td><td>No        </td><td>No        </td><td>No        </td><td>No        </td></tr>\n",
       "\t<tr><td>vietnamese</td><td>No        </td><td>No        </td><td>No        </td><td>No        </td><td>No        </td><td>No        </td><td>No        </td><td>No        </td><td>No        </td><td>⋯         </td><td>No        </td><td>No        </td><td>No        </td><td>No        </td><td>No        </td><td>No        </td><td>No        </td><td>No        </td><td>No        </td><td>No        </td></tr>\n",
       "\t<tr><td>vietnamese</td><td>No        </td><td>No        </td><td>No        </td><td>No        </td><td>No        </td><td>No        </td><td>No        </td><td>No        </td><td>No        </td><td>⋯         </td><td>No        </td><td>No        </td><td>No        </td><td>No        </td><td>No        </td><td>No        </td><td>No        </td><td>No        </td><td>No        </td><td>No        </td></tr>\n",
       "\t<tr><td>vietnamese</td><td>No        </td><td>No        </td><td>No        </td><td>No        </td><td>No        </td><td>No        </td><td>No        </td><td>No        </td><td>No        </td><td>⋯         </td><td>No        </td><td>No        </td><td>No        </td><td>No        </td><td>No        </td><td>No        </td><td>No        </td><td>No        </td><td>No        </td><td>No        </td></tr>\n",
       "\t<tr><td>vietnamese</td><td>No        </td><td>No        </td><td>No        </td><td>No        </td><td>No        </td><td>No        </td><td>No        </td><td>No        </td><td>No        </td><td>⋯         </td><td>No        </td><td>No        </td><td>No        </td><td>No        </td><td>No        </td><td>No        </td><td>No        </td><td>No        </td><td>No        </td><td>No        </td></tr>\n",
       "\t<tr><td>vietnamese</td><td>No        </td><td>No        </td><td>No        </td><td>No        </td><td>No        </td><td>No        </td><td>No        </td><td>No        </td><td>No        </td><td>⋯         </td><td>No        </td><td>No        </td><td>No        </td><td>No        </td><td>No        </td><td>No        </td><td>No        </td><td>No        </td><td>No        </td><td>No        </td></tr>\n",
       "\t<tr><td>vietnamese</td><td>No        </td><td>No        </td><td>No        </td><td>No        </td><td>No        </td><td>No        </td><td>No        </td><td>No        </td><td>No        </td><td>⋯         </td><td>No        </td><td>No        </td><td>No        </td><td>No        </td><td>No        </td><td>No        </td><td>No        </td><td>No        </td><td>No        </td><td>No        </td></tr>\n",
       "\t<tr><td>vietnamese</td><td>No        </td><td>No        </td><td>No        </td><td>No        </td><td>No        </td><td>No        </td><td>No        </td><td>No        </td><td>No        </td><td>⋯         </td><td>No        </td><td>No        </td><td>No        </td><td>No        </td><td>No        </td><td>No        </td><td>No        </td><td>No        </td><td>No        </td><td>No        </td></tr>\n",
       "\t<tr><td>vietnamese</td><td>No        </td><td>No        </td><td>No        </td><td>No        </td><td>No        </td><td>No        </td><td>No        </td><td>No        </td><td>No        </td><td>⋯         </td><td>No        </td><td>No        </td><td>No        </td><td>No        </td><td>No        </td><td>No        </td><td>No        </td><td>No        </td><td>No        </td><td>No        </td></tr>\n",
       "\t<tr><td>vietnamese</td><td>No        </td><td>No        </td><td>No        </td><td>No        </td><td>No        </td><td>No        </td><td>No        </td><td>No        </td><td>No        </td><td>⋯         </td><td>No        </td><td>No        </td><td>No        </td><td>No        </td><td>No        </td><td>No        </td><td>No        </td><td>No        </td><td>No        </td><td>No        </td></tr>\n",
       "\t<tr><td>vietnamese</td><td>No        </td><td>No        </td><td>No        </td><td>No        </td><td>No        </td><td>No        </td><td>No        </td><td>No        </td><td>No        </td><td>⋯         </td><td>No        </td><td>No        </td><td>No        </td><td>No        </td><td>No        </td><td>No        </td><td>No        </td><td>No        </td><td>No        </td><td>No        </td></tr>\n",
       "\t<tr><td>vietnamese</td><td>No        </td><td>No        </td><td>No        </td><td>No        </td><td>No        </td><td>No        </td><td>No        </td><td>No        </td><td>No        </td><td>⋯         </td><td>No        </td><td>No        </td><td>No        </td><td>No        </td><td>No        </td><td>No        </td><td>No        </td><td>No        </td><td>No        </td><td>No        </td></tr>\n",
       "\t<tr><td>vietnamese</td><td>No        </td><td>No        </td><td>No        </td><td>No        </td><td>No        </td><td>No        </td><td>No        </td><td>No        </td><td>No        </td><td>⋯         </td><td>No        </td><td>No        </td><td>No        </td><td>No        </td><td>No        </td><td>No        </td><td>No        </td><td>No        </td><td>No        </td><td>No        </td></tr>\n",
       "\t<tr><td>vietnamese</td><td>No        </td><td>No        </td><td>No        </td><td>No        </td><td>No        </td><td>No        </td><td>No        </td><td>No        </td><td>No        </td><td>⋯         </td><td>No        </td><td>No        </td><td>No        </td><td>No        </td><td>Yes       </td><td>No        </td><td>No        </td><td>No        </td><td>No        </td><td>No        </td></tr>\n",
       "\t<tr><td>vietnamese</td><td>No        </td><td>No        </td><td>No        </td><td>No        </td><td>No        </td><td>No        </td><td>No        </td><td>No        </td><td>No        </td><td>⋯         </td><td>No        </td><td>No        </td><td>No        </td><td>No        </td><td>Yes       </td><td>No        </td><td>No        </td><td>No        </td><td>No        </td><td>No        </td></tr>\n",
       "\t<tr><td>vietnamese</td><td>No        </td><td>No        </td><td>No        </td><td>No        </td><td>No        </td><td>No        </td><td>No        </td><td>No        </td><td>No        </td><td>⋯         </td><td>No        </td><td>No        </td><td>No        </td><td>No        </td><td>No        </td><td>No        </td><td>No        </td><td>No        </td><td>No        </td><td>No        </td></tr>\n",
       "\t<tr><td>vietnamese</td><td>No        </td><td>No        </td><td>No        </td><td>No        </td><td>No        </td><td>No        </td><td>No        </td><td>No        </td><td>No        </td><td>⋯         </td><td>No        </td><td>No        </td><td>No        </td><td>No        </td><td>No        </td><td>No        </td><td>No        </td><td>No        </td><td>No        </td><td>No        </td></tr>\n",
       "\t<tr><td>vietnamese</td><td>No        </td><td>No        </td><td>No        </td><td>No        </td><td>No        </td><td>No        </td><td>No        </td><td>No        </td><td>No        </td><td>⋯         </td><td>No        </td><td>No        </td><td>No        </td><td>No        </td><td>No        </td><td>No        </td><td>No        </td><td>No        </td><td>No        </td><td>No        </td></tr>\n",
       "\t<tr><td>vietnamese</td><td>No        </td><td>No        </td><td>No        </td><td>No        </td><td>No        </td><td>No        </td><td>No        </td><td>No        </td><td>No        </td><td>⋯         </td><td>No        </td><td>No        </td><td>No        </td><td>No        </td><td>Yes       </td><td>No        </td><td>No        </td><td>No        </td><td>No        </td><td>No        </td></tr>\n",
       "\t<tr><td>vietnamese</td><td>No        </td><td>No        </td><td>No        </td><td>No        </td><td>No        </td><td>No        </td><td>No        </td><td>No        </td><td>No        </td><td>⋯         </td><td>No        </td><td>No        </td><td>No        </td><td>No        </td><td>No        </td><td>No        </td><td>No        </td><td>Yes       </td><td>No        </td><td>No        </td></tr>\n",
       "\t<tr><td>vietnamese</td><td>No        </td><td>No        </td><td>No        </td><td>No        </td><td>No        </td><td>No        </td><td>No        </td><td>No        </td><td>No        </td><td>⋯         </td><td>No        </td><td>No        </td><td>No        </td><td>No        </td><td>No        </td><td>No        </td><td>No        </td><td>No        </td><td>No        </td><td>No        </td></tr>\n",
       "\t<tr><td>vietnamese</td><td>No        </td><td>No        </td><td>No        </td><td>No        </td><td>No        </td><td>No        </td><td>No        </td><td>No        </td><td>No        </td><td>⋯         </td><td>No        </td><td>No        </td><td>No        </td><td>No        </td><td>No        </td><td>No        </td><td>No        </td><td>No        </td><td>No        </td><td>No        </td></tr>\n",
       "\t<tr><td>vietnamese</td><td>No        </td><td>No        </td><td>No        </td><td>No        </td><td>No        </td><td>No        </td><td>No        </td><td>No        </td><td>No        </td><td>⋯         </td><td>No        </td><td>No        </td><td>No        </td><td>No        </td><td>No        </td><td>No        </td><td>No        </td><td>No        </td><td>No        </td><td>No        </td></tr>\n",
       "\t<tr><td>vietnamese</td><td>No        </td><td>No        </td><td>No        </td><td>No        </td><td>No        </td><td>No        </td><td>No        </td><td>No        </td><td>No        </td><td>⋯         </td><td>No        </td><td>No        </td><td>No        </td><td>No        </td><td>No        </td><td>No        </td><td>No        </td><td>No        </td><td>No        </td><td>No        </td></tr>\n",
       "\t<tr><td>vietnamese</td><td>No        </td><td>No        </td><td>No        </td><td>No        </td><td>No        </td><td>No        </td><td>No        </td><td>No        </td><td>No        </td><td>⋯         </td><td>No        </td><td>No        </td><td>No        </td><td>No        </td><td>No        </td><td>No        </td><td>No        </td><td>No        </td><td>No        </td><td>No        </td></tr>\n",
       "\t<tr><td>vietnamese</td><td>No        </td><td>No        </td><td>No        </td><td>No        </td><td>No        </td><td>No        </td><td>No        </td><td>No        </td><td>No        </td><td>⋯         </td><td>No        </td><td>No        </td><td>No        </td><td>No        </td><td>No        </td><td>No        </td><td>No        </td><td>No        </td><td>No        </td><td>No        </td></tr>\n",
       "\t<tr><td>vietnamese</td><td>No        </td><td>No        </td><td>No        </td><td>No        </td><td>No        </td><td>No        </td><td>No        </td><td>No        </td><td>No        </td><td>⋯         </td><td>No        </td><td>No        </td><td>Yes       </td><td>No        </td><td>No        </td><td>No        </td><td>No        </td><td>No        </td><td>No        </td><td>No        </td></tr>\n",
       "\t<tr><td>vietnamese</td><td>No        </td><td>No        </td><td>No        </td><td>No        </td><td>No        </td><td>No        </td><td>No        </td><td>No        </td><td>No        </td><td>⋯         </td><td>No        </td><td>No        </td><td>No        </td><td>No        </td><td>No        </td><td>No        </td><td>No        </td><td>No        </td><td>No        </td><td>No        </td></tr>\n",
       "\t<tr><td>vietnamese</td><td>No        </td><td>No        </td><td>No        </td><td>No        </td><td>No        </td><td>No        </td><td>No        </td><td>No        </td><td>No        </td><td>⋯         </td><td>No        </td><td>No        </td><td>No        </td><td>No        </td><td>Yes       </td><td>No        </td><td>No        </td><td>No        </td><td>No        </td><td>No        </td></tr>\n",
       "\t<tr><td>vietnamese</td><td>No        </td><td>No        </td><td>No        </td><td>No        </td><td>No        </td><td>No        </td><td>No        </td><td>No        </td><td>No        </td><td>⋯         </td><td>No        </td><td>No        </td><td>No        </td><td>No        </td><td>No        </td><td>No        </td><td>No        </td><td>No        </td><td>No        </td><td>No        </td></tr>\n",
       "\t<tr><td>⋮</td><td>⋮</td><td>⋮</td><td>⋮</td><td>⋮</td><td>⋮</td><td>⋮</td><td>⋮</td><td>⋮</td><td>⋮</td><td>⋱</td><td>⋮</td><td>⋮</td><td>⋮</td><td>⋮</td><td>⋮</td><td>⋮</td><td>⋮</td><td>⋮</td><td>⋮</td><td>⋮</td></tr>\n",
       "\t<tr><td>japanese</td><td>No      </td><td>No      </td><td>No      </td><td>No      </td><td>No      </td><td>No      </td><td>No      </td><td>No      </td><td>No      </td><td>⋯       </td><td>No      </td><td>No      </td><td>No      </td><td>No      </td><td>Yes     </td><td>No      </td><td>No      </td><td>No      </td><td>No      </td><td>No      </td></tr>\n",
       "\t<tr><td>japanese</td><td>No      </td><td>No      </td><td>No      </td><td>No      </td><td>No      </td><td>No      </td><td>No      </td><td>No      </td><td>No      </td><td>⋯       </td><td>No      </td><td>No      </td><td>No      </td><td>No      </td><td>No      </td><td>No      </td><td>No      </td><td>No      </td><td>No      </td><td>No      </td></tr>\n",
       "\t<tr><td>japanese</td><td>No      </td><td>No      </td><td>No      </td><td>No      </td><td>No      </td><td>No      </td><td>No      </td><td>No      </td><td>No      </td><td>⋯       </td><td>No      </td><td>No      </td><td>No      </td><td>No      </td><td>Yes     </td><td>No      </td><td>No      </td><td>No      </td><td>No      </td><td>No      </td></tr>\n",
       "\t<tr><td>japanese</td><td>No      </td><td>No      </td><td>No      </td><td>No      </td><td>No      </td><td>No      </td><td>No      </td><td>No      </td><td>No      </td><td>⋯       </td><td>No      </td><td>No      </td><td>No      </td><td>No      </td><td>No      </td><td>No      </td><td>No      </td><td>No      </td><td>No      </td><td>No      </td></tr>\n",
       "\t<tr><td>japanese</td><td>No      </td><td>No      </td><td>No      </td><td>No      </td><td>No      </td><td>No      </td><td>No      </td><td>No      </td><td>No      </td><td>⋯       </td><td>No      </td><td>No      </td><td>No      </td><td>No      </td><td>Yes     </td><td>No      </td><td>No      </td><td>No      </td><td>No      </td><td>No      </td></tr>\n",
       "\t<tr><td>japanese</td><td>No      </td><td>No      </td><td>No      </td><td>No      </td><td>No      </td><td>No      </td><td>No      </td><td>No      </td><td>No      </td><td>⋯       </td><td>No      </td><td>No      </td><td>No      </td><td>No      </td><td>No      </td><td>No      </td><td>No      </td><td>No      </td><td>No      </td><td>No      </td></tr>\n",
       "\t<tr><td>japanese</td><td>No      </td><td>No      </td><td>No      </td><td>No      </td><td>No      </td><td>No      </td><td>No      </td><td>No      </td><td>No      </td><td>⋯       </td><td>No      </td><td>No      </td><td>No      </td><td>No      </td><td>No      </td><td>No      </td><td>No      </td><td>No      </td><td>No      </td><td>No      </td></tr>\n",
       "\t<tr><td>japanese</td><td>No      </td><td>No      </td><td>No      </td><td>No      </td><td>No      </td><td>No      </td><td>No      </td><td>No      </td><td>No      </td><td>⋯       </td><td>No      </td><td>No      </td><td>No      </td><td>No      </td><td>No      </td><td>No      </td><td>No      </td><td>No      </td><td>No      </td><td>No      </td></tr>\n",
       "\t<tr><td>japanese</td><td>No      </td><td>No      </td><td>No      </td><td>No      </td><td>No      </td><td>No      </td><td>No      </td><td>No      </td><td>No      </td><td>⋯       </td><td>No      </td><td>No      </td><td>No      </td><td>No      </td><td>No      </td><td>No      </td><td>No      </td><td>No      </td><td>No      </td><td>No      </td></tr>\n",
       "\t<tr><td>japanese</td><td>No      </td><td>No      </td><td>No      </td><td>No      </td><td>No      </td><td>No      </td><td>No      </td><td>No      </td><td>No      </td><td>⋯       </td><td>No      </td><td>No      </td><td>No      </td><td>No      </td><td>No      </td><td>No      </td><td>No      </td><td>No      </td><td>No      </td><td>No      </td></tr>\n",
       "\t<tr><td>japanese</td><td>No      </td><td>No      </td><td>No      </td><td>No      </td><td>No      </td><td>No      </td><td>No      </td><td>No      </td><td>No      </td><td>⋯       </td><td>No      </td><td>No      </td><td>No      </td><td>No      </td><td>No      </td><td>No      </td><td>No      </td><td>No      </td><td>No      </td><td>No      </td></tr>\n",
       "\t<tr><td>japanese</td><td>No      </td><td>No      </td><td>No      </td><td>No      </td><td>No      </td><td>No      </td><td>No      </td><td>No      </td><td>No      </td><td>⋯       </td><td>No      </td><td>No      </td><td>No      </td><td>No      </td><td>No      </td><td>No      </td><td>No      </td><td>No      </td><td>No      </td><td>No      </td></tr>\n",
       "\t<tr><td>japanese</td><td>No      </td><td>No      </td><td>No      </td><td>No      </td><td>No      </td><td>No      </td><td>No      </td><td>No      </td><td>No      </td><td>⋯       </td><td>No      </td><td>No      </td><td>No      </td><td>No      </td><td>No      </td><td>No      </td><td>No      </td><td>No      </td><td>No      </td><td>No      </td></tr>\n",
       "\t<tr><td>japanese</td><td>No      </td><td>No      </td><td>No      </td><td>No      </td><td>No      </td><td>No      </td><td>No      </td><td>No      </td><td>No      </td><td>⋯       </td><td>No      </td><td>No      </td><td>No      </td><td>No      </td><td>Yes     </td><td>No      </td><td>No      </td><td>No      </td><td>No      </td><td>No      </td></tr>\n",
       "\t<tr><td>japanese</td><td>No      </td><td>No      </td><td>No      </td><td>No      </td><td>No      </td><td>No      </td><td>No      </td><td>No      </td><td>No      </td><td>⋯       </td><td>No      </td><td>No      </td><td>No      </td><td>No      </td><td>Yes     </td><td>No      </td><td>No      </td><td>No      </td><td>No      </td><td>No      </td></tr>\n",
       "\t<tr><td>japanese</td><td>No      </td><td>No      </td><td>No      </td><td>No      </td><td>No      </td><td>No      </td><td>No      </td><td>No      </td><td>No      </td><td>⋯       </td><td>No      </td><td>No      </td><td>No      </td><td>No      </td><td>No      </td><td>No      </td><td>No      </td><td>No      </td><td>No      </td><td>No      </td></tr>\n",
       "\t<tr><td>japanese</td><td>No      </td><td>No      </td><td>No      </td><td>No      </td><td>No      </td><td>No      </td><td>No      </td><td>No      </td><td>No      </td><td>⋯       </td><td>No      </td><td>No      </td><td>No      </td><td>No      </td><td>No      </td><td>No      </td><td>No      </td><td>No      </td><td>No      </td><td>No      </td></tr>\n",
       "\t<tr><td>japanese</td><td>No      </td><td>No      </td><td>No      </td><td>No      </td><td>No      </td><td>No      </td><td>No      </td><td>No      </td><td>No      </td><td>⋯       </td><td>No      </td><td>No      </td><td>No      </td><td>No      </td><td>No      </td><td>No      </td><td>No      </td><td>No      </td><td>No      </td><td>No      </td></tr>\n",
       "\t<tr><td>japanese</td><td>No      </td><td>No      </td><td>No      </td><td>No      </td><td>No      </td><td>No      </td><td>No      </td><td>No      </td><td>No      </td><td>⋯       </td><td>No      </td><td>No      </td><td>No      </td><td>No      </td><td>No      </td><td>No      </td><td>No      </td><td>No      </td><td>No      </td><td>No      </td></tr>\n",
       "\t<tr><td>japanese</td><td>No      </td><td>No      </td><td>No      </td><td>No      </td><td>No      </td><td>No      </td><td>No      </td><td>No      </td><td>No      </td><td>⋯       </td><td>No      </td><td>No      </td><td>No      </td><td>No      </td><td>No      </td><td>No      </td><td>No      </td><td>No      </td><td>No      </td><td>No      </td></tr>\n",
       "\t<tr><td>japanese</td><td>No      </td><td>No      </td><td>No      </td><td>No      </td><td>No      </td><td>No      </td><td>No      </td><td>No      </td><td>No      </td><td>⋯       </td><td>No      </td><td>No      </td><td>No      </td><td>No      </td><td>No      </td><td>No      </td><td>No      </td><td>No      </td><td>No      </td><td>No      </td></tr>\n",
       "\t<tr><td>japanese</td><td>No      </td><td>No      </td><td>No      </td><td>No      </td><td>No      </td><td>No      </td><td>No      </td><td>No      </td><td>No      </td><td>⋯       </td><td>No      </td><td>No      </td><td>No      </td><td>No      </td><td>No      </td><td>No      </td><td>No      </td><td>No      </td><td>No      </td><td>No      </td></tr>\n",
       "\t<tr><td>japanese</td><td>No      </td><td>No      </td><td>No      </td><td>No      </td><td>No      </td><td>No      </td><td>No      </td><td>No      </td><td>No      </td><td>⋯       </td><td>No      </td><td>No      </td><td>No      </td><td>No      </td><td>No      </td><td>No      </td><td>No      </td><td>No      </td><td>No      </td><td>No      </td></tr>\n",
       "\t<tr><td>japanese</td><td>No      </td><td>No      </td><td>No      </td><td>No      </td><td>No      </td><td>No      </td><td>No      </td><td>No      </td><td>No      </td><td>⋯       </td><td>No      </td><td>No      </td><td>No      </td><td>No      </td><td>Yes     </td><td>No      </td><td>No      </td><td>No      </td><td>No      </td><td>No      </td></tr>\n",
       "\t<tr><td>japanese</td><td>No      </td><td>No      </td><td>No      </td><td>No      </td><td>No      </td><td>No      </td><td>No      </td><td>No      </td><td>No      </td><td>⋯       </td><td>No      </td><td>No      </td><td>No      </td><td>No      </td><td>No      </td><td>No      </td><td>No      </td><td>No      </td><td>No      </td><td>No      </td></tr>\n",
       "\t<tr><td>japanese</td><td>No      </td><td>No      </td><td>No      </td><td>No      </td><td>No      </td><td>No      </td><td>No      </td><td>No      </td><td>No      </td><td>⋯       </td><td>No      </td><td>No      </td><td>No      </td><td>No      </td><td>No      </td><td>No      </td><td>No      </td><td>No      </td><td>No      </td><td>No      </td></tr>\n",
       "\t<tr><td>japanese</td><td>No      </td><td>No      </td><td>No      </td><td>No      </td><td>No      </td><td>No      </td><td>No      </td><td>No      </td><td>No      </td><td>⋯       </td><td>No      </td><td>No      </td><td>No      </td><td>No      </td><td>No      </td><td>No      </td><td>No      </td><td>No      </td><td>No      </td><td>No      </td></tr>\n",
       "\t<tr><td>japanese</td><td>No      </td><td>No      </td><td>No      </td><td>No      </td><td>No      </td><td>No      </td><td>No      </td><td>No      </td><td>No      </td><td>⋯       </td><td>No      </td><td>No      </td><td>No      </td><td>No      </td><td>No      </td><td>No      </td><td>No      </td><td>No      </td><td>No      </td><td>No      </td></tr>\n",
       "\t<tr><td>japanese</td><td>No      </td><td>No      </td><td>No      </td><td>No      </td><td>No      </td><td>No      </td><td>No      </td><td>No      </td><td>No      </td><td>⋯       </td><td>No      </td><td>No      </td><td>No      </td><td>No      </td><td>No      </td><td>No      </td><td>No      </td><td>No      </td><td>No      </td><td>No      </td></tr>\n",
       "\t<tr><td>japanese</td><td>No      </td><td>No      </td><td>No      </td><td>No      </td><td>No      </td><td>No      </td><td>No      </td><td>No      </td><td>No      </td><td>⋯       </td><td>No      </td><td>No      </td><td>No      </td><td>No      </td><td>No      </td><td>No      </td><td>No      </td><td>No      </td><td>No      </td><td>No      </td></tr>\n",
       "</tbody>\n",
       "</table>\n"
      ],
      "text/latex": [
       "\\begin{tabular}{r|llllllllllllllllllllllllllllllllllllllllllllllllllllllllllllllllllllllllllllllllllllllllllllllllllllllllllllllllllllllllllllllllllllllllllllllllllllllllllllllllllllllllllllllllllllllllllllllllllllllllllllllllllllllllllllllllllllllllllllllllllllllllllllllllllllllllllllllllllllllllllllllllllllllllllllllllllllllllllllllllllllllllllllllllllllllllllllllllllllllllllllllllllllllllllllllll}\n",
       " cuisine & almond & angelica & anise & anise\\_seed & apple & apple\\_brandy & apricot & armagnac & artemisia & ⋯ & whiskey & white\\_bread & white\\_wine & whole\\_grain\\_wheat\\_flour & wine & wood & yam & yeast & yogurt & zucchini\\\\\n",
       "\\hline\n",
       "\t vietnamese & No         & No         & No         & No         & No         & No         & No         & No         & No         & ⋯          & No         & No         & No         & No         & No         & No         & No         & No         & No         & No        \\\\\n",
       "\t vietnamese & No         & No         & No         & No         & No         & No         & No         & No         & No         & ⋯          & No         & No         & No         & No         & No         & No         & No         & No         & No         & No        \\\\\n",
       "\t vietnamese & No         & No         & No         & No         & No         & No         & No         & No         & No         & ⋯          & No         & No         & No         & No         & No         & No         & No         & No         & No         & No        \\\\\n",
       "\t vietnamese & No         & No         & No         & No         & No         & No         & No         & No         & No         & ⋯          & No         & No         & No         & No         & No         & No         & No         & No         & No         & No        \\\\\n",
       "\t vietnamese & No         & No         & No         & No         & No         & No         & No         & No         & No         & ⋯          & No         & No         & No         & No         & No         & No         & No         & No         & No         & No        \\\\\n",
       "\t vietnamese & No         & No         & No         & No         & No         & No         & No         & No         & No         & ⋯          & No         & No         & No         & No         & No         & No         & No         & No         & No         & No        \\\\\n",
       "\t vietnamese & No         & No         & No         & No         & No         & No         & No         & No         & No         & ⋯          & No         & No         & No         & No         & No         & No         & No         & No         & No         & No        \\\\\n",
       "\t vietnamese & No         & No         & No         & No         & No         & No         & No         & No         & No         & ⋯          & No         & No         & No         & No         & No         & No         & No         & No         & No         & No        \\\\\n",
       "\t vietnamese & No         & No         & No         & No         & No         & No         & No         & No         & No         & ⋯          & No         & No         & No         & No         & No         & No         & No         & No         & No         & No        \\\\\n",
       "\t vietnamese & No         & No         & No         & No         & No         & No         & No         & No         & No         & ⋯          & No         & No         & No         & No         & No         & No         & No         & No         & No         & No        \\\\\n",
       "\t vietnamese & No         & No         & No         & No         & No         & No         & No         & No         & No         & ⋯          & No         & No         & No         & No         & No         & No         & No         & No         & No         & No        \\\\\n",
       "\t vietnamese & No         & No         & No         & No         & No         & No         & No         & No         & No         & ⋯          & No         & No         & No         & No         & No         & No         & No         & No         & No         & No        \\\\\n",
       "\t vietnamese & No         & No         & No         & No         & No         & No         & No         & No         & No         & ⋯          & No         & No         & No         & No         & No         & No         & No         & No         & No         & No        \\\\\n",
       "\t vietnamese & No         & No         & No         & No         & No         & No         & No         & No         & No         & ⋯          & No         & No         & No         & No         & Yes        & No         & No         & No         & No         & No        \\\\\n",
       "\t vietnamese & No         & No         & No         & No         & No         & No         & No         & No         & No         & ⋯          & No         & No         & No         & No         & Yes        & No         & No         & No         & No         & No        \\\\\n",
       "\t vietnamese & No         & No         & No         & No         & No         & No         & No         & No         & No         & ⋯          & No         & No         & No         & No         & No         & No         & No         & No         & No         & No        \\\\\n",
       "\t vietnamese & No         & No         & No         & No         & No         & No         & No         & No         & No         & ⋯          & No         & No         & No         & No         & No         & No         & No         & No         & No         & No        \\\\\n",
       "\t vietnamese & No         & No         & No         & No         & No         & No         & No         & No         & No         & ⋯          & No         & No         & No         & No         & No         & No         & No         & No         & No         & No        \\\\\n",
       "\t vietnamese & No         & No         & No         & No         & No         & No         & No         & No         & No         & ⋯          & No         & No         & No         & No         & Yes        & No         & No         & No         & No         & No        \\\\\n",
       "\t vietnamese & No         & No         & No         & No         & No         & No         & No         & No         & No         & ⋯          & No         & No         & No         & No         & No         & No         & No         & Yes        & No         & No        \\\\\n",
       "\t vietnamese & No         & No         & No         & No         & No         & No         & No         & No         & No         & ⋯          & No         & No         & No         & No         & No         & No         & No         & No         & No         & No        \\\\\n",
       "\t vietnamese & No         & No         & No         & No         & No         & No         & No         & No         & No         & ⋯          & No         & No         & No         & No         & No         & No         & No         & No         & No         & No        \\\\\n",
       "\t vietnamese & No         & No         & No         & No         & No         & No         & No         & No         & No         & ⋯          & No         & No         & No         & No         & No         & No         & No         & No         & No         & No        \\\\\n",
       "\t vietnamese & No         & No         & No         & No         & No         & No         & No         & No         & No         & ⋯          & No         & No         & No         & No         & No         & No         & No         & No         & No         & No        \\\\\n",
       "\t vietnamese & No         & No         & No         & No         & No         & No         & No         & No         & No         & ⋯          & No         & No         & No         & No         & No         & No         & No         & No         & No         & No        \\\\\n",
       "\t vietnamese & No         & No         & No         & No         & No         & No         & No         & No         & No         & ⋯          & No         & No         & No         & No         & No         & No         & No         & No         & No         & No        \\\\\n",
       "\t vietnamese & No         & No         & No         & No         & No         & No         & No         & No         & No         & ⋯          & No         & No         & Yes        & No         & No         & No         & No         & No         & No         & No        \\\\\n",
       "\t vietnamese & No         & No         & No         & No         & No         & No         & No         & No         & No         & ⋯          & No         & No         & No         & No         & No         & No         & No         & No         & No         & No        \\\\\n",
       "\t vietnamese & No         & No         & No         & No         & No         & No         & No         & No         & No         & ⋯          & No         & No         & No         & No         & Yes        & No         & No         & No         & No         & No        \\\\\n",
       "\t vietnamese & No         & No         & No         & No         & No         & No         & No         & No         & No         & ⋯          & No         & No         & No         & No         & No         & No         & No         & No         & No         & No        \\\\\n",
       "\t ⋮ & ⋮ & ⋮ & ⋮ & ⋮ & ⋮ & ⋮ & ⋮ & ⋮ & ⋮ & ⋱ & ⋮ & ⋮ & ⋮ & ⋮ & ⋮ & ⋮ & ⋮ & ⋮ & ⋮ & ⋮\\\\\n",
       "\t japanese & No       & No       & No       & No       & No       & No       & No       & No       & No       & ⋯        & No       & No       & No       & No       & Yes      & No       & No       & No       & No       & No      \\\\\n",
       "\t japanese & No       & No       & No       & No       & No       & No       & No       & No       & No       & ⋯        & No       & No       & No       & No       & No       & No       & No       & No       & No       & No      \\\\\n",
       "\t japanese & No       & No       & No       & No       & No       & No       & No       & No       & No       & ⋯        & No       & No       & No       & No       & Yes      & No       & No       & No       & No       & No      \\\\\n",
       "\t japanese & No       & No       & No       & No       & No       & No       & No       & No       & No       & ⋯        & No       & No       & No       & No       & No       & No       & No       & No       & No       & No      \\\\\n",
       "\t japanese & No       & No       & No       & No       & No       & No       & No       & No       & No       & ⋯        & No       & No       & No       & No       & Yes      & No       & No       & No       & No       & No      \\\\\n",
       "\t japanese & No       & No       & No       & No       & No       & No       & No       & No       & No       & ⋯        & No       & No       & No       & No       & No       & No       & No       & No       & No       & No      \\\\\n",
       "\t japanese & No       & No       & No       & No       & No       & No       & No       & No       & No       & ⋯        & No       & No       & No       & No       & No       & No       & No       & No       & No       & No      \\\\\n",
       "\t japanese & No       & No       & No       & No       & No       & No       & No       & No       & No       & ⋯        & No       & No       & No       & No       & No       & No       & No       & No       & No       & No      \\\\\n",
       "\t japanese & No       & No       & No       & No       & No       & No       & No       & No       & No       & ⋯        & No       & No       & No       & No       & No       & No       & No       & No       & No       & No      \\\\\n",
       "\t japanese & No       & No       & No       & No       & No       & No       & No       & No       & No       & ⋯        & No       & No       & No       & No       & No       & No       & No       & No       & No       & No      \\\\\n",
       "\t japanese & No       & No       & No       & No       & No       & No       & No       & No       & No       & ⋯        & No       & No       & No       & No       & No       & No       & No       & No       & No       & No      \\\\\n",
       "\t japanese & No       & No       & No       & No       & No       & No       & No       & No       & No       & ⋯        & No       & No       & No       & No       & No       & No       & No       & No       & No       & No      \\\\\n",
       "\t japanese & No       & No       & No       & No       & No       & No       & No       & No       & No       & ⋯        & No       & No       & No       & No       & No       & No       & No       & No       & No       & No      \\\\\n",
       "\t japanese & No       & No       & No       & No       & No       & No       & No       & No       & No       & ⋯        & No       & No       & No       & No       & Yes      & No       & No       & No       & No       & No      \\\\\n",
       "\t japanese & No       & No       & No       & No       & No       & No       & No       & No       & No       & ⋯        & No       & No       & No       & No       & Yes      & No       & No       & No       & No       & No      \\\\\n",
       "\t japanese & No       & No       & No       & No       & No       & No       & No       & No       & No       & ⋯        & No       & No       & No       & No       & No       & No       & No       & No       & No       & No      \\\\\n",
       "\t japanese & No       & No       & No       & No       & No       & No       & No       & No       & No       & ⋯        & No       & No       & No       & No       & No       & No       & No       & No       & No       & No      \\\\\n",
       "\t japanese & No       & No       & No       & No       & No       & No       & No       & No       & No       & ⋯        & No       & No       & No       & No       & No       & No       & No       & No       & No       & No      \\\\\n",
       "\t japanese & No       & No       & No       & No       & No       & No       & No       & No       & No       & ⋯        & No       & No       & No       & No       & No       & No       & No       & No       & No       & No      \\\\\n",
       "\t japanese & No       & No       & No       & No       & No       & No       & No       & No       & No       & ⋯        & No       & No       & No       & No       & No       & No       & No       & No       & No       & No      \\\\\n",
       "\t japanese & No       & No       & No       & No       & No       & No       & No       & No       & No       & ⋯        & No       & No       & No       & No       & No       & No       & No       & No       & No       & No      \\\\\n",
       "\t japanese & No       & No       & No       & No       & No       & No       & No       & No       & No       & ⋯        & No       & No       & No       & No       & No       & No       & No       & No       & No       & No      \\\\\n",
       "\t japanese & No       & No       & No       & No       & No       & No       & No       & No       & No       & ⋯        & No       & No       & No       & No       & No       & No       & No       & No       & No       & No      \\\\\n",
       "\t japanese & No       & No       & No       & No       & No       & No       & No       & No       & No       & ⋯        & No       & No       & No       & No       & Yes      & No       & No       & No       & No       & No      \\\\\n",
       "\t japanese & No       & No       & No       & No       & No       & No       & No       & No       & No       & ⋯        & No       & No       & No       & No       & No       & No       & No       & No       & No       & No      \\\\\n",
       "\t japanese & No       & No       & No       & No       & No       & No       & No       & No       & No       & ⋯        & No       & No       & No       & No       & No       & No       & No       & No       & No       & No      \\\\\n",
       "\t japanese & No       & No       & No       & No       & No       & No       & No       & No       & No       & ⋯        & No       & No       & No       & No       & No       & No       & No       & No       & No       & No      \\\\\n",
       "\t japanese & No       & No       & No       & No       & No       & No       & No       & No       & No       & ⋯        & No       & No       & No       & No       & No       & No       & No       & No       & No       & No      \\\\\n",
       "\t japanese & No       & No       & No       & No       & No       & No       & No       & No       & No       & ⋯        & No       & No       & No       & No       & No       & No       & No       & No       & No       & No      \\\\\n",
       "\t japanese & No       & No       & No       & No       & No       & No       & No       & No       & No       & ⋯        & No       & No       & No       & No       & No       & No       & No       & No       & No       & No      \\\\\n",
       "\\end{tabular}\n"
      ],
      "text/markdown": [
       "\n",
       "cuisine | almond | angelica | anise | anise_seed | apple | apple_brandy | apricot | armagnac | artemisia | ⋯ | whiskey | white_bread | white_wine | whole_grain_wheat_flour | wine | wood | yam | yeast | yogurt | zucchini | \n",
       "|---|---|---|---|---|---|---|---|---|---|---|---|---|---|---|---|---|---|---|---|---|---|---|---|---|---|---|---|---|---|---|---|---|---|---|---|---|---|---|---|---|---|---|---|---|---|---|---|---|---|---|---|---|---|---|---|---|---|---|---|---|\n",
       "| vietnamese | No         | No         | No         | No         | No         | No         | No         | No         | No         | ⋯          | No         | No         | No         | No         | No         | No         | No         | No         | No         | No         | \n",
       "| vietnamese | No         | No         | No         | No         | No         | No         | No         | No         | No         | ⋯          | No         | No         | No         | No         | No         | No         | No         | No         | No         | No         | \n",
       "| vietnamese | No         | No         | No         | No         | No         | No         | No         | No         | No         | ⋯          | No         | No         | No         | No         | No         | No         | No         | No         | No         | No         | \n",
       "| vietnamese | No         | No         | No         | No         | No         | No         | No         | No         | No         | ⋯          | No         | No         | No         | No         | No         | No         | No         | No         | No         | No         | \n",
       "| vietnamese | No         | No         | No         | No         | No         | No         | No         | No         | No         | ⋯          | No         | No         | No         | No         | No         | No         | No         | No         | No         | No         | \n",
       "| vietnamese | No         | No         | No         | No         | No         | No         | No         | No         | No         | ⋯          | No         | No         | No         | No         | No         | No         | No         | No         | No         | No         | \n",
       "| vietnamese | No         | No         | No         | No         | No         | No         | No         | No         | No         | ⋯          | No         | No         | No         | No         | No         | No         | No         | No         | No         | No         | \n",
       "| vietnamese | No         | No         | No         | No         | No         | No         | No         | No         | No         | ⋯          | No         | No         | No         | No         | No         | No         | No         | No         | No         | No         | \n",
       "| vietnamese | No         | No         | No         | No         | No         | No         | No         | No         | No         | ⋯          | No         | No         | No         | No         | No         | No         | No         | No         | No         | No         | \n",
       "| vietnamese | No         | No         | No         | No         | No         | No         | No         | No         | No         | ⋯          | No         | No         | No         | No         | No         | No         | No         | No         | No         | No         | \n",
       "| vietnamese | No         | No         | No         | No         | No         | No         | No         | No         | No         | ⋯          | No         | No         | No         | No         | No         | No         | No         | No         | No         | No         | \n",
       "| vietnamese | No         | No         | No         | No         | No         | No         | No         | No         | No         | ⋯          | No         | No         | No         | No         | No         | No         | No         | No         | No         | No         | \n",
       "| vietnamese | No         | No         | No         | No         | No         | No         | No         | No         | No         | ⋯          | No         | No         | No         | No         | No         | No         | No         | No         | No         | No         | \n",
       "| vietnamese | No         | No         | No         | No         | No         | No         | No         | No         | No         | ⋯          | No         | No         | No         | No         | Yes        | No         | No         | No         | No         | No         | \n",
       "| vietnamese | No         | No         | No         | No         | No         | No         | No         | No         | No         | ⋯          | No         | No         | No         | No         | Yes        | No         | No         | No         | No         | No         | \n",
       "| vietnamese | No         | No         | No         | No         | No         | No         | No         | No         | No         | ⋯          | No         | No         | No         | No         | No         | No         | No         | No         | No         | No         | \n",
       "| vietnamese | No         | No         | No         | No         | No         | No         | No         | No         | No         | ⋯          | No         | No         | No         | No         | No         | No         | No         | No         | No         | No         | \n",
       "| vietnamese | No         | No         | No         | No         | No         | No         | No         | No         | No         | ⋯          | No         | No         | No         | No         | No         | No         | No         | No         | No         | No         | \n",
       "| vietnamese | No         | No         | No         | No         | No         | No         | No         | No         | No         | ⋯          | No         | No         | No         | No         | Yes        | No         | No         | No         | No         | No         | \n",
       "| vietnamese | No         | No         | No         | No         | No         | No         | No         | No         | No         | ⋯          | No         | No         | No         | No         | No         | No         | No         | Yes        | No         | No         | \n",
       "| vietnamese | No         | No         | No         | No         | No         | No         | No         | No         | No         | ⋯          | No         | No         | No         | No         | No         | No         | No         | No         | No         | No         | \n",
       "| vietnamese | No         | No         | No         | No         | No         | No         | No         | No         | No         | ⋯          | No         | No         | No         | No         | No         | No         | No         | No         | No         | No         | \n",
       "| vietnamese | No         | No         | No         | No         | No         | No         | No         | No         | No         | ⋯          | No         | No         | No         | No         | No         | No         | No         | No         | No         | No         | \n",
       "| vietnamese | No         | No         | No         | No         | No         | No         | No         | No         | No         | ⋯          | No         | No         | No         | No         | No         | No         | No         | No         | No         | No         | \n",
       "| vietnamese | No         | No         | No         | No         | No         | No         | No         | No         | No         | ⋯          | No         | No         | No         | No         | No         | No         | No         | No         | No         | No         | \n",
       "| vietnamese | No         | No         | No         | No         | No         | No         | No         | No         | No         | ⋯          | No         | No         | No         | No         | No         | No         | No         | No         | No         | No         | \n",
       "| vietnamese | No         | No         | No         | No         | No         | No         | No         | No         | No         | ⋯          | No         | No         | Yes        | No         | No         | No         | No         | No         | No         | No         | \n",
       "| vietnamese | No         | No         | No         | No         | No         | No         | No         | No         | No         | ⋯          | No         | No         | No         | No         | No         | No         | No         | No         | No         | No         | \n",
       "| vietnamese | No         | No         | No         | No         | No         | No         | No         | No         | No         | ⋯          | No         | No         | No         | No         | Yes        | No         | No         | No         | No         | No         | \n",
       "| vietnamese | No         | No         | No         | No         | No         | No         | No         | No         | No         | ⋯          | No         | No         | No         | No         | No         | No         | No         | No         | No         | No         | \n",
       "| ⋮ | ⋮ | ⋮ | ⋮ | ⋮ | ⋮ | ⋮ | ⋮ | ⋮ | ⋮ | ⋱ | ⋮ | ⋮ | ⋮ | ⋮ | ⋮ | ⋮ | ⋮ | ⋮ | ⋮ | ⋮ | \n",
       "| japanese | No       | No       | No       | No       | No       | No       | No       | No       | No       | ⋯        | No       | No       | No       | No       | Yes      | No       | No       | No       | No       | No       | \n",
       "| japanese | No       | No       | No       | No       | No       | No       | No       | No       | No       | ⋯        | No       | No       | No       | No       | No       | No       | No       | No       | No       | No       | \n",
       "| japanese | No       | No       | No       | No       | No       | No       | No       | No       | No       | ⋯        | No       | No       | No       | No       | Yes      | No       | No       | No       | No       | No       | \n",
       "| japanese | No       | No       | No       | No       | No       | No       | No       | No       | No       | ⋯        | No       | No       | No       | No       | No       | No       | No       | No       | No       | No       | \n",
       "| japanese | No       | No       | No       | No       | No       | No       | No       | No       | No       | ⋯        | No       | No       | No       | No       | Yes      | No       | No       | No       | No       | No       | \n",
       "| japanese | No       | No       | No       | No       | No       | No       | No       | No       | No       | ⋯        | No       | No       | No       | No       | No       | No       | No       | No       | No       | No       | \n",
       "| japanese | No       | No       | No       | No       | No       | No       | No       | No       | No       | ⋯        | No       | No       | No       | No       | No       | No       | No       | No       | No       | No       | \n",
       "| japanese | No       | No       | No       | No       | No       | No       | No       | No       | No       | ⋯        | No       | No       | No       | No       | No       | No       | No       | No       | No       | No       | \n",
       "| japanese | No       | No       | No       | No       | No       | No       | No       | No       | No       | ⋯        | No       | No       | No       | No       | No       | No       | No       | No       | No       | No       | \n",
       "| japanese | No       | No       | No       | No       | No       | No       | No       | No       | No       | ⋯        | No       | No       | No       | No       | No       | No       | No       | No       | No       | No       | \n",
       "| japanese | No       | No       | No       | No       | No       | No       | No       | No       | No       | ⋯        | No       | No       | No       | No       | No       | No       | No       | No       | No       | No       | \n",
       "| japanese | No       | No       | No       | No       | No       | No       | No       | No       | No       | ⋯        | No       | No       | No       | No       | No       | No       | No       | No       | No       | No       | \n",
       "| japanese | No       | No       | No       | No       | No       | No       | No       | No       | No       | ⋯        | No       | No       | No       | No       | No       | No       | No       | No       | No       | No       | \n",
       "| japanese | No       | No       | No       | No       | No       | No       | No       | No       | No       | ⋯        | No       | No       | No       | No       | Yes      | No       | No       | No       | No       | No       | \n",
       "| japanese | No       | No       | No       | No       | No       | No       | No       | No       | No       | ⋯        | No       | No       | No       | No       | Yes      | No       | No       | No       | No       | No       | \n",
       "| japanese | No       | No       | No       | No       | No       | No       | No       | No       | No       | ⋯        | No       | No       | No       | No       | No       | No       | No       | No       | No       | No       | \n",
       "| japanese | No       | No       | No       | No       | No       | No       | No       | No       | No       | ⋯        | No       | No       | No       | No       | No       | No       | No       | No       | No       | No       | \n",
       "| japanese | No       | No       | No       | No       | No       | No       | No       | No       | No       | ⋯        | No       | No       | No       | No       | No       | No       | No       | No       | No       | No       | \n",
       "| japanese | No       | No       | No       | No       | No       | No       | No       | No       | No       | ⋯        | No       | No       | No       | No       | No       | No       | No       | No       | No       | No       | \n",
       "| japanese | No       | No       | No       | No       | No       | No       | No       | No       | No       | ⋯        | No       | No       | No       | No       | No       | No       | No       | No       | No       | No       | \n",
       "| japanese | No       | No       | No       | No       | No       | No       | No       | No       | No       | ⋯        | No       | No       | No       | No       | No       | No       | No       | No       | No       | No       | \n",
       "| japanese | No       | No       | No       | No       | No       | No       | No       | No       | No       | ⋯        | No       | No       | No       | No       | No       | No       | No       | No       | No       | No       | \n",
       "| japanese | No       | No       | No       | No       | No       | No       | No       | No       | No       | ⋯        | No       | No       | No       | No       | No       | No       | No       | No       | No       | No       | \n",
       "| japanese | No       | No       | No       | No       | No       | No       | No       | No       | No       | ⋯        | No       | No       | No       | No       | Yes      | No       | No       | No       | No       | No       | \n",
       "| japanese | No       | No       | No       | No       | No       | No       | No       | No       | No       | ⋯        | No       | No       | No       | No       | No       | No       | No       | No       | No       | No       | \n",
       "| japanese | No       | No       | No       | No       | No       | No       | No       | No       | No       | ⋯        | No       | No       | No       | No       | No       | No       | No       | No       | No       | No       | \n",
       "| japanese | No       | No       | No       | No       | No       | No       | No       | No       | No       | ⋯        | No       | No       | No       | No       | No       | No       | No       | No       | No       | No       | \n",
       "| japanese | No       | No       | No       | No       | No       | No       | No       | No       | No       | ⋯        | No       | No       | No       | No       | No       | No       | No       | No       | No       | No       | \n",
       "| japanese | No       | No       | No       | No       | No       | No       | No       | No       | No       | ⋯        | No       | No       | No       | No       | No       | No       | No       | No       | No       | No       | \n",
       "| japanese | No       | No       | No       | No       | No       | No       | No       | No       | No       | ⋯        | No       | No       | No       | No       | No       | No       | No       | No       | No       | No       | \n",
       "\n",
       "\n"
      ],
      "text/plain": [
       "      cuisine    almond angelica anise anise_seed apple apple_brandy apricot\n",
       "1     vietnamese No     No       No    No         No    No           No     \n",
       "2     vietnamese No     No       No    No         No    No           No     \n",
       "3     vietnamese No     No       No    No         No    No           No     \n",
       "4     vietnamese No     No       No    No         No    No           No     \n",
       "5     vietnamese No     No       No    No         No    No           No     \n",
       "6     vietnamese No     No       No    No         No    No           No     \n",
       "7     vietnamese No     No       No    No         No    No           No     \n",
       "8     vietnamese No     No       No    No         No    No           No     \n",
       "9     vietnamese No     No       No    No         No    No           No     \n",
       "10    vietnamese No     No       No    No         No    No           No     \n",
       "11    vietnamese No     No       No    No         No    No           No     \n",
       "12    vietnamese No     No       No    No         No    No           No     \n",
       "13    vietnamese No     No       No    No         No    No           No     \n",
       "14    vietnamese No     No       No    No         No    No           No     \n",
       "15    vietnamese No     No       No    No         No    No           No     \n",
       "16    vietnamese No     No       No    No         No    No           No     \n",
       "17    vietnamese No     No       No    No         No    No           No     \n",
       "18    vietnamese No     No       No    No         No    No           No     \n",
       "19    vietnamese No     No       No    No         No    No           No     \n",
       "20    vietnamese No     No       No    No         No    No           No     \n",
       "21    vietnamese No     No       No    No         No    No           No     \n",
       "22    vietnamese No     No       No    No         No    No           No     \n",
       "23    vietnamese No     No       No    No         No    No           No     \n",
       "24    vietnamese No     No       No    No         No    No           No     \n",
       "25    vietnamese No     No       No    No         No    No           No     \n",
       "26    vietnamese No     No       No    No         No    No           No     \n",
       "27    vietnamese No     No       No    No         No    No           No     \n",
       "28    vietnamese No     No       No    No         No    No           No     \n",
       "29    vietnamese No     No       No    No         No    No           No     \n",
       "30    vietnamese No     No       No    No         No    No           No     \n",
       "⋮     ⋮          ⋮      ⋮        ⋮     ⋮          ⋮     ⋮            ⋮      \n",
       "57662 japanese   No     No       No    No         No    No           No     \n",
       "57663 japanese   No     No       No    No         No    No           No     \n",
       "57664 japanese   No     No       No    No         No    No           No     \n",
       "57665 japanese   No     No       No    No         No    No           No     \n",
       "57666 japanese   No     No       No    No         No    No           No     \n",
       "57667 japanese   No     No       No    No         No    No           No     \n",
       "57668 japanese   No     No       No    No         No    No           No     \n",
       "57669 japanese   No     No       No    No         No    No           No     \n",
       "57670 japanese   No     No       No    No         No    No           No     \n",
       "57671 japanese   No     No       No    No         No    No           No     \n",
       "57672 japanese   No     No       No    No         No    No           No     \n",
       "57673 japanese   No     No       No    No         No    No           No     \n",
       "57674 japanese   No     No       No    No         No    No           No     \n",
       "57675 japanese   No     No       No    No         No    No           No     \n",
       "57676 japanese   No     No       No    No         No    No           No     \n",
       "57677 japanese   No     No       No    No         No    No           No     \n",
       "57678 japanese   No     No       No    No         No    No           No     \n",
       "57679 japanese   No     No       No    No         No    No           No     \n",
       "57680 japanese   No     No       No    No         No    No           No     \n",
       "57681 japanese   No     No       No    No         No    No           No     \n",
       "57682 japanese   No     No       No    No         No    No           No     \n",
       "57683 japanese   No     No       No    No         No    No           No     \n",
       "57684 japanese   No     No       No    No         No    No           No     \n",
       "57685 japanese   No     No       No    No         No    No           No     \n",
       "57686 japanese   No     No       No    No         No    No           No     \n",
       "57687 japanese   No     No       No    No         No    No           No     \n",
       "57688 japanese   No     No       No    No         No    No           No     \n",
       "57689 japanese   No     No       No    No         No    No           No     \n",
       "57690 japanese   No     No       No    No         No    No           No     \n",
       "57691 japanese   No     No       No    No         No    No           No     \n",
       "      armagnac artemisia ⋯ whiskey white_bread white_wine\n",
       "1     No       No        ⋯ No      No          No        \n",
       "2     No       No        ⋯ No      No          No        \n",
       "3     No       No        ⋯ No      No          No        \n",
       "4     No       No        ⋯ No      No          No        \n",
       "5     No       No        ⋯ No      No          No        \n",
       "6     No       No        ⋯ No      No          No        \n",
       "7     No       No        ⋯ No      No          No        \n",
       "8     No       No        ⋯ No      No          No        \n",
       "9     No       No        ⋯ No      No          No        \n",
       "10    No       No        ⋯ No      No          No        \n",
       "11    No       No        ⋯ No      No          No        \n",
       "12    No       No        ⋯ No      No          No        \n",
       "13    No       No        ⋯ No      No          No        \n",
       "14    No       No        ⋯ No      No          No        \n",
       "15    No       No        ⋯ No      No          No        \n",
       "16    No       No        ⋯ No      No          No        \n",
       "17    No       No        ⋯ No      No          No        \n",
       "18    No       No        ⋯ No      No          No        \n",
       "19    No       No        ⋯ No      No          No        \n",
       "20    No       No        ⋯ No      No          No        \n",
       "21    No       No        ⋯ No      No          No        \n",
       "22    No       No        ⋯ No      No          No        \n",
       "23    No       No        ⋯ No      No          No        \n",
       "24    No       No        ⋯ No      No          No        \n",
       "25    No       No        ⋯ No      No          No        \n",
       "26    No       No        ⋯ No      No          No        \n",
       "27    No       No        ⋯ No      No          Yes       \n",
       "28    No       No        ⋯ No      No          No        \n",
       "29    No       No        ⋯ No      No          No        \n",
       "30    No       No        ⋯ No      No          No        \n",
       "⋮     ⋮        ⋮         ⋱ ⋮       ⋮           ⋮         \n",
       "57662 No       No        ⋯ No      No          No        \n",
       "57663 No       No        ⋯ No      No          No        \n",
       "57664 No       No        ⋯ No      No          No        \n",
       "57665 No       No        ⋯ No      No          No        \n",
       "57666 No       No        ⋯ No      No          No        \n",
       "57667 No       No        ⋯ No      No          No        \n",
       "57668 No       No        ⋯ No      No          No        \n",
       "57669 No       No        ⋯ No      No          No        \n",
       "57670 No       No        ⋯ No      No          No        \n",
       "57671 No       No        ⋯ No      No          No        \n",
       "57672 No       No        ⋯ No      No          No        \n",
       "57673 No       No        ⋯ No      No          No        \n",
       "57674 No       No        ⋯ No      No          No        \n",
       "57675 No       No        ⋯ No      No          No        \n",
       "57676 No       No        ⋯ No      No          No        \n",
       "57677 No       No        ⋯ No      No          No        \n",
       "57678 No       No        ⋯ No      No          No        \n",
       "57679 No       No        ⋯ No      No          No        \n",
       "57680 No       No        ⋯ No      No          No        \n",
       "57681 No       No        ⋯ No      No          No        \n",
       "57682 No       No        ⋯ No      No          No        \n",
       "57683 No       No        ⋯ No      No          No        \n",
       "57684 No       No        ⋯ No      No          No        \n",
       "57685 No       No        ⋯ No      No          No        \n",
       "57686 No       No        ⋯ No      No          No        \n",
       "57687 No       No        ⋯ No      No          No        \n",
       "57688 No       No        ⋯ No      No          No        \n",
       "57689 No       No        ⋯ No      No          No        \n",
       "57690 No       No        ⋯ No      No          No        \n",
       "57691 No       No        ⋯ No      No          No        \n",
       "      whole_grain_wheat_flour wine wood yam yeast yogurt zucchini\n",
       "1     No                      No   No   No  No    No     No      \n",
       "2     No                      No   No   No  No    No     No      \n",
       "3     No                      No   No   No  No    No     No      \n",
       "4     No                      No   No   No  No    No     No      \n",
       "5     No                      No   No   No  No    No     No      \n",
       "6     No                      No   No   No  No    No     No      \n",
       "7     No                      No   No   No  No    No     No      \n",
       "8     No                      No   No   No  No    No     No      \n",
       "9     No                      No   No   No  No    No     No      \n",
       "10    No                      No   No   No  No    No     No      \n",
       "11    No                      No   No   No  No    No     No      \n",
       "12    No                      No   No   No  No    No     No      \n",
       "13    No                      No   No   No  No    No     No      \n",
       "14    No                      Yes  No   No  No    No     No      \n",
       "15    No                      Yes  No   No  No    No     No      \n",
       "16    No                      No   No   No  No    No     No      \n",
       "17    No                      No   No   No  No    No     No      \n",
       "18    No                      No   No   No  No    No     No      \n",
       "19    No                      Yes  No   No  No    No     No      \n",
       "20    No                      No   No   No  Yes   No     No      \n",
       "21    No                      No   No   No  No    No     No      \n",
       "22    No                      No   No   No  No    No     No      \n",
       "23    No                      No   No   No  No    No     No      \n",
       "24    No                      No   No   No  No    No     No      \n",
       "25    No                      No   No   No  No    No     No      \n",
       "26    No                      No   No   No  No    No     No      \n",
       "27    No                      No   No   No  No    No     No      \n",
       "28    No                      No   No   No  No    No     No      \n",
       "29    No                      Yes  No   No  No    No     No      \n",
       "30    No                      No   No   No  No    No     No      \n",
       "⋮     ⋮                       ⋮    ⋮    ⋮   ⋮     ⋮      ⋮       \n",
       "57662 No                      Yes  No   No  No    No     No      \n",
       "57663 No                      No   No   No  No    No     No      \n",
       "57664 No                      Yes  No   No  No    No     No      \n",
       "57665 No                      No   No   No  No    No     No      \n",
       "57666 No                      Yes  No   No  No    No     No      \n",
       "57667 No                      No   No   No  No    No     No      \n",
       "57668 No                      No   No   No  No    No     No      \n",
       "57669 No                      No   No   No  No    No     No      \n",
       "57670 No                      No   No   No  No    No     No      \n",
       "57671 No                      No   No   No  No    No     No      \n",
       "57672 No                      No   No   No  No    No     No      \n",
       "57673 No                      No   No   No  No    No     No      \n",
       "57674 No                      No   No   No  No    No     No      \n",
       "57675 No                      Yes  No   No  No    No     No      \n",
       "57676 No                      Yes  No   No  No    No     No      \n",
       "57677 No                      No   No   No  No    No     No      \n",
       "57678 No                      No   No   No  No    No     No      \n",
       "57679 No                      No   No   No  No    No     No      \n",
       "57680 No                      No   No   No  No    No     No      \n",
       "57681 No                      No   No   No  No    No     No      \n",
       "57682 No                      No   No   No  No    No     No      \n",
       "57683 No                      No   No   No  No    No     No      \n",
       "57684 No                      No   No   No  No    No     No      \n",
       "57685 No                      Yes  No   No  No    No     No      \n",
       "57686 No                      No   No   No  No    No     No      \n",
       "57687 No                      No   No   No  No    No     No      \n",
       "57688 No                      No   No   No  No    No     No      \n",
       "57689 No                      No   No   No  No    No     No      \n",
       "57690 No                      No   No   No  No    No     No      \n",
       "57691 No                      No   No   No  No    No     No      "
      ]
     },
     "metadata": {},
     "output_type": "display_data"
    }
   ],
   "source": [
    "recipes$cuisine[recipes$cuisine == \"austria\"] <- \"austrian\"\n",
    "recipes$cuisine[recipes$cuisine == \"belgium\"] <- \"belgian\"\n",
    "recipes$cuisine[recipes$cuisine == \"china\"] <- \"chinese\"\n",
    "recipes$cuisine[recipes$cuisine == \"canada\"] <- \"canadian\"\n",
    "recipes$cuisine[recipes$cuisine == \"netherlands\"] <- \"dutch\"\n",
    "recipes$cuisine[recipes$cuisine == \"france\"] <- \"french\"\n",
    "recipes$cuisine[recipes$cuisine == \"germany\"] <- \"german\"\n",
    "recipes$cuisine[recipes$cuisine == \"india\"] <- \"indian\"\n",
    "recipes$cuisine[recipes$cuisine == \"indonesia\"] <- \"indonesian\"\n",
    "recipes$cuisine[recipes$cuisine == \"iran\"] <- \"iranian\"\n",
    "recipes$cuisine[recipes$cuisine == \"israel\"] <- \"jewish\"\n",
    "recipes$cuisine[recipes$cuisine == \"italy\"] <- \"italian\"\n",
    "recipes$cuisine[recipes$cuisine == \"japan\"] <- \"japanese\"\n",
    "recipes$cuisine[recipes$cuisine == \"korea\"] <- \"korean\"\n",
    "recipes$cuisine[recipes$cuisine == \"lebanon\"] <- \"lebanese\"\n",
    "recipes$cuisine[recipes$cuisine == \"malaysia\"] <- \"malaysian\"\n",
    "recipes$cuisine[recipes$cuisine == \"mexico\"] <- \"mexican\"\n",
    "recipes$cuisine[recipes$cuisine == \"pakistan\"] <- \"pakistani\"\n",
    "recipes$cuisine[recipes$cuisine == \"philippines\"] <- \"philippine\"\n",
    "recipes$cuisine[recipes$cuisine == \"scandinavia\"] <- \"scandinavian\"\n",
    "recipes$cuisine[recipes$cuisine == \"spain\"] <- \"spanish_portuguese\"\n",
    "recipes$cuisine[recipes$cuisine == \"portugal\"] <- \"spanish_portuguese\"\n",
    "recipes$cuisine[recipes$cuisine == \"switzerland\"] <- \"swiss\"\n",
    "recipes$cuisine[recipes$cuisine == \"thailand\"] <- \"thai\"\n",
    "recipes$cuisine[recipes$cuisine == \"turkey\"] <- \"turkish\"\n",
    "recipes$cuisine[recipes$cuisine == \"irish\"] <- \"uk-and-irish\"\n",
    "recipes$cuisine[recipes$cuisine == \"uk-and-ireland\"] <- \"uk-and-irish\"\n",
    "recipes$cuisine[recipes$cuisine == \"vietnam\"] <- \"vietnamese\"\n",
    "\n",
    "recipes"
   ]
  },
  {
   "cell_type": "markdown",
   "metadata": {},
   "source": [
    "Remove cuisines with < 50 recipes:"
   ]
  },
  {
   "cell_type": "code",
   "execution_count": 11,
   "metadata": {
    "collapsed": false
   },
   "outputs": [
    {
     "data": {
      "text/plain": [
       "\n",
       "               american                 italian                 mexican \n",
       "                  40150                    3250                    2390 \n",
       "                 french                   asian              east_asian \n",
       "                   1264                    1193                     951 \n",
       "                 korean                canadian                  indian \n",
       "                    799                     774                     598 \n",
       "                western                 chinese      spanish_portuguese \n",
       "                    450                     442                     416 \n",
       "           uk-and-irish       southern_soulfood                  jewish \n",
       "                    368                     346                     329 \n",
       "               japanese                  german           mediterranean \n",
       "                    320                     289                     289 \n",
       "                   thai            scandinavian           middleeastern \n",
       "                    289                     250                     248 \n",
       "  central_southamerican          eastern-europe                   greek \n",
       "                    241                     235                     225 \n",
       "       english_scottish               caribbean            cajun_creole \n",
       "                    204                     183                     146 \n",
       "easterneuropean_russian                moroccan                 african \n",
       "                    146                     137                     115 \n",
       "           southwestern           south-america              vietnamese \n",
       "                    108                     103                      95 \n",
       "          north-african              philippine                   dutch \n",
       "                     60                      43                      32 \n",
       "               lebanese                austrian                 iranian \n",
       "                     31                      21                      21 \n",
       "                  swiss               pakistani               malaysian \n",
       "                     20                      19                      18 \n",
       "          south-african                 turkish            west-african \n",
       "                     16                      16                      13 \n",
       "             indonesian                 belgian            east-african \n",
       "                     12                      11                      11 \n",
       "             bangladesh \n",
       "                      4 "
      ]
     },
     "metadata": {},
     "output_type": "display_data"
    }
   ],
   "source": [
    "# sort the table of cuisines by descending order\n",
    "t <- sort(base::table(recipes$cuisine), decreasing = T)\n",
    "\n",
    "t"
   ]
  },
  {
   "cell_type": "code",
   "execution_count": 12,
   "metadata": {
    "collapsed": false
   },
   "outputs": [
    {
     "data": {
      "text/html": [
       "<ol class=list-inline>\n",
       "\t<li>'american'</li>\n",
       "\t<li>'italian'</li>\n",
       "\t<li>'mexican'</li>\n",
       "\t<li>'french'</li>\n",
       "\t<li>'asian'</li>\n",
       "\t<li>'east_asian'</li>\n",
       "\t<li>'korean'</li>\n",
       "\t<li>'canadian'</li>\n",
       "\t<li>'indian'</li>\n",
       "\t<li>'western'</li>\n",
       "\t<li>'chinese'</li>\n",
       "\t<li>'spanish_portuguese'</li>\n",
       "\t<li>'uk-and-irish'</li>\n",
       "\t<li>'southern_soulfood'</li>\n",
       "\t<li>'jewish'</li>\n",
       "\t<li>'japanese'</li>\n",
       "\t<li>'german'</li>\n",
       "\t<li>'mediterranean'</li>\n",
       "\t<li>'thai'</li>\n",
       "\t<li>'scandinavian'</li>\n",
       "\t<li>'middleeastern'</li>\n",
       "\t<li>'central_southamerican'</li>\n",
       "\t<li>'eastern-europe'</li>\n",
       "\t<li>'greek'</li>\n",
       "\t<li>'english_scottish'</li>\n",
       "\t<li>'caribbean'</li>\n",
       "\t<li>'cajun_creole'</li>\n",
       "\t<li>'easterneuropean_russian'</li>\n",
       "\t<li>'moroccan'</li>\n",
       "\t<li>'african'</li>\n",
       "\t<li>'southwestern'</li>\n",
       "\t<li>'south-america'</li>\n",
       "\t<li>'vietnamese'</li>\n",
       "\t<li>'north-african'</li>\n",
       "</ol>\n"
      ],
      "text/latex": [
       "\\begin{enumerate*}\n",
       "\\item 'american'\n",
       "\\item 'italian'\n",
       "\\item 'mexican'\n",
       "\\item 'french'\n",
       "\\item 'asian'\n",
       "\\item 'east\\_asian'\n",
       "\\item 'korean'\n",
       "\\item 'canadian'\n",
       "\\item 'indian'\n",
       "\\item 'western'\n",
       "\\item 'chinese'\n",
       "\\item 'spanish\\_portuguese'\n",
       "\\item 'uk-and-irish'\n",
       "\\item 'southern\\_soulfood'\n",
       "\\item 'jewish'\n",
       "\\item 'japanese'\n",
       "\\item 'german'\n",
       "\\item 'mediterranean'\n",
       "\\item 'thai'\n",
       "\\item 'scandinavian'\n",
       "\\item 'middleeastern'\n",
       "\\item 'central\\_southamerican'\n",
       "\\item 'eastern-europe'\n",
       "\\item 'greek'\n",
       "\\item 'english\\_scottish'\n",
       "\\item 'caribbean'\n",
       "\\item 'cajun\\_creole'\n",
       "\\item 'easterneuropean\\_russian'\n",
       "\\item 'moroccan'\n",
       "\\item 'african'\n",
       "\\item 'southwestern'\n",
       "\\item 'south-america'\n",
       "\\item 'vietnamese'\n",
       "\\item 'north-african'\n",
       "\\end{enumerate*}\n"
      ],
      "text/markdown": [
       "1. 'american'\n",
       "2. 'italian'\n",
       "3. 'mexican'\n",
       "4. 'french'\n",
       "5. 'asian'\n",
       "6. 'east_asian'\n",
       "7. 'korean'\n",
       "8. 'canadian'\n",
       "9. 'indian'\n",
       "10. 'western'\n",
       "11. 'chinese'\n",
       "12. 'spanish_portuguese'\n",
       "13. 'uk-and-irish'\n",
       "14. 'southern_soulfood'\n",
       "15. 'jewish'\n",
       "16. 'japanese'\n",
       "17. 'german'\n",
       "18. 'mediterranean'\n",
       "19. 'thai'\n",
       "20. 'scandinavian'\n",
       "21. 'middleeastern'\n",
       "22. 'central_southamerican'\n",
       "23. 'eastern-europe'\n",
       "24. 'greek'\n",
       "25. 'english_scottish'\n",
       "26. 'caribbean'\n",
       "27. 'cajun_creole'\n",
       "28. 'easterneuropean_russian'\n",
       "29. 'moroccan'\n",
       "30. 'african'\n",
       "31. 'southwestern'\n",
       "32. 'south-america'\n",
       "33. 'vietnamese'\n",
       "34. 'north-african'\n",
       "\n",
       "\n"
      ],
      "text/plain": [
       " [1] \"american\"                \"italian\"                \n",
       " [3] \"mexican\"                 \"french\"                 \n",
       " [5] \"asian\"                   \"east_asian\"             \n",
       " [7] \"korean\"                  \"canadian\"               \n",
       " [9] \"indian\"                  \"western\"                \n",
       "[11] \"chinese\"                 \"spanish_portuguese\"     \n",
       "[13] \"uk-and-irish\"            \"southern_soulfood\"      \n",
       "[15] \"jewish\"                  \"japanese\"               \n",
       "[17] \"german\"                  \"mediterranean\"          \n",
       "[19] \"thai\"                    \"scandinavian\"           \n",
       "[21] \"middleeastern\"           \"central_southamerican\"  \n",
       "[23] \"eastern-europe\"          \"greek\"                  \n",
       "[25] \"english_scottish\"        \"caribbean\"              \n",
       "[27] \"cajun_creole\"            \"easterneuropean_russian\"\n",
       "[29] \"moroccan\"                \"african\"                \n",
       "[31] \"southwestern\"            \"south-america\"          \n",
       "[33] \"vietnamese\"              \"north-african\"          "
      ]
     },
     "metadata": {},
     "output_type": "display_data"
    }
   ],
   "source": [
    "# get cuisines with >= 50 recipes\n",
    "filter_list <- names(t[t >= 50])\n",
    "\n",
    "filter_list"
   ]
  },
  {
   "cell_type": "code",
   "execution_count": 13,
   "metadata": {
    "collapsed": false
   },
   "outputs": [
    {
     "name": "stdout",
     "output_type": "stream",
     "text": [
      "[1] \"Number of rows of original dataframe is 57691\"\n",
      "[1] \"Number of rows of processed dataframe is 57403\"\n",
      "[1] \"288 rows removed!\"\n"
     ]
    }
   ],
   "source": [
    "before <- nrow(recipes) # number of rows of original dataframe\n",
    "print(paste0(\"Number of rows of original dataframe is \", before))\n",
    "\n",
    "recipes <- recipes[recipes$cuisine %in% filter_list,]\n",
    "\n",
    "after <- nrow(recipes)\n",
    "print(paste0(\"Number of rows of processed dataframe is \", after))\n",
    "\n",
    "print(paste0(before - after, \" rows removed!\"))"
   ]
  },
  {
   "cell_type": "markdown",
   "metadata": {},
   "source": [
    "Convert all of the columns into factors. This is to run the classification model later."
   ]
  },
  {
   "cell_type": "code",
   "execution_count": null,
   "metadata": {
    "collapsed": false
   },
   "outputs": [
    {
     "data": {
      "text/html": [
       "<table>\n",
       "<thead><tr><th></th><th scope=col>cuisine</th><th scope=col>almond</th><th scope=col>angelica</th><th scope=col>anise</th><th scope=col>anise_seed</th><th scope=col>apple</th><th scope=col>apple_brandy</th><th scope=col>apricot</th><th scope=col>armagnac</th><th scope=col>artemisia</th><th scope=col>⋯</th><th scope=col>whiskey</th><th scope=col>white_bread</th><th scope=col>white_wine</th><th scope=col>whole_grain_wheat_flour</th><th scope=col>wine</th><th scope=col>wood</th><th scope=col>yam</th><th scope=col>yeast</th><th scope=col>yogurt</th><th scope=col>zucchini</th></tr></thead>\n",
       "<tbody>\n",
       "\t<tr><th scope=row>1</th><td>vietnamese</td><td>No        </td><td>No        </td><td>No        </td><td>No        </td><td>No        </td><td>No        </td><td>No        </td><td>No        </td><td>No        </td><td>⋯         </td><td>No        </td><td>No        </td><td>No        </td><td>No        </td><td>No        </td><td>No        </td><td>No        </td><td>No        </td><td>No        </td><td>No        </td></tr>\n",
       "\t<tr><th scope=row>2</th><td>vietnamese</td><td>No        </td><td>No        </td><td>No        </td><td>No        </td><td>No        </td><td>No        </td><td>No        </td><td>No        </td><td>No        </td><td>⋯         </td><td>No        </td><td>No        </td><td>No        </td><td>No        </td><td>No        </td><td>No        </td><td>No        </td><td>No        </td><td>No        </td><td>No        </td></tr>\n",
       "\t<tr><th scope=row>3</th><td>vietnamese</td><td>No        </td><td>No        </td><td>No        </td><td>No        </td><td>No        </td><td>No        </td><td>No        </td><td>No        </td><td>No        </td><td>⋯         </td><td>No        </td><td>No        </td><td>No        </td><td>No        </td><td>No        </td><td>No        </td><td>No        </td><td>No        </td><td>No        </td><td>No        </td></tr>\n",
       "\t<tr><th scope=row>4</th><td>vietnamese</td><td>No        </td><td>No        </td><td>No        </td><td>No        </td><td>No        </td><td>No        </td><td>No        </td><td>No        </td><td>No        </td><td>⋯         </td><td>No        </td><td>No        </td><td>No        </td><td>No        </td><td>No        </td><td>No        </td><td>No        </td><td>No        </td><td>No        </td><td>No        </td></tr>\n",
       "\t<tr><th scope=row>5</th><td>vietnamese</td><td>No        </td><td>No        </td><td>No        </td><td>No        </td><td>No        </td><td>No        </td><td>No        </td><td>No        </td><td>No        </td><td>⋯         </td><td>No        </td><td>No        </td><td>No        </td><td>No        </td><td>No        </td><td>No        </td><td>No        </td><td>No        </td><td>No        </td><td>No        </td></tr>\n",
       "\t<tr><th scope=row>6</th><td>vietnamese</td><td>No        </td><td>No        </td><td>No        </td><td>No        </td><td>No        </td><td>No        </td><td>No        </td><td>No        </td><td>No        </td><td>⋯         </td><td>No        </td><td>No        </td><td>No        </td><td>No        </td><td>No        </td><td>No        </td><td>No        </td><td>No        </td><td>No        </td><td>No        </td></tr>\n",
       "\t<tr><th scope=row>7</th><td>vietnamese</td><td>No        </td><td>No        </td><td>No        </td><td>No        </td><td>No        </td><td>No        </td><td>No        </td><td>No        </td><td>No        </td><td>⋯         </td><td>No        </td><td>No        </td><td>No        </td><td>No        </td><td>No        </td><td>No        </td><td>No        </td><td>No        </td><td>No        </td><td>No        </td></tr>\n",
       "\t<tr><th scope=row>8</th><td>vietnamese</td><td>No        </td><td>No        </td><td>No        </td><td>No        </td><td>No        </td><td>No        </td><td>No        </td><td>No        </td><td>No        </td><td>⋯         </td><td>No        </td><td>No        </td><td>No        </td><td>No        </td><td>No        </td><td>No        </td><td>No        </td><td>No        </td><td>No        </td><td>No        </td></tr>\n",
       "\t<tr><th scope=row>9</th><td>vietnamese</td><td>No        </td><td>No        </td><td>No        </td><td>No        </td><td>No        </td><td>No        </td><td>No        </td><td>No        </td><td>No        </td><td>⋯         </td><td>No        </td><td>No        </td><td>No        </td><td>No        </td><td>No        </td><td>No        </td><td>No        </td><td>No        </td><td>No        </td><td>No        </td></tr>\n",
       "\t<tr><th scope=row>10</th><td>vietnamese</td><td>No        </td><td>No        </td><td>No        </td><td>No        </td><td>No        </td><td>No        </td><td>No        </td><td>No        </td><td>No        </td><td>⋯         </td><td>No        </td><td>No        </td><td>No        </td><td>No        </td><td>No        </td><td>No        </td><td>No        </td><td>No        </td><td>No        </td><td>No        </td></tr>\n",
       "\t<tr><th scope=row>11</th><td>vietnamese</td><td>No        </td><td>No        </td><td>No        </td><td>No        </td><td>No        </td><td>No        </td><td>No        </td><td>No        </td><td>No        </td><td>⋯         </td><td>No        </td><td>No        </td><td>No        </td><td>No        </td><td>No        </td><td>No        </td><td>No        </td><td>No        </td><td>No        </td><td>No        </td></tr>\n",
       "\t<tr><th scope=row>12</th><td>vietnamese</td><td>No        </td><td>No        </td><td>No        </td><td>No        </td><td>No        </td><td>No        </td><td>No        </td><td>No        </td><td>No        </td><td>⋯         </td><td>No        </td><td>No        </td><td>No        </td><td>No        </td><td>No        </td><td>No        </td><td>No        </td><td>No        </td><td>No        </td><td>No        </td></tr>\n",
       "\t<tr><th scope=row>13</th><td>vietnamese</td><td>No        </td><td>No        </td><td>No        </td><td>No        </td><td>No        </td><td>No        </td><td>No        </td><td>No        </td><td>No        </td><td>⋯         </td><td>No        </td><td>No        </td><td>No        </td><td>No        </td><td>No        </td><td>No        </td><td>No        </td><td>No        </td><td>No        </td><td>No        </td></tr>\n",
       "\t<tr><th scope=row>14</th><td>vietnamese</td><td>No        </td><td>No        </td><td>No        </td><td>No        </td><td>No        </td><td>No        </td><td>No        </td><td>No        </td><td>No        </td><td>⋯         </td><td>No        </td><td>No        </td><td>No        </td><td>No        </td><td>Yes       </td><td>No        </td><td>No        </td><td>No        </td><td>No        </td><td>No        </td></tr>\n",
       "\t<tr><th scope=row>15</th><td>vietnamese</td><td>No        </td><td>No        </td><td>No        </td><td>No        </td><td>No        </td><td>No        </td><td>No        </td><td>No        </td><td>No        </td><td>⋯         </td><td>No        </td><td>No        </td><td>No        </td><td>No        </td><td>Yes       </td><td>No        </td><td>No        </td><td>No        </td><td>No        </td><td>No        </td></tr>\n",
       "\t<tr><th scope=row>16</th><td>vietnamese</td><td>No        </td><td>No        </td><td>No        </td><td>No        </td><td>No        </td><td>No        </td><td>No        </td><td>No        </td><td>No        </td><td>⋯         </td><td>No        </td><td>No        </td><td>No        </td><td>No        </td><td>No        </td><td>No        </td><td>No        </td><td>No        </td><td>No        </td><td>No        </td></tr>\n",
       "\t<tr><th scope=row>17</th><td>vietnamese</td><td>No        </td><td>No        </td><td>No        </td><td>No        </td><td>No        </td><td>No        </td><td>No        </td><td>No        </td><td>No        </td><td>⋯         </td><td>No        </td><td>No        </td><td>No        </td><td>No        </td><td>No        </td><td>No        </td><td>No        </td><td>No        </td><td>No        </td><td>No        </td></tr>\n",
       "\t<tr><th scope=row>18</th><td>vietnamese</td><td>No        </td><td>No        </td><td>No        </td><td>No        </td><td>No        </td><td>No        </td><td>No        </td><td>No        </td><td>No        </td><td>⋯         </td><td>No        </td><td>No        </td><td>No        </td><td>No        </td><td>No        </td><td>No        </td><td>No        </td><td>No        </td><td>No        </td><td>No        </td></tr>\n",
       "\t<tr><th scope=row>19</th><td>vietnamese</td><td>No        </td><td>No        </td><td>No        </td><td>No        </td><td>No        </td><td>No        </td><td>No        </td><td>No        </td><td>No        </td><td>⋯         </td><td>No        </td><td>No        </td><td>No        </td><td>No        </td><td>Yes       </td><td>No        </td><td>No        </td><td>No        </td><td>No        </td><td>No        </td></tr>\n",
       "\t<tr><th scope=row>20</th><td>vietnamese</td><td>No        </td><td>No        </td><td>No        </td><td>No        </td><td>No        </td><td>No        </td><td>No        </td><td>No        </td><td>No        </td><td>⋯         </td><td>No        </td><td>No        </td><td>No        </td><td>No        </td><td>No        </td><td>No        </td><td>No        </td><td>Yes       </td><td>No        </td><td>No        </td></tr>\n",
       "\t<tr><th scope=row>21</th><td>vietnamese</td><td>No        </td><td>No        </td><td>No        </td><td>No        </td><td>No        </td><td>No        </td><td>No        </td><td>No        </td><td>No        </td><td>⋯         </td><td>No        </td><td>No        </td><td>No        </td><td>No        </td><td>No        </td><td>No        </td><td>No        </td><td>No        </td><td>No        </td><td>No        </td></tr>\n",
       "\t<tr><th scope=row>22</th><td>vietnamese</td><td>No        </td><td>No        </td><td>No        </td><td>No        </td><td>No        </td><td>No        </td><td>No        </td><td>No        </td><td>No        </td><td>⋯         </td><td>No        </td><td>No        </td><td>No        </td><td>No        </td><td>No        </td><td>No        </td><td>No        </td><td>No        </td><td>No        </td><td>No        </td></tr>\n",
       "\t<tr><th scope=row>23</th><td>vietnamese</td><td>No        </td><td>No        </td><td>No        </td><td>No        </td><td>No        </td><td>No        </td><td>No        </td><td>No        </td><td>No        </td><td>⋯         </td><td>No        </td><td>No        </td><td>No        </td><td>No        </td><td>No        </td><td>No        </td><td>No        </td><td>No        </td><td>No        </td><td>No        </td></tr>\n",
       "\t<tr><th scope=row>24</th><td>vietnamese</td><td>No        </td><td>No        </td><td>No        </td><td>No        </td><td>No        </td><td>No        </td><td>No        </td><td>No        </td><td>No        </td><td>⋯         </td><td>No        </td><td>No        </td><td>No        </td><td>No        </td><td>No        </td><td>No        </td><td>No        </td><td>No        </td><td>No        </td><td>No        </td></tr>\n",
       "\t<tr><th scope=row>25</th><td>vietnamese</td><td>No        </td><td>No        </td><td>No        </td><td>No        </td><td>No        </td><td>No        </td><td>No        </td><td>No        </td><td>No        </td><td>⋯         </td><td>No        </td><td>No        </td><td>No        </td><td>No        </td><td>No        </td><td>No        </td><td>No        </td><td>No        </td><td>No        </td><td>No        </td></tr>\n",
       "\t<tr><th scope=row>26</th><td>vietnamese</td><td>No        </td><td>No        </td><td>No        </td><td>No        </td><td>No        </td><td>No        </td><td>No        </td><td>No        </td><td>No        </td><td>⋯         </td><td>No        </td><td>No        </td><td>No        </td><td>No        </td><td>No        </td><td>No        </td><td>No        </td><td>No        </td><td>No        </td><td>No        </td></tr>\n",
       "\t<tr><th scope=row>27</th><td>vietnamese</td><td>No        </td><td>No        </td><td>No        </td><td>No        </td><td>No        </td><td>No        </td><td>No        </td><td>No        </td><td>No        </td><td>⋯         </td><td>No        </td><td>No        </td><td>Yes       </td><td>No        </td><td>No        </td><td>No        </td><td>No        </td><td>No        </td><td>No        </td><td>No        </td></tr>\n",
       "\t<tr><th scope=row>28</th><td>vietnamese</td><td>No        </td><td>No        </td><td>No        </td><td>No        </td><td>No        </td><td>No        </td><td>No        </td><td>No        </td><td>No        </td><td>⋯         </td><td>No        </td><td>No        </td><td>No        </td><td>No        </td><td>No        </td><td>No        </td><td>No        </td><td>No        </td><td>No        </td><td>No        </td></tr>\n",
       "\t<tr><th scope=row>29</th><td>vietnamese</td><td>No        </td><td>No        </td><td>No        </td><td>No        </td><td>No        </td><td>No        </td><td>No        </td><td>No        </td><td>No        </td><td>⋯         </td><td>No        </td><td>No        </td><td>No        </td><td>No        </td><td>Yes       </td><td>No        </td><td>No        </td><td>No        </td><td>No        </td><td>No        </td></tr>\n",
       "\t<tr><th scope=row>30</th><td>vietnamese</td><td>No        </td><td>No        </td><td>No        </td><td>No        </td><td>No        </td><td>No        </td><td>No        </td><td>No        </td><td>No        </td><td>⋯         </td><td>No        </td><td>No        </td><td>No        </td><td>No        </td><td>No        </td><td>No        </td><td>No        </td><td>No        </td><td>No        </td><td>No        </td></tr>\n",
       "\t<tr><th scope=row>⋮</th><td>⋮</td><td>⋮</td><td>⋮</td><td>⋮</td><td>⋮</td><td>⋮</td><td>⋮</td><td>⋮</td><td>⋮</td><td>⋮</td><td>⋱</td><td>⋮</td><td>⋮</td><td>⋮</td><td>⋮</td><td>⋮</td><td>⋮</td><td>⋮</td><td>⋮</td><td>⋮</td><td>⋮</td></tr>\n",
       "\t<tr><th scope=row>57662</th><td>japanese</td><td>No      </td><td>No      </td><td>No      </td><td>No      </td><td>No      </td><td>No      </td><td>No      </td><td>No      </td><td>No      </td><td>⋯       </td><td>No      </td><td>No      </td><td>No      </td><td>No      </td><td>Yes     </td><td>No      </td><td>No      </td><td>No      </td><td>No      </td><td>No      </td></tr>\n",
       "\t<tr><th scope=row>57663</th><td>japanese</td><td>No      </td><td>No      </td><td>No      </td><td>No      </td><td>No      </td><td>No      </td><td>No      </td><td>No      </td><td>No      </td><td>⋯       </td><td>No      </td><td>No      </td><td>No      </td><td>No      </td><td>No      </td><td>No      </td><td>No      </td><td>No      </td><td>No      </td><td>No      </td></tr>\n",
       "\t<tr><th scope=row>57664</th><td>japanese</td><td>No      </td><td>No      </td><td>No      </td><td>No      </td><td>No      </td><td>No      </td><td>No      </td><td>No      </td><td>No      </td><td>⋯       </td><td>No      </td><td>No      </td><td>No      </td><td>No      </td><td>Yes     </td><td>No      </td><td>No      </td><td>No      </td><td>No      </td><td>No      </td></tr>\n",
       "\t<tr><th scope=row>57665</th><td>japanese</td><td>No      </td><td>No      </td><td>No      </td><td>No      </td><td>No      </td><td>No      </td><td>No      </td><td>No      </td><td>No      </td><td>⋯       </td><td>No      </td><td>No      </td><td>No      </td><td>No      </td><td>No      </td><td>No      </td><td>No      </td><td>No      </td><td>No      </td><td>No      </td></tr>\n",
       "\t<tr><th scope=row>57666</th><td>japanese</td><td>No      </td><td>No      </td><td>No      </td><td>No      </td><td>No      </td><td>No      </td><td>No      </td><td>No      </td><td>No      </td><td>⋯       </td><td>No      </td><td>No      </td><td>No      </td><td>No      </td><td>Yes     </td><td>No      </td><td>No      </td><td>No      </td><td>No      </td><td>No      </td></tr>\n",
       "\t<tr><th scope=row>57667</th><td>japanese</td><td>No      </td><td>No      </td><td>No      </td><td>No      </td><td>No      </td><td>No      </td><td>No      </td><td>No      </td><td>No      </td><td>⋯       </td><td>No      </td><td>No      </td><td>No      </td><td>No      </td><td>No      </td><td>No      </td><td>No      </td><td>No      </td><td>No      </td><td>No      </td></tr>\n",
       "\t<tr><th scope=row>57668</th><td>japanese</td><td>No      </td><td>No      </td><td>No      </td><td>No      </td><td>No      </td><td>No      </td><td>No      </td><td>No      </td><td>No      </td><td>⋯       </td><td>No      </td><td>No      </td><td>No      </td><td>No      </td><td>No      </td><td>No      </td><td>No      </td><td>No      </td><td>No      </td><td>No      </td></tr>\n",
       "\t<tr><th scope=row>57669</th><td>japanese</td><td>No      </td><td>No      </td><td>No      </td><td>No      </td><td>No      </td><td>No      </td><td>No      </td><td>No      </td><td>No      </td><td>⋯       </td><td>No      </td><td>No      </td><td>No      </td><td>No      </td><td>No      </td><td>No      </td><td>No      </td><td>No      </td><td>No      </td><td>No      </td></tr>\n",
       "\t<tr><th scope=row>57670</th><td>japanese</td><td>No      </td><td>No      </td><td>No      </td><td>No      </td><td>No      </td><td>No      </td><td>No      </td><td>No      </td><td>No      </td><td>⋯       </td><td>No      </td><td>No      </td><td>No      </td><td>No      </td><td>No      </td><td>No      </td><td>No      </td><td>No      </td><td>No      </td><td>No      </td></tr>\n",
       "\t<tr><th scope=row>57671</th><td>japanese</td><td>No      </td><td>No      </td><td>No      </td><td>No      </td><td>No      </td><td>No      </td><td>No      </td><td>No      </td><td>No      </td><td>⋯       </td><td>No      </td><td>No      </td><td>No      </td><td>No      </td><td>No      </td><td>No      </td><td>No      </td><td>No      </td><td>No      </td><td>No      </td></tr>\n",
       "\t<tr><th scope=row>57672</th><td>japanese</td><td>No      </td><td>No      </td><td>No      </td><td>No      </td><td>No      </td><td>No      </td><td>No      </td><td>No      </td><td>No      </td><td>⋯       </td><td>No      </td><td>No      </td><td>No      </td><td>No      </td><td>No      </td><td>No      </td><td>No      </td><td>No      </td><td>No      </td><td>No      </td></tr>\n",
       "\t<tr><th scope=row>57673</th><td>japanese</td><td>No      </td><td>No      </td><td>No      </td><td>No      </td><td>No      </td><td>No      </td><td>No      </td><td>No      </td><td>No      </td><td>⋯       </td><td>No      </td><td>No      </td><td>No      </td><td>No      </td><td>No      </td><td>No      </td><td>No      </td><td>No      </td><td>No      </td><td>No      </td></tr>\n",
       "\t<tr><th scope=row>57674</th><td>japanese</td><td>No      </td><td>No      </td><td>No      </td><td>No      </td><td>No      </td><td>No      </td><td>No      </td><td>No      </td><td>No      </td><td>⋯       </td><td>No      </td><td>No      </td><td>No      </td><td>No      </td><td>No      </td><td>No      </td><td>No      </td><td>No      </td><td>No      </td><td>No      </td></tr>\n",
       "\t<tr><th scope=row>57675</th><td>japanese</td><td>No      </td><td>No      </td><td>No      </td><td>No      </td><td>No      </td><td>No      </td><td>No      </td><td>No      </td><td>No      </td><td>⋯       </td><td>No      </td><td>No      </td><td>No      </td><td>No      </td><td>Yes     </td><td>No      </td><td>No      </td><td>No      </td><td>No      </td><td>No      </td></tr>\n",
       "\t<tr><th scope=row>57676</th><td>japanese</td><td>No      </td><td>No      </td><td>No      </td><td>No      </td><td>No      </td><td>No      </td><td>No      </td><td>No      </td><td>No      </td><td>⋯       </td><td>No      </td><td>No      </td><td>No      </td><td>No      </td><td>Yes     </td><td>No      </td><td>No      </td><td>No      </td><td>No      </td><td>No      </td></tr>\n",
       "\t<tr><th scope=row>57677</th><td>japanese</td><td>No      </td><td>No      </td><td>No      </td><td>No      </td><td>No      </td><td>No      </td><td>No      </td><td>No      </td><td>No      </td><td>⋯       </td><td>No      </td><td>No      </td><td>No      </td><td>No      </td><td>No      </td><td>No      </td><td>No      </td><td>No      </td><td>No      </td><td>No      </td></tr>\n",
       "\t<tr><th scope=row>57678</th><td>japanese</td><td>No      </td><td>No      </td><td>No      </td><td>No      </td><td>No      </td><td>No      </td><td>No      </td><td>No      </td><td>No      </td><td>⋯       </td><td>No      </td><td>No      </td><td>No      </td><td>No      </td><td>No      </td><td>No      </td><td>No      </td><td>No      </td><td>No      </td><td>No      </td></tr>\n",
       "\t<tr><th scope=row>57679</th><td>japanese</td><td>No      </td><td>No      </td><td>No      </td><td>No      </td><td>No      </td><td>No      </td><td>No      </td><td>No      </td><td>No      </td><td>⋯       </td><td>No      </td><td>No      </td><td>No      </td><td>No      </td><td>No      </td><td>No      </td><td>No      </td><td>No      </td><td>No      </td><td>No      </td></tr>\n",
       "\t<tr><th scope=row>57680</th><td>japanese</td><td>No      </td><td>No      </td><td>No      </td><td>No      </td><td>No      </td><td>No      </td><td>No      </td><td>No      </td><td>No      </td><td>⋯       </td><td>No      </td><td>No      </td><td>No      </td><td>No      </td><td>No      </td><td>No      </td><td>No      </td><td>No      </td><td>No      </td><td>No      </td></tr>\n",
       "\t<tr><th scope=row>57681</th><td>japanese</td><td>No      </td><td>No      </td><td>No      </td><td>No      </td><td>No      </td><td>No      </td><td>No      </td><td>No      </td><td>No      </td><td>⋯       </td><td>No      </td><td>No      </td><td>No      </td><td>No      </td><td>No      </td><td>No      </td><td>No      </td><td>No      </td><td>No      </td><td>No      </td></tr>\n",
       "\t<tr><th scope=row>57682</th><td>japanese</td><td>No      </td><td>No      </td><td>No      </td><td>No      </td><td>No      </td><td>No      </td><td>No      </td><td>No      </td><td>No      </td><td>⋯       </td><td>No      </td><td>No      </td><td>No      </td><td>No      </td><td>No      </td><td>No      </td><td>No      </td><td>No      </td><td>No      </td><td>No      </td></tr>\n",
       "\t<tr><th scope=row>57683</th><td>japanese</td><td>No      </td><td>No      </td><td>No      </td><td>No      </td><td>No      </td><td>No      </td><td>No      </td><td>No      </td><td>No      </td><td>⋯       </td><td>No      </td><td>No      </td><td>No      </td><td>No      </td><td>No      </td><td>No      </td><td>No      </td><td>No      </td><td>No      </td><td>No      </td></tr>\n",
       "\t<tr><th scope=row>57684</th><td>japanese</td><td>No      </td><td>No      </td><td>No      </td><td>No      </td><td>No      </td><td>No      </td><td>No      </td><td>No      </td><td>No      </td><td>⋯       </td><td>No      </td><td>No      </td><td>No      </td><td>No      </td><td>No      </td><td>No      </td><td>No      </td><td>No      </td><td>No      </td><td>No      </td></tr>\n",
       "\t<tr><th scope=row>57685</th><td>japanese</td><td>No      </td><td>No      </td><td>No      </td><td>No      </td><td>No      </td><td>No      </td><td>No      </td><td>No      </td><td>No      </td><td>⋯       </td><td>No      </td><td>No      </td><td>No      </td><td>No      </td><td>Yes     </td><td>No      </td><td>No      </td><td>No      </td><td>No      </td><td>No      </td></tr>\n",
       "\t<tr><th scope=row>57686</th><td>japanese</td><td>No      </td><td>No      </td><td>No      </td><td>No      </td><td>No      </td><td>No      </td><td>No      </td><td>No      </td><td>No      </td><td>⋯       </td><td>No      </td><td>No      </td><td>No      </td><td>No      </td><td>No      </td><td>No      </td><td>No      </td><td>No      </td><td>No      </td><td>No      </td></tr>\n",
       "\t<tr><th scope=row>57687</th><td>japanese</td><td>No      </td><td>No      </td><td>No      </td><td>No      </td><td>No      </td><td>No      </td><td>No      </td><td>No      </td><td>No      </td><td>⋯       </td><td>No      </td><td>No      </td><td>No      </td><td>No      </td><td>No      </td><td>No      </td><td>No      </td><td>No      </td><td>No      </td><td>No      </td></tr>\n",
       "\t<tr><th scope=row>57688</th><td>japanese</td><td>No      </td><td>No      </td><td>No      </td><td>No      </td><td>No      </td><td>No      </td><td>No      </td><td>No      </td><td>No      </td><td>⋯       </td><td>No      </td><td>No      </td><td>No      </td><td>No      </td><td>No      </td><td>No      </td><td>No      </td><td>No      </td><td>No      </td><td>No      </td></tr>\n",
       "\t<tr><th scope=row>57689</th><td>japanese</td><td>No      </td><td>No      </td><td>No      </td><td>No      </td><td>No      </td><td>No      </td><td>No      </td><td>No      </td><td>No      </td><td>⋯       </td><td>No      </td><td>No      </td><td>No      </td><td>No      </td><td>No      </td><td>No      </td><td>No      </td><td>No      </td><td>No      </td><td>No      </td></tr>\n",
       "\t<tr><th scope=row>57690</th><td>japanese</td><td>No      </td><td>No      </td><td>No      </td><td>No      </td><td>No      </td><td>No      </td><td>No      </td><td>No      </td><td>No      </td><td>⋯       </td><td>No      </td><td>No      </td><td>No      </td><td>No      </td><td>No      </td><td>No      </td><td>No      </td><td>No      </td><td>No      </td><td>No      </td></tr>\n",
       "\t<tr><th scope=row>57691</th><td>japanese</td><td>No      </td><td>No      </td><td>No      </td><td>No      </td><td>No      </td><td>No      </td><td>No      </td><td>No      </td><td>No      </td><td>⋯       </td><td>No      </td><td>No      </td><td>No      </td><td>No      </td><td>No      </td><td>No      </td><td>No      </td><td>No      </td><td>No      </td><td>No      </td></tr>\n",
       "</tbody>\n",
       "</table>\n"
      ],
      "text/latex": [
       "\\begin{tabular}{r|llllllllllllllllllllllllllllllllllllllllllllllllllllllllllllllllllllllllllllllllllllllllllllllllllllllllllllllllllllllllllllllllllllllllllllllllllllllllllllllllllllllllllllllllllllllllllllllllllllllllllllllllllllllllllllllllllllllllllllllllllllllllllllllllllllllllllllllllllllllllllllllllllllllllllllllllllllllllllllllllllllllllllllllllllllllllllllllllllllllllllllllllllllllllllllllll}\n",
       "  & cuisine & almond & angelica & anise & anise\\_seed & apple & apple\\_brandy & apricot & armagnac & artemisia & ⋯ & whiskey & white\\_bread & white\\_wine & whole\\_grain\\_wheat\\_flour & wine & wood & yam & yeast & yogurt & zucchini\\\\\n",
       "\\hline\n",
       "\t1 & vietnamese & No         & No         & No         & No         & No         & No         & No         & No         & No         & ⋯          & No         & No         & No         & No         & No         & No         & No         & No         & No         & No        \\\\\n",
       "\t2 & vietnamese & No         & No         & No         & No         & No         & No         & No         & No         & No         & ⋯          & No         & No         & No         & No         & No         & No         & No         & No         & No         & No        \\\\\n",
       "\t3 & vietnamese & No         & No         & No         & No         & No         & No         & No         & No         & No         & ⋯          & No         & No         & No         & No         & No         & No         & No         & No         & No         & No        \\\\\n",
       "\t4 & vietnamese & No         & No         & No         & No         & No         & No         & No         & No         & No         & ⋯          & No         & No         & No         & No         & No         & No         & No         & No         & No         & No        \\\\\n",
       "\t5 & vietnamese & No         & No         & No         & No         & No         & No         & No         & No         & No         & ⋯          & No         & No         & No         & No         & No         & No         & No         & No         & No         & No        \\\\\n",
       "\t6 & vietnamese & No         & No         & No         & No         & No         & No         & No         & No         & No         & ⋯          & No         & No         & No         & No         & No         & No         & No         & No         & No         & No        \\\\\n",
       "\t7 & vietnamese & No         & No         & No         & No         & No         & No         & No         & No         & No         & ⋯          & No         & No         & No         & No         & No         & No         & No         & No         & No         & No        \\\\\n",
       "\t8 & vietnamese & No         & No         & No         & No         & No         & No         & No         & No         & No         & ⋯          & No         & No         & No         & No         & No         & No         & No         & No         & No         & No        \\\\\n",
       "\t9 & vietnamese & No         & No         & No         & No         & No         & No         & No         & No         & No         & ⋯          & No         & No         & No         & No         & No         & No         & No         & No         & No         & No        \\\\\n",
       "\t10 & vietnamese & No         & No         & No         & No         & No         & No         & No         & No         & No         & ⋯          & No         & No         & No         & No         & No         & No         & No         & No         & No         & No        \\\\\n",
       "\t11 & vietnamese & No         & No         & No         & No         & No         & No         & No         & No         & No         & ⋯          & No         & No         & No         & No         & No         & No         & No         & No         & No         & No        \\\\\n",
       "\t12 & vietnamese & No         & No         & No         & No         & No         & No         & No         & No         & No         & ⋯          & No         & No         & No         & No         & No         & No         & No         & No         & No         & No        \\\\\n",
       "\t13 & vietnamese & No         & No         & No         & No         & No         & No         & No         & No         & No         & ⋯          & No         & No         & No         & No         & No         & No         & No         & No         & No         & No        \\\\\n",
       "\t14 & vietnamese & No         & No         & No         & No         & No         & No         & No         & No         & No         & ⋯          & No         & No         & No         & No         & Yes        & No         & No         & No         & No         & No        \\\\\n",
       "\t15 & vietnamese & No         & No         & No         & No         & No         & No         & No         & No         & No         & ⋯          & No         & No         & No         & No         & Yes        & No         & No         & No         & No         & No        \\\\\n",
       "\t16 & vietnamese & No         & No         & No         & No         & No         & No         & No         & No         & No         & ⋯          & No         & No         & No         & No         & No         & No         & No         & No         & No         & No        \\\\\n",
       "\t17 & vietnamese & No         & No         & No         & No         & No         & No         & No         & No         & No         & ⋯          & No         & No         & No         & No         & No         & No         & No         & No         & No         & No        \\\\\n",
       "\t18 & vietnamese & No         & No         & No         & No         & No         & No         & No         & No         & No         & ⋯          & No         & No         & No         & No         & No         & No         & No         & No         & No         & No        \\\\\n",
       "\t19 & vietnamese & No         & No         & No         & No         & No         & No         & No         & No         & No         & ⋯          & No         & No         & No         & No         & Yes        & No         & No         & No         & No         & No        \\\\\n",
       "\t20 & vietnamese & No         & No         & No         & No         & No         & No         & No         & No         & No         & ⋯          & No         & No         & No         & No         & No         & No         & No         & Yes        & No         & No        \\\\\n",
       "\t21 & vietnamese & No         & No         & No         & No         & No         & No         & No         & No         & No         & ⋯          & No         & No         & No         & No         & No         & No         & No         & No         & No         & No        \\\\\n",
       "\t22 & vietnamese & No         & No         & No         & No         & No         & No         & No         & No         & No         & ⋯          & No         & No         & No         & No         & No         & No         & No         & No         & No         & No        \\\\\n",
       "\t23 & vietnamese & No         & No         & No         & No         & No         & No         & No         & No         & No         & ⋯          & No         & No         & No         & No         & No         & No         & No         & No         & No         & No        \\\\\n",
       "\t24 & vietnamese & No         & No         & No         & No         & No         & No         & No         & No         & No         & ⋯          & No         & No         & No         & No         & No         & No         & No         & No         & No         & No        \\\\\n",
       "\t25 & vietnamese & No         & No         & No         & No         & No         & No         & No         & No         & No         & ⋯          & No         & No         & No         & No         & No         & No         & No         & No         & No         & No        \\\\\n",
       "\t26 & vietnamese & No         & No         & No         & No         & No         & No         & No         & No         & No         & ⋯          & No         & No         & No         & No         & No         & No         & No         & No         & No         & No        \\\\\n",
       "\t27 & vietnamese & No         & No         & No         & No         & No         & No         & No         & No         & No         & ⋯          & No         & No         & Yes        & No         & No         & No         & No         & No         & No         & No        \\\\\n",
       "\t28 & vietnamese & No         & No         & No         & No         & No         & No         & No         & No         & No         & ⋯          & No         & No         & No         & No         & No         & No         & No         & No         & No         & No        \\\\\n",
       "\t29 & vietnamese & No         & No         & No         & No         & No         & No         & No         & No         & No         & ⋯          & No         & No         & No         & No         & Yes        & No         & No         & No         & No         & No        \\\\\n",
       "\t30 & vietnamese & No         & No         & No         & No         & No         & No         & No         & No         & No         & ⋯          & No         & No         & No         & No         & No         & No         & No         & No         & No         & No        \\\\\n",
       "\t⋮ & ⋮ & ⋮ & ⋮ & ⋮ & ⋮ & ⋮ & ⋮ & ⋮ & ⋮ & ⋮ & ⋱ & ⋮ & ⋮ & ⋮ & ⋮ & ⋮ & ⋮ & ⋮ & ⋮ & ⋮ & ⋮\\\\\n",
       "\t57662 & japanese & No       & No       & No       & No       & No       & No       & No       & No       & No       & ⋯        & No       & No       & No       & No       & Yes      & No       & No       & No       & No       & No      \\\\\n",
       "\t57663 & japanese & No       & No       & No       & No       & No       & No       & No       & No       & No       & ⋯        & No       & No       & No       & No       & No       & No       & No       & No       & No       & No      \\\\\n",
       "\t57664 & japanese & No       & No       & No       & No       & No       & No       & No       & No       & No       & ⋯        & No       & No       & No       & No       & Yes      & No       & No       & No       & No       & No      \\\\\n",
       "\t57665 & japanese & No       & No       & No       & No       & No       & No       & No       & No       & No       & ⋯        & No       & No       & No       & No       & No       & No       & No       & No       & No       & No      \\\\\n",
       "\t57666 & japanese & No       & No       & No       & No       & No       & No       & No       & No       & No       & ⋯        & No       & No       & No       & No       & Yes      & No       & No       & No       & No       & No      \\\\\n",
       "\t57667 & japanese & No       & No       & No       & No       & No       & No       & No       & No       & No       & ⋯        & No       & No       & No       & No       & No       & No       & No       & No       & No       & No      \\\\\n",
       "\t57668 & japanese & No       & No       & No       & No       & No       & No       & No       & No       & No       & ⋯        & No       & No       & No       & No       & No       & No       & No       & No       & No       & No      \\\\\n",
       "\t57669 & japanese & No       & No       & No       & No       & No       & No       & No       & No       & No       & ⋯        & No       & No       & No       & No       & No       & No       & No       & No       & No       & No      \\\\\n",
       "\t57670 & japanese & No       & No       & No       & No       & No       & No       & No       & No       & No       & ⋯        & No       & No       & No       & No       & No       & No       & No       & No       & No       & No      \\\\\n",
       "\t57671 & japanese & No       & No       & No       & No       & No       & No       & No       & No       & No       & ⋯        & No       & No       & No       & No       & No       & No       & No       & No       & No       & No      \\\\\n",
       "\t57672 & japanese & No       & No       & No       & No       & No       & No       & No       & No       & No       & ⋯        & No       & No       & No       & No       & No       & No       & No       & No       & No       & No      \\\\\n",
       "\t57673 & japanese & No       & No       & No       & No       & No       & No       & No       & No       & No       & ⋯        & No       & No       & No       & No       & No       & No       & No       & No       & No       & No      \\\\\n",
       "\t57674 & japanese & No       & No       & No       & No       & No       & No       & No       & No       & No       & ⋯        & No       & No       & No       & No       & No       & No       & No       & No       & No       & No      \\\\\n",
       "\t57675 & japanese & No       & No       & No       & No       & No       & No       & No       & No       & No       & ⋯        & No       & No       & No       & No       & Yes      & No       & No       & No       & No       & No      \\\\\n",
       "\t57676 & japanese & No       & No       & No       & No       & No       & No       & No       & No       & No       & ⋯        & No       & No       & No       & No       & Yes      & No       & No       & No       & No       & No      \\\\\n",
       "\t57677 & japanese & No       & No       & No       & No       & No       & No       & No       & No       & No       & ⋯        & No       & No       & No       & No       & No       & No       & No       & No       & No       & No      \\\\\n",
       "\t57678 & japanese & No       & No       & No       & No       & No       & No       & No       & No       & No       & ⋯        & No       & No       & No       & No       & No       & No       & No       & No       & No       & No      \\\\\n",
       "\t57679 & japanese & No       & No       & No       & No       & No       & No       & No       & No       & No       & ⋯        & No       & No       & No       & No       & No       & No       & No       & No       & No       & No      \\\\\n",
       "\t57680 & japanese & No       & No       & No       & No       & No       & No       & No       & No       & No       & ⋯        & No       & No       & No       & No       & No       & No       & No       & No       & No       & No      \\\\\n",
       "\t57681 & japanese & No       & No       & No       & No       & No       & No       & No       & No       & No       & ⋯        & No       & No       & No       & No       & No       & No       & No       & No       & No       & No      \\\\\n",
       "\t57682 & japanese & No       & No       & No       & No       & No       & No       & No       & No       & No       & ⋯        & No       & No       & No       & No       & No       & No       & No       & No       & No       & No      \\\\\n",
       "\t57683 & japanese & No       & No       & No       & No       & No       & No       & No       & No       & No       & ⋯        & No       & No       & No       & No       & No       & No       & No       & No       & No       & No      \\\\\n",
       "\t57684 & japanese & No       & No       & No       & No       & No       & No       & No       & No       & No       & ⋯        & No       & No       & No       & No       & No       & No       & No       & No       & No       & No      \\\\\n",
       "\t57685 & japanese & No       & No       & No       & No       & No       & No       & No       & No       & No       & ⋯        & No       & No       & No       & No       & Yes      & No       & No       & No       & No       & No      \\\\\n",
       "\t57686 & japanese & No       & No       & No       & No       & No       & No       & No       & No       & No       & ⋯        & No       & No       & No       & No       & No       & No       & No       & No       & No       & No      \\\\\n",
       "\t57687 & japanese & No       & No       & No       & No       & No       & No       & No       & No       & No       & ⋯        & No       & No       & No       & No       & No       & No       & No       & No       & No       & No      \\\\\n",
       "\t57688 & japanese & No       & No       & No       & No       & No       & No       & No       & No       & No       & ⋯        & No       & No       & No       & No       & No       & No       & No       & No       & No       & No      \\\\\n",
       "\t57689 & japanese & No       & No       & No       & No       & No       & No       & No       & No       & No       & ⋯        & No       & No       & No       & No       & No       & No       & No       & No       & No       & No      \\\\\n",
       "\t57690 & japanese & No       & No       & No       & No       & No       & No       & No       & No       & No       & ⋯        & No       & No       & No       & No       & No       & No       & No       & No       & No       & No      \\\\\n",
       "\t57691 & japanese & No       & No       & No       & No       & No       & No       & No       & No       & No       & ⋯        & No       & No       & No       & No       & No       & No       & No       & No       & No       & No      \\\\\n",
       "\\end{tabular}\n"
      ],
      "text/markdown": [
       "\n",
       "| <!--/--> | cuisine | almond | angelica | anise | anise_seed | apple | apple_brandy | apricot | armagnac | artemisia | ⋯ | whiskey | white_bread | white_wine | whole_grain_wheat_flour | wine | wood | yam | yeast | yogurt | zucchini | \n",
       "|---|---|---|---|---|---|---|---|---|---|---|---|---|---|---|---|---|---|---|---|---|---|---|---|---|---|---|---|---|---|---|---|---|---|---|---|---|---|---|---|---|---|---|---|---|---|---|---|---|---|---|---|---|---|---|---|---|---|---|---|---|\n",
       "| 1 | vietnamese | No         | No         | No         | No         | No         | No         | No         | No         | No         | ⋯          | No         | No         | No         | No         | No         | No         | No         | No         | No         | No         | \n",
       "| 2 | vietnamese | No         | No         | No         | No         | No         | No         | No         | No         | No         | ⋯          | No         | No         | No         | No         | No         | No         | No         | No         | No         | No         | \n",
       "| 3 | vietnamese | No         | No         | No         | No         | No         | No         | No         | No         | No         | ⋯          | No         | No         | No         | No         | No         | No         | No         | No         | No         | No         | \n",
       "| 4 | vietnamese | No         | No         | No         | No         | No         | No         | No         | No         | No         | ⋯          | No         | No         | No         | No         | No         | No         | No         | No         | No         | No         | \n",
       "| 5 | vietnamese | No         | No         | No         | No         | No         | No         | No         | No         | No         | ⋯          | No         | No         | No         | No         | No         | No         | No         | No         | No         | No         | \n",
       "| 6 | vietnamese | No         | No         | No         | No         | No         | No         | No         | No         | No         | ⋯          | No         | No         | No         | No         | No         | No         | No         | No         | No         | No         | \n",
       "| 7 | vietnamese | No         | No         | No         | No         | No         | No         | No         | No         | No         | ⋯          | No         | No         | No         | No         | No         | No         | No         | No         | No         | No         | \n",
       "| 8 | vietnamese | No         | No         | No         | No         | No         | No         | No         | No         | No         | ⋯          | No         | No         | No         | No         | No         | No         | No         | No         | No         | No         | \n",
       "| 9 | vietnamese | No         | No         | No         | No         | No         | No         | No         | No         | No         | ⋯          | No         | No         | No         | No         | No         | No         | No         | No         | No         | No         | \n",
       "| 10 | vietnamese | No         | No         | No         | No         | No         | No         | No         | No         | No         | ⋯          | No         | No         | No         | No         | No         | No         | No         | No         | No         | No         | \n",
       "| 11 | vietnamese | No         | No         | No         | No         | No         | No         | No         | No         | No         | ⋯          | No         | No         | No         | No         | No         | No         | No         | No         | No         | No         | \n",
       "| 12 | vietnamese | No         | No         | No         | No         | No         | No         | No         | No         | No         | ⋯          | No         | No         | No         | No         | No         | No         | No         | No         | No         | No         | \n",
       "| 13 | vietnamese | No         | No         | No         | No         | No         | No         | No         | No         | No         | ⋯          | No         | No         | No         | No         | No         | No         | No         | No         | No         | No         | \n",
       "| 14 | vietnamese | No         | No         | No         | No         | No         | No         | No         | No         | No         | ⋯          | No         | No         | No         | No         | Yes        | No         | No         | No         | No         | No         | \n",
       "| 15 | vietnamese | No         | No         | No         | No         | No         | No         | No         | No         | No         | ⋯          | No         | No         | No         | No         | Yes        | No         | No         | No         | No         | No         | \n",
       "| 16 | vietnamese | No         | No         | No         | No         | No         | No         | No         | No         | No         | ⋯          | No         | No         | No         | No         | No         | No         | No         | No         | No         | No         | \n",
       "| 17 | vietnamese | No         | No         | No         | No         | No         | No         | No         | No         | No         | ⋯          | No         | No         | No         | No         | No         | No         | No         | No         | No         | No         | \n",
       "| 18 | vietnamese | No         | No         | No         | No         | No         | No         | No         | No         | No         | ⋯          | No         | No         | No         | No         | No         | No         | No         | No         | No         | No         | \n",
       "| 19 | vietnamese | No         | No         | No         | No         | No         | No         | No         | No         | No         | ⋯          | No         | No         | No         | No         | Yes        | No         | No         | No         | No         | No         | \n",
       "| 20 | vietnamese | No         | No         | No         | No         | No         | No         | No         | No         | No         | ⋯          | No         | No         | No         | No         | No         | No         | No         | Yes        | No         | No         | \n",
       "| 21 | vietnamese | No         | No         | No         | No         | No         | No         | No         | No         | No         | ⋯          | No         | No         | No         | No         | No         | No         | No         | No         | No         | No         | \n",
       "| 22 | vietnamese | No         | No         | No         | No         | No         | No         | No         | No         | No         | ⋯          | No         | No         | No         | No         | No         | No         | No         | No         | No         | No         | \n",
       "| 23 | vietnamese | No         | No         | No         | No         | No         | No         | No         | No         | No         | ⋯          | No         | No         | No         | No         | No         | No         | No         | No         | No         | No         | \n",
       "| 24 | vietnamese | No         | No         | No         | No         | No         | No         | No         | No         | No         | ⋯          | No         | No         | No         | No         | No         | No         | No         | No         | No         | No         | \n",
       "| 25 | vietnamese | No         | No         | No         | No         | No         | No         | No         | No         | No         | ⋯          | No         | No         | No         | No         | No         | No         | No         | No         | No         | No         | \n",
       "| 26 | vietnamese | No         | No         | No         | No         | No         | No         | No         | No         | No         | ⋯          | No         | No         | No         | No         | No         | No         | No         | No         | No         | No         | \n",
       "| 27 | vietnamese | No         | No         | No         | No         | No         | No         | No         | No         | No         | ⋯          | No         | No         | Yes        | No         | No         | No         | No         | No         | No         | No         | \n",
       "| 28 | vietnamese | No         | No         | No         | No         | No         | No         | No         | No         | No         | ⋯          | No         | No         | No         | No         | No         | No         | No         | No         | No         | No         | \n",
       "| 29 | vietnamese | No         | No         | No         | No         | No         | No         | No         | No         | No         | ⋯          | No         | No         | No         | No         | Yes        | No         | No         | No         | No         | No         | \n",
       "| 30 | vietnamese | No         | No         | No         | No         | No         | No         | No         | No         | No         | ⋯          | No         | No         | No         | No         | No         | No         | No         | No         | No         | No         | \n",
       "| ⋮ | ⋮ | ⋮ | ⋮ | ⋮ | ⋮ | ⋮ | ⋮ | ⋮ | ⋮ | ⋮ | ⋱ | ⋮ | ⋮ | ⋮ | ⋮ | ⋮ | ⋮ | ⋮ | ⋮ | ⋮ | ⋮ | \n",
       "| 57662 | japanese | No       | No       | No       | No       | No       | No       | No       | No       | No       | ⋯        | No       | No       | No       | No       | Yes      | No       | No       | No       | No       | No       | \n",
       "| 57663 | japanese | No       | No       | No       | No       | No       | No       | No       | No       | No       | ⋯        | No       | No       | No       | No       | No       | No       | No       | No       | No       | No       | \n",
       "| 57664 | japanese | No       | No       | No       | No       | No       | No       | No       | No       | No       | ⋯        | No       | No       | No       | No       | Yes      | No       | No       | No       | No       | No       | \n",
       "| 57665 | japanese | No       | No       | No       | No       | No       | No       | No       | No       | No       | ⋯        | No       | No       | No       | No       | No       | No       | No       | No       | No       | No       | \n",
       "| 57666 | japanese | No       | No       | No       | No       | No       | No       | No       | No       | No       | ⋯        | No       | No       | No       | No       | Yes      | No       | No       | No       | No       | No       | \n",
       "| 57667 | japanese | No       | No       | No       | No       | No       | No       | No       | No       | No       | ⋯        | No       | No       | No       | No       | No       | No       | No       | No       | No       | No       | \n",
       "| 57668 | japanese | No       | No       | No       | No       | No       | No       | No       | No       | No       | ⋯        | No       | No       | No       | No       | No       | No       | No       | No       | No       | No       | \n",
       "| 57669 | japanese | No       | No       | No       | No       | No       | No       | No       | No       | No       | ⋯        | No       | No       | No       | No       | No       | No       | No       | No       | No       | No       | \n",
       "| 57670 | japanese | No       | No       | No       | No       | No       | No       | No       | No       | No       | ⋯        | No       | No       | No       | No       | No       | No       | No       | No       | No       | No       | \n",
       "| 57671 | japanese | No       | No       | No       | No       | No       | No       | No       | No       | No       | ⋯        | No       | No       | No       | No       | No       | No       | No       | No       | No       | No       | \n",
       "| 57672 | japanese | No       | No       | No       | No       | No       | No       | No       | No       | No       | ⋯        | No       | No       | No       | No       | No       | No       | No       | No       | No       | No       | \n",
       "| 57673 | japanese | No       | No       | No       | No       | No       | No       | No       | No       | No       | ⋯        | No       | No       | No       | No       | No       | No       | No       | No       | No       | No       | \n",
       "| 57674 | japanese | No       | No       | No       | No       | No       | No       | No       | No       | No       | ⋯        | No       | No       | No       | No       | No       | No       | No       | No       | No       | No       | \n",
       "| 57675 | japanese | No       | No       | No       | No       | No       | No       | No       | No       | No       | ⋯        | No       | No       | No       | No       | Yes      | No       | No       | No       | No       | No       | \n",
       "| 57676 | japanese | No       | No       | No       | No       | No       | No       | No       | No       | No       | ⋯        | No       | No       | No       | No       | Yes      | No       | No       | No       | No       | No       | \n",
       "| 57677 | japanese | No       | No       | No       | No       | No       | No       | No       | No       | No       | ⋯        | No       | No       | No       | No       | No       | No       | No       | No       | No       | No       | \n",
       "| 57678 | japanese | No       | No       | No       | No       | No       | No       | No       | No       | No       | ⋯        | No       | No       | No       | No       | No       | No       | No       | No       | No       | No       | \n",
       "| 57679 | japanese | No       | No       | No       | No       | No       | No       | No       | No       | No       | ⋯        | No       | No       | No       | No       | No       | No       | No       | No       | No       | No       | \n",
       "| 57680 | japanese | No       | No       | No       | No       | No       | No       | No       | No       | No       | ⋯        | No       | No       | No       | No       | No       | No       | No       | No       | No       | No       | \n",
       "| 57681 | japanese | No       | No       | No       | No       | No       | No       | No       | No       | No       | ⋯        | No       | No       | No       | No       | No       | No       | No       | No       | No       | No       | \n",
       "| 57682 | japanese | No       | No       | No       | No       | No       | No       | No       | No       | No       | ⋯        | No       | No       | No       | No       | No       | No       | No       | No       | No       | No       | \n",
       "| 57683 | japanese | No       | No       | No       | No       | No       | No       | No       | No       | No       | ⋯        | No       | No       | No       | No       | No       | No       | No       | No       | No       | No       | \n",
       "| 57684 | japanese | No       | No       | No       | No       | No       | No       | No       | No       | No       | ⋯        | No       | No       | No       | No       | No       | No       | No       | No       | No       | No       | \n",
       "| 57685 | japanese | No       | No       | No       | No       | No       | No       | No       | No       | No       | ⋯        | No       | No       | No       | No       | Yes      | No       | No       | No       | No       | No       | \n",
       "| 57686 | japanese | No       | No       | No       | No       | No       | No       | No       | No       | No       | ⋯        | No       | No       | No       | No       | No       | No       | No       | No       | No       | No       | \n",
       "| 57687 | japanese | No       | No       | No       | No       | No       | No       | No       | No       | No       | ⋯        | No       | No       | No       | No       | No       | No       | No       | No       | No       | No       | \n",
       "| 57688 | japanese | No       | No       | No       | No       | No       | No       | No       | No       | No       | ⋯        | No       | No       | No       | No       | No       | No       | No       | No       | No       | No       | \n",
       "| 57689 | japanese | No       | No       | No       | No       | No       | No       | No       | No       | No       | ⋯        | No       | No       | No       | No       | No       | No       | No       | No       | No       | No       | \n",
       "| 57690 | japanese | No       | No       | No       | No       | No       | No       | No       | No       | No       | ⋯        | No       | No       | No       | No       | No       | No       | No       | No       | No       | No       | \n",
       "| 57691 | japanese | No       | No       | No       | No       | No       | No       | No       | No       | No       | ⋯        | No       | No       | No       | No       | No       | No       | No       | No       | No       | No       | \n",
       "\n",
       "\n"
      ],
      "text/plain": [
       "      cuisine    almond angelica anise anise_seed apple apple_brandy apricot\n",
       "1     vietnamese No     No       No    No         No    No           No     \n",
       "2     vietnamese No     No       No    No         No    No           No     \n",
       "3     vietnamese No     No       No    No         No    No           No     \n",
       "4     vietnamese No     No       No    No         No    No           No     \n",
       "5     vietnamese No     No       No    No         No    No           No     \n",
       "6     vietnamese No     No       No    No         No    No           No     \n",
       "7     vietnamese No     No       No    No         No    No           No     \n",
       "8     vietnamese No     No       No    No         No    No           No     \n",
       "9     vietnamese No     No       No    No         No    No           No     \n",
       "10    vietnamese No     No       No    No         No    No           No     \n",
       "11    vietnamese No     No       No    No         No    No           No     \n",
       "12    vietnamese No     No       No    No         No    No           No     \n",
       "13    vietnamese No     No       No    No         No    No           No     \n",
       "14    vietnamese No     No       No    No         No    No           No     \n",
       "15    vietnamese No     No       No    No         No    No           No     \n",
       "16    vietnamese No     No       No    No         No    No           No     \n",
       "17    vietnamese No     No       No    No         No    No           No     \n",
       "18    vietnamese No     No       No    No         No    No           No     \n",
       "19    vietnamese No     No       No    No         No    No           No     \n",
       "20    vietnamese No     No       No    No         No    No           No     \n",
       "21    vietnamese No     No       No    No         No    No           No     \n",
       "22    vietnamese No     No       No    No         No    No           No     \n",
       "23    vietnamese No     No       No    No         No    No           No     \n",
       "24    vietnamese No     No       No    No         No    No           No     \n",
       "25    vietnamese No     No       No    No         No    No           No     \n",
       "26    vietnamese No     No       No    No         No    No           No     \n",
       "27    vietnamese No     No       No    No         No    No           No     \n",
       "28    vietnamese No     No       No    No         No    No           No     \n",
       "29    vietnamese No     No       No    No         No    No           No     \n",
       "30    vietnamese No     No       No    No         No    No           No     \n",
       "⋮     ⋮          ⋮      ⋮        ⋮     ⋮          ⋮     ⋮            ⋮      \n",
       "57662 japanese   No     No       No    No         No    No           No     \n",
       "57663 japanese   No     No       No    No         No    No           No     \n",
       "57664 japanese   No     No       No    No         No    No           No     \n",
       "57665 japanese   No     No       No    No         No    No           No     \n",
       "57666 japanese   No     No       No    No         No    No           No     \n",
       "57667 japanese   No     No       No    No         No    No           No     \n",
       "57668 japanese   No     No       No    No         No    No           No     \n",
       "57669 japanese   No     No       No    No         No    No           No     \n",
       "57670 japanese   No     No       No    No         No    No           No     \n",
       "57671 japanese   No     No       No    No         No    No           No     \n",
       "57672 japanese   No     No       No    No         No    No           No     \n",
       "57673 japanese   No     No       No    No         No    No           No     \n",
       "57674 japanese   No     No       No    No         No    No           No     \n",
       "57675 japanese   No     No       No    No         No    No           No     \n",
       "57676 japanese   No     No       No    No         No    No           No     \n",
       "57677 japanese   No     No       No    No         No    No           No     \n",
       "57678 japanese   No     No       No    No         No    No           No     \n",
       "57679 japanese   No     No       No    No         No    No           No     \n",
       "57680 japanese   No     No       No    No         No    No           No     \n",
       "57681 japanese   No     No       No    No         No    No           No     \n",
       "57682 japanese   No     No       No    No         No    No           No     \n",
       "57683 japanese   No     No       No    No         No    No           No     \n",
       "57684 japanese   No     No       No    No         No    No           No     \n",
       "57685 japanese   No     No       No    No         No    No           No     \n",
       "57686 japanese   No     No       No    No         No    No           No     \n",
       "57687 japanese   No     No       No    No         No    No           No     \n",
       "57688 japanese   No     No       No    No         No    No           No     \n",
       "57689 japanese   No     No       No    No         No    No           No     \n",
       "57690 japanese   No     No       No    No         No    No           No     \n",
       "57691 japanese   No     No       No    No         No    No           No     \n",
       "      armagnac artemisia ⋯ whiskey white_bread white_wine\n",
       "1     No       No        ⋯ No      No          No        \n",
       "2     No       No        ⋯ No      No          No        \n",
       "3     No       No        ⋯ No      No          No        \n",
       "4     No       No        ⋯ No      No          No        \n",
       "5     No       No        ⋯ No      No          No        \n",
       "6     No       No        ⋯ No      No          No        \n",
       "7     No       No        ⋯ No      No          No        \n",
       "8     No       No        ⋯ No      No          No        \n",
       "9     No       No        ⋯ No      No          No        \n",
       "10    No       No        ⋯ No      No          No        \n",
       "11    No       No        ⋯ No      No          No        \n",
       "12    No       No        ⋯ No      No          No        \n",
       "13    No       No        ⋯ No      No          No        \n",
       "14    No       No        ⋯ No      No          No        \n",
       "15    No       No        ⋯ No      No          No        \n",
       "16    No       No        ⋯ No      No          No        \n",
       "17    No       No        ⋯ No      No          No        \n",
       "18    No       No        ⋯ No      No          No        \n",
       "19    No       No        ⋯ No      No          No        \n",
       "20    No       No        ⋯ No      No          No        \n",
       "21    No       No        ⋯ No      No          No        \n",
       "22    No       No        ⋯ No      No          No        \n",
       "23    No       No        ⋯ No      No          No        \n",
       "24    No       No        ⋯ No      No          No        \n",
       "25    No       No        ⋯ No      No          No        \n",
       "26    No       No        ⋯ No      No          No        \n",
       "27    No       No        ⋯ No      No          Yes       \n",
       "28    No       No        ⋯ No      No          No        \n",
       "29    No       No        ⋯ No      No          No        \n",
       "30    No       No        ⋯ No      No          No        \n",
       "⋮     ⋮        ⋮         ⋱ ⋮       ⋮           ⋮         \n",
       "57662 No       No        ⋯ No      No          No        \n",
       "57663 No       No        ⋯ No      No          No        \n",
       "57664 No       No        ⋯ No      No          No        \n",
       "57665 No       No        ⋯ No      No          No        \n",
       "57666 No       No        ⋯ No      No          No        \n",
       "57667 No       No        ⋯ No      No          No        \n",
       "57668 No       No        ⋯ No      No          No        \n",
       "57669 No       No        ⋯ No      No          No        \n",
       "57670 No       No        ⋯ No      No          No        \n",
       "57671 No       No        ⋯ No      No          No        \n",
       "57672 No       No        ⋯ No      No          No        \n",
       "57673 No       No        ⋯ No      No          No        \n",
       "57674 No       No        ⋯ No      No          No        \n",
       "57675 No       No        ⋯ No      No          No        \n",
       "57676 No       No        ⋯ No      No          No        \n",
       "57677 No       No        ⋯ No      No          No        \n",
       "57678 No       No        ⋯ No      No          No        \n",
       "57679 No       No        ⋯ No      No          No        \n",
       "57680 No       No        ⋯ No      No          No        \n",
       "57681 No       No        ⋯ No      No          No        \n",
       "57682 No       No        ⋯ No      No          No        \n",
       "57683 No       No        ⋯ No      No          No        \n",
       "57684 No       No        ⋯ No      No          No        \n",
       "57685 No       No        ⋯ No      No          No        \n",
       "57686 No       No        ⋯ No      No          No        \n",
       "57687 No       No        ⋯ No      No          No        \n",
       "57688 No       No        ⋯ No      No          No        \n",
       "57689 No       No        ⋯ No      No          No        \n",
       "57690 No       No        ⋯ No      No          No        \n",
       "57691 No       No        ⋯ No      No          No        \n",
       "      whole_grain_wheat_flour wine wood yam yeast yogurt zucchini\n",
       "1     No                      No   No   No  No    No     No      \n",
       "2     No                      No   No   No  No    No     No      \n",
       "3     No                      No   No   No  No    No     No      \n",
       "4     No                      No   No   No  No    No     No      \n",
       "5     No                      No   No   No  No    No     No      \n",
       "6     No                      No   No   No  No    No     No      \n",
       "7     No                      No   No   No  No    No     No      \n",
       "8     No                      No   No   No  No    No     No      \n",
       "9     No                      No   No   No  No    No     No      \n",
       "10    No                      No   No   No  No    No     No      \n",
       "11    No                      No   No   No  No    No     No      \n",
       "12    No                      No   No   No  No    No     No      \n",
       "13    No                      No   No   No  No    No     No      \n",
       "14    No                      Yes  No   No  No    No     No      \n",
       "15    No                      Yes  No   No  No    No     No      \n",
       "16    No                      No   No   No  No    No     No      \n",
       "17    No                      No   No   No  No    No     No      \n",
       "18    No                      No   No   No  No    No     No      \n",
       "19    No                      Yes  No   No  No    No     No      \n",
       "20    No                      No   No   No  Yes   No     No      \n",
       "21    No                      No   No   No  No    No     No      \n",
       "22    No                      No   No   No  No    No     No      \n",
       "23    No                      No   No   No  No    No     No      \n",
       "24    No                      No   No   No  No    No     No      \n",
       "25    No                      No   No   No  No    No     No      \n",
       "26    No                      No   No   No  No    No     No      \n",
       "27    No                      No   No   No  No    No     No      \n",
       "28    No                      No   No   No  No    No     No      \n",
       "29    No                      Yes  No   No  No    No     No      \n",
       "30    No                      No   No   No  No    No     No      \n",
       "⋮     ⋮                       ⋮    ⋮    ⋮   ⋮     ⋮      ⋮       \n",
       "57662 No                      Yes  No   No  No    No     No      \n",
       "57663 No                      No   No   No  No    No     No      \n",
       "57664 No                      Yes  No   No  No    No     No      \n",
       "57665 No                      No   No   No  No    No     No      \n",
       "57666 No                      Yes  No   No  No    No     No      \n",
       "57667 No                      No   No   No  No    No     No      \n",
       "57668 No                      No   No   No  No    No     No      \n",
       "57669 No                      No   No   No  No    No     No      \n",
       "57670 No                      No   No   No  No    No     No      \n",
       "57671 No                      No   No   No  No    No     No      \n",
       "57672 No                      No   No   No  No    No     No      \n",
       "57673 No                      No   No   No  No    No     No      \n",
       "57674 No                      No   No   No  No    No     No      \n",
       "57675 No                      Yes  No   No  No    No     No      \n",
       "57676 No                      Yes  No   No  No    No     No      \n",
       "57677 No                      No   No   No  No    No     No      \n",
       "57678 No                      No   No   No  No    No     No      \n",
       "57679 No                      No   No   No  No    No     No      \n",
       "57680 No                      No   No   No  No    No     No      \n",
       "57681 No                      No   No   No  No    No     No      \n",
       "57682 No                      No   No   No  No    No     No      \n",
       "57683 No                      No   No   No  No    No     No      \n",
       "57684 No                      No   No   No  No    No     No      \n",
       "57685 No                      Yes  No   No  No    No     No      \n",
       "57686 No                      No   No   No  No    No     No      \n",
       "57687 No                      No   No   No  No    No     No      \n",
       "57688 No                      No   No   No  No    No     No      \n",
       "57689 No                      No   No   No  No    No     No      \n",
       "57690 No                      No   No   No  No    No     No      \n",
       "57691 No                      No   No   No  No    No     No      "
      ]
     },
     "metadata": {},
     "output_type": "display_data"
    }
   ],
   "source": [
    "recipes[,names(recipes)] <- lapply(recipes[,names(recipes)], as.factor)\n",
    "\n",
    "recipes"
   ]
  },
  {
   "cell_type": "markdown",
   "metadata": {},
   "source": [
    "In R, you can check the structure of your data using the **str** function. Let's check the structure of our dataframe **recipes**."
   ]
  },
  {
   "cell_type": "code",
   "execution_count": null,
   "metadata": {
    "collapsed": false
   },
   "outputs": [],
   "source": [
    "str(recipes)"
   ]
  },
  {
   "cell_type": "markdown",
   "metadata": {},
   "source": [
    "#### Let's analyze the data a little more in order to learn the data better and note any interesting preliminary observations."
   ]
  },
  {
   "cell_type": "markdown",
   "metadata": {},
   "source": [
    "Run the following cell to get the recipes that contain **rice** *and* **soy** *and* **wasabi** *and* **seaweed**."
   ]
  },
  {
   "cell_type": "code",
   "execution_count": null,
   "metadata": {
    "collapsed": false
   },
   "outputs": [],
   "source": [
    "check_recipes <- recipes[\n",
    "    recipes$rice == \"Yes\" &\n",
    "    recipes$soy_sauce == \"Yes\" &\n",
    "    recipes$wasabi == \"Yes\" &\n",
    "    recipes$seaweed == \"Yes\",\n",
    "]\n",
    "\n",
    "check_recipes"
   ]
  },
  {
   "cell_type": "markdown",
   "metadata": {},
   "source": [
    "Based on the results of the above code, can we classify all recipes that contain **rice** *and* **soy** *and* **wasabi** *and* **seaweed** as **Japanese** recipes? Why?"
   ]
  },
  {
   "cell_type": "raw",
   "metadata": {},
   "source": [
    "Your Answer:"
   ]
  },
  {
   "cell_type": "markdown",
   "metadata": {},
   "source": [
    "<div align=\"right\">\n",
    "<a href=\"#p1\" class=\"btn btn-default\" data-toggle=\"collapse\">Click here for the solution</a>\n",
    "</div>\n",
    "<div id=\"p1\" class=\"collapse\">\n",
    "No, because other recipes such as <strong>Asian</strong> and <strong>East_Asian</strong> recipes also contain these ingredients.\n",
    "</div>"
   ]
  },
  {
   "cell_type": "markdown",
   "metadata": {},
   "source": [
    "Let's count the ingredients across all recipes."
   ]
  },
  {
   "cell_type": "code",
   "execution_count": null,
   "metadata": {
    "collapsed": false
   },
   "outputs": [],
   "source": [
    "# sum the row count when the value of the row in a column is equal to \"Yes\" (value of 2)\n",
    "ingred <- unlist(\n",
    "            lapply( recipes[, names(recipes)], function(x) sum(as.integer(x) == 2))\n",
    "            )\n",
    "\n",
    "# transpose the dataframe so that each row is an ingredient\n",
    "ingred <- as.data.frame( t( as.data.frame(ingred) ))\n",
    "                \n",
    "ing_df <- data.frame(\"ingredient\" = names(ingred), \n",
    "                     \"count\" = as.numeric(ingred[1,])\n",
    "                    )[-1,]\n",
    "                \n",
    "ing_df"
   ]
  },
  {
   "cell_type": "markdown",
   "metadata": {},
   "source": [
    "Now we have a dataframe of ingredients and their total counts across all recipes. Let's sort this dataframe in descending order."
   ]
  },
  {
   "cell_type": "code",
   "execution_count": null,
   "metadata": {
    "collapsed": false
   },
   "outputs": [],
   "source": [
    "ing_df_sort <- ing_df[order(ing_df$count, decreasing = TRUE),]\n",
    "rownames(ing_df_sort) <- 1:nrow(ing_df_sort)\n",
    "\n",
    "ing_df_sort"
   ]
  },
  {
   "cell_type": "markdown",
   "metadata": {},
   "source": [
    "#### What are the 3 most popular ingredients?"
   ]
  },
  {
   "cell_type": "raw",
   "metadata": {},
   "source": [
    "Your Answer:\n",
    "1.\n",
    "\n",
    "2.\n",
    "\n",
    "3."
   ]
  },
  {
   "cell_type": "markdown",
   "metadata": {},
   "source": [
    "<div align=\"right\">\n",
    "<a href=\"#p2\" class=\"btn btn-default\" data-toggle=\"collapse\">Click here for the solution</a>\n",
    "</div>\n",
    "<div id=\"p2\" class=\"collapse\">\n",
    "1. Egg with <strong>21,025</strong> occurrences. <br>\n",
    "2. Wheat with <strong>20,781</strong> occurrences. <br>\n",
    "3. Butter with <strong>20,719</strong> occurrences. <br>\n",
    "</div>"
   ]
  },
  {
   "cell_type": "markdown",
   "metadata": {},
   "source": [
    "However, note that there is a problem with the above table. There are ~40,000 American recipes in our dataset, which means that the data is biased towards American ingredients."
   ]
  },
  {
   "cell_type": "markdown",
   "metadata": {},
   "source": [
    "**Therefore**, let's compute a more objective summary of the ingredients by looking at the ingredients per cuisine."
   ]
  },
  {
   "cell_type": "markdown",
   "metadata": {},
   "source": [
    "#### Let's create a *profile* for each cuisine.\n",
    "\n",
    "In other words, let's try to find out what ingredients Chinese people typically use, and what is **Canadian** food for example."
   ]
  },
  {
   "cell_type": "code",
   "execution_count": null,
   "metadata": {
    "collapsed": false
   },
   "outputs": [],
   "source": [
    "# create a dataframe of the counts of ingredients by cuisine, normalized by the number of \n",
    "# recipes pertaining to that cuisine\n",
    "by_cuisine_norm <- aggregate(recipes, \n",
    "                        by = list(recipes$cuisine), \n",
    "                        FUN = function(x) round(sum(as.integer(x) == 2)/\n",
    "                                                length(as.integer(x)),4))\n",
    "# remove the unnecessary column \"cuisine\"\n",
    "by_cuisine_norm <- by_cuisine_norm[,-2]\n",
    "\n",
    "# rename the first column into \"cuisine\"\n",
    "names(by_cuisine_norm)[1] <- \"cuisine\"\n",
    "                            \n",
    "head(by_cuisine_norm)"
   ]
  },
  {
   "cell_type": "markdown",
   "metadata": {},
   "source": [
    "As shown above, we have just created a dataframe where each row is a cuisine and each column (except for the first column) is an ingredient, and the row values represent the percentage of each ingredient in the corresponding cuisine.\n",
    "\n",
    "**For example**:\n",
    "\n",
    "* *almond* is present across 15.65% of all of the **African** recipes.\n",
    "* *butter* is present across 38.11% of all of the **Canadian** recipes."
   ]
  },
  {
   "cell_type": "markdown",
   "metadata": {},
   "source": [
    "Let's print out the profile for each cuisine by displaying the top four ingredients in each cuisine."
   ]
  },
  {
   "cell_type": "code",
   "execution_count": null,
   "metadata": {
    "collapsed": false,
    "scrolled": false
   },
   "outputs": [],
   "source": [
    "for(nation in by_cuisine_norm$cuisine){\n",
    "    x <- sort(by_cuisine_norm[by_cuisine_norm$cuisine == nation,][-1], decreasing = TRUE)\n",
    "    cat(c(toupper(nation)))\n",
    "    cat(\"\\n\")\n",
    "    cat(paste0(names(x)[1:4], \" (\", round(x[1:4]*100,0), \"%) \"))\n",
    "    cat(\"\\n\")\n",
    "    cat(\"\\n\")\n",
    "}"
   ]
  },
  {
   "cell_type": "markdown",
   "metadata": {},
   "source": [
    "At this point, we feel that we have understood the data well and the data is ready and is in the right format for modeling!\n",
    "\n",
    "-----------"
   ]
  },
  {
   "cell_type": "markdown",
   "metadata": {
    "deletable": true,
    "editable": true
   },
   "source": [
    "### Thank you for completing this lab!\n",
    "\n",
    "This notebook was created by [Polong Lin](https://ca.linkedin.com/in/polonglin) and revised by [Alex Aklson](https://www.linkedin.com/in/aklson/). We hope you found this lab session interesting. Feel free to contact us if you have any questions!"
   ]
  },
  {
   "cell_type": "markdown",
   "metadata": {
    "deletable": true,
    "editable": true
   },
   "source": [
    "This notebook is part of the free course on **Cognitive Class** called *Data Science Methodology*. If you accessed this notebook outside the course, you can take this free self-paced course, online by clicking [here](http://cocl.us/DS0103EN_LAB3_R)."
   ]
  },
  {
   "cell_type": "markdown",
   "metadata": {
    "deletable": true,
    "editable": true
   },
   "source": [
    "<hr>\n",
    "Copyright &copy; 2017 [Cognitive Class](https://cognitiveclass.ai/?utm_source=bducopyrightlink&utm_medium=dswb&utm_campaign=bdu). This notebook and its source code are released under the terms of the [MIT License](https://bigdatauniversity.com/mit-license/)."
   ]
  }
 ],
 "metadata": {
  "kernelspec": {
   "display_name": "R",
   "language": "R",
   "name": "ir"
  },
  "language_info": {
   "codemirror_mode": "r",
   "file_extension": ".r",
   "mimetype": "text/x-r-source",
   "name": "R",
   "pygments_lexer": "r",
   "version": "3.4.3"
  },
  "widgets": {
   "state": {},
   "version": "1.1.2"
  }
 },
 "nbformat": 4,
 "nbformat_minor": 2
}
