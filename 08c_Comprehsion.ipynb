{
 "cells": [
  {
   "cell_type": "code",
   "execution_count": 1,
   "metadata": {},
   "outputs": [
    {
     "name": "stderr",
     "output_type": "stream",
     "text": [
      "Updating HTML index of packages in '.Library'\n",
      "Making 'packages.html' ... done\n"
     ]
    }
   ],
   "source": [
    "#install.packages('dslabs')\n",
    "#install.packages('tidyverse')\n",
    "#install.packages('purrr')\n",
    "#install.packages('dplyr')\n",
    "install.packages('ggplot2')"
   ]
  },
  {
   "cell_type": "code",
   "execution_count": 2,
   "metadata": {},
   "outputs": [],
   "source": [
    "library(dslabs)\n",
    "data('movielens')"
   ]
  },
  {
   "cell_type": "code",
   "execution_count": 3,
   "metadata": {},
   "outputs": [
    {
     "data": {
      "text/html": [
       "<table>\n",
       "<thead><tr><th scope=col>movieId</th><th scope=col>title</th><th scope=col>year</th><th scope=col>genres</th><th scope=col>userId</th><th scope=col>rating</th><th scope=col>timestamp</th></tr></thead>\n",
       "<tbody>\n",
       "\t<tr><td>  31                                   </td><td>Dangerous Minds                        </td><td>1995                                   </td><td>Drama                                  </td><td>1                                      </td><td>2.5                                    </td><td>1260759144                             </td></tr>\n",
       "\t<tr><td>1029                                   </td><td>Dumbo                                  </td><td>1941                                   </td><td>Animation|Children|Drama|Musical       </td><td>1                                      </td><td>3.0                                    </td><td>1260759179                             </td></tr>\n",
       "\t<tr><td>1061                                   </td><td>Sleepers                               </td><td>1996                                   </td><td>Thriller                               </td><td>1                                      </td><td>3.0                                    </td><td>1260759182                             </td></tr>\n",
       "\t<tr><td>1129                                   </td><td>Escape from New York                   </td><td>1981                                   </td><td>Action|Adventure|Sci-Fi|Thriller       </td><td>1                                      </td><td>2.0                                    </td><td>1260759185                             </td></tr>\n",
       "\t<tr><td>1172                                   </td><td>Cinema Paradiso (Nuovo cinema Paradiso)</td><td>1989                                   </td><td>Drama                                  </td><td>1                                      </td><td>4.0                                    </td><td>1260759205                             </td></tr>\n",
       "\t<tr><td>1263                                   </td><td>Deer Hunter, The                       </td><td>1978                                   </td><td>Drama|War                              </td><td>1                                      </td><td>2.0                                    </td><td>1260759151                             </td></tr>\n",
       "</tbody>\n",
       "</table>\n"
      ],
      "text/latex": [
       "\\begin{tabular}{r|lllllll}\n",
       " movieId & title & year & genres & userId & rating & timestamp\\\\\n",
       "\\hline\n",
       "\t   31                                    & Dangerous Minds                         & 1995                                    & Drama                                   & 1                                       & 2.5                                     & 1260759144                             \\\\\n",
       "\t 1029                                                           & Dumbo                                                          & 1941                                                           & Animation\\textbar{}Children\\textbar{}Drama\\textbar{}Musical & 1                                                              & 3.0                                                            & 1260759179                                                    \\\\\n",
       "\t 1061                                    & Sleepers                                & 1996                                    & Thriller                                & 1                                       & 3.0                                     & 1260759182                             \\\\\n",
       "\t 1129                                                           & Escape from New York                                           & 1981                                                           & Action\\textbar{}Adventure\\textbar{}Sci-Fi\\textbar{}Thriller & 1                                                              & 2.0                                                            & 1260759185                                                    \\\\\n",
       "\t 1172                                    & Cinema Paradiso (Nuovo cinema Paradiso) & 1989                                    & Drama                                   & 1                                       & 4.0                                     & 1260759205                             \\\\\n",
       "\t 1263                                       & Deer Hunter, The                           & 1978                                       & Drama\\textbar{}War                        & 1                                          & 2.0                                        & 1260759151                                \\\\\n",
       "\\end{tabular}\n"
      ],
      "text/markdown": [
       "\n",
       "movieId | title | year | genres | userId | rating | timestamp | \n",
       "|---|---|---|---|---|---|\n",
       "|   31                                    | Dangerous Minds                         | 1995                                    | Drama                                   | 1                                       | 2.5                                     | 1260759144                              | \n",
       "| 1029                                    | Dumbo                                   | 1941                                    | Animation|Children|Drama|Musical        | 1                                       | 3.0                                     | 1260759179                              | \n",
       "| 1061                                    | Sleepers                                | 1996                                    | Thriller                                | 1                                       | 3.0                                     | 1260759182                              | \n",
       "| 1129                                    | Escape from New York                    | 1981                                    | Action|Adventure|Sci-Fi|Thriller        | 1                                       | 2.0                                     | 1260759185                              | \n",
       "| 1172                                    | Cinema Paradiso (Nuovo cinema Paradiso) | 1989                                    | Drama                                   | 1                                       | 4.0                                     | 1260759205                              | \n",
       "| 1263                                    | Deer Hunter, The                        | 1978                                    | Drama|War                               | 1                                       | 2.0                                     | 1260759151                              | \n",
       "\n",
       "\n"
      ],
      "text/plain": [
       "  movieId title                                   year\n",
       "1   31    Dangerous Minds                         1995\n",
       "2 1029    Dumbo                                   1941\n",
       "3 1061    Sleepers                                1996\n",
       "4 1129    Escape from New York                    1981\n",
       "5 1172    Cinema Paradiso (Nuovo cinema Paradiso) 1989\n",
       "6 1263    Deer Hunter, The                        1978\n",
       "  genres                           userId rating timestamp \n",
       "1 Drama                            1      2.5    1260759144\n",
       "2 Animation|Children|Drama|Musical 1      3.0    1260759179\n",
       "3 Thriller                         1      3.0    1260759182\n",
       "4 Action|Adventure|Sci-Fi|Thriller 1      2.0    1260759185\n",
       "5 Drama                            1      4.0    1260759205\n",
       "6 Drama|War                        1      2.0    1260759151"
      ]
     },
     "metadata": {},
     "output_type": "display_data"
    }
   ],
   "source": [
    "head(movielens)"
   ]
  },
  {
   "cell_type": "code",
   "execution_count": 7,
   "metadata": {},
   "outputs": [
    {
     "ename": "ERROR",
     "evalue": "Error in table(movielens$year, median(movielens$rating)): all arguments must have the same length\n",
     "execution_count": 7,
     "output_type": "error",
     "traceback": [
      "Error in table(movielens$year, median(movielens$rating)): all arguments must have the same length\nTraceback:\n",
      "1. table(movielens$year, median(movielens$rating))",
      "2. stop(\"all arguments must have the same length\")"
     ]
    }
   ],
   "source": [
    "table(movielens$year,median(movielens$rating))"
   ]
  },
  {
   "cell_type": "code",
   "execution_count": 4,
   "metadata": {},
   "outputs": [
    {
     "name": "stderr",
     "output_type": "stream",
     "text": [
      "\n",
      "Attaching package: ‘dplyr’\n",
      "\n",
      "The following objects are masked from ‘package:stats’:\n",
      "\n",
      "    filter, lag\n",
      "\n",
      "The following objects are masked from ‘package:base’:\n",
      "\n",
      "    intersect, setdiff, setequal, union\n",
      "\n"
     ]
    },
    {
     "data": {
      "text/html": [
       "<table>\n",
       "<thead><tr><th scope=col>n_users</th><th scope=col>n_movies</th></tr></thead>\n",
       "<tbody>\n",
       "\t<tr><td>671 </td><td>9066</td></tr>\n",
       "</tbody>\n",
       "</table>\n"
      ],
      "text/latex": [
       "\\begin{tabular}{r|ll}\n",
       " n\\_users & n\\_movies\\\\\n",
       "\\hline\n",
       "\t 671  & 9066\\\\\n",
       "\\end{tabular}\n"
      ],
      "text/markdown": [
       "\n",
       "n_users | n_movies | \n",
       "|---|\n",
       "| 671  | 9066 | \n",
       "\n",
       "\n"
      ],
      "text/plain": [
       "  n_users n_movies\n",
       "1 671     9066    "
      ]
     },
     "metadata": {},
     "output_type": "display_data"
    }
   ],
   "source": [
    "library(purrr)\n",
    "library(dplyr)\n",
    "library(ggplot2)\n",
    "\n",
    "movielens %>% summarize(n_users = n_distinct(userId),\n",
    "                       n_movies = n_distinct(movieId))"
   ]
  },
  {
   "cell_type": "code",
   "execution_count": 7,
   "metadata": {},
   "outputs": [
    {
     "name": "stderr",
     "output_type": "stream",
     "text": [
      "Updating HTML index of packages in '.Library'\n",
      "Making 'packages.html' ... done\n"
     ]
    }
   ],
   "source": [
    "install.packages('caret')"
   ]
  },
  {
   "cell_type": "code",
   "execution_count": 8,
   "metadata": {},
   "outputs": [
    {
     "name": "stderr",
     "output_type": "stream",
     "text": [
      "Loading required package: lattice\n",
      "\n",
      "Attaching package: ‘caret’\n",
      "\n",
      "The following object is masked from ‘package:purrr’:\n",
      "\n",
      "    lift\n",
      "\n"
     ]
    }
   ],
   "source": [
    "library(caret)\n",
    "set.seed(755)\n",
    "\n",
    "test_index <- createDataPartition(y=movielens$rating, times=1,p=0.2,list=FALSE)\n",
    "\n",
    "train_set <- movielens[-test_index,]\n",
    "test_set <- movielens[test_index,]\n",
    "\n",
    "test_set <- test_set %>% semi_join(train_set, by='movieId') %>% semi_join(train_set,by='userId')"
   ]
  },
  {
   "cell_type": "code",
   "execution_count": 9,
   "metadata": {},
   "outputs": [],
   "source": [
    "RMSE <- function(true_ratings, predicted_ratings){\n",
    "    sqrt(mean((true_ratings - predicted_ratings)^2))\n",
    "}"
   ]
  },
  {
   "cell_type": "code",
   "execution_count": 17,
   "metadata": {},
   "outputs": [
    {
     "ename": "ERROR",
     "evalue": "Error in eval(expr, envir, enclos): could not find function \"as.data\"\n",
     "execution_count": 17,
     "output_type": "error",
     "traceback": [
      "Error in eval(expr, envir, enclos): could not find function \"as.data\"\nTraceback:\n"
     ]
    }
   ],
   "source": [
    "as.data(1000)"
   ]
  },
  {
   "cell_type": "code",
   "execution_count": null,
   "metadata": {},
   "outputs": [],
   "source": []
  }
 ],
 "metadata": {
  "kernelspec": {
   "display_name": "R",
   "language": "R",
   "name": "ir"
  },
  "language_info": {
   "codemirror_mode": "r",
   "file_extension": ".r",
   "mimetype": "text/x-r-source",
   "name": "R",
   "pygments_lexer": "r",
   "version": "3.3.2"
  }
 },
 "nbformat": 4,
 "nbformat_minor": 2
}
