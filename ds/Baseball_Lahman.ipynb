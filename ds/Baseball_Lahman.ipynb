{
  "cells": [
    {
      "metadata": {
        "trusted": true
      },
      "cell_type": "code",
      "source": "install.packages('cricketr')",
      "execution_count": 4,
      "outputs": [
        {
          "output_type": "stream",
          "text": "Installing package into ‘/home/nbuser/R’\n(as ‘lib’ is unspecified)\nalso installing the dependencies ‘uroot’, ‘RcppArmadillo’, ‘forecast’\n\nWarning message in install.packages(\"cricketr\"):\n“installation of package ‘RcppArmadillo’ had non-zero exit status”Warning message in install.packages(\"cricketr\"):\n“installation of package ‘forecast’ had non-zero exit status”Warning message in install.packages(\"cricketr\"):\n“installation of package ‘cricketr’ had non-zero exit status”",
          "name": "stderr"
        }
      ]
    },
    {
      "metadata": {
        "trusted": true
      },
      "cell_type": "code",
      "source": "library('cricketr')",
      "execution_count": 5,
      "outputs": [
        {
          "output_type": "error",
          "ename": "ERROR",
          "evalue": "Error in library(\"cricketr\"): there is no package called ‘cricketr’\n",
          "traceback": [
            "Error in library(\"cricketr\"): there is no package called ‘cricketr’\nTraceback:\n",
            "1. library(\"cricketr\")",
            "2. stop(txt, domain = NA)"
          ]
        }
      ]
    },
    {
      "metadata": {
        "trusted": true
      },
      "cell_type": "code",
      "source": "",
      "execution_count": null,
      "outputs": []
    }
  ],
  "metadata": {
    "kernelspec": {
      "name": "r",
      "display_name": "R",
      "language": "R"
    },
    "language_info": {
      "mimetype": "text/x-r-source",
      "name": "R",
      "pygments_lexer": "r",
      "version": "3.4.1",
      "file_extension": ".r",
      "codemirror_mode": "r"
    }
  },
  "nbformat": 4,
  "nbformat_minor": 1
}