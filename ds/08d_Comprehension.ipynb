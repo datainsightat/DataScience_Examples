{
 "cells": [
  {
   "cell_type": "code",
   "execution_count": 6,
   "metadata": {},
   "outputs": [
    {
     "name": "stderr",
     "output_type": "stream",
     "text": [
      "Updating HTML index of packages in '.Library'\n",
      "Making 'packages.html' ... done\n"
     ]
    }
   ],
   "source": [
    "#install.packages('purrr')\n",
    "install.packages('dplyr')"
   ]
  },
  {
   "cell_type": "code",
   "execution_count": 4,
   "metadata": {},
   "outputs": [
    {
     "data": {
      "text/html": [
       "<ol class=list-inline>\n",
       "\t<li>67</li>\n",
       "\t<li>94</li>\n",
       "</ol>\n"
      ],
      "text/latex": [
       "\\begin{enumerate*}\n",
       "\\item 67\n",
       "\\item 94\n",
       "\\end{enumerate*}\n"
      ],
      "text/markdown": [
       "1. 67\n",
       "2. 94\n",
       "\n",
       "\n"
      ],
      "text/plain": [
       "[1] 67 94"
      ]
     },
     "metadata": {},
     "output_type": "display_data"
    }
   ],
   "source": [
    "set.seed(1986)\n",
    "n <- round(2^rnorm(1000, 8, 1))\n",
    "\n",
    "set.seed(1)\n",
    "mu <- round(80 + 2*rt(1000, 5))\n",
    "range(mu)\n",
    "schools <- data.frame(id = paste(\"PS\",1:100),\n",
    "                      size = n,\n",
    "                      quality = mu,\n",
    "                      rank = rank(-mu))"
   ]
  },
  {
   "cell_type": "code",
   "execution_count": 7,
   "metadata": {},
   "outputs": [
    {
     "name": "stderr",
     "output_type": "stream",
     "text": [
      "\n",
      "Attaching package: ‘dplyr’\n",
      "\n",
      "The following objects are masked from ‘package:stats’:\n",
      "\n",
      "    filter, lag\n",
      "\n",
      "The following objects are masked from ‘package:base’:\n",
      "\n",
      "    intersect, setdiff, setequal, union\n",
      "\n"
     ]
    },
    {
     "data": {
      "text/html": [
       "<table>\n",
       "<thead><tr><th scope=col>id</th><th scope=col>size</th><th scope=col>quality</th><th scope=col>rank</th></tr></thead>\n",
       "<tbody>\n",
       "\t<tr><td>PS 91 </td><td>1036  </td><td>94    </td><td> 1.0  </td></tr>\n",
       "\t<tr><td>PS 67 </td><td> 121  </td><td>93    </td><td> 2.0  </td></tr>\n",
       "\t<tr><td>PS 95 </td><td> 235  </td><td>91    </td><td> 3.0  </td></tr>\n",
       "\t<tr><td>PS 30 </td><td>  61  </td><td>90    </td><td> 4.0  </td></tr>\n",
       "\t<tr><td>PS 43 </td><td>  78  </td><td>89    </td><td> 5.0  </td></tr>\n",
       "\t<tr><td>PS 81 </td><td> 293  </td><td>88    </td><td> 6.0  </td></tr>\n",
       "\t<tr><td>PS 58 </td><td> 196  </td><td>87    </td><td> 7.0  </td></tr>\n",
       "\t<tr><td>PS 79 </td><td> 105  </td><td>86    </td><td>13.5  </td></tr>\n",
       "\t<tr><td>PS 13 </td><td> 653  </td><td>86    </td><td>13.5  </td></tr>\n",
       "\t<tr><td>PS 63 </td><td> 300  </td><td>86    </td><td>13.5  </td></tr>\n",
       "\t<tr><td>PS 66 </td><td>2369  </td><td>86    </td><td>13.5  </td></tr>\n",
       "\t<tr><td>PS 100</td><td> 550  </td><td>86    </td><td>13.5  </td></tr>\n",
       "\t<tr><td>PS 51 </td><td> 217  </td><td>86    </td><td>13.5  </td></tr>\n",
       "\t<tr><td>PS 77 </td><td> 341  </td><td>86    </td><td>13.5  </td></tr>\n",
       "\t<tr><td>PS 84 </td><td> 967  </td><td>86    </td><td>13.5  </td></tr>\n",
       "\t<tr><td>PS 61 </td><td> 723  </td><td>86    </td><td>13.5  </td></tr>\n",
       "\t<tr><td>PS 63 </td><td> 828  </td><td>86    </td><td>13.5  </td></tr>\n",
       "\t<tr><td>PS 65 </td><td> 586  </td><td>86    </td><td>13.5  </td></tr>\n",
       "\t<tr><td>PS 63 </td><td> 208  </td><td>86    </td><td>13.5  </td></tr>\n",
       "</tbody>\n",
       "</table>\n"
      ],
      "text/latex": [
       "\\begin{tabular}{r|llll}\n",
       " id & size & quality & rank\\\\\n",
       "\\hline\n",
       "\t PS 91  & 1036   & 94     &  1.0  \\\\\n",
       "\t PS 67  &  121   & 93     &  2.0  \\\\\n",
       "\t PS 95  &  235   & 91     &  3.0  \\\\\n",
       "\t PS 30  &   61   & 90     &  4.0  \\\\\n",
       "\t PS 43  &   78   & 89     &  5.0  \\\\\n",
       "\t PS 81  &  293   & 88     &  6.0  \\\\\n",
       "\t PS 58  &  196   & 87     &  7.0  \\\\\n",
       "\t PS 79  &  105   & 86     & 13.5  \\\\\n",
       "\t PS 13  &  653   & 86     & 13.5  \\\\\n",
       "\t PS 63  &  300   & 86     & 13.5  \\\\\n",
       "\t PS 66  & 2369   & 86     & 13.5  \\\\\n",
       "\t PS 100 &  550   & 86     & 13.5  \\\\\n",
       "\t PS 51  &  217   & 86     & 13.5  \\\\\n",
       "\t PS 77  &  341   & 86     & 13.5  \\\\\n",
       "\t PS 84  &  967   & 86     & 13.5  \\\\\n",
       "\t PS 61  &  723   & 86     & 13.5  \\\\\n",
       "\t PS 63  &  828   & 86     & 13.5  \\\\\n",
       "\t PS 65  &  586   & 86     & 13.5  \\\\\n",
       "\t PS 63  &  208   & 86     & 13.5  \\\\\n",
       "\\end{tabular}\n"
      ],
      "text/markdown": [
       "\n",
       "id | size | quality | rank | \n",
       "|---|---|---|---|---|---|---|---|---|---|---|---|---|---|---|---|---|---|---|\n",
       "| PS 91  | 1036   | 94     |  1.0   | \n",
       "| PS 67  |  121   | 93     |  2.0   | \n",
       "| PS 95  |  235   | 91     |  3.0   | \n",
       "| PS 30  |   61   | 90     |  4.0   | \n",
       "| PS 43  |   78   | 89     |  5.0   | \n",
       "| PS 81  |  293   | 88     |  6.0   | \n",
       "| PS 58  |  196   | 87     |  7.0   | \n",
       "| PS 79  |  105   | 86     | 13.5   | \n",
       "| PS 13  |  653   | 86     | 13.5   | \n",
       "| PS 63  |  300   | 86     | 13.5   | \n",
       "| PS 66  | 2369   | 86     | 13.5   | \n",
       "| PS 100 |  550   | 86     | 13.5   | \n",
       "| PS 51  |  217   | 86     | 13.5   | \n",
       "| PS 77  |  341   | 86     | 13.5   | \n",
       "| PS 84  |  967   | 86     | 13.5   | \n",
       "| PS 61  |  723   | 86     | 13.5   | \n",
       "| PS 63  |  828   | 86     | 13.5   | \n",
       "| PS 65  |  586   | 86     | 13.5   | \n",
       "| PS 63  |  208   | 86     | 13.5   | \n",
       "\n",
       "\n"
      ],
      "text/plain": [
       "   id     size quality rank\n",
       "1  PS 91  1036 94       1.0\n",
       "2  PS 67   121 93       2.0\n",
       "3  PS 95   235 91       3.0\n",
       "4  PS 30    61 90       4.0\n",
       "5  PS 43    78 89       5.0\n",
       "6  PS 81   293 88       6.0\n",
       "7  PS 58   196 87       7.0\n",
       "8  PS 79   105 86      13.5\n",
       "9  PS 13   653 86      13.5\n",
       "10 PS 63   300 86      13.5\n",
       "11 PS 66  2369 86      13.5\n",
       "12 PS 100  550 86      13.5\n",
       "13 PS 51   217 86      13.5\n",
       "14 PS 77   341 86      13.5\n",
       "15 PS 84   967 86      13.5\n",
       "16 PS 61   723 86      13.5\n",
       "17 PS 63   828 86      13.5\n",
       "18 PS 65   586 86      13.5\n",
       "19 PS 63   208 86      13.5"
      ]
     },
     "metadata": {},
     "output_type": "display_data"
    }
   ],
   "source": [
    "library(purrr)\n",
    "library(dplyr)\n",
    "\n",
    "schools %>% top_n(10, quality) %>% arrange(desc(quality))"
   ]
  },
  {
   "cell_type": "code",
   "execution_count": 8,
   "metadata": {},
   "outputs": [],
   "source": [
    "set.seed(1)\n",
    "scores <- sapply(1:nrow(schools), function(i){\n",
    "       scores <- rnorm(schools$size[i], schools$quality[i], 30)\n",
    "       scores\n",
    "})\n",
    "schools <- schools %>% mutate(score = sapply(scores, mean))"
   ]
  },
  {
   "cell_type": "code",
   "execution_count": null,
   "metadata": {},
   "outputs": [],
   "source": []
  }
 ],
 "metadata": {
  "kernelspec": {
   "display_name": "R",
   "language": "R",
   "name": "ir"
  },
  "language_info": {
   "codemirror_mode": "r",
   "file_extension": ".r",
   "mimetype": "text/x-r-source",
   "name": "R",
   "pygments_lexer": "r",
   "version": "3.3.2"
  }
 },
 "nbformat": 4,
 "nbformat_minor": 2
}
