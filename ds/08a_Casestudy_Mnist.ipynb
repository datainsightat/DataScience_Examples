{
 "cells": [
  {
   "cell_type": "code",
   "execution_count": 1,
   "metadata": {},
   "outputs": [
    {
     "name": "stderr",
     "output_type": "stream",
     "text": [
      "Updating HTML index of packages in '.Library'\n",
      "Making 'packages.html' ... done\n",
      "Updating HTML index of packages in '.Library'\n",
      "Making 'packages.html' ... done\n",
      "Updating HTML index of packages in '.Library'\n",
      "Making 'packages.html' ... done\n",
      "Updating HTML index of packages in '.Library'\n",
      "Making 'packages.html' ... done\n",
      "Updating HTML index of packages in '.Library'\n",
      "Making 'packages.html' ... done\n",
      "also installing the dependency ‘RcppArmadillo’\n",
      "\n",
      "Updating HTML index of packages in '.Library'\n",
      "Making 'packages.html' ... done\n",
      "Updating HTML index of packages in '.Library'\n",
      "Making 'packages.html' ... done\n"
     ]
    }
   ],
   "source": [
    "install.packages('dslabs')\n",
    "install.packages('matrixStats')\n",
    "install.packages('ggplot2')\n",
    "install.packages('e1071')\n",
    "install.packages('caret')\n",
    "install.packages('Rborist')\n",
    "install.packages('randomForest')"
   ]
  },
  {
   "cell_type": "code",
   "execution_count": 2,
   "metadata": {},
   "outputs": [],
   "source": [
    "library(dslabs)"
   ]
  },
  {
   "cell_type": "code",
   "execution_count": 3,
   "metadata": {},
   "outputs": [],
   "source": [
    "mnist <- read_mnist()"
   ]
  },
  {
   "cell_type": "code",
   "execution_count": 4,
   "metadata": {},
   "outputs": [
    {
     "data": {
      "text/html": [
       "<ol class=list-inline>\n",
       "\t<li>'train'</li>\n",
       "\t<li>'test'</li>\n",
       "</ol>\n"
      ],
      "text/latex": [
       "\\begin{enumerate*}\n",
       "\\item 'train'\n",
       "\\item 'test'\n",
       "\\end{enumerate*}\n"
      ],
      "text/markdown": [
       "1. 'train'\n",
       "2. 'test'\n",
       "\n",
       "\n"
      ],
      "text/plain": [
       "[1] \"train\" \"test\" "
      ]
     },
     "metadata": {},
     "output_type": "display_data"
    },
    {
     "data": {
      "text/html": [
       "<ol class=list-inline>\n",
       "\t<li>60000</li>\n",
       "\t<li>784</li>\n",
       "</ol>\n"
      ],
      "text/latex": [
       "\\begin{enumerate*}\n",
       "\\item 60000\n",
       "\\item 784\n",
       "\\end{enumerate*}\n"
      ],
      "text/markdown": [
       "1. 60000\n",
       "2. 784\n",
       "\n",
       "\n"
      ],
      "text/plain": [
       "[1] 60000   784"
      ]
     },
     "metadata": {},
     "output_type": "display_data"
    },
    {
     "data": {
      "text/html": [
       "'integer'"
      ],
      "text/latex": [
       "'integer'"
      ],
      "text/markdown": [
       "'integer'"
      ],
      "text/plain": [
       "[1] \"integer\""
      ]
     },
     "metadata": {},
     "output_type": "display_data"
    },
    {
     "data": {
      "text/plain": [
       "\n",
       "   0    1    2    3    4    5    6    7    8    9 \n",
       "5923 6742 5958 6131 5842 5421 5918 6265 5851 5949 "
      ]
     },
     "metadata": {},
     "output_type": "display_data"
    }
   ],
   "source": [
    "names(mnist)\n",
    "dim(mnist$train$images)\n",
    "class(mnist$train$labels)\n",
    "table(mnist$train$labels)"
   ]
  },
  {
   "cell_type": "code",
   "execution_count": 5,
   "metadata": {},
   "outputs": [],
   "source": [
    "set.seed(123)\n",
    "index <- sample(nrow(mnist$train$images),10000)\n",
    "x <- mnist$train$images[index,]\n",
    "y <- factor(mnist$train$labels[index])\n",
    "\n",
    "index <- sample(nrow(mnist$train$images),1000)\n",
    "x_test <- mnist$train$images[index,]\n",
    "y_test <- factor(mnist$train$labels[index])"
   ]
  },
  {
   "cell_type": "code",
   "execution_count": 6,
   "metadata": {},
   "outputs": [
    {
     "data": {},
     "metadata": {},
     "output_type": "display_data"
    },
    {
     "data": {
      "image/png": "[encoded data removed]",
      "text/plain": [
       "plot without title"
      ]
     },
     "metadata": {},
     "output_type": "display_data",
     "source": "R display func"
    }
   ],
   "source": [
    "library(matrixStats)\n",
    "library(ggplot2)\n",
    "\n",
    "sds <- colSds(x)\n",
    "qplot(sds, bins = 256, color = I('black'))"
   ]
  },
  {
   "cell_type": "code",
   "execution_count": 7,
   "metadata": {},
   "outputs": [
    {
     "name": "stderr",
     "output_type": "stream",
     "text": [
      "Loading required package: lattice\n"
     ]
    }
   ],
   "source": [
    "library(caret)\n",
    "nzv <- nearZeroVar(x)\n"
   ]
  },
  {
   "cell_type": "code",
   "execution_count": 8,
   "metadata": {},
   "outputs": [
    {
     "data": {
      "image/png": "[encoded data removed]",
      "text/plain": [
       "plot without title"
      ]
     },
     "metadata": {},
     "output_type": "display_data",
     "source": "R display func"
    }
   ],
   "source": [
    "image(matrix(1:784 %in% nzv, 28, 28))"
   ]
  },
  {
   "cell_type": "code",
   "execution_count": 9,
   "metadata": {},
   "outputs": [
    {
     "data": {
      "text/html": [
       "252"
      ],
      "text/latex": [
       "252"
      ],
      "text/markdown": [
       "252"
      ],
      "text/plain": [
       "[1] 252"
      ]
     },
     "metadata": {},
     "output_type": "display_data"
    }
   ],
   "source": [
    "col_index <- setdiff(1:ncol(x),nzv)\n",
    "length(col_index)"
   ]
  },
  {
   "cell_type": "code",
   "execution_count": 10,
   "metadata": {},
   "outputs": [],
   "source": [
    "colnames(x) <- 1:ncol(mnist$train$images)\n",
    "colnames(x_test) <- colnames(mnist$tr)"
   ]
  },
  {
   "cell_type": "code",
   "execution_count": 11,
   "metadata": {},
   "outputs": [],
   "source": [
    "control <- trainControl(method='cv',number=10,p=0.9)\n",
    "train_knn <- train(x[,col_index],y,\n",
    "                  method='knn',\n",
    "                  tuneGrid=data.frame(k=c(1,3,5,7)),\n",
    "                  trControl = control)"
   ]
  },
  {
   "cell_type": "code",
   "execution_count": 12,
   "metadata": {},
   "outputs": [
    {
     "data": {},
     "metadata": {},
     "output_type": "display_data"
    },
    {
     "data": {
      "image/png": "[encoded data removed]",
      "text/plain": [
       "plot without title"
      ]
     },
     "metadata": {},
     "output_type": "display_data",
     "source": "R display func"
    }
   ],
   "source": [
    "ggplot(train_knn)"
   ]
  },
  {
   "cell_type": "code",
   "execution_count": 13,
   "metadata": {},
   "outputs": [],
   "source": [
    "n <- 1000\n",
    "b <- 2\n",
    "index <- sample(nrow(x),n)\n",
    "control <- trainControl(method = 'cv', number = b, p = 0.9)\n",
    "train_knn <- train(x[index,col_index],y[index],\n",
    "                  method = 'knn',\n",
    "                  tuneGrid = data.frame(k=c(3,5,7)),\n",
    "                  trControl = control)"
   ]
  },
  {
   "cell_type": "code",
   "execution_count": 14,
   "metadata": {},
   "outputs": [
    {
     "data": {
      "text/html": [
       "<strong>Accuracy:</strong> 0.953"
      ],
      "text/latex": [
       "\\textbf{Accuracy:} 0.953"
      ],
      "text/markdown": [
       "**Accuracy:** 0.953"
      ],
      "text/plain": [
       "Accuracy \n",
       "   0.953 "
      ]
     },
     "metadata": {},
     "output_type": "display_data"
    }
   ],
   "source": [
    "fit_knn <- knn3(x[,col_index],y,k=3)\n",
    "y_hat_knn <- predict(fit_knn,\n",
    "                    x_test[,col_index],\n",
    "                    type='class')\n",
    "cm <- confusionMatrix(y_hat_knn,factor(y_test))\n",
    "cm$overall['Accuracy']"
   ]
  },
  {
   "cell_type": "code",
   "execution_count": 15,
   "metadata": {},
   "outputs": [
    {
     "data": {
      "text/html": [
       "<table>\n",
       "<thead><tr><th></th><th scope=col>Sensitivity</th><th scope=col>Specificity</th></tr></thead>\n",
       "<tbody>\n",
       "\t<tr><th scope=row>Class: 0</th><td>0.9800000</td><td>0.9966667</td></tr>\n",
       "\t<tr><th scope=row>Class: 1</th><td>0.9906542</td><td>0.9910414</td></tr>\n",
       "\t<tr><th scope=row>Class: 2</th><td>0.9223301</td><td>0.9977703</td></tr>\n",
       "\t<tr><th scope=row>Class: 3</th><td>0.9431818</td><td>0.9945175</td></tr>\n",
       "\t<tr><th scope=row>Class: 4</th><td>0.9189189</td><td>0.9966254</td></tr>\n",
       "\t<tr><th scope=row>Class: 5</th><td>0.9591837</td><td>0.9933481</td></tr>\n",
       "\t<tr><th scope=row>Class: 6</th><td>0.9895833</td><td>0.9966814</td></tr>\n",
       "\t<tr><th scope=row>Class: 7</th><td>0.9791667</td><td>0.9911504</td></tr>\n",
       "\t<tr><th scope=row>Class: 8</th><td>0.9072165</td><td>0.9977852</td></tr>\n",
       "\t<tr><th scope=row>Class: 9</th><td>0.9423077</td><td>0.9921875</td></tr>\n",
       "</tbody>\n",
       "</table>\n"
      ],
      "text/latex": [
       "\\begin{tabular}{r|ll}\n",
       "  & Sensitivity & Specificity\\\\\n",
       "\\hline\n",
       "\tClass: 0 & 0.9800000 & 0.9966667\\\\\n",
       "\tClass: 1 & 0.9906542 & 0.9910414\\\\\n",
       "\tClass: 2 & 0.9223301 & 0.9977703\\\\\n",
       "\tClass: 3 & 0.9431818 & 0.9945175\\\\\n",
       "\tClass: 4 & 0.9189189 & 0.9966254\\\\\n",
       "\tClass: 5 & 0.9591837 & 0.9933481\\\\\n",
       "\tClass: 6 & 0.9895833 & 0.9966814\\\\\n",
       "\tClass: 7 & 0.9791667 & 0.9911504\\\\\n",
       "\tClass: 8 & 0.9072165 & 0.9977852\\\\\n",
       "\tClass: 9 & 0.9423077 & 0.9921875\\\\\n",
       "\\end{tabular}\n"
      ],
      "text/markdown": [
       "\n",
       "| <!--/--> | Sensitivity | Specificity | \n",
       "|---|---|---|---|---|---|---|---|---|---|\n",
       "| Class: 0 | 0.9800000 | 0.9966667 | \n",
       "| Class: 1 | 0.9906542 | 0.9910414 | \n",
       "| Class: 2 | 0.9223301 | 0.9977703 | \n",
       "| Class: 3 | 0.9431818 | 0.9945175 | \n",
       "| Class: 4 | 0.9189189 | 0.9966254 | \n",
       "| Class: 5 | 0.9591837 | 0.9933481 | \n",
       "| Class: 6 | 0.9895833 | 0.9966814 | \n",
       "| Class: 7 | 0.9791667 | 0.9911504 | \n",
       "| Class: 8 | 0.9072165 | 0.9977852 | \n",
       "| Class: 9 | 0.9423077 | 0.9921875 | \n",
       "\n",
       "\n"
      ],
      "text/plain": [
       "         Sensitivity Specificity\n",
       "Class: 0 0.9800000   0.9966667  \n",
       "Class: 1 0.9906542   0.9910414  \n",
       "Class: 2 0.9223301   0.9977703  \n",
       "Class: 3 0.9431818   0.9945175  \n",
       "Class: 4 0.9189189   0.9966254  \n",
       "Class: 5 0.9591837   0.9933481  \n",
       "Class: 6 0.9895833   0.9966814  \n",
       "Class: 7 0.9791667   0.9911504  \n",
       "Class: 8 0.9072165   0.9977852  \n",
       "Class: 9 0.9423077   0.9921875  "
      ]
     },
     "metadata": {},
     "output_type": "display_data"
    }
   ],
   "source": [
    "cm$byClass[,1:2]"
   ]
  },
  {
   "cell_type": "code",
   "execution_count": 17,
   "metadata": {},
   "outputs": [
    {
     "data": {},
     "metadata": {},
     "output_type": "display_data"
    },
    {
     "data": {
      "image/png": "[encoded data removed]",
      "text/plain": [
       "plot without title"
      ]
     },
     "metadata": {},
     "output_type": "display_data",
     "source": "R display func"
    }
   ],
   "source": [
    "library(Rborist)\n",
    "control <- trainControl(method='cv',number=5,p=0.8)\n",
    "grid <- expand.grid(minNode=c(1,5),predFixed = c(10,15,25,35,50))\n",
    "\n",
    "train_rf <- train(x[,col_index],\n",
    "                 y,\n",
    "                 method='Rborist',\n",
    "                 nTree=50,\n",
    "                 trControl=control,\n",
    "                 trunGrid=grid,\n",
    "                 nSamp=5000)\n",
    "\n",
    "ggplot(train_rf)"
   ]
  },
  {
   "cell_type": "code",
   "execution_count": 18,
   "metadata": {},
   "outputs": [
    {
     "data": {
      "text/html": [
       "<table>\n",
       "<thead><tr><th></th><th scope=col>predFixed</th><th scope=col>minNode</th></tr></thead>\n",
       "<tbody>\n",
       "\t<tr><th scope=row>2</th><td>127</td><td>2  </td></tr>\n",
       "</tbody>\n",
       "</table>\n"
      ],
      "text/latex": [
       "\\begin{tabular}{r|ll}\n",
       "  & predFixed & minNode\\\\\n",
       "\\hline\n",
       "\t2 & 127 & 2  \\\\\n",
       "\\end{tabular}\n"
      ],
      "text/markdown": [
       "\n",
       "| <!--/--> | predFixed | minNode | \n",
       "|---|\n",
       "| 2 | 127 | 2   | \n",
       "\n",
       "\n"
      ],
      "text/plain": [
       "  predFixed minNode\n",
       "2 127       2      "
      ]
     },
     "metadata": {},
     "output_type": "display_data"
    }
   ],
   "source": [
    "train_rf$bestTune"
   ]
  },
  {
   "cell_type": "code",
   "execution_count": 19,
   "metadata": {},
   "outputs": [],
   "source": [
    "fit_rf <- Rborist(x[,col_index],y,\n",
    "                 nTree=1000,\n",
    "                 minNode = train_rf$bestTune$minNode,\n",
    "                 predFixed = train_rf$bestTune$predFixed)"
   ]
  },
  {
   "cell_type": "code",
   "execution_count": 21,
   "metadata": {},
   "outputs": [
    {
     "data": {
      "text/html": [
       "<strong>Accuracy:</strong> 0.949"
      ],
      "text/latex": [
       "\\textbf{Accuracy:} 0.949"
      ],
      "text/markdown": [
       "**Accuracy:** 0.949"
      ],
      "text/plain": [
       "Accuracy \n",
       "   0.949 "
      ]
     },
     "metadata": {},
     "output_type": "display_data"
    }
   ],
   "source": [
    "y_hat_rf <- factor(levels(y)[predict(fit_rf,x_test[,col_index])$yPred])\n",
    "cm <- confusionMatrix(y_hat_rf,y_test)\n",
    "cm$overall['Accuracy']"
   ]
  },
  {
   "cell_type": "code",
   "execution_count": 26,
   "metadata": {},
   "outputs": [
    {
     "data": {
      "text/html": [
       "<table>\n",
       "<thead><tr><th></th><th scope=col>MeanDecreaseGini</th></tr></thead>\n",
       "<tbody>\n",
       "\t<tr><th scope=row>1</th><td>0</td></tr>\n",
       "\t<tr><th scope=row>2</th><td>0</td></tr>\n",
       "\t<tr><th scope=row>3</th><td>0</td></tr>\n",
       "\t<tr><th scope=row>4</th><td>0</td></tr>\n",
       "\t<tr><th scope=row>5</th><td>0</td></tr>\n",
       "\t<tr><th scope=row>6</th><td>0</td></tr>\n",
       "\t<tr><th scope=row>7</th><td>0</td></tr>\n",
       "\t<tr><th scope=row>8</th><td>0</td></tr>\n",
       "\t<tr><th scope=row>9</th><td>0</td></tr>\n",
       "\t<tr><th scope=row>10</th><td>0</td></tr>\n",
       "\t<tr><th scope=row>11</th><td>0</td></tr>\n",
       "\t<tr><th scope=row>12</th><td>0</td></tr>\n",
       "\t<tr><th scope=row>13</th><td>0</td></tr>\n",
       "\t<tr><th scope=row>14</th><td>0</td></tr>\n",
       "\t<tr><th scope=row>15</th><td>0</td></tr>\n",
       "\t<tr><th scope=row>16</th><td>0</td></tr>\n",
       "\t<tr><th scope=row>17</th><td>0</td></tr>\n",
       "\t<tr><th scope=row>18</th><td>0</td></tr>\n",
       "\t<tr><th scope=row>19</th><td>0</td></tr>\n",
       "\t<tr><th scope=row>20</th><td>0</td></tr>\n",
       "\t<tr><th scope=row>21</th><td>0</td></tr>\n",
       "\t<tr><th scope=row>22</th><td>0</td></tr>\n",
       "\t<tr><th scope=row>23</th><td>0</td></tr>\n",
       "\t<tr><th scope=row>24</th><td>0</td></tr>\n",
       "\t<tr><th scope=row>25</th><td>0</td></tr>\n",
       "\t<tr><th scope=row>26</th><td>0</td></tr>\n",
       "\t<tr><th scope=row>27</th><td>0</td></tr>\n",
       "\t<tr><th scope=row>28</th><td>0</td></tr>\n",
       "\t<tr><th scope=row>29</th><td>0</td></tr>\n",
       "\t<tr><th scope=row>30</th><td>0</td></tr>\n",
       "\t<tr><th scope=row>⋮</th><td>⋮</td></tr>\n",
       "\t<tr><th scope=row>755</th><td>0.00000000</td></tr>\n",
       "\t<tr><th scope=row>756</th><td>0.00000000</td></tr>\n",
       "\t<tr><th scope=row>757</th><td>0.00000000</td></tr>\n",
       "\t<tr><th scope=row>758</th><td>0.00000000</td></tr>\n",
       "\t<tr><th scope=row>759</th><td>0.00000000</td></tr>\n",
       "\t<tr><th scope=row>760</th><td>0.00000000</td></tr>\n",
       "\t<tr><th scope=row>761</th><td>0.00000000</td></tr>\n",
       "\t<tr><th scope=row>762</th><td>0.00000000</td></tr>\n",
       "\t<tr><th scope=row>763</th><td>0.00000000</td></tr>\n",
       "\t<tr><th scope=row>764</th><td>0.00000000</td></tr>\n",
       "\t<tr><th scope=row>765</th><td>0.00000000</td></tr>\n",
       "\t<tr><th scope=row>766</th><td>0.00000000</td></tr>\n",
       "\t<tr><th scope=row>767</th><td>0.00000000</td></tr>\n",
       "\t<tr><th scope=row>768</th><td>0.00000000</td></tr>\n",
       "\t<tr><th scope=row>769</th><td>0.00000000</td></tr>\n",
       "\t<tr><th scope=row>770</th><td>0.00000000</td></tr>\n",
       "\t<tr><th scope=row>771</th><td>0.00000000</td></tr>\n",
       "\t<tr><th scope=row>772</th><td>0.00000000</td></tr>\n",
       "\t<tr><th scope=row>773</th><td>0.00000000</td></tr>\n",
       "\t<tr><th scope=row>774</th><td>0.00000000</td></tr>\n",
       "\t<tr><th scope=row>775</th><td>0.00000000</td></tr>\n",
       "\t<tr><th scope=row>776</th><td>0.03657895</td></tr>\n",
       "\t<tr><th scope=row>777</th><td>0.00000000</td></tr>\n",
       "\t<tr><th scope=row>778</th><td>0.00000000</td></tr>\n",
       "\t<tr><th scope=row>779</th><td>0.00000000</td></tr>\n",
       "\t<tr><th scope=row>780</th><td>0.00000000</td></tr>\n",
       "\t<tr><th scope=row>781</th><td>0.00000000</td></tr>\n",
       "\t<tr><th scope=row>782</th><td>0.00000000</td></tr>\n",
       "\t<tr><th scope=row>783</th><td>0.00000000</td></tr>\n",
       "\t<tr><th scope=row>784</th><td>0.00000000</td></tr>\n",
       "</tbody>\n",
       "</table>\n"
      ],
      "text/latex": [
       "\\begin{tabular}{r|l}\n",
       "  & MeanDecreaseGini\\\\\n",
       "\\hline\n",
       "\t1 & 0\\\\\n",
       "\t2 & 0\\\\\n",
       "\t3 & 0\\\\\n",
       "\t4 & 0\\\\\n",
       "\t5 & 0\\\\\n",
       "\t6 & 0\\\\\n",
       "\t7 & 0\\\\\n",
       "\t8 & 0\\\\\n",
       "\t9 & 0\\\\\n",
       "\t10 & 0\\\\\n",
       "\t11 & 0\\\\\n",
       "\t12 & 0\\\\\n",
       "\t13 & 0\\\\\n",
       "\t14 & 0\\\\\n",
       "\t15 & 0\\\\\n",
       "\t16 & 0\\\\\n",
       "\t17 & 0\\\\\n",
       "\t18 & 0\\\\\n",
       "\t19 & 0\\\\\n",
       "\t20 & 0\\\\\n",
       "\t21 & 0\\\\\n",
       "\t22 & 0\\\\\n",
       "\t23 & 0\\\\\n",
       "\t24 & 0\\\\\n",
       "\t25 & 0\\\\\n",
       "\t26 & 0\\\\\n",
       "\t27 & 0\\\\\n",
       "\t28 & 0\\\\\n",
       "\t29 & 0\\\\\n",
       "\t30 & 0\\\\\n",
       "\t⋮ & ⋮\\\\\n",
       "\t755 & 0.00000000\\\\\n",
       "\t756 & 0.00000000\\\\\n",
       "\t757 & 0.00000000\\\\\n",
       "\t758 & 0.00000000\\\\\n",
       "\t759 & 0.00000000\\\\\n",
       "\t760 & 0.00000000\\\\\n",
       "\t761 & 0.00000000\\\\\n",
       "\t762 & 0.00000000\\\\\n",
       "\t763 & 0.00000000\\\\\n",
       "\t764 & 0.00000000\\\\\n",
       "\t765 & 0.00000000\\\\\n",
       "\t766 & 0.00000000\\\\\n",
       "\t767 & 0.00000000\\\\\n",
       "\t768 & 0.00000000\\\\\n",
       "\t769 & 0.00000000\\\\\n",
       "\t770 & 0.00000000\\\\\n",
       "\t771 & 0.00000000\\\\\n",
       "\t772 & 0.00000000\\\\\n",
       "\t773 & 0.00000000\\\\\n",
       "\t774 & 0.00000000\\\\\n",
       "\t775 & 0.00000000\\\\\n",
       "\t776 & 0.03657895\\\\\n",
       "\t777 & 0.00000000\\\\\n",
       "\t778 & 0.00000000\\\\\n",
       "\t779 & 0.00000000\\\\\n",
       "\t780 & 0.00000000\\\\\n",
       "\t781 & 0.00000000\\\\\n",
       "\t782 & 0.00000000\\\\\n",
       "\t783 & 0.00000000\\\\\n",
       "\t784 & 0.00000000\\\\\n",
       "\\end{tabular}\n"
      ],
      "text/markdown": [
       "\n",
       "| <!--/--> | MeanDecreaseGini | \n",
       "|---|---|---|---|---|---|---|---|---|---|---|---|---|---|---|---|---|---|---|---|---|---|---|---|---|---|---|---|---|---|---|---|---|---|---|---|---|---|---|---|---|---|---|---|---|---|---|---|---|---|---|---|---|---|---|---|---|---|---|---|---|\n",
       "| 1 | 0 | \n",
       "| 2 | 0 | \n",
       "| 3 | 0 | \n",
       "| 4 | 0 | \n",
       "| 5 | 0 | \n",
       "| 6 | 0 | \n",
       "| 7 | 0 | \n",
       "| 8 | 0 | \n",
       "| 9 | 0 | \n",
       "| 10 | 0 | \n",
       "| 11 | 0 | \n",
       "| 12 | 0 | \n",
       "| 13 | 0 | \n",
       "| 14 | 0 | \n",
       "| 15 | 0 | \n",
       "| 16 | 0 | \n",
       "| 17 | 0 | \n",
       "| 18 | 0 | \n",
       "| 19 | 0 | \n",
       "| 20 | 0 | \n",
       "| 21 | 0 | \n",
       "| 22 | 0 | \n",
       "| 23 | 0 | \n",
       "| 24 | 0 | \n",
       "| 25 | 0 | \n",
       "| 26 | 0 | \n",
       "| 27 | 0 | \n",
       "| 28 | 0 | \n",
       "| 29 | 0 | \n",
       "| 30 | 0 | \n",
       "| ⋮ | ⋮ | \n",
       "| 755 | 0.00000000 | \n",
       "| 756 | 0.00000000 | \n",
       "| 757 | 0.00000000 | \n",
       "| 758 | 0.00000000 | \n",
       "| 759 | 0.00000000 | \n",
       "| 760 | 0.00000000 | \n",
       "| 761 | 0.00000000 | \n",
       "| 762 | 0.00000000 | \n",
       "| 763 | 0.00000000 | \n",
       "| 764 | 0.00000000 | \n",
       "| 765 | 0.00000000 | \n",
       "| 766 | 0.00000000 | \n",
       "| 767 | 0.00000000 | \n",
       "| 768 | 0.00000000 | \n",
       "| 769 | 0.00000000 | \n",
       "| 770 | 0.00000000 | \n",
       "| 771 | 0.00000000 | \n",
       "| 772 | 0.00000000 | \n",
       "| 773 | 0.00000000 | \n",
       "| 774 | 0.00000000 | \n",
       "| 775 | 0.00000000 | \n",
       "| 776 | 0.03657895 | \n",
       "| 777 | 0.00000000 | \n",
       "| 778 | 0.00000000 | \n",
       "| 779 | 0.00000000 | \n",
       "| 780 | 0.00000000 | \n",
       "| 781 | 0.00000000 | \n",
       "| 782 | 0.00000000 | \n",
       "| 783 | 0.00000000 | \n",
       "| 784 | 0.00000000 | \n",
       "\n",
       "\n"
      ],
      "text/plain": [
       "    MeanDecreaseGini\n",
       "1   0               \n",
       "2   0               \n",
       "3   0               \n",
       "4   0               \n",
       "5   0               \n",
       "6   0               \n",
       "7   0               \n",
       "8   0               \n",
       "9   0               \n",
       "10  0               \n",
       "11  0               \n",
       "12  0               \n",
       "13  0               \n",
       "14  0               \n",
       "15  0               \n",
       "16  0               \n",
       "17  0               \n",
       "18  0               \n",
       "19  0               \n",
       "20  0               \n",
       "21  0               \n",
       "22  0               \n",
       "23  0               \n",
       "24  0               \n",
       "25  0               \n",
       "26  0               \n",
       "27  0               \n",
       "28  0               \n",
       "29  0               \n",
       "30  0               \n",
       "⋮   ⋮               \n",
       "755 0.00000000      \n",
       "756 0.00000000      \n",
       "757 0.00000000      \n",
       "758 0.00000000      \n",
       "759 0.00000000      \n",
       "760 0.00000000      \n",
       "761 0.00000000      \n",
       "762 0.00000000      \n",
       "763 0.00000000      \n",
       "764 0.00000000      \n",
       "765 0.00000000      \n",
       "766 0.00000000      \n",
       "767 0.00000000      \n",
       "768 0.00000000      \n",
       "769 0.00000000      \n",
       "770 0.00000000      \n",
       "771 0.00000000      \n",
       "772 0.00000000      \n",
       "773 0.00000000      \n",
       "774 0.00000000      \n",
       "775 0.00000000      \n",
       "776 0.03657895      \n",
       "777 0.00000000      \n",
       "778 0.00000000      \n",
       "779 0.00000000      \n",
       "780 0.00000000      \n",
       "781 0.00000000      \n",
       "782 0.00000000      \n",
       "783 0.00000000      \n",
       "784 0.00000000      "
      ]
     },
     "metadata": {},
     "output_type": "display_data"
    }
   ],
   "source": [
    "library(randomForest)\n",
    "x <- mnist$train$images[index,]\n",
    "y <- factor(mnist$train$labels[index])\n",
    "rf <- randomForest(x,y,ntree=50)\n",
    "imp <- importance(rf)\n",
    "imp"
   ]
  },
  {
   "cell_type": "code",
   "execution_count": 27,
   "metadata": {},
   "outputs": [
    {
     "data": {
      "image/png": "[encoded data removed]",
      "text/plain": [
       "plot without title"
      ]
     },
     "metadata": {},
     "output_type": "display_data",
     "source": "R display func"
    }
   ],
   "source": [
    "image(matrix(imp,28,28))"
   ]
  },
  {
   "cell_type": "code",
   "execution_count": 30,
   "metadata": {},
   "outputs": [],
   "source": [
    "p_max <- predict(fit_knn,x_test[,col_index])\n",
    "p_max <- apply(p_max,1,max)\n",
    "ind <- which(y_hat_knn != y_test)\n",
    "ind <- ind[order(p_max[ind],decreasing=TRUE)]"
   ]
  },
  {
   "cell_type": "code",
   "execution_count": 32,
   "metadata": {},
   "outputs": [
    {
     "data": {
      "text/plain": [
       "Confusion Matrix and Statistics\n",
       "\n",
       "          Reference\n",
       "Prediction   0   1   2   3   4   5   6   7   8   9\n",
       "         0  99   0   1   1   1   0   0   0   0   0\n",
       "         1   0 106   2   0   3   0   0   1   1   0\n",
       "         2   0   0  97   3   0   0   0   0   1   0\n",
       "         3   0   0   0  84   0   1   0   0   2   0\n",
       "         4   0   0   0   0 103   0   1   0   0   1\n",
       "         5   0   0   0   0   0  94   0   0   1   2\n",
       "         6   0   0   0   0   0   1  95   0   0   0\n",
       "         7   0   0   3   0   1   0   0  94   0   2\n",
       "         8   0   0   0   0   0   1   0   0  92   0\n",
       "         9   1   1   0   0   3   1   0   1   0  99\n",
       "\n",
       "Overall Statistics\n",
       "                                          \n",
       "               Accuracy : 0.963           \n",
       "                 95% CI : (0.9494, 0.9738)\n",
       "    No Information Rate : 0.111           \n",
       "    P-Value [Acc > NIR] : < 2.2e-16       \n",
       "                                          \n",
       "                  Kappa : 0.9589          \n",
       " Mcnemar's Test P-Value : NA              \n",
       "\n",
       "Statistics by Class:\n",
       "\n",
       "                     Class: 0 Class: 1 Class: 2 Class: 3 Class: 4 Class: 5\n",
       "Sensitivity            0.9900   0.9907   0.9417   0.9545   0.9279   0.9592\n",
       "Specificity            0.9967   0.9922   0.9955   0.9967   0.9978   0.9967\n",
       "Pos Pred Value         0.9706   0.9381   0.9604   0.9655   0.9810   0.9691\n",
       "Neg Pred Value         0.9989   0.9989   0.9933   0.9956   0.9911   0.9956\n",
       "Prevalence             0.1000   0.1070   0.1030   0.0880   0.1110   0.0980\n",
       "Detection Rate         0.0990   0.1060   0.0970   0.0840   0.1030   0.0940\n",
       "Detection Prevalence   0.1020   0.1130   0.1010   0.0870   0.1050   0.0970\n",
       "Balanced Accuracy      0.9933   0.9914   0.9686   0.9756   0.9628   0.9779\n",
       "                     Class: 6 Class: 7 Class: 8 Class: 9\n",
       "Sensitivity            0.9896   0.9792   0.9485   0.9519\n",
       "Specificity            0.9989   0.9934   0.9989   0.9922\n",
       "Pos Pred Value         0.9896   0.9400   0.9892   0.9340\n",
       "Neg Pred Value         0.9989   0.9978   0.9945   0.9944\n",
       "Prevalence             0.0960   0.0960   0.0970   0.1040\n",
       "Detection Rate         0.0950   0.0940   0.0920   0.0990\n",
       "Detection Prevalence   0.0960   0.1000   0.0930   0.1060\n",
       "Balanced Accuracy      0.9942   0.9863   0.9737   0.9721"
      ]
     },
     "metadata": {},
     "output_type": "display_data"
    }
   ],
   "source": [
    "p_rf <- predict(fit_rf,x_test[,col_index])$census\n",
    "p_rf <- p_rf / rowSums(p_rf)\n",
    "p_knn <- predict(fit_knn,x_test[,col_index])\n",
    "p <- (p_rf + p_knn)/2\n",
    "y_pred <- factor(apply(p,1,which.max)-1)\n",
    "confusionMatrix(y_pred,y_test)"
   ]
  },
  {
   "cell_type": "code",
   "execution_count": null,
   "metadata": {},
   "outputs": [],
   "source": []
  }
 ],
 "metadata": {
  "kernelspec": {
   "display_name": "R",
   "language": "R",
   "name": "ir"
  },
  "language_info": {
   "codemirror_mode": "r",
   "file_extension": ".r",
   "mimetype": "text/x-r-source",
   "name": "R",
   "pygments_lexer": "r",
   "version": "3.3.2"
  }
 },
 "nbformat": 4,
 "nbformat_minor": 2
}
