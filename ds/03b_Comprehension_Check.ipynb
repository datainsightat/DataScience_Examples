{
 "cells": [
  {
   "cell_type": "code",
   "execution_count": 2,
   "metadata": {},
   "outputs": [
    {
     "name": "stderr",
     "output_type": "stream",
     "text": [
      "Loading tidyverse: ggplot2\n",
      "Loading tidyverse: tibble\n",
      "Loading tidyverse: tidyr\n",
      "Loading tidyverse: readr\n",
      "Loading tidyverse: purrr\n",
      "Loading tidyverse: dplyr\n",
      "Conflicts with tidy packages ---------------------------------------------------\n",
      "filter(): dplyr, stats\n",
      "lag():    dplyr, stats\n",
      "Loading required package: lattice\n",
      "\n",
      "Attaching package: ‘caret’\n",
      "\n",
      "The following object is masked from ‘package:purrr’:\n",
      "\n",
      "    lift\n",
      "\n"
     ]
    }
   ],
   "source": [
    "library('tidyverse')\n",
    "library('caret')"
   ]
  },
  {
   "cell_type": "code",
   "execution_count": 18,
   "metadata": {},
   "outputs": [
    {
     "data": {
      "text/html": [
       "'100 | 2.48866141143667 | 0.12439523591777'"
      ],
      "text/latex": [
       "'100 \\textbar{} 2.48866141143667 \\textbar{} 0.12439523591777'"
      ],
      "text/markdown": [
       "'100 | 2.48866141143667 | 0.12439523591777'"
      ],
      "text/plain": [
       "[1] \"100 | 2.48866141143667 | 0.12439523591777\""
      ]
     },
     "metadata": {},
     "output_type": "display_data"
    }
   ],
   "source": [
    "#Q1\n",
    "\n",
    "data <- function(x) {\n",
    "  set.seed(1)\n",
    "\n",
    "  n <- x\n",
    "\n",
    "  Sigma <- 9*matrix(c(1.0, 0.5, 0.5, 1.0), 2, 2)\n",
    "  dat <- MASS::mvrnorm(n = x, c(69, 69), Sigma) %>%#100, c(69, 69), Sigma) %>%\n",
    "    data.frame() %>% setNames(c(\"x\", \"y\"))\n",
    "}\n",
    "\n",
    "rmse <- function() {\n",
    "    \n",
    "  test_index <- createDataPartition(dat$y,times=1,p=0.50,list=FALSE)\n",
    "\n",
    "  train_set <- dat %>% slice(-test_index)\n",
    "  test_set <- dat %>% slice(test_index)\n",
    "    \n",
    "  fit <- lm(y ~ x, data = train_set)\n",
    "    \n",
    "  #y_hat <- fit$coef[1] + fit$coef[2]*test_set$x\n",
    "  y_hat <- predict(fit, test_set)\n",
    "\n",
    "  sqr_loss <- sqrt(mean((y_hat - test_set$y)^2))\n",
    "  rmse <- sqr_loss\n",
    "}\n",
    "\n",
    "list_ <- list()\n",
    "\n",
    "dat <- data(100)\n",
    "\n",
    "set.seed(1)\n",
    "\n",
    "rmse <- function() {\n",
    "    \n",
    "  test_index <- createDataPartition(dat$y,times=1,p=0.50,list=FALSE)\n",
    "\n",
    "  train_set <- dat %>% slice(-test_index)\n",
    "  test_set <- dat %>% slice(test_index)\n",
    "    \n",
    "  fit <- lm(y ~ x, data = train_set)\n",
    "    \n",
    "  y_hat <- predict(fit, test_set)\n",
    "\n",
    "  sqr_loss <- sqrt(mean((y_hat - test_set$y)^2))\n",
    "  rmse <- sqr_loss\n",
    "}\n",
    "\n",
    "list_ <- replicate(100,rmse())\n",
    "paste(nrow(dat),'|',mean(list_),'|',sd(list_), sep=' ')"
   ]
  },
  {
   "cell_type": "code",
   "execution_count": 19,
   "metadata": {},
   "outputs": [
    {
     "data": {
      "text/html": [
       "<table>\n",
       "<tbody>\n",
       "\t<tr><td>100  </td><td>500  </td><td>1000 </td><td>5000 </td><td>10000</td></tr>\n",
       "\t<tr><td>2.497754</td><td>2.720951</td><td>2.555545</td><td>2.624828</td><td>2.618442</td></tr>\n",
       "\t<tr><td>0.1180821 </td><td>0.08002108</td><td>0.04560258</td><td>0.02309673</td><td>0.01689205</td></tr>\n",
       "</tbody>\n",
       "</table>\n"
      ],
      "text/latex": [
       "\\begin{tabular}{lllll}\n",
       "\t 100   & 500   & 1000  & 5000  & 10000\\\\\n",
       "\t 2.497754 & 2.720951 & 2.555545 & 2.624828 & 2.618442\\\\\n",
       "\t 0.1180821  & 0.08002108 & 0.04560258 & 0.02309673 & 0.01689205\\\\\n",
       "\\end{tabular}\n"
      ],
      "text/markdown": [
       "\n",
       "| 100   | 500   | 1000  | 5000  | 10000 | \n",
       "| 2.497754 | 2.720951 | 2.555545 | 2.624828 | 2.618442 | \n",
       "| 0.1180821  | 0.08002108 | 0.04560258 | 0.02309673 | 0.01689205 | \n",
       "\n",
       "\n"
      ],
      "text/plain": [
       "     [,1]      [,2]       [,3]       [,4]       [,5]      \n",
       "[1,] 100       500        1000       5000       10000     \n",
       "[2,] 2.497754  2.720951   2.555545   2.624828   2.618442  \n",
       "[3,] 0.1180821 0.08002108 0.04560258 0.02309673 0.01689205"
      ]
     },
     "metadata": {},
     "output_type": "display_data"
    }
   ],
   "source": [
    "#Q2\n",
    "\n",
    "set.seed(1)\n",
    "\n",
    "rmse <- function(dat) {\n",
    "    test_index <- createDataPartition(dat$y,times=1,p=0.50,list=FALSE)\n",
    "    train_set <- dat %>% slice(-test_index)\n",
    "    test_set <- dat %>% slice(test_index)\n",
    "    fit <- lm(y ~ x, data = train_set)\n",
    "    y_hat <- predict(fit, test_set)\n",
    "    rmse_ <- sqrt(mean((y_hat - test_set$y)^2))\n",
    "}\n",
    "\n",
    "myRMSE <- function (size){        \n",
    "    Sigma <- 9*matrix(c(1.0, 0.5, 0.5, 1.0), 2, 2)\n",
    "    dat <- MASS::mvrnorm(n = size, c(69, 69), Sigma) %>% data.frame() %>% setNames(c(\"x\", \"y\"))\n",
    "    #set.seed(1)\n",
    "    RMSEs <- replicate(100,rmse(dat))\n",
    "    a <- mean(RMSEs)\n",
    "    b <- sd(RMSEs)\n",
    "    list( size,a, b)\n",
    "}\n",
    "\n",
    "size <- c(100, 500, 1000, 5000, 10000)\n",
    "sapply(size, myRMSE)"
   ]
  },
  {
   "cell_type": "code",
   "execution_count": 20,
   "metadata": {},
   "outputs": [
    {
     "data": {
      "text/html": [
       "'100 | 0.90998082132773 | 0.0624434722086335'"
      ],
      "text/latex": [
       "'100 \\textbar{} 0.90998082132773 \\textbar{} 0.0624434722086335'"
      ],
      "text/markdown": [
       "'100 | 0.90998082132773 | 0.0624434722086335'"
      ],
      "text/plain": [
       "[1] \"100 | 0.90998082132773 | 0.0624434722086335\""
      ]
     },
     "metadata": {},
     "output_type": "display_data"
    }
   ],
   "source": [
    "#Q4\n",
    "\n",
    "data <- function(x) {\n",
    "  set.seed(1)\n",
    "\n",
    "  n <- x\n",
    "\n",
    "  Sigma <- 9*matrix(c(1.0, 0.95, 0.95, 1.0), 2, 2)\n",
    "  dat <- MASS::mvrnorm(n = x, c(69, 69), Sigma) %>%#100, c(69, 69), Sigma) %>%\n",
    "    data.frame() %>% setNames(c(\"x\", \"y\"))\n",
    "}\n",
    "\n",
    "rmse <- function() {\n",
    "    \n",
    "  test_index <- createDataPartition(dat$y,times=1,p=0.50,list=FALSE)\n",
    "\n",
    "  train_set <- dat %>% slice(-test_index)\n",
    "  test_set <- dat %>% slice(test_index)\n",
    "    \n",
    "  fit <- lm(y ~ x, data = train_set)\n",
    "    \n",
    "  #y_hat <- fit$coef[1] + fit$coef[2]*test_set$x\n",
    "  y_hat <- predict(fit, test_set)\n",
    "\n",
    "  sqr_loss <- sqrt(mean((y_hat - test_set$y)^2))\n",
    "  rmse <- sqr_loss\n",
    "}\n",
    "\n",
    "list_ <- list()\n",
    "\n",
    "dat <- data(100)\n",
    "\n",
    "set.seed(1)\n",
    "\n",
    "rmse <- function() {\n",
    "    \n",
    "  test_index <- createDataPartition(dat$y,times=1,p=0.50,list=FALSE)\n",
    "\n",
    "  train_set <- dat %>% slice(-test_index)\n",
    "  test_set <- dat %>% slice(test_index)\n",
    "    \n",
    "  fit <- lm(y ~ x, data = train_set)\n",
    "    \n",
    "  y_hat <- predict(fit, test_set)\n",
    "\n",
    "  sqr_loss <- sqrt(mean((y_hat - test_set$y)^2))\n",
    "  rmse <- sqr_loss\n",
    "}\n",
    "\n",
    "list_ <- replicate(100,rmse())\n",
    "paste(nrow(dat),'|',mean(list_),'|',sd(list_), sep=' ')"
   ]
  },
  {
   "cell_type": "code",
   "execution_count": 28,
   "metadata": {},
   "outputs": [
    {
     "data": {
      "text/html": [
       "'100 | 0.636825360989932 | 0.0395596533777338'"
      ],
      "text/latex": [
       "'100 \\textbar{} 0.636825360989932 \\textbar{} 0.0395596533777338'"
      ],
      "text/markdown": [
       "'100 | 0.636825360989932 | 0.0395596533777338'"
      ],
      "text/plain": [
       "[1] \"100 | 0.636825360989932 | 0.0395596533777338\""
      ]
     },
     "metadata": {},
     "output_type": "display_data"
    },
    {
     "data": {
      "text/html": [
       "'100 | 0.650593846071729 | 0.0411308244346807'"
      ],
      "text/latex": [
       "'100 \\textbar{} 0.650593846071729 \\textbar{} 0.0411308244346807'"
      ],
      "text/markdown": [
       "'100 | 0.650593846071729 | 0.0411308244346807'"
      ],
      "text/plain": [
       "[1] \"100 | 0.650593846071729 | 0.0411308244346807\""
      ]
     },
     "metadata": {},
     "output_type": "display_data"
    },
    {
     "data": {
      "text/html": [
       "'100 | 0.34054277828898 | 0.0240581139195176'"
      ],
      "text/latex": [
       "'100 \\textbar{} 0.34054277828898 \\textbar{} 0.0240581139195176'"
      ],
      "text/markdown": [
       "'100 | 0.34054277828898 | 0.0240581139195176'"
      ],
      "text/plain": [
       "[1] \"100 | 0.34054277828898 | 0.0240581139195176\""
      ]
     },
     "metadata": {},
     "output_type": "display_data"
    }
   ],
   "source": [
    "#Q6\n",
    "\n",
    "set.seed(1)\n",
    "\n",
    "data_n <- function(x) {\n",
    "  #set.seed(1)\n",
    "\n",
    "  n <- x\n",
    "\n",
    "  Sigma <- matrix(c(1.0, 0.75, 0.75, 0.75, 1.0, 0.25, 0.75, 0.25, 1.0), 3, 3)\n",
    "  dat <- MASS::mvrnorm(n = 100, c(0, 0, 0), Sigma) %>% data.frame() %>% setNames(c(\"y\", \"x_1\", \"x_2\"))\n",
    "}\n",
    "\n",
    "rmse1 <- function() {\n",
    "    \n",
    "  test_index <- createDataPartition(dat$y,times=1,p=0.50,list=FALSE)\n",
    "\n",
    "  train_set <- dat %>% slice(-test_index)\n",
    "  test_set <- dat %>% slice(test_index)\n",
    "    \n",
    "  fit <- lm(y ~ x_1, data = train_set)\n",
    "    \n",
    "  y_hat <- predict(fit, test_set)\n",
    "\n",
    "  sqr_loss <- sqrt(mean((y_hat - test_set$y)^2))\n",
    "  rmse1 <- sqr_loss\n",
    "}\n",
    "\n",
    "rmse2 <- function() {\n",
    "    \n",
    "  test_index <- createDataPartition(dat$y,times=1,p=0.50,list=FALSE)\n",
    "\n",
    "  train_set <- dat %>% slice(-test_index)\n",
    "  test_set <- dat %>% slice(test_index)\n",
    "    \n",
    "  fit <- lm(y ~ x_2, data = train_set)\n",
    "    \n",
    "  y_hat <- predict(fit, test_set)\n",
    "\n",
    "  sqr_loss <- sqrt(mean((y_hat - test_set$y)^2))\n",
    "  rmse2 <- sqr_loss\n",
    "}\n",
    "\n",
    "rmse3 <- function() {\n",
    "    \n",
    "  test_index <- createDataPartition(dat$y,times=1,p=0.50,list=FALSE)\n",
    "\n",
    "  train_set <- dat %>% slice(-test_index)\n",
    "  test_set <- dat %>% slice(test_index)\n",
    "    \n",
    "  fit <- lm(y ~ x_1 + x_2, data = train_set)\n",
    "    \n",
    "  y_hat <- predict(fit, test_set)\n",
    "\n",
    "  sqr_loss <- sqrt(mean((y_hat - test_set$y)^2))\n",
    "  rmse3 <- sqr_loss\n",
    "}\n",
    "\n",
    "dat <- data_n(1000)\n",
    "\n",
    "#set.seed(1)\n",
    "\n",
    "list_ <- list()\n",
    "list_ <- replicate(100,rmse1())\n",
    "paste(nrow(dat),'|',mean(list_),'|',sd(list_), sep=' ')\n",
    "\n",
    "#set.seed(1)\n",
    "\n",
    "list_ <- list()\n",
    "list_ <- replicate(100,rmse2())\n",
    "paste(nrow(dat),'|',mean(list_),'|',sd(list_), sep=' ')\n",
    "\n",
    "#set.seed(1)\n",
    "\n",
    "list_ <- list()\n",
    "list_ <- replicate(100,rmse3())\n",
    "paste(nrow(dat),'|',mean(list_),'|',sd(list_), sep=' ')\n"
   ]
  },
  {
   "cell_type": "code",
   "execution_count": 22,
   "metadata": {},
   "outputs": [
    {
     "data": {
      "text/html": [
       "'100 | 0.630054241456967 | 0.0389696981060445'"
      ],
      "text/latex": [
       "'100 \\textbar{} 0.630054241456967 \\textbar{} 0.0389696981060445'"
      ],
      "text/markdown": [
       "'100 | 0.630054241456967 | 0.0389696981060445'"
      ],
      "text/plain": [
       "[1] \"100 | 0.630054241456967 | 0.0389696981060445\""
      ]
     },
     "metadata": {},
     "output_type": "display_data"
    },
    {
     "data": {
      "text/html": [
       "'100 | 0.638782677154345 | 0.0349594999405503'"
      ],
      "text/latex": [
       "'100 \\textbar{} 0.638782677154345 \\textbar{} 0.0349594999405503'"
      ],
      "text/markdown": [
       "'100 | 0.638782677154345 | 0.0349594999405503'"
      ],
      "text/plain": [
       "[1] \"100 | 0.638782677154345 | 0.0349594999405503\""
      ]
     },
     "metadata": {},
     "output_type": "display_data"
    },
    {
     "data": {
      "text/html": [
       "'100 | 0.631120518526634 | 0.0396635394750764'"
      ],
      "text/latex": [
       "'100 \\textbar{} 0.631120518526634 \\textbar{} 0.0396635394750764'"
      ],
      "text/markdown": [
       "'100 | 0.631120518526634 | 0.0396635394750764'"
      ],
      "text/plain": [
       "[1] \"100 | 0.631120518526634 | 0.0396635394750764\""
      ]
     },
     "metadata": {},
     "output_type": "display_data"
    }
   ],
   "source": [
    "#Q6\n",
    "\n",
    "set.seed(1)\n",
    "\n",
    "data_n <- function(x) {\n",
    "  set.seed(1)\n",
    "\n",
    "  n <- x\n",
    "\n",
    "  Sigma <- matrix(c(1.0, 0.75, 0.75, 0.75, 1.0, 0.95, 0.75, 0.95, 1.0), 3, 3)\n",
    "  dat <- MASS::mvrnorm(n = 100, c(0, 0, 0), Sigma) %>% data.frame() %>% setNames(c(\"y\", \"x_1\", \"x_2\"))\n",
    "}\n",
    "\n",
    "rmse1 <- function() {\n",
    "    \n",
    "  test_index <- createDataPartition(dat$y,times=1,p=0.50,list=FALSE)\n",
    "\n",
    "  train_set <- dat %>% slice(-test_index)\n",
    "  test_set <- dat %>% slice(test_index)\n",
    "    \n",
    "  fit <- lm(y ~ x_1, data = train_set)\n",
    "    \n",
    "  y_hat <- predict(fit, test_set)\n",
    "\n",
    "  sqr_loss <- sqrt(mean((y_hat - test_set$y)^2))\n",
    "  rmse1 <- sqr_loss\n",
    "}\n",
    "\n",
    "rmse2 <- function() {\n",
    "    \n",
    "  test_index <- createDataPartition(dat$y,times=1,p=0.50,list=FALSE)\n",
    "\n",
    "  train_set <- dat %>% slice(-test_index)\n",
    "  test_set <- dat %>% slice(test_index)\n",
    "    \n",
    "  fit <- lm(y ~ x_2, data = train_set)\n",
    "    \n",
    "  y_hat <- predict(fit, test_set)\n",
    "\n",
    "  sqr_loss <- sqrt(mean((y_hat - test_set$y)^2))\n",
    "  rmse2 <- sqr_loss\n",
    "}\n",
    "\n",
    "rmse3 <- function() {\n",
    "    \n",
    "  test_index <- createDataPartition(dat$y,times=1,p=0.50,list=FALSE)\n",
    "\n",
    "  train_set <- dat %>% slice(-test_index)\n",
    "  test_set <- dat %>% slice(test_index)\n",
    "    \n",
    "  fit <- lm(y ~ x_1 + x_2, data = train_set)\n",
    "    \n",
    "  y_hat <- predict(fit, test_set)\n",
    "\n",
    "  sqr_loss <- sqrt(mean((y_hat - test_set$y)^2))\n",
    "  rmse3 <- sqr_loss\n",
    "}\n",
    "\n",
    "dat <- data_n(100)\n",
    "\n",
    "set.seed(1)\n",
    "\n",
    "list_ <- list()\n",
    "list_ <- replicate(100,rmse1())\n",
    "paste(nrow(dat),'|',mean(list_),'|',sd(list_), sep=' ')\n",
    "\n",
    "set.seed(1)\n",
    "\n",
    "list_ <- list()\n",
    "list_ <- replicate(100,rmse2())\n",
    "paste(nrow(dat),'|',mean(list_),'|',sd(list_), sep=' ')\n",
    "\n",
    "set.seed(1)\n",
    "\n",
    "list_ <- list()\n",
    "list_ <- replicate(100,rmse3())\n",
    "paste(nrow(dat),'|',mean(list_),'|',sd(list_), sep=' ')\n"
   ]
  },
  {
   "cell_type": "code",
   "execution_count": 9,
   "metadata": {},
   "outputs": [
    {
     "data": {
      "text/html": [
       "'100 | 0.659786461850538 | 0'"
      ],
      "text/latex": [
       "'100 \\textbar{} 0.659786461850538 \\textbar{} 0'"
      ],
      "text/markdown": [
       "'100 | 0.659786461850538 | 0'"
      ],
      "text/plain": [
       "[1] \"100 | 0.659786461850538 | 0\""
      ]
     },
     "metadata": {},
     "output_type": "display_data"
    }
   ],
   "source": [
    "#Q6\n",
    "\n",
    "#set.seed(1)\n",
    "\n",
    "rmse3 <- function() {\n",
    "  set.seed(1)\n",
    "    \n",
    "  n <- 1000\n",
    "\n",
    "  Sigma <- matrix(c(1.0, 0.75, 0.75, 0.75, 1.0, 0.95, 0.75, 0.95, 1.0), 3, 3)\n",
    "  dat <- MASS::mvrnorm(n = 100, c(0, 0, 0), Sigma) %>% data.frame() %>% setNames(c(\"y\", \"x_1\", \"x_2\"))\n",
    "    \n",
    "  set.seed(1)\n",
    "    \n",
    "  test_index <- createDataPartition(dat$y,times=1,p=0.50,list=FALSE)\n",
    "\n",
    "  train_set <- dat %>% slice(-test_index)\n",
    "  test_set <- dat %>% slice(test_index)\n",
    "    \n",
    "  fit <- lm(y ~ x_1 + x_2, data = train_set)\n",
    "    \n",
    "  y_hat <- predict(fit, test_set)\n",
    "\n",
    "  sqr_loss <- sqrt(mean((y_hat - test_set$y)^2))\n",
    "  rmse3 <- sqr_loss\n",
    "}\n",
    "\n",
    "list_ <- list()\n",
    "list_ <- replicate(100,rmse3())\n",
    "paste(nrow(dat),'|',mean(list_),'|',sd(list_), sep=' ')\n"
   ]
  },
  {
   "cell_type": "code",
   "execution_count": null,
   "metadata": {},
   "outputs": [],
   "source": []
  },
  {
   "cell_type": "code",
   "execution_count": null,
   "metadata": {},
   "outputs": [],
   "source": []
  }
 ],
 "metadata": {
  "kernelspec": {
   "display_name": "R",
   "language": "R",
   "name": "ir"
  },
  "language_info": {
   "codemirror_mode": "r",
   "file_extension": ".r",
   "mimetype": "text/x-r-source",
   "name": "R",
   "pygments_lexer": "r",
   "version": "3.3.2"
  }
 },
 "nbformat": 4,
 "nbformat_minor": 2
}
