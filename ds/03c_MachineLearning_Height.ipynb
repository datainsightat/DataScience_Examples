{
 "cells": [
  {
   "cell_type": "code",
   "execution_count": 1,
   "metadata": {},
   "outputs": [
    {
     "name": "stderr",
     "output_type": "stream",
     "text": [
      "Updating HTML index of packages in '.Library'\n",
      "Making 'packages.html' ... done\n",
      "Warning message:\n",
      "“dependency ‘proxy’ is not available”also installing the dependencies ‘abind’, ‘Rcpp’, ‘CVST’, ‘DEoptimR’, ‘magic’, ‘numDeriv’, ‘SQUAREM’, ‘httpuv’, ‘later’, ‘promises’, ‘spData’, ‘gdata’, ‘TH.data’, ‘DRR’, ‘robustbase’, ‘sfsmisc’, ‘geometry’, ‘glue’, ‘profileModel’, ‘plotrix’, ‘lava’, ‘shiny’, ‘miniUI’, ‘rstudioapi’, ‘classInt’, ‘labelled’, ‘gplots’, ‘multcomp’, ‘crayon’, ‘dimRed’, ‘timeDate’, ‘ddalpha’, ‘purrr’, ‘rlang’, ‘gower’, ‘RcppRoll’, ‘tidyselect’, ‘brglm’, ‘gtools’, ‘qvcalc’, ‘plotmo’, ‘TeachingDemos’, ‘prodlim’, ‘combinat’, ‘questionr’, ‘ROCR’, ‘mvtnorm’, ‘modeltools’, ‘strucchange’, ‘coin’, ‘sandwich’, ‘ISwR’, ‘corpcor’, ‘cli’, ‘praise’, ‘recipes’, ‘withr’, ‘BradleyTerry2’, ‘e1071’, ‘earth’, ‘fastICA’, ‘gam’, ‘ipred’, ‘kernlab’, ‘klaR’, ‘ellipse’, ‘mda’, ‘mlbench’, ‘MLmetrics’, ‘party’, ‘pls’, ‘pROC’, ‘RANN’, ‘spls’, ‘subselect’, ‘pamr’, ‘superpc’, ‘Cubist’, ‘testthat’\n",
      "\n",
      "Updating HTML index of packages in '.Library'\n",
      "Making 'packages.html' ... done\n",
      "also installing the dependencies ‘ps’, ‘bindr’, ‘munsell’, ‘rematch’, ‘processx’, ‘fansi’, ‘utf8’, ‘assertthat’, ‘bindrcpp’, ‘pkgconfig’, ‘R6’, ‘plogr’, ‘DBI’, ‘scales’, ‘viridisLite’, ‘cellranger’, ‘callr’, ‘clipr’, ‘fs’, ‘whisker’, ‘stringi’, ‘pillar’, ‘broom’, ‘dplyr’, ‘dbplyr’, ‘forcats’, ‘ggplot2’, ‘haven’, ‘httr’, ‘jsonlite’, ‘lubridate’, ‘modelr’, ‘readr’, ‘readxl’, ‘reprex’, ‘stringr’, ‘tibble’, ‘tidyr’, ‘xml2’\n",
      "\n",
      "Warning message in install.packages(\"tidyverse\"):\n",
      "“installation of package ‘xml2’ had non-zero exit status”Warning message in install.packages(\"tidyverse\"):\n",
      "“installation of package ‘tibble’ had non-zero exit status”Warning message in install.packages(\"tidyverse\"):\n",
      "“installation of package ‘readr’ had non-zero exit status”Warning message in install.packages(\"tidyverse\"):\n",
      "“installation of package ‘dbplyr’ had non-zero exit status”Warning message in install.packages(\"tidyverse\"):\n",
      "“installation of package ‘readxl’ had non-zero exit status”Warning message in install.packages(\"tidyverse\"):\n",
      "“installation of package ‘broom’ had non-zero exit status”Warning message in install.packages(\"tidyverse\"):\n",
      "“installation of package ‘tidyverse’ had non-zero exit status”Updating HTML index of packages in '.Library'\n",
      "Making 'packages.html' ... done\n"
     ]
    }
   ],
   "source": [
    "install.packages('dslabs')\n",
    "install.packages('caret', dependencies = TRUE)\n",
    "install.packages('tidyverse')"
   ]
  },
  {
   "cell_type": "code",
   "execution_count": 1,
   "metadata": {},
   "outputs": [
    {
     "name": "stderr",
     "output_type": "stream",
     "text": [
      "Loading required package: lattice\n",
      "Loading required package: ggplot2\n",
      "Loading tidyverse: tibble\n",
      "Loading tidyverse: tidyr\n",
      "Loading tidyverse: readr\n",
      "Loading tidyverse: purrr\n",
      "Loading tidyverse: dplyr\n",
      "Conflicts with tidy packages ---------------------------------------------------\n",
      "filter(): dplyr, stats\n",
      "lag():    dplyr, stats\n",
      "lift():   purrr, caret\n"
     ]
    }
   ],
   "source": [
    "library('dslabs')\n",
    "library('caret')\n",
    "library('tidyverse')"
   ]
  },
  {
   "cell_type": "code",
   "execution_count": 2,
   "metadata": {},
   "outputs": [],
   "source": [
    "data(\"heights\")"
   ]
  },
  {
   "cell_type": "code",
   "execution_count": 3,
   "metadata": {},
   "outputs": [],
   "source": [
    "y <- heights$height"
   ]
  },
  {
   "cell_type": "code",
   "execution_count": 4,
   "metadata": {},
   "outputs": [],
   "source": [
    "set.seed(2)\n",
    "test_index <- createDataPartition(y, times = 1, p = 0.5, list = FALSE)\n",
    "\n",
    "train_set <- heights[-test_index,]\n",
    "test_set <- heights[test_index,]"
   ]
  },
  {
   "cell_type": "code",
   "execution_count": 9,
   "metadata": {},
   "outputs": [
    {
     "data": {
      "text/html": [
       "<table>\n",
       "<thead><tr><th scope=col>mean(sex == \"Female\")</th></tr></thead>\n",
       "<tbody>\n",
       "\t<tr><td>0.2424242</td></tr>\n",
       "</tbody>\n",
       "</table>\n"
      ],
      "text/latex": [
       "\\begin{tabular}{r|l}\n",
       " mean(sex == \"Female\")\\\\\n",
       "\\hline\n",
       "\t 0.2424242\\\\\n",
       "\\end{tabular}\n"
      ],
      "text/markdown": [
       "\n",
       "mean(sex == \"Female\") | \n",
       "|---|\n",
       "| 0.2424242 | \n",
       "\n",
       "\n"
      ],
      "text/plain": [
       "  mean(sex == \"Female\")\n",
       "1 0.2424242            "
      ]
     },
     "metadata": {},
     "output_type": "display_data"
    }
   ],
   "source": [
    "train_set %>%\n",
    "  filter(round(height)==66) %>%\n",
    "  summarize(mean(sex=='Female'))"
   ]
  },
  {
   "cell_type": "code",
   "execution_count": 10,
   "metadata": {},
   "outputs": [],
   "source": [
    "lm_fit <- mutate(train_set, y = as.numeric(sex == 'Female')) %>%\n",
    "  lm(y ~ height, data = .)"
   ]
  },
  {
   "cell_type": "code",
   "execution_count": 11,
   "metadata": {},
   "outputs": [
    {
     "data": {
      "text/plain": [
       "Confusion Matrix and Statistics\n",
       "\n",
       "          Reference\n",
       "Prediction Female Male\n",
       "    Female     20   15\n",
       "    Male       98  393\n",
       "                                          \n",
       "               Accuracy : 0.7852          \n",
       "                 95% CI : (0.7476, 0.8195)\n",
       "    No Information Rate : 0.7757          \n",
       "    P-Value [Acc > NIR] : 0.3218          \n",
       "                                          \n",
       "                  Kappa : 0.177           \n",
       " Mcnemar's Test P-Value : 1.22e-14        \n",
       "                                          \n",
       "            Sensitivity : 0.16949         \n",
       "            Specificity : 0.96324         \n",
       "         Pos Pred Value : 0.57143         \n",
       "         Neg Pred Value : 0.80041         \n",
       "             Prevalence : 0.22433         \n",
       "         Detection Rate : 0.03802         \n",
       "   Detection Prevalence : 0.06654         \n",
       "      Balanced Accuracy : 0.56636         \n",
       "                                          \n",
       "       'Positive' Class : Female          \n",
       "                                          "
      ]
     },
     "metadata": {},
     "output_type": "display_data"
    }
   ],
   "source": [
    "p_hat <- predict(lm_fit, test_set)\n",
    "y_hat <- ifelse(p_hat > 0.5, 'Female','Male') %>%\n",
    "  factor()\n",
    "confusionMatrix(y_hat,test_set$sex)"
   ]
  },
  {
   "cell_type": "markdown",
   "metadata": {},
   "source": [
    "Approach 3: Logistic Regression"
   ]
  },
  {
   "cell_type": "code",
   "execution_count": 12,
   "metadata": {},
   "outputs": [],
   "source": [
    "glm_fit <- train_set %>%\n",
    "  mutate(y = as.numeric(sex == 'Female')) %>%\n",
    "  glm(y ~ height, data = ., family = 'binomial')"
   ]
  },
  {
   "cell_type": "code",
   "execution_count": 14,
   "metadata": {},
   "outputs": [
    {
     "data": {
      "text/plain": [
       "Confusion Matrix and Statistics\n",
       "\n",
       "          Reference\n",
       "Prediction Female Male\n",
       "    Female     31   19\n",
       "    Male       87  389\n",
       "                                         \n",
       "               Accuracy : 0.7985         \n",
       "                 95% CI : (0.7616, 0.832)\n",
       "    No Information Rate : 0.7757         \n",
       "    P-Value [Acc > NIR] : 0.1138         \n",
       "                                         \n",
       "                  Kappa : 0.2718         \n",
       " Mcnemar's Test P-Value : 7.635e-11      \n",
       "                                         \n",
       "            Sensitivity : 0.26271        \n",
       "            Specificity : 0.95343        \n",
       "         Pos Pred Value : 0.62000        \n",
       "         Neg Pred Value : 0.81723        \n",
       "             Prevalence : 0.22433        \n",
       "         Detection Rate : 0.05894        \n",
       "   Detection Prevalence : 0.09506        \n",
       "      Balanced Accuracy : 0.60807        \n",
       "                                         \n",
       "       'Positive' Class : Female         \n",
       "                                         "
      ]
     },
     "metadata": {},
     "output_type": "display_data"
    }
   ],
   "source": [
    "p_hat_logit <- predict(glm_fit, newdata = test_set, type = 'response')\n",
    "y_hat_logit <- ifelse(p_hat_logit > 0.5, 'Female','Male') %>%\n",
    "  factor()\n",
    "confusionMatrix(y_hat_logit, test_set$sex)"
   ]
  },
  {
   "cell_type": "code",
   "execution_count": null,
   "metadata": {},
   "outputs": [],
   "source": []
  }
 ],
 "metadata": {
  "kernelspec": {
   "display_name": "R",
   "language": "R",
   "name": "ir"
  },
  "language_info": {
   "codemirror_mode": "r",
   "file_extension": ".r",
   "mimetype": "text/x-r-source",
   "name": "R",
   "pygments_lexer": "r",
   "version": "3.3.2"
  }
 },
 "nbformat": 4,
 "nbformat_minor": 2
}
