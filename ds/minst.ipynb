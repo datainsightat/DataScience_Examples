{
  "cells": [
    {
      "metadata": {
        "trusted": true,
        "collapsed": true
      },
      "cell_type": "code",
      "source": "install.packages('tidyverse')\ninstall.packages('funModeling')\ninstall.packages('Hmisc')\ninstall.packages('dslabs')",
      "execution_count": 1,
      "outputs": [
        {
          "output_type": "stream",
          "text": "Installing package into ‘/home/nbuser/R’\n(as ‘lib’ is unspecified)\nInstalling package into ‘/home/nbuser/R’\n(as ‘lib’ is unspecified)\nalso installing the dependency ‘moments’\n\nInstalling package into ‘/home/nbuser/R’\n(as ‘lib’ is unspecified)\nInstalling package into ‘/home/nbuser/R’\n(as ‘lib’ is unspecified)\n",
          "name": "stderr"
        }
      ]
    },
    {
      "metadata": {
        "trusted": true,
        "collapsed": true
      },
      "cell_type": "code",
      "source": "library(funModeling) \nlibrary(tidyverse) \nlibrary(Hmisc)\nlibrary(dslabs)",
      "execution_count": 2,
      "outputs": [
        {
          "output_type": "stream",
          "text": "Loading required package: Hmisc\nLoading required package: lattice\nLoading required package: survival\nLoading required package: Formula\nLoading required package: ggplot2\n\nAttaching package: ‘Hmisc’\n\nThe following objects are masked from ‘package:base’:\n\n    format.pval, units\n\nfunModeling v.1.6.8 :)\nExamples and tutorials at livebook.datascienceheroes.com\n\n── Attaching packages ─────────────────────────────────────── tidyverse 1.2.1 ──\n✔ tibble  1.4.1     ✔ purrr   0.2.4\n✔ tidyr   0.7.2     ✔ dplyr   0.7.4\n✔ readr   1.1.1     ✔ stringr 1.3.1\n✔ tibble  1.4.1     ✔ forcats 0.2.0\n── Conflicts ────────────────────────────────────────── tidyverse_conflicts() ──\n✖ dplyr::filter()    masks stats::filter()\n✖ dplyr::lag()       masks stats::lag()\n✖ dplyr::src()       masks Hmisc::src()\n✖ dplyr::summarize() masks Hmisc::summarize()\n",
          "name": "stderr"
        }
      ]
    },
    {
      "metadata": {
        "trusted": true
      },
      "cell_type": "code",
      "source": "minst <- read_mnist()",
      "execution_count": 12,
      "outputs": []
    },
    {
      "metadata": {
        "trusted": true
      },
      "cell_type": "code",
      "source": "glimpse(minst[2])\nncol(minst$train$images)",
      "execution_count": 13,
      "outputs": [
        {
          "output_type": "stream",
          "text": "List of 1\n $ test:List of 2\n  ..$ images: int [1:10000, 1:784] 0 0 0 0 0 0 0 0 0 0 ...\n  ..$ labels: int [1:10000] 7 2 1 0 4 1 4 9 5 9 ...\n",
          "name": "stdout"
        },
        {
          "output_type": "display_data",
          "data": {
            "text/plain": "[1] 784",
            "text/latex": "784",
            "text/markdown": "784",
            "text/html": "784"
          },
          "metadata": {}
        }
      ]
    },
    {
      "metadata": {
        "trusted": true
      },
      "cell_type": "code",
      "source": "library(dslabs)\nlibrary(dplyr)\nlibrary(lubridate)\n\ndata(\"reported_heights\")\n\ndat <- mutate(reported_heights, date_time = ymd_hms(time_stamp)) %>%\n  filter(date_time >= make_date(2016, 01, 25) & date_time < make_date(2016, 02, 1)) %>%\n  mutate(type = ifelse(day(date_time) == 25 & hour(date_time) == 8 & between(minute(date_time), 15, 30), \"inclass\",\"online\")) %>%\n  select(sex, type)\n\ny <- factor(dat$sex, c(\"Female\", \"Male\"))\nx <- dat$type",
      "execution_count": 14,
      "outputs": [
        {
          "output_type": "stream",
          "text": "\nAttaching package: ‘lubridate’\n\nThe following object is masked from ‘package:base’:\n\n    date\n\n",
          "name": "stderr"
        }
      ]
    },
    {
      "metadata": {
        "trusted": true
      },
      "cell_type": "code",
      "source": "table(dat)",
      "execution_count": 35,
      "outputs": [
        {
          "output_type": "display_data",
          "data": {
            "text/plain": "        type\nsex      inclass online\n  Female      26     42"
          },
          "metadata": {}
        },
        {
          "output_type": "display_data",
          "data": {
            "text/plain": "        type\nsex      inclass online\n  Female      26     42\n  Male        13     69"
          },
          "metadata": {}
        }
      ]
    },
    {
      "metadata": {
        "trusted": true
      },
      "cell_type": "code",
      "source": "26/(26+13)\n42/(42+69)",
      "execution_count": 36,
      "outputs": [
        {
          "output_type": "display_data",
          "data": {
            "text/plain": "[1] 0.6666667",
            "text/latex": "0.666666666666667",
            "text/markdown": "0.666666666666667",
            "text/html": "0.666666666666667"
          },
          "metadata": {}
        },
        {
          "output_type": "display_data",
          "data": {
            "text/plain": "[1] 0.3783784",
            "text/latex": "0.378378378378378",
            "text/markdown": "0.378378378378378",
            "text/html": "0.378378378378378"
          },
          "metadata": {}
        }
      ]
    },
    {
      "metadata": {
        "trusted": true
      },
      "cell_type": "code",
      "source": "",
      "execution_count": null,
      "outputs": []
    }
  ],
  "metadata": {
    "kernelspec": {
      "name": "r",
      "display_name": "R",
      "language": "R"
    },
    "language_info": {
      "mimetype": "text/x-r-source",
      "name": "R",
      "pygments_lexer": "r",
      "version": "3.4.1",
      "file_extension": ".r",
      "codemirror_mode": "r"
    }
  },
  "nbformat": 4,
  "nbformat_minor": 2
}