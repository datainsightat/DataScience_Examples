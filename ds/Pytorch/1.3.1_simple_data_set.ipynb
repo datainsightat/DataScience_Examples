{
 "cells": [
  {
   "cell_type": "markdown",
   "metadata": {},
   "source": [
    "\n",
    "\n",
    "<img src = \"https://ibm.box.com/shared/static/ugcqz6ohbvff804xp84y4kqnvvk3bq1g.png\" width = 200, align = \"center\">\n",
    "\n",
    "<h1 align=center>Simple Dataset <font size = 5>\n",
    "   </font></h1> "
   ]
  },
  {
   "cell_type": "markdown",
   "metadata": {},
   "source": [
    "# Table of Contents\n",
    "In this lab, you will construct a basic dataset by using Pytorch and learn how to apply basic transformations to it. \n",
    "\n",
    "<div class=\"alert alert-block alert-info\" style=\"margin-top: 20px\">\n",
    "<li><a href=\"#ref0\">Simple dataset  </a></li>\n",
    "<li><a href=\"#ref1\">Transforms </a></li>\n",
    "<li><a href=\"#ref2\">Compose </a></li>\n",
    "<li><a href=\"#ref3\">Practice</a></li>\n",
    "\n",
    "<br>\n",
    "<p></p>\n",
    "Estimated Time Needed: <strong>30 min</strong>\n",
    "</div>\n",
    "\n",
    "<hr>"
   ]
  },
  {
   "cell_type": "markdown",
   "metadata": {},
   "source": [
    "Import these modules: "
   ]
  },
  {
   "cell_type": "code",
   "execution_count": 1,
   "metadata": {},
   "outputs": [
    {
     "data": {
      "text/plain": [
       "<torch._C.Generator at 0x7f0503a34a10>"
      ]
     },
     "execution_count": 1,
     "metadata": {},
     "output_type": "execute_result"
    }
   ],
   "source": [
    "import torch\n",
    "from torch.utils.data import Dataset\n",
    "torch.manual_seed(1)"
   ]
  },
  {
   "cell_type": "markdown",
   "metadata": {},
   "source": [
    "<a id=\"ref0\"></a>\n",
    "<h2>Simple dataset</h2>"
   ]
  },
  {
   "cell_type": "markdown",
   "metadata": {},
   "source": [
    "Create a dataset class:"
   ]
  },
  {
   "cell_type": "code",
   "execution_count": 2,
   "metadata": {},
   "outputs": [],
   "source": [
    "class toy_set(Dataset):\n",
    "    \n",
    "    def __init__(self,length=100,transform=None):\n",
    "\n",
    "        self.len=length\n",
    "        self.x=2*torch.ones(length,2)\n",
    "        self.y=torch.ones(length,1)\n",
    "        self.transform = transform\n",
    "        \n",
    "    def __getitem__(self,index):\n",
    "\n",
    "        sample= self.x[index] ,self.y[index]\n",
    "        if self.transform:\n",
    "            \n",
    "            sample= self.transform(sample)     \n",
    "   \n",
    "        return sample\n",
    "    \n",
    "    def __len__(self):\n",
    "        return self.len\n",
    "    "
   ]
  },
  {
   "cell_type": "markdown",
   "metadata": {},
   "source": [
    "Create a dataset object: "
   ]
  },
  {
   "cell_type": "code",
   "execution_count": 3,
   "metadata": {},
   "outputs": [],
   "source": [
    "data_set=toy_set()"
   ]
  },
  {
   "cell_type": "markdown",
   "metadata": {},
   "source": [
    "Find the number of samples in the dataset: "
   ]
  },
  {
   "cell_type": "code",
   "execution_count": 4,
   "metadata": {},
   "outputs": [
    {
     "data": {
      "text/plain": [
       "100"
      ]
     },
     "execution_count": 4,
     "metadata": {},
     "output_type": "execute_result"
    }
   ],
   "source": [
    "len(data_set)"
   ]
  },
  {
   "cell_type": "markdown",
   "metadata": {},
   "source": [
    "Access the first index x and y: "
   ]
  },
  {
   "cell_type": "code",
   "execution_count": 5,
   "metadata": {},
   "outputs": [
    {
     "data": {
      "text/plain": [
       "(tensor([2., 2.]), tensor([1.]))"
      ]
     },
     "execution_count": 5,
     "metadata": {},
     "output_type": "execute_result"
    }
   ],
   "source": [
    "data_set[0]"
   ]
  },
  {
   "cell_type": "markdown",
   "metadata": {},
   "source": [
    "Print out the first 3 elements and assign them to x and y:"
   ]
  },
  {
   "cell_type": "code",
   "execution_count": 6,
   "metadata": {},
   "outputs": [
    {
     "name": "stdout",
     "output_type": "stream",
     "text": [
      "0 x: tensor([2., 2.]) y: tensor([1.])\n",
      "1 x: tensor([2., 2.]) y: tensor([1.])\n",
      "2 x: tensor([2., 2.]) y: tensor([1.])\n"
     ]
    }
   ],
   "source": [
    "for i in range(3):\n",
    "    x,y=data_set[i]\n",
    "    print(i,'x:',x,'y:',y)"
   ]
  },
  {
   "cell_type": "markdown",
   "metadata": {},
   "source": [
    "<a id=\"ref1\"></a>\n",
    "<h2>Transforms</h2>"
   ]
  },
  {
   "cell_type": "markdown",
   "metadata": {},
   "source": [
    "You can create a class for transforming the data. In this case, add one to x and multiply y by 1:"
   ]
  },
  {
   "cell_type": "code",
   "execution_count": 7,
   "metadata": {},
   "outputs": [],
   "source": [
    "class add_mult(object):   \n",
    "    def __init__(self,addx=1,muly=1):\n",
    "        self.addx=addx\n",
    "        self.muly=muly\n",
    "        \n",
    "    def __call__(self, sample):\n",
    "        x=sample[0]\n",
    "        y=sample[1]\n",
    "        x= x+self.addx\n",
    "        y=y*self.muly\n",
    "        sample=x,y\n",
    "        return sample"
   ]
  },
  {
   "cell_type": "markdown",
   "metadata": {},
   "source": [
    "Create a transform object: "
   ]
  },
  {
   "cell_type": "code",
   "execution_count": 8,
   "metadata": {},
   "outputs": [],
   "source": [
    "a_m=add_mult()"
   ]
  },
  {
   "cell_type": "markdown",
   "metadata": {},
   "source": [
    "Assign the outputs of the original dataset to <code>x</code> and <code>y</code>. Then, apply the transform to the dataset and output the values as <code>x_</code> and <code>y_</code>, respectively: "
   ]
  },
  {
   "cell_type": "code",
   "execution_count": 9,
   "metadata": {},
   "outputs": [
    {
     "name": "stdout",
     "output_type": "stream",
     "text": [
      "x: tensor([2., 2.]) y: tensor([1.])\n",
      "0 x_: tensor([3., 3.]) y_: tensor([1.])\n",
      "x: tensor([2., 2.]) y: tensor([1.])\n",
      "1 x_: tensor([3., 3.]) y_: tensor([1.])\n",
      "x: tensor([2., 2.]) y: tensor([1.])\n",
      "2 x_: tensor([3., 3.]) y_: tensor([1.])\n",
      "x: tensor([2., 2.]) y: tensor([1.])\n",
      "3 x_: tensor([3., 3.]) y_: tensor([1.])\n",
      "x: tensor([2., 2.]) y: tensor([1.])\n",
      "4 x_: tensor([3., 3.]) y_: tensor([1.])\n",
      "x: tensor([2., 2.]) y: tensor([1.])\n",
      "5 x_: tensor([3., 3.]) y_: tensor([1.])\n",
      "x: tensor([2., 2.]) y: tensor([1.])\n",
      "6 x_: tensor([3., 3.]) y_: tensor([1.])\n",
      "x: tensor([2., 2.]) y: tensor([1.])\n",
      "7 x_: tensor([3., 3.]) y_: tensor([1.])\n",
      "x: tensor([2., 2.]) y: tensor([1.])\n",
      "8 x_: tensor([3., 3.]) y_: tensor([1.])\n",
      "x: tensor([2., 2.]) y: tensor([1.])\n",
      "9 x_: tensor([3., 3.]) y_: tensor([1.])\n"
     ]
    }
   ],
   "source": [
    "for i in range(10):\n",
    "    x,y=data_set[i]\n",
    "    print('x:',x,'y:',y)\n",
    "    x_,y_=a_m(data_set[i])\n",
    "    print(i,'x_:',x_,'y_:',y_)"
   ]
  },
  {
   "cell_type": "markdown",
   "metadata": {},
   "source": [
    "If you place the transform object in the dataset constructor through the parameter <code>transform </code> and assign it to the <code>data_set_</code>, you can apply the transform every time that you use the call method.\n"
   ]
  },
  {
   "cell_type": "code",
   "execution_count": 10,
   "metadata": {},
   "outputs": [],
   "source": [
    "data_set_=toy_set(transform=a_m)"
   ]
  },
  {
   "cell_type": "markdown",
   "metadata": {},
   "source": [
    "Compare the original dataset <code>data_set</code> and the dataset with the transform <code>data_set_</code>. You see the dataset <code>data_set_</code> has had the transform applied. "
   ]
  },
  {
   "cell_type": "code",
   "execution_count": 11,
   "metadata": {},
   "outputs": [
    {
     "name": "stdout",
     "output_type": "stream",
     "text": [
      "x: tensor([2., 2.]) y: tensor([1.])\n",
      "0 x_: tensor([3., 3.]) y_: tensor([1.])\n",
      "x: tensor([2., 2.]) y: tensor([1.])\n",
      "1 x_: tensor([3., 3.]) y_: tensor([1.])\n",
      "x: tensor([2., 2.]) y: tensor([1.])\n",
      "2 x_: tensor([3., 3.]) y_: tensor([1.])\n",
      "x: tensor([2., 2.]) y: tensor([1.])\n",
      "3 x_: tensor([3., 3.]) y_: tensor([1.])\n",
      "x: tensor([2., 2.]) y: tensor([1.])\n",
      "4 x_: tensor([3., 3.]) y_: tensor([1.])\n",
      "x: tensor([2., 2.]) y: tensor([1.])\n",
      "5 x_: tensor([3., 3.]) y_: tensor([1.])\n",
      "x: tensor([2., 2.]) y: tensor([1.])\n",
      "6 x_: tensor([3., 3.]) y_: tensor([1.])\n",
      "x: tensor([2., 2.]) y: tensor([1.])\n",
      "7 x_: tensor([3., 3.]) y_: tensor([1.])\n",
      "x: tensor([2., 2.]) y: tensor([1.])\n",
      "8 x_: tensor([3., 3.]) y_: tensor([1.])\n",
      "x: tensor([2., 2.]) y: tensor([1.])\n",
      "9 x_: tensor([3., 3.]) y_: tensor([1.])\n"
     ]
    }
   ],
   "source": [
    "for i in range(10):\n",
    "    x,y=data_set[i]\n",
    "    print('x:',x,'y:',y)\n",
    "    x_,y_=data_set_[i]\n",
    "    print(i,'x_:',x_,'y_:',y_)"
   ]
  },
  {
   "cell_type": "markdown",
   "metadata": {},
   "source": [
    "<a id=\"ref2\"></a>\n",
    "<h2>Compose</h2>"
   ]
  },
  {
   "cell_type": "markdown",
   "metadata": {},
   "source": [
    "You can compose multiple transforms on the dataset object. First, import <code>transforms</code> from torch vision:"
   ]
  },
  {
   "cell_type": "code",
   "execution_count": 12,
   "metadata": {},
   "outputs": [],
   "source": [
    "from torchvision import transforms"
   ]
  },
  {
   "cell_type": "markdown",
   "metadata": {},
   "source": [
    "Create a transform that multiplies each of the elements by 100: "
   ]
  },
  {
   "cell_type": "code",
   "execution_count": 13,
   "metadata": {},
   "outputs": [],
   "source": [
    "class mult(object):   \n",
    "    def __init__(self,mult=100):\n",
    "        self.mult=mult     \n",
    "    def __call__(self, sample):\n",
    "        x=sample[0]\n",
    "        y=sample[1]\n",
    "        x= x*self.mult\n",
    "        y=y*self.mult\n",
    "        sample=x,y\n",
    "        return sample"
   ]
  },
  {
   "cell_type": "markdown",
   "metadata": {},
   "source": [
    "Combine the transforms:"
   ]
  },
  {
   "cell_type": "code",
   "execution_count": 14,
   "metadata": {},
   "outputs": [
    {
     "data": {
      "text/plain": [
       "Compose(\n",
       "    <__main__.add_mult object at 0x7f04b9951d30>\n",
       "    <__main__.mult object at 0x7f04b9951eb8>\n",
       ")"
      ]
     },
     "execution_count": 14,
     "metadata": {},
     "output_type": "execute_result"
    }
   ],
   "source": [
    "data_transform = transforms.Compose([add_mult(),mult()])\n",
    "\n",
    "data_transform"
   ]
  },
  {
   "cell_type": "markdown",
   "metadata": {},
   "source": [
    "The new object will perform each transform concurrently as shown in this figure:"
   ]
  },
  {
   "cell_type": "markdown",
   "metadata": {},
   "source": [
    "<img src = \"https://ibm.box.com/shared/static/vlebz8gf6be31gjrpawonvmyzanivmzo.png\" width = 500, align = \"center\">\n"
   ]
  },
  {
   "cell_type": "markdown",
   "metadata": {},
   "source": [
    "If you we place the transform object in the dataset constructor through the parameter transform and assign it to the data_set_, you can apply the transform every time that you use the call method."
   ]
  },
  {
   "cell_type": "code",
   "execution_count": 15,
   "metadata": {},
   "outputs": [],
   "source": [
    "data_set_tr=toy_set(transform=data_transform)"
   ]
  },
  {
   "cell_type": "markdown",
   "metadata": {},
   "source": [
    "Compare the output after different transforms have been applied: "
   ]
  },
  {
   "cell_type": "code",
   "execution_count": 16,
   "metadata": {},
   "outputs": [
    {
     "name": "stdout",
     "output_type": "stream",
     "text": [
      "index: 0 x: tensor([2., 2.]) y: tensor([1.])\n",
      "index: 0 x_: tensor([3., 3.]) y_: tensor([1.])\n",
      "index: 0 x_tr: tensor([300., 300.]) y_tr: tensor([100.])\n",
      "index: 1 x: tensor([2., 2.]) y: tensor([1.])\n",
      "index: 1 x_: tensor([3., 3.]) y_: tensor([1.])\n",
      "index: 1 x_tr: tensor([300., 300.]) y_tr: tensor([100.])\n",
      "index: 2 x: tensor([2., 2.]) y: tensor([1.])\n",
      "index: 2 x_: tensor([3., 3.]) y_: tensor([1.])\n",
      "index: 2 x_tr: tensor([300., 300.]) y_tr: tensor([100.])\n"
     ]
    }
   ],
   "source": [
    "for i in range(3):\n",
    "    x,y=data_set[i]\n",
    "    print('index:',i,'x:',x,'y:',y)\n",
    "    x_,y_=data_set_[i]\n",
    "    print('index:',i,'x_:',x_,'y_:',y_)\n",
    "    x_tr,y_tr=data_set_tr[i]\n",
    "    print('index:',i,'x_tr:', x_tr ,'y_tr:',y_tr)"
   ]
  },
  {
   "cell_type": "markdown",
   "metadata": {},
   "source": [
    "<a id=\"ref3\"></a>\n",
    "<h2>Practice</h2>"
   ]
  },
  {
   "cell_type": "markdown",
   "metadata": {},
   "source": [
    "Construct your own **my_add_mult** class by adding x and y with 1 and multiply both x and y by 2."
   ]
  },
  {
   "cell_type": "code",
   "execution_count": null,
   "metadata": {},
   "outputs": [],
   "source": [
    "class my_add_mult(object):   \n",
    "    def __init__(self,add=1,mul=2):\n",
    "        self.add=add\n",
    "        self.mul=mul\n",
    "        \n",
    "    def __call__(self, sample):\n",
    "        x=sample[0]\n",
    "        y=sample[1]\n",
    "        x= x+self.add\n",
    "        y= y+self.add\n",
    "        x=x*self.mul\n",
    "        y=y*self.mul\n",
    "        sample=x,y\n",
    "        return sample"
   ]
  },
  {
   "cell_type": "markdown",
   "metadata": {},
   "source": [
    "Double-click __here__ for the solution.\n",
    "<!--\n",
    "class my_add_mult(object):   \n",
    "    def __init__(self,add=1,mul=2):\n",
    "        self.add=add\n",
    "        self.mul=mul\n",
    "        \n",
    "    def __call__(self, sample):\n",
    "        x=sample[0]\n",
    "        y=sample[1]\n",
    "        x=x+self.add\n",
    "        y=y+self.add\n",
    "        x=x*self.mul\n",
    "        y=y*self.mul\n",
    "        sample=x,y\n",
    "        return sample\n",
    "-->"
   ]
  },
  {
   "cell_type": "markdown",
   "metadata": {},
   "source": [
    "Apply the **my_add_mult** on the toy_set() dataset. Use the for loop with range(3) to print the resulting dataset."
   ]
  },
  {
   "cell_type": "markdown",
   "metadata": {},
   "source": [
    "Double-click __here__ for the solution.\n",
    "<!--\n",
    "data_set=toy_set()\n",
    "a_m=my_add_mult()\n",
    "for i in range(3):\n",
    "    x,y=data_set[i]\n",
    "    print('x:',x,'y:',y)\n",
    "    x_,y_=a_m(data_set[i])\n",
    "    print(i,'x_:',x_,'y_:',y_)\n",
    "-->"
   ]
  },
  {
   "cell_type": "markdown",
   "metadata": {},
   "source": [
    "#### About the Authors:  \n",
    "\n",
    " [Joseph Santarcangelo]( https://www.linkedin.com/in/joseph-s-50398b136/) has a PhD in Electrical Engineering, his research focused on using machine learning, signal processing, and computer vision to determine how videos impact human cognition. Joseph has been working for IBM since he completed his PhD."
   ]
  },
  {
   "cell_type": "markdown",
   "metadata": {},
   "source": [
    "Other contributors: [Michelle Carey](  https://www.linkedin.com/in/michelleccarey/), [Mavis Zhou](  https://www.linkedin.com/in/jiahui-mavis-zhou-a4537814a/) "
   ]
  },
  {
   "cell_type": "markdown",
   "metadata": {},
   "source": [
    "Copyright &copy; 2018 [cognitiveclass.ai](cognitiveclass.ai?utm_source=bducopyrightlink&utm_medium=dswb&utm_campaign=bdu). This notebook and its source code are released under the terms of the [MIT License](https://bigdatauniversity.com/mit-license/).​"
   ]
  }
 ],
 "metadata": {
  "kernelspec": {
   "display_name": "Python 3",
   "language": "python",
   "name": "python3"
  },
  "language_info": {
   "codemirror_mode": {
    "name": "ipython",
    "version": 3
   },
   "file_extension": ".py",
   "mimetype": "text/x-python",
   "name": "python",
   "nbconvert_exporter": "python",
   "pygments_lexer": "ipython3",
   "version": "3.6.5"
  }
 },
 "nbformat": 4,
 "nbformat_minor": 2
}
