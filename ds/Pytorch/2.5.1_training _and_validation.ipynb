{
 "cells": [
  {
   "cell_type": "markdown",
   "metadata": {},
   "source": [
    "<div class=\"alert alert-block alert-info\" style=\"margin-top: 20px\">\n",
    " <a href=\"http://cocl.us/pytorch_link_top\"><img src = \"http://cocl.us/Pytorch_top\" width = 950, align = \"center\"></a>"
   ]
  },
  {
   "cell_type": "markdown",
   "metadata": {},
   "source": [
    "<img src = \"https://ibm.box.com/shared/static/ugcqz6ohbvff804xp84y4kqnvvk3bq1g.png\" width = 200, align = \"center\">\n",
    "\n",
    "\n",
    "<h1 align=center><font size = 5>Linear regression: Training and Validation Data </font></h1> "
   ]
  },
  {
   "cell_type": "markdown",
   "metadata": {},
   "source": [
    "# Table of Contents\n",
    "In this lab, you will learn to select the best learning rate by using validation data.  \n",
    "\n",
    "<div class=\"alert alert-block alert-info\" style=\"margin-top: 20px\">\n",
    "<li><a href=\"#ref0\">Make Some Data</a></li>\n",
    "<li><a href=\"#ref1\">Create a Linear Regression Object, Data Loader and Criterion Function</a></li>\n",
    "<li><a href=\"#ref2\">Different learning rates and Data Structures to Store results for Different Hyperparameters</a></li>\n",
    "<li><a href=\"#ref3\">Train different modules for different Hyperparameters</a></li>\n",
    "<li><a href=\"#ref4\">View Results </a></li>\n",
    "\n",
    "<li><a href=\"#ref5\">Practice Questions</a></li>\n",
    "<br>\n",
    "<p></p>\n",
    "Estimated Time Needed: <strong>30 min</strong>\n",
    "</div>\n",
    "\n",
    "<hr>"
   ]
  },
  {
   "cell_type": "markdown",
   "metadata": {},
   "source": [
    "You'll need the following libraries:  "
   ]
  },
  {
   "cell_type": "code",
   "execution_count": 1,
   "metadata": {},
   "outputs": [],
   "source": [
    "from torch import nn\n",
    "import torch\n",
    "import numpy as np\n",
    "import matplotlib.pyplot as plt\n",
    "from torch import nn,optim"
   ]
  },
  {
   "cell_type": "markdown",
   "metadata": {},
   "source": [
    "Set the random seed: "
   ]
  },
  {
   "cell_type": "code",
   "execution_count": 2,
   "metadata": {},
   "outputs": [
    {
     "data": {
      "text/plain": [
       "<torch._C.Generator at 0x7f6560153930>"
      ]
     },
     "execution_count": 2,
     "metadata": {},
     "output_type": "execute_result"
    }
   ],
   "source": [
    "torch.manual_seed(1)"
   ]
  },
  {
   "cell_type": "markdown",
   "metadata": {},
   "source": [
    "<a id=\"ref0\"></a>\n",
    "<h2 align=center>Make Some Data </h2>"
   ]
  },
  {
   "cell_type": "markdown",
   "metadata": {},
   "source": [
    "First, you'll create some artificial data in a dataset class. The class will include the option to produce training data or validation data. The training data will include outliers."
   ]
  },
  {
   "cell_type": "code",
   "execution_count": 3,
   "metadata": {},
   "outputs": [],
   "source": [
    "from torch.utils.data import Dataset, DataLoader\n",
    "class Data(Dataset):\n",
    "    def __init__(self,train =True):\n",
    "  \n",
    "            self.x=torch.arange(-3,3,0.1).view(-1, 1)\n",
    "            self.f=-3*self.x+1\n",
    "            self.y=self.f+0.1*torch.randn(self.x.size())\n",
    "            self.len=self.x.shape[0]\n",
    "            #outliers \n",
    "            if train==True:\n",
    "                self.y[0]=0\n",
    "                self.y[50:55]=20\n",
    "            else:\n",
    "                pass\n",
    "      \n",
    "    def __getitem__(self,index):    \n",
    "            \n",
    "        return self.x[index],self.y[index]\n",
    "    def __len__(self):\n",
    "        return self.len"
   ]
  },
  {
   "cell_type": "markdown",
   "metadata": {},
   "source": [
    "Create two objects: one that contains training data and a second that contains validation data. Assume that the training data has the outliers. "
   ]
  },
  {
   "cell_type": "code",
   "execution_count": 4,
   "metadata": {},
   "outputs": [],
   "source": [
    "train_data=Data()\n",
    "val_data=Data(train=False)"
   ]
  },
  {
   "cell_type": "markdown",
   "metadata": {},
   "source": [
    "Overlay the training points in red over the function that generated the data. Notice the outliers at x=-3 and around x=2:"
   ]
  },
  {
   "cell_type": "code",
   "execution_count": 5,
   "metadata": {},
   "outputs": [
    {
     "data": {
      "image/png": "[encoded data removed]",
      "text/plain": [
       "<Figure size 432x288 with 1 Axes>"
      ]
     },
     "metadata": {},
     "output_type": "display_data"
    }
   ],
   "source": [
    "plt.plot(train_data.x.numpy(),train_data.y.numpy(),'xr')\n",
    "plt.plot(train_data.x.numpy(),train_data.f.numpy())\n",
    "plt.show()"
   ]
  },
  {
   "cell_type": "markdown",
   "metadata": {},
   "source": [
    "<a id=\"ref1\"></a>\n",
    "<h2 align=center>Create a Linear Regression Object,  Data Loader, and Criterion Function </h2>"
   ]
  },
  {
   "cell_type": "code",
   "execution_count": 6,
   "metadata": {},
   "outputs": [],
   "source": [
    "from torch import nn\n",
    "class linear_regression(nn.Module):\n",
    "    def __init__(self,input_size,output_size):\n",
    "        super(linear_regression,self).__init__()\n",
    "        self.linear=nn.Linear(input_size,output_size)\n",
    "    def forward(self,x):\n",
    "        yhat=self.linear(x)\n",
    "        return yhat"
   ]
  },
  {
   "cell_type": "markdown",
   "metadata": {},
   "source": [
    "Create the criterion function and a Data Loader object: "
   ]
  },
  {
   "cell_type": "code",
   "execution_count": 7,
   "metadata": {},
   "outputs": [],
   "source": [
    "criterion = nn.MSELoss()\n",
    "trainloader=DataLoader(dataset=train_data,batch_size=1)"
   ]
  },
  {
   "cell_type": "markdown",
   "metadata": {},
   "source": [
    "<a id=\"ref2\"></a>\n",
    "<h2 align=center>Different learning rates and Data Structures to Store results for different Hyperparameters </h2>"
   ]
  },
  {
   "cell_type": "markdown",
   "metadata": {},
   "source": [
    "Create a list with different learning rates and a list for the training and testing cost/total loss. Include the list MODELS, which stores the training model for every value of the learning rate. \n",
    "\n"
   ]
  },
  {
   "cell_type": "code",
   "execution_count": 8,
   "metadata": {},
   "outputs": [],
   "source": [
    "learning_rates=[0.0001,0.001,0.01,0.1]\n",
    "#this can be a list \n",
    "\n",
    "validation_error=torch.zeros(len(learning_rates))\n",
    "training_error=torch.zeros(len(learning_rates))\n",
    "\n",
    "\n",
    "MODELS=[]"
   ]
  },
  {
   "cell_type": "markdown",
   "metadata": {},
   "source": [
    "<a id=\"ref3\"></a>\n",
    "<h2 align=center>Train different modules for different Hyperparameters </h2>"
   ]
  },
  {
   "cell_type": "markdown",
   "metadata": {},
   "source": [
    "Try different values of learning rates, perform stochastic gradient descent, and save the results on the test data and validation data. Finally, save each model in a list."
   ]
  },
  {
   "cell_type": "code",
   "execution_count": 9,
   "metadata": {},
   "outputs": [],
   "source": [
    "epochs=10\n",
    "\n",
    "#iterate through different learning rates \n",
    "for i,learning_rate in enumerate(learning_rates):\n",
    "    #create a linear regression object \n",
    "    model=linear_regression(1,1)\n",
    "    #create  an optimiser; the learning rate depends on what iteration of the loop you are in \n",
    "    optimizer = optim.SGD(model.parameters(), lr = learning_rate)\n",
    " \n",
    "    for epoch in range(epochs):\n",
    "        for x,y in trainloader:\n",
    "            #make a prediction  \n",
    "            yhat=model(x)\n",
    "            #calculate the loss\n",
    "            loss=criterion(yhat,y)\n",
    "            #clear gradient \n",
    "            optimizer.zero_grad()\n",
    "              \n",
    "            #backward pass: compute gradient of the loss with respect to all the learnable parameters\n",
    "            loss.backward()\n",
    "            #the step function on an Optimizer makes an update to its parameters\n",
    "            optimizer.step()\n",
    "    #calculate the loss on the training and validation data save the results of each epoch in a  tensor      \n",
    "    yhat=model(train_data.x)\n",
    "    loss=criterion(yhat,train_data.y)\n",
    "    \n",
    "    training_error[i]=loss.item()\n",
    "    MODELS.append(model)\n",
    "\n",
    "    yhat=model(val_data.x)\n",
    "    \n",
    "    loss=criterion(yhat,val_data.y)\n",
    "    validation_error[i]=loss.item()\n",
    "    # save the models in a list \n",
    "    MODELS.append(model)"
   ]
  },
  {
   "cell_type": "markdown",
   "metadata": {},
   "source": [
    "<a id=\"ref4\"></a>\n",
    "<h2 align=center>View the Results </h2>"
   ]
  },
  {
   "cell_type": "markdown",
   "metadata": {},
   "source": [
    "Print out the training loss and testing loss for each learning rate:  "
   ]
  },
  {
   "cell_type": "code",
   "execution_count": 10,
   "metadata": {},
   "outputs": [
    {
     "data": {
      "image/png": "[encoded data removed]",
      "text/plain": [
       "<Figure size 432x288 with 1 Axes>"
      ]
     },
     "metadata": {},
     "output_type": "display_data"
    }
   ],
   "source": [
    "plt.semilogx(np.array(learning_rates),training_error.numpy(),label='training cost/total Loss')\n",
    "plt.semilogx(np.array(learning_rates),validation_error.numpy(),label='validation cost/total Loss ')\n",
    "plt.ylabel('Cost\\ Total Loss ')\n",
    "plt.xlabel('learning rate')\n",
    "plt.legend()\n",
    "plt.show()"
   ]
  },
  {
   "cell_type": "markdown",
   "metadata": {},
   "source": [
    "Produce a prediction by using the validation data for each model:  "
   ]
  },
  {
   "cell_type": "code",
   "execution_count": 11,
   "metadata": {},
   "outputs": [
    {
     "data": {
      "image/png": "[encoded data removed]",
      "text/plain": [
       "<Figure size 432x288 with 1 Axes>"
      ]
     },
     "metadata": {},
     "output_type": "display_data"
    }
   ],
   "source": [
    "for model,learning_rate in zip(MODELS, learning_rates):\n",
    "    \n",
    "\n",
    "    yhat=model(val_data.x)\n",
    "    plt.plot(val_data.x.numpy(),yhat.detach().numpy(),label='lr:'+str(learning_rate))\n",
    "    \n",
    "plt.plot(val_data.x.numpy(),val_data.f.numpy(),'or',label='validation data ')\n",
    "plt.xlabel('x')\n",
    "plt.ylabel('y')\n",
    "plt.legend()\n",
    "plt.show()"
   ]
  },
  {
   "cell_type": "markdown",
   "metadata": {},
   "source": [
    "<a id=\"ref4\"></a>\n",
    "<h2 align=center>Practice Question </h2>"
   ]
  },
  {
   "cell_type": "markdown",
   "metadata": {},
   "source": [
    "The object <code>good_model</code> is the best performing model. Use the train loader to get the data samples x and y. Produce an estimate for yhat and print it out for every sample in a for a loop. Compare it to the actual prediction y."
   ]
  },
  {
   "cell_type": "code",
   "execution_count": 12,
   "metadata": {},
   "outputs": [
    {
     "name": "stdout",
     "output_type": "stream",
     "text": [
      "yhat= tensor([[5.8555]], grad_fn=<ThAddmmBackward>) y tensor([[0.]])\n",
      "yhat= tensor([[5.7418]], grad_fn=<ThAddmmBackward>) y tensor([[9.6250]])\n",
      "yhat= tensor([[5.6282]], grad_fn=<ThAddmmBackward>) y tensor([[9.3346]])\n",
      "yhat= tensor([[5.5145]], grad_fn=<ThAddmmBackward>) y tensor([[8.9391]])\n",
      "yhat= tensor([[5.4009]], grad_fn=<ThAddmmBackward>) y tensor([[8.7900]])\n",
      "yhat= tensor([[5.2872]], grad_fn=<ThAddmmBackward>) y tensor([[8.4391]])\n",
      "yhat= tensor([[5.1735]], grad_fn=<ThAddmmBackward>) y tensor([[8.1020]])\n",
      "yhat= tensor([[5.0599]], grad_fn=<ThAddmmBackward>) y tensor([[7.7391]])\n",
      "yhat= tensor([[4.9462]], grad_fn=<ThAddmmBackward>) y tensor([[7.5288]])\n",
      "yhat= tensor([[4.8326]], grad_fn=<ThAddmmBackward>) y tensor([[7.3304]])\n",
      "yhat= tensor([[4.7189]], grad_fn=<ThAddmmBackward>) y tensor([[6.9223]])\n",
      "yhat= tensor([[4.6053]], grad_fn=<ThAddmmBackward>) y tensor([[6.6749]])\n",
      "yhat= tensor([[4.4916]], grad_fn=<ThAddmmBackward>) y tensor([[6.3778]])\n",
      "yhat= tensor([[4.3780]], grad_fn=<ThAddmmBackward>) y tensor([[6.2687]])\n",
      "yhat= tensor([[4.2643]], grad_fn=<ThAddmmBackward>) y tensor([[5.8228]])\n",
      "yhat= tensor([[4.1507]], grad_fn=<ThAddmmBackward>) y tensor([[5.5468]])\n",
      "yhat= tensor([[4.0370]], grad_fn=<ThAddmmBackward>) y tensor([[5.1303]])\n",
      "yhat= tensor([[3.9234]], grad_fn=<ThAddmmBackward>) y tensor([[4.7839]])\n",
      "yhat= tensor([[3.8097]], grad_fn=<ThAddmmBackward>) y tensor([[4.6700]])\n",
      "yhat= tensor([[3.6961]], grad_fn=<ThAddmmBackward>) y tensor([[4.3199]])\n",
      "yhat= tensor([[3.5824]], grad_fn=<ThAddmmBackward>) y tensor([[4.0866]])\n",
      "yhat= tensor([[3.4687]], grad_fn=<ThAddmmBackward>) y tensor([[3.7244]])\n",
      "yhat= tensor([[3.3551]], grad_fn=<ThAddmmBackward>) y tensor([[3.3337]])\n",
      "yhat= tensor([[3.2414]], grad_fn=<ThAddmmBackward>) y tensor([[3.1807]])\n",
      "yhat= tensor([[3.1278]], grad_fn=<ThAddmmBackward>) y tensor([[2.9102]])\n",
      "yhat= tensor([[3.0141]], grad_fn=<ThAddmmBackward>) y tensor([[2.4824]])\n",
      "yhat= tensor([[2.9005]], grad_fn=<ThAddmmBackward>) y tensor([[1.9754]])\n",
      "yhat= tensor([[2.7868]], grad_fn=<ThAddmmBackward>) y tensor([[1.7554]])\n",
      "yhat= tensor([[2.6732]], grad_fn=<ThAddmmBackward>) y tensor([[1.6061]])\n",
      "yhat= tensor([[2.5595]], grad_fn=<ThAddmmBackward>) y tensor([[1.2382]])\n",
      "yhat= tensor([[2.4459]], grad_fn=<ThAddmmBackward>) y tensor([[0.9202]])\n",
      "yhat= tensor([[2.3322]], grad_fn=<ThAddmmBackward>) y tensor([[0.6868]])\n",
      "yhat= tensor([[2.2186]], grad_fn=<ThAddmmBackward>) y tensor([[0.5879]])\n",
      "yhat= tensor([[2.1049]], grad_fn=<ThAddmmBackward>) y tensor([[0.0928]])\n",
      "yhat= tensor([[1.9913]], grad_fn=<ThAddmmBackward>) y tensor([[-0.1842]])\n",
      "yhat= tensor([[1.8776]], grad_fn=<ThAddmmBackward>) y tensor([[-0.5773]])\n",
      "yhat= tensor([[1.7639]], grad_fn=<ThAddmmBackward>) y tensor([[-0.7801]])\n",
      "yhat= tensor([[1.6503]], grad_fn=<ThAddmmBackward>) y tensor([[-1.0954]])\n",
      "yhat= tensor([[1.5366]], grad_fn=<ThAddmmBackward>) y tensor([[-1.3847]])\n",
      "yhat= tensor([[1.4230]], grad_fn=<ThAddmmBackward>) y tensor([[-1.7476]])\n",
      "yhat= tensor([[1.3093]], grad_fn=<ThAddmmBackward>) y tensor([[-2.0111]])\n",
      "yhat= tensor([[1.1957]], grad_fn=<ThAddmmBackward>) y tensor([[-2.2707]])\n",
      "yhat= tensor([[1.0820]], grad_fn=<ThAddmmBackward>) y tensor([[-2.6158]])\n",
      "yhat= tensor([[0.9684]], grad_fn=<ThAddmmBackward>) y tensor([[-2.9029]])\n",
      "yhat= tensor([[0.8547]], grad_fn=<ThAddmmBackward>) y tensor([[-3.1547]])\n",
      "yhat= tensor([[0.7411]], grad_fn=<ThAddmmBackward>) y tensor([[-3.3858]])\n",
      "yhat= tensor([[0.6274]], grad_fn=<ThAddmmBackward>) y tensor([[-3.7751]])\n",
      "yhat= tensor([[0.5138]], grad_fn=<ThAddmmBackward>) y tensor([[-4.2775]])\n",
      "yhat= tensor([[0.4001]], grad_fn=<ThAddmmBackward>) y tensor([[-4.4025]])\n",
      "yhat= tensor([[0.2865]], grad_fn=<ThAddmmBackward>) y tensor([[-4.8023]])\n",
      "yhat= tensor([[0.1728]], grad_fn=<ThAddmmBackward>) y tensor([[20.]])\n",
      "yhat= tensor([[0.0591]], grad_fn=<ThAddmmBackward>) y tensor([[20.]])\n",
      "yhat= tensor([[-0.0545]], grad_fn=<ThAddmmBackward>) y tensor([[20.]])\n",
      "yhat= tensor([[-0.1682]], grad_fn=<ThAddmmBackward>) y tensor([[20.]])\n",
      "yhat= tensor([[-0.2818]], grad_fn=<ThAddmmBackward>) y tensor([[20.]])\n",
      "yhat= tensor([[-0.3955]], grad_fn=<ThAddmmBackward>) y tensor([[-6.3390]])\n",
      "yhat= tensor([[-0.5091]], grad_fn=<ThAddmmBackward>) y tensor([[-6.8704]])\n",
      "yhat= tensor([[-0.6228]], grad_fn=<ThAddmmBackward>) y tensor([[-7.1185]])\n",
      "yhat= tensor([[-0.7364]], grad_fn=<ThAddmmBackward>) y tensor([[-7.4996]])\n",
      "yhat= tensor([[-0.8501]], grad_fn=<ThAddmmBackward>) y tensor([[-7.7831]])\n"
     ]
    }
   ],
   "source": [
    "good_model=MODELS[2]\n",
    "for x,y in trainloader:\n",
    "    print(\"yhat=\",good_model(x),\"y\",y)"
   ]
  },
  {
   "cell_type": "markdown",
   "metadata": {},
   "source": [
    "Double-click __here__ for the solution.\n",
    "\n",
    "<!-- \n",
    "for x,y in trainloader:\n",
    "    print(\"yhat=\",good_model(x),\"y\",y)\n",
    "\n",
    "\n",
    "-->"
   ]
  },
  {
   "cell_type": "markdown",
   "metadata": {},
   "source": [
    "### About the Authors:  \n",
    "\n",
    " [Joseph Santarcangelo]( https://www.linkedin.com/in/joseph-s-50398b136/) has a PhD in Electrical Engineering. His research focused on using machine learning, signal processing, and computer vision to determine how videos impact human cognition. "
   ]
  },
  {
   "cell_type": "markdown",
   "metadata": {},
   "source": [
    "Other contributors: [Michelle Carey](  https://www.linkedin.com/in/michelleccarey/) "
   ]
  },
  {
   "cell_type": "markdown",
   "metadata": {},
   "source": [
    " <hr>\n",
    "Copyright &copy; 2018 [cognitiveclass.ai](cognitiveclass.ai?utm_source=bducopyrightlink&utm_medium=dswb&utm_campaign=bdu). This notebook and its source code are released under the terms of the [MIT License](https://bigdatauniversity.com/mit-license/)."
   ]
  }
 ],
 "metadata": {
  "kernelspec": {
   "display_name": "Python 3",
   "language": "python",
   "name": "python3"
  },
  "language_info": {
   "codemirror_mode": {
    "name": "ipython",
    "version": 3
   },
   "file_extension": ".py",
   "mimetype": "text/x-python",
   "name": "python",
   "nbconvert_exporter": "python",
   "pygments_lexer": "ipython3",
   "version": "3.6.5"
  }
 },
 "nbformat": 4,
 "nbformat_minor": 2
}
