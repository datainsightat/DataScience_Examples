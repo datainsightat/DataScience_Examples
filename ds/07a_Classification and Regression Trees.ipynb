{
 "cells": [
  {
   "cell_type": "code",
   "execution_count": 23,
   "metadata": {},
   "outputs": [
    {
     "name": "stderr",
     "output_type": "stream",
     "text": [
      "Updating HTML index of packages in '.Library'\n",
      "Making 'packages.html' ... done\n"
     ]
    }
   ],
   "source": [
    "#install.packages('tidyverse')\n",
    "install.packages('dplyr')\n",
    "#install.packages('ggplot2')\n",
    "#install.packages('dslabs')\n",
    "#install.packages('caret')\n",
    "#install.packages('rpart')\n",
    "#install.packages('randomForest')"
   ]
  },
  {
   "cell_type": "code",
   "execution_count": 24,
   "metadata": {},
   "outputs": [
    {
     "ename": "ERROR",
     "evalue": "Error: package or namespace load failed for ‘dplyr’\n",
     "execution_count": 24,
     "output_type": "error",
     "traceback": [
      "Error: package or namespace load failed for ‘dplyr’\nTraceback:\n",
      "1. library(dplyr)",
      "2. stop(gettextf(\"package or namespace load failed for %s\", sQuote(package)), \n .     call. = FALSE, domain = NA)"
     ]
    }
   ],
   "source": [
    "library(dslabs)\n",
    "library(dplyr)\n",
    "library(ggplot2)\n",
    "library(caret)\n",
    "library(rpart)"
   ]
  },
  {
   "cell_type": "code",
   "execution_count": 22,
   "metadata": {},
   "outputs": [
    {
     "data": {
      "text/html": [
       "<table>\n",
       "<thead><tr><th scope=col>region</th><th scope=col>area</th><th scope=col>palmitic</th><th scope=col>palmitoleic</th><th scope=col>stearic</th><th scope=col>oleic</th><th scope=col>linoleic</th><th scope=col>linolenic</th><th scope=col>arachidic</th><th scope=col>eicosenoic</th></tr></thead>\n",
       "<tbody>\n",
       "\t<tr><td>Southern Italy</td><td>North-Apulia  </td><td>10.75         </td><td>0.75          </td><td>2.26          </td><td>78.23         </td><td>6.72          </td><td>0.36          </td><td>0.60          </td><td>0.29          </td></tr>\n",
       "\t<tr><td>Southern Italy</td><td>North-Apulia  </td><td>10.88         </td><td>0.73          </td><td>2.24          </td><td>77.09         </td><td>7.81          </td><td>0.31          </td><td>0.61          </td><td>0.29          </td></tr>\n",
       "\t<tr><td>Southern Italy</td><td>North-Apulia  </td><td> 9.11         </td><td>0.54          </td><td>2.46          </td><td>81.13         </td><td>5.49          </td><td>0.31          </td><td>0.63          </td><td>0.29          </td></tr>\n",
       "\t<tr><td>Southern Italy</td><td>North-Apulia  </td><td> 9.66         </td><td>0.57          </td><td>2.40          </td><td>79.52         </td><td>6.19          </td><td>0.50          </td><td>0.78          </td><td>0.35          </td></tr>\n",
       "\t<tr><td>Southern Italy</td><td>North-Apulia  </td><td>10.51         </td><td>0.67          </td><td>2.59          </td><td>77.71         </td><td>6.72          </td><td>0.50          </td><td>0.80          </td><td>0.46          </td></tr>\n",
       "\t<tr><td>Southern Italy</td><td>North-Apulia  </td><td> 9.11         </td><td>0.49          </td><td>2.68          </td><td>79.24         </td><td>6.78          </td><td>0.51          </td><td>0.70          </td><td>0.44          </td></tr>\n",
       "</tbody>\n",
       "</table>\n"
      ],
      "text/latex": [
       "\\begin{tabular}{r|llllllllll}\n",
       " region & area & palmitic & palmitoleic & stearic & oleic & linoleic & linolenic & arachidic & eicosenoic\\\\\n",
       "\\hline\n",
       "\t Southern Italy & North-Apulia   & 10.75          & 0.75           & 2.26           & 78.23          & 6.72           & 0.36           & 0.60           & 0.29          \\\\\n",
       "\t Southern Italy & North-Apulia   & 10.88          & 0.73           & 2.24           & 77.09          & 7.81           & 0.31           & 0.61           & 0.29          \\\\\n",
       "\t Southern Italy & North-Apulia   &  9.11          & 0.54           & 2.46           & 81.13          & 5.49           & 0.31           & 0.63           & 0.29          \\\\\n",
       "\t Southern Italy & North-Apulia   &  9.66          & 0.57           & 2.40           & 79.52          & 6.19           & 0.50           & 0.78           & 0.35          \\\\\n",
       "\t Southern Italy & North-Apulia   & 10.51          & 0.67           & 2.59           & 77.71          & 6.72           & 0.50           & 0.80           & 0.46          \\\\\n",
       "\t Southern Italy & North-Apulia   &  9.11          & 0.49           & 2.68           & 79.24          & 6.78           & 0.51           & 0.70           & 0.44          \\\\\n",
       "\\end{tabular}\n"
      ],
      "text/markdown": [
       "\n",
       "region | area | palmitic | palmitoleic | stearic | oleic | linoleic | linolenic | arachidic | eicosenoic | \n",
       "|---|---|---|---|---|---|\n",
       "| Southern Italy | North-Apulia   | 10.75          | 0.75           | 2.26           | 78.23          | 6.72           | 0.36           | 0.60           | 0.29           | \n",
       "| Southern Italy | North-Apulia   | 10.88          | 0.73           | 2.24           | 77.09          | 7.81           | 0.31           | 0.61           | 0.29           | \n",
       "| Southern Italy | North-Apulia   |  9.11          | 0.54           | 2.46           | 81.13          | 5.49           | 0.31           | 0.63           | 0.29           | \n",
       "| Southern Italy | North-Apulia   |  9.66          | 0.57           | 2.40           | 79.52          | 6.19           | 0.50           | 0.78           | 0.35           | \n",
       "| Southern Italy | North-Apulia   | 10.51          | 0.67           | 2.59           | 77.71          | 6.72           | 0.50           | 0.80           | 0.46           | \n",
       "| Southern Italy | North-Apulia   |  9.11          | 0.49           | 2.68           | 79.24          | 6.78           | 0.51           | 0.70           | 0.44           | \n",
       "\n",
       "\n"
      ],
      "text/plain": [
       "  region         area         palmitic palmitoleic stearic oleic linoleic\n",
       "1 Southern Italy North-Apulia 10.75    0.75        2.26    78.23 6.72    \n",
       "2 Southern Italy North-Apulia 10.88    0.73        2.24    77.09 7.81    \n",
       "3 Southern Italy North-Apulia  9.11    0.54        2.46    81.13 5.49    \n",
       "4 Southern Italy North-Apulia  9.66    0.57        2.40    79.52 6.19    \n",
       "5 Southern Italy North-Apulia 10.51    0.67        2.59    77.71 6.72    \n",
       "6 Southern Italy North-Apulia  9.11    0.49        2.68    79.24 6.78    \n",
       "  linolenic arachidic eicosenoic\n",
       "1 0.36      0.60      0.29      \n",
       "2 0.31      0.61      0.29      \n",
       "3 0.31      0.63      0.29      \n",
       "4 0.50      0.78      0.35      \n",
       "5 0.50      0.80      0.46      \n",
       "6 0.51      0.70      0.44      "
      ]
     },
     "metadata": {},
     "output_type": "display_data"
    },
    {
     "data": {
      "text/plain": [
       "\n",
       "Northern Italy       Sardinia Southern Italy \n",
       "           151             98            323 "
      ]
     },
     "metadata": {},
     "output_type": "display_data"
    },
    {
     "ename": "ERROR",
     "evalue": "Error in eval(expr, envir, enclos): could not find function \"select\"\n",
     "execution_count": 22,
     "output_type": "error",
     "traceback": [
      "Error in eval(expr, envir, enclos): could not find function \"select\"\nTraceback:\n"
     ]
    }
   ],
   "source": [
    "data('olive')\n",
    "head(olive)\n",
    "table(olive$region)\n",
    "olive <- select(olive, -area)"
   ]
  },
  {
   "cell_type": "code",
   "execution_count": null,
   "metadata": {},
   "outputs": [],
   "source": [
    "fit <- train(region ~., method='knn',tuneGrid=data.frame(k = seq(1,15,2)), data=olive)\n",
    "ggplot(fit)"
   ]
  },
  {
   "cell_type": "code",
   "execution_count": null,
   "metadata": {},
   "outputs": [],
   "source": [
    "olive %>% gather(fatty_acid, percentage, -region) %>%\n",
    "  ggplot(aes(region, percentage, fill = region)) +\n",
    "  geom_boxplot() +\n",
    "  facet_wrap(~fatty_acid, scales = \"free\")"
   ]
  },
  {
   "cell_type": "code",
   "execution_count": null,
   "metadata": {},
   "outputs": [],
   "source": [
    "p <- olive %>% \n",
    "  ggplot(aes(eicosenoic, linoleic, color = region)) + \n",
    "  geom_point()\n",
    "p"
   ]
  },
  {
   "cell_type": "code",
   "execution_count": null,
   "metadata": {},
   "outputs": [],
   "source": [
    "p + geom_vline(xintercept = 0.065, lty = 2) + \n",
    "  geom_segment(x = -0.2, y = 10.535, xend = 0.065, yend = 10.535, color = \"black\", lty = 2)"
   ]
  },
  {
   "cell_type": "code",
   "execution_count": null,
   "metadata": {},
   "outputs": [],
   "source": [
    "data(\"polls_2008\")\n",
    "qplot(day, margin, data = polls_2008)"
   ]
  },
  {
   "cell_type": "code",
   "execution_count": null,
   "metadata": {},
   "outputs": [],
   "source": [
    "library('rpart')\n",
    "\n",
    "fit <- rpart(margin ~ ., data = polls_2008)"
   ]
  },
  {
   "cell_type": "code",
   "execution_count": null,
   "metadata": {},
   "outputs": [],
   "source": [
    "plot(fit,margin = 0.1)\n",
    "text(fit,cex=0.75)"
   ]
  },
  {
   "cell_type": "code",
   "execution_count": null,
   "metadata": {},
   "outputs": [],
   "source": [
    "polls_2008 %>% \n",
    "  mutate(y_hat = predict(fit)) %>% \n",
    "  ggplot() +\n",
    "  geom_point(aes(day, margin)) +\n",
    "  geom_step(aes(day, y_hat), col=\"red\")"
   ]
  },
  {
   "cell_type": "code",
   "execution_count": null,
   "metadata": {},
   "outputs": [],
   "source": [
    "pruned_fit <- prune(fit, cp=0.01)"
   ]
  },
  {
   "cell_type": "code",
   "execution_count": null,
   "metadata": {},
   "outputs": [],
   "source": [
    "library(caret)\n",
    "train_rpart y- train(margin ~., method='rpart',tuneGrid = data.frane(cp=seq(0,0.05, len=25))), data = polls_2008)\n",
    "ggplot(train_rpart)"
   ]
  },
  {
   "cell_type": "code",
   "execution_count": null,
   "metadata": {},
   "outputs": [],
   "source": [
    "plot(train_rpart$finalModel, margin = 0.1)\n",
    "text(train_rpart$finalModel, cex = 0.75)"
   ]
  },
  {
   "cell_type": "code",
   "execution_count": null,
   "metadata": {},
   "outputs": [],
   "source": [
    "polls_2008 %>% \n",
    "  mutate(y_hat = predict(train_rpart)) %>% \n",
    "  ggplot() +\n",
    "  geom_point(aes(day, margin)) +\n",
    "  geom_step(aes(day, y_hat), col=\"red\")"
   ]
  },
  {
   "cell_type": "code",
   "execution_count": null,
   "metadata": {},
   "outputs": [],
   "source": [
    "data('mnist_27')\n",
    "\n",
    "train_rpart <- train(y ~.,method='rpart',tuneGrid = data.framge(cp=seq(0.0,0.1,len=25)), data=mnist_27$train)\n",
    "plot(train_rpart)"
   ]
  },
  {
   "cell_type": "code",
   "execution_count": null,
   "metadata": {},
   "outputs": [],
   "source": [
    "confuctionMatrix(predict(train_rpart,mnist_27$test),mnist_27$test$y)$overall['Accuracy']"
   ]
  },
  {
   "cell_type": "code",
   "execution_count": null,
   "metadata": {},
   "outputs": [],
   "source": [
    "library(randomForest)\n",
    "fit <- randomForest(margin ~ ., data = polls_2008)\n",
    "plot(fit)"
   ]
  },
  {
   "cell_type": "code",
   "execution_count": null,
   "metadata": {},
   "outputs": [],
   "source": [
    "train_rf y- randomForest(y ~.,data=mnist_27$train)\n",
    "confustionMatrix(predict(train_rf,mnist_27$test),mnist_27$test$y)$overall['Accuracy']\n"
   ]
  },
  {
   "cell_type": "code",
   "execution_count": null,
   "metadata": {},
   "outputs": [],
   "source": [
    "fit <- train(y ~.,method='Rborist',tuneGrid=data.frame(predFixed=2, minNode=seq(3,50)),data=mnist_27$train)\n",
    "confusionMatrix(predict(fit,mnist_27$test),mnist_27$test$y)$overall['Accuracy']"
   ]
  }
 ],
 "metadata": {
  "kernelspec": {
   "display_name": "R",
   "language": "R",
   "name": "ir"
  },
  "language_info": {
   "codemirror_mode": "r",
   "file_extension": ".r",
   "mimetype": "text/x-r-source",
   "name": "R",
   "pygments_lexer": "r",
   "version": "3.3.2"
  }
 },
 "nbformat": 4,
 "nbformat_minor": 2
}
