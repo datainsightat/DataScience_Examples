{
 "cells": [
  {
   "cell_type": "code",
   "execution_count": 11,
   "metadata": {},
   "outputs": [
    {
     "name": "stderr",
     "output_type": "stream",
     "text": [
      "Updating HTML index of packages in '.Library'\n",
      "Making 'packages.html' ... done\n",
      "Updating HTML index of packages in '.Library'\n",
      "Making 'packages.html' ... done\n"
     ]
    }
   ],
   "source": [
    "install.packages('HistData')"
   ]
  },
  {
   "cell_type": "code",
   "execution_count": 6,
   "metadata": {},
   "outputs": [
    {
     "name": "stderr",
     "output_type": "stream",
     "text": [
      "Loading tidyverse: ggplot2\n",
      "Loading tidyverse: tibble\n",
      "Loading tidyverse: tidyr\n",
      "Loading tidyverse: readr\n",
      "Loading tidyverse: purrr\n",
      "Loading tidyverse: dplyr\n",
      "Conflicts with tidy packages ---------------------------------------------------\n",
      "filter(): dplyr, stats\n",
      "lag():    dplyr, stats\n"
     ]
    }
   ],
   "source": [
    "library('HistData')\n",
    "library('tidyverse')"
   ]
  },
  {
   "cell_type": "code",
   "execution_count": 7,
   "metadata": {},
   "outputs": [
    {
     "data": {
      "text/html": [
       "<table>\n",
       "<thead><tr><th scope=col>family</th><th scope=col>father</th><th scope=col>mother</th><th scope=col>midparentHeight</th><th scope=col>children</th><th scope=col>childNum</th><th scope=col>gender</th><th scope=col>childHeight</th></tr></thead>\n",
       "<tbody>\n",
       "\t<tr><td>001   </td><td>78.5  </td><td>67.0  </td><td>75.43 </td><td>4     </td><td>1     </td><td>male  </td><td>73.2  </td></tr>\n",
       "\t<tr><td>001   </td><td>78.5  </td><td>67.0  </td><td>75.43 </td><td>4     </td><td>2     </td><td>female</td><td>69.2  </td></tr>\n",
       "\t<tr><td>001   </td><td>78.5  </td><td>67.0  </td><td>75.43 </td><td>4     </td><td>3     </td><td>female</td><td>69.0  </td></tr>\n",
       "\t<tr><td>001   </td><td>78.5  </td><td>67.0  </td><td>75.43 </td><td>4     </td><td>4     </td><td>female</td><td>69.0  </td></tr>\n",
       "\t<tr><td>002   </td><td>75.5  </td><td>66.5  </td><td>73.66 </td><td>4     </td><td>1     </td><td>male  </td><td>73.5  </td></tr>\n",
       "\t<tr><td>002   </td><td>75.5  </td><td>66.5  </td><td>73.66 </td><td>4     </td><td>2     </td><td>male  </td><td>72.5  </td></tr>\n",
       "</tbody>\n",
       "</table>\n"
      ],
      "text/latex": [
       "\\begin{tabular}{r|llllllll}\n",
       " family & father & mother & midparentHeight & children & childNum & gender & childHeight\\\\\n",
       "\\hline\n",
       "\t 001    & 78.5   & 67.0   & 75.43  & 4      & 1      & male   & 73.2  \\\\\n",
       "\t 001    & 78.5   & 67.0   & 75.43  & 4      & 2      & female & 69.2  \\\\\n",
       "\t 001    & 78.5   & 67.0   & 75.43  & 4      & 3      & female & 69.0  \\\\\n",
       "\t 001    & 78.5   & 67.0   & 75.43  & 4      & 4      & female & 69.0  \\\\\n",
       "\t 002    & 75.5   & 66.5   & 73.66  & 4      & 1      & male   & 73.5  \\\\\n",
       "\t 002    & 75.5   & 66.5   & 73.66  & 4      & 2      & male   & 72.5  \\\\\n",
       "\\end{tabular}\n"
      ],
      "text/markdown": [
       "\n",
       "family | father | mother | midparentHeight | children | childNum | gender | childHeight | \n",
       "|---|---|---|---|---|---|\n",
       "| 001    | 78.5   | 67.0   | 75.43  | 4      | 1      | male   | 73.2   | \n",
       "| 001    | 78.5   | 67.0   | 75.43  | 4      | 2      | female | 69.2   | \n",
       "| 001    | 78.5   | 67.0   | 75.43  | 4      | 3      | female | 69.0   | \n",
       "| 001    | 78.5   | 67.0   | 75.43  | 4      | 4      | female | 69.0   | \n",
       "| 002    | 75.5   | 66.5   | 73.66  | 4      | 1      | male   | 73.5   | \n",
       "| 002    | 75.5   | 66.5   | 73.66  | 4      | 2      | male   | 72.5   | \n",
       "\n",
       "\n"
      ],
      "text/plain": [
       "  family father mother midparentHeight children childNum gender childHeight\n",
       "1 001    78.5   67.0   75.43           4        1        male   73.2       \n",
       "2 001    78.5   67.0   75.43           4        2        female 69.2       \n",
       "3 001    78.5   67.0   75.43           4        3        female 69.0       \n",
       "4 001    78.5   67.0   75.43           4        4        female 69.0       \n",
       "5 002    75.5   66.5   73.66           4        1        male   73.5       \n",
       "6 002    75.5   66.5   73.66           4        2        male   72.5       "
      ]
     },
     "metadata": {},
     "output_type": "display_data"
    }
   ],
   "source": [
    "head(GaltonFamilies)"
   ]
  },
  {
   "cell_type": "code",
   "execution_count": 14,
   "metadata": {},
   "outputs": [],
   "source": [
    "galton_heights <- GaltonFamilies %>%\n",
    "  filter(childNum == 1 & gender == 'male') %>%\n",
    "  select(father, childHeight) %>%\n",
    "  rename(son=childHeight)"
   ]
  },
  {
   "cell_type": "code",
   "execution_count": 15,
   "metadata": {},
   "outputs": [
    {
     "data": {
      "text/html": [
       "<table>\n",
       "<thead><tr><th scope=col>father</th><th scope=col>son</th></tr></thead>\n",
       "<tbody>\n",
       "\t<tr><td>78.5</td><td>73.2</td></tr>\n",
       "\t<tr><td>75.5</td><td>73.5</td></tr>\n",
       "\t<tr><td>75.0</td><td>71.0</td></tr>\n",
       "\t<tr><td>75.0</td><td>70.5</td></tr>\n",
       "\t<tr><td>75.0</td><td>72.0</td></tr>\n",
       "\t<tr><td>74.0</td><td>76.5</td></tr>\n",
       "</tbody>\n",
       "</table>\n"
      ],
      "text/latex": [
       "\\begin{tabular}{r|ll}\n",
       " father & son\\\\\n",
       "\\hline\n",
       "\t 78.5 & 73.2\\\\\n",
       "\t 75.5 & 73.5\\\\\n",
       "\t 75.0 & 71.0\\\\\n",
       "\t 75.0 & 70.5\\\\\n",
       "\t 75.0 & 72.0\\\\\n",
       "\t 74.0 & 76.5\\\\\n",
       "\\end{tabular}\n"
      ],
      "text/markdown": [
       "\n",
       "father | son | \n",
       "|---|---|---|---|---|---|\n",
       "| 78.5 | 73.2 | \n",
       "| 75.5 | 73.5 | \n",
       "| 75.0 | 71.0 | \n",
       "| 75.0 | 70.5 | \n",
       "| 75.0 | 72.0 | \n",
       "| 74.0 | 76.5 | \n",
       "\n",
       "\n"
      ],
      "text/plain": [
       "  father son \n",
       "1 78.5   73.2\n",
       "2 75.5   73.5\n",
       "3 75.0   71.0\n",
       "4 75.0   70.5\n",
       "5 75.0   72.0\n",
       "6 74.0   76.5"
      ]
     },
     "metadata": {},
     "output_type": "display_data"
    }
   ],
   "source": [
    "head(galton_heights)"
   ]
  },
  {
   "cell_type": "code",
   "execution_count": 16,
   "metadata": {},
   "outputs": [
    {
     "name": "stderr",
     "output_type": "stream",
     "text": [
      "Loading required package: lattice\n",
      "\n",
      "Attaching package: ‘caret’\n",
      "\n",
      "The following object is masked from ‘package:purrr’:\n",
      "\n",
      "    lift\n",
      "\n"
     ]
    }
   ],
   "source": [
    "library(caret)"
   ]
  },
  {
   "cell_type": "code",
   "execution_count": 19,
   "metadata": {},
   "outputs": [
    {
     "data": {
      "text/html": [
       "70.4602272727273"
      ],
      "text/latex": [
       "70.4602272727273"
      ],
      "text/markdown": [
       "70.4602272727273"
      ],
      "text/plain": [
       "[1] 70.46023"
      ]
     },
     "metadata": {},
     "output_type": "display_data"
    },
    {
     "data": {
      "text/html": [
       "6.39294550619835"
      ],
      "text/latex": [
       "6.39294550619835"
      ],
      "text/markdown": [
       "6.39294550619835"
      ],
      "text/plain": [
       "[1] 6.392946"
      ]
     },
     "metadata": {},
     "output_type": "display_data"
    }
   ],
   "source": [
    "y <- galton_heights$son\n",
    "test_index <- createDataPartition(y,times=1,p=0.5,list=FALSE)\n",
    "\n",
    "train_set <- galton_heights %>% slice(-test_index)\n",
    "test_set <- galton_heights %>% slice(test_index)\n",
    "\n",
    "avg <- mean(train_set$son)\n",
    "avg\n",
    "sqr_loss <- mean((avg - test_set$son)^2)\n",
    "sqr_loss"
   ]
  },
  {
   "cell_type": "code",
   "execution_count": 28,
   "metadata": {},
   "outputs": [
    {
     "data": {
      "text/html": [
       "<dl class=dl-horizontal>\n",
       "\t<dt>(Intercept)</dt>\n",
       "\t\t<dd>35.7124908940543</dd>\n",
       "\t<dt>galton_heights$father</dt>\n",
       "\t\t<dd>0.502790441191417</dd>\n",
       "</dl>\n"
      ],
      "text/latex": [
       "\\begin{description*}\n",
       "\\item[(Intercept)] 35.7124908940543\n",
       "\\item[galton\\textbackslash{}\\_heights\\textbackslash{}\\$father] 0.502790441191417\n",
       "\\end{description*}\n"
      ],
      "text/markdown": [
       "(Intercept)\n",
       ":   35.7124908940543galton_heights$father\n",
       ":   0.502790441191417\n",
       "\n"
      ],
      "text/plain": [
       "          (Intercept) galton_heights$father \n",
       "           35.7124909             0.5027904 "
      ]
     },
     "metadata": {},
     "output_type": "display_data"
    },
    {
     "data": {
      "text/html": [
       "4.77096246571565"
      ],
      "text/latex": [
       "4.77096246571565"
      ],
      "text/markdown": [
       "4.77096246571565"
      ],
      "text/plain": [
       "[1] 4.770962"
      ]
     },
     "metadata": {},
     "output_type": "display_data"
    }
   ],
   "source": [
    "fit <- lm(galton_heights$son ~ galton_heights$father, data = train_set)\n",
    "fit$coef\n",
    "\n",
    "y_hat <- fit$coef[1] + fit$coef[2]*test_set$father\n",
    "sqr_loss <- mean((y_hat - test_set$son)^2)\n",
    "sqr_loss"
   ]
  },
  {
   "cell_type": "code",
   "execution_count": 30,
   "metadata": {},
   "outputs": [
    {
     "name": "stderr",
     "output_type": "stream",
     "text": [
      "Warning message:\n",
      "“'newdata' had 91 rows but variables found have 179 rows”Warning message in y_hat - test_set$son:\n",
      "“longer object length is not a multiple of shorter object length”"
     ]
    },
    {
     "data": {
      "text/html": [
       "6.09586954736754"
      ],
      "text/latex": [
       "6.09586954736754"
      ],
      "text/markdown": [
       "6.09586954736754"
      ],
      "text/plain": [
       "[1] 6.09587"
      ]
     },
     "metadata": {},
     "output_type": "display_data"
    }
   ],
   "source": [
    "y_hat <- predict(fit, test_set)\n",
    "sqr_loss <- mean((y_hat - test_set$son)^2)\n",
    "sqr_loss"
   ]
  },
  {
   "cell_type": "markdown",
   "metadata": {},
   "source": [
    "Categorical Outcome"
   ]
  },
  {
   "cell_type": "code",
   "execution_count": null,
   "metadata": {},
   "outputs": [],
   "source": []
  }
 ],
 "metadata": {
  "kernelspec": {
   "display_name": "R",
   "language": "R",
   "name": "ir"
  },
  "language_info": {
   "codemirror_mode": "r",
   "file_extension": ".r",
   "mimetype": "text/x-r-source",
   "name": "R",
   "pygments_lexer": "r",
   "version": "3.3.2"
  }
 },
 "nbformat": 4,
 "nbformat_minor": 2
}
