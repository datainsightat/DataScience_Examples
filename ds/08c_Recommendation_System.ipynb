{
 "cells": [
  {
   "cell_type": "code",
   "execution_count": 6,
   "metadata": {},
   "outputs": [
    {
     "name": "stderr",
     "output_type": "stream",
     "text": [
      "Updating HTML index of packages in '.Library'\n",
      "Making 'packages.html' ... done\n"
     ]
    }
   ],
   "source": [
    "#install.packages('dslabs')\n",
    "#install.packages('tidyverse')\n",
    "#install.packages('purrr')\n",
    "#install.packages('dplyr')\n",
    "install.packages('ggplot2')"
   ]
  },
  {
   "cell_type": "code",
   "execution_count": 2,
   "metadata": {},
   "outputs": [],
   "source": [
    "library(dslabs)\n",
    "data('movielens')"
   ]
  },
  {
   "cell_type": "code",
   "execution_count": 3,
   "metadata": {},
   "outputs": [
    {
     "data": {
      "text/html": [
       "<table>\n",
       "<thead><tr><th scope=col>movieId</th><th scope=col>title</th><th scope=col>year</th><th scope=col>genres</th><th scope=col>userId</th><th scope=col>rating</th><th scope=col>timestamp</th></tr></thead>\n",
       "<tbody>\n",
       "\t<tr><td>  31                                   </td><td>Dangerous Minds                        </td><td>1995                                   </td><td>Drama                                  </td><td>1                                      </td><td>2.5                                    </td><td>1260759144                             </td></tr>\n",
       "\t<tr><td>1029                                   </td><td>Dumbo                                  </td><td>1941                                   </td><td>Animation|Children|Drama|Musical       </td><td>1                                      </td><td>3.0                                    </td><td>1260759179                             </td></tr>\n",
       "\t<tr><td>1061                                   </td><td>Sleepers                               </td><td>1996                                   </td><td>Thriller                               </td><td>1                                      </td><td>3.0                                    </td><td>1260759182                             </td></tr>\n",
       "\t<tr><td>1129                                   </td><td>Escape from New York                   </td><td>1981                                   </td><td>Action|Adventure|Sci-Fi|Thriller       </td><td>1                                      </td><td>2.0                                    </td><td>1260759185                             </td></tr>\n",
       "\t<tr><td>1172                                   </td><td>Cinema Paradiso (Nuovo cinema Paradiso)</td><td>1989                                   </td><td>Drama                                  </td><td>1                                      </td><td>4.0                                    </td><td>1260759205                             </td></tr>\n",
       "\t<tr><td>1263                                   </td><td>Deer Hunter, The                       </td><td>1978                                   </td><td>Drama|War                              </td><td>1                                      </td><td>2.0                                    </td><td>1260759151                             </td></tr>\n",
       "</tbody>\n",
       "</table>\n"
      ],
      "text/latex": [
       "\\begin{tabular}{r|lllllll}\n",
       " movieId & title & year & genres & userId & rating & timestamp\\\\\n",
       "\\hline\n",
       "\t   31                                    & Dangerous Minds                         & 1995                                    & Drama                                   & 1                                       & 2.5                                     & 1260759144                             \\\\\n",
       "\t 1029                                                           & Dumbo                                                          & 1941                                                           & Animation\\textbar{}Children\\textbar{}Drama\\textbar{}Musical & 1                                                              & 3.0                                                            & 1260759179                                                    \\\\\n",
       "\t 1061                                    & Sleepers                                & 1996                                    & Thriller                                & 1                                       & 3.0                                     & 1260759182                             \\\\\n",
       "\t 1129                                                           & Escape from New York                                           & 1981                                                           & Action\\textbar{}Adventure\\textbar{}Sci-Fi\\textbar{}Thriller & 1                                                              & 2.0                                                            & 1260759185                                                    \\\\\n",
       "\t 1172                                    & Cinema Paradiso (Nuovo cinema Paradiso) & 1989                                    & Drama                                   & 1                                       & 4.0                                     & 1260759205                             \\\\\n",
       "\t 1263                                       & Deer Hunter, The                           & 1978                                       & Drama\\textbar{}War                        & 1                                          & 2.0                                        & 1260759151                                \\\\\n",
       "\\end{tabular}\n"
      ],
      "text/markdown": [
       "\n",
       "movieId | title | year | genres | userId | rating | timestamp | \n",
       "|---|---|---|---|---|---|\n",
       "|   31                                    | Dangerous Minds                         | 1995                                    | Drama                                   | 1                                       | 2.5                                     | 1260759144                              | \n",
       "| 1029                                    | Dumbo                                   | 1941                                    | Animation|Children|Drama|Musical        | 1                                       | 3.0                                     | 1260759179                              | \n",
       "| 1061                                    | Sleepers                                | 1996                                    | Thriller                                | 1                                       | 3.0                                     | 1260759182                              | \n",
       "| 1129                                    | Escape from New York                    | 1981                                    | Action|Adventure|Sci-Fi|Thriller        | 1                                       | 2.0                                     | 1260759185                              | \n",
       "| 1172                                    | Cinema Paradiso (Nuovo cinema Paradiso) | 1989                                    | Drama                                   | 1                                       | 4.0                                     | 1260759205                              | \n",
       "| 1263                                    | Deer Hunter, The                        | 1978                                    | Drama|War                               | 1                                       | 2.0                                     | 1260759151                              | \n",
       "\n",
       "\n"
      ],
      "text/plain": [
       "  movieId title                                   year\n",
       "1   31    Dangerous Minds                         1995\n",
       "2 1029    Dumbo                                   1941\n",
       "3 1061    Sleepers                                1996\n",
       "4 1129    Escape from New York                    1981\n",
       "5 1172    Cinema Paradiso (Nuovo cinema Paradiso) 1989\n",
       "6 1263    Deer Hunter, The                        1978\n",
       "  genres                           userId rating timestamp \n",
       "1 Drama                            1      2.5    1260759144\n",
       "2 Animation|Children|Drama|Musical 1      3.0    1260759179\n",
       "3 Thriller                         1      3.0    1260759182\n",
       "4 Action|Adventure|Sci-Fi|Thriller 1      2.0    1260759185\n",
       "5 Drama                            1      4.0    1260759205\n",
       "6 Drama|War                        1      2.0    1260759151"
      ]
     },
     "metadata": {},
     "output_type": "display_data"
    }
   ],
   "source": [
    "head(movielens)"
   ]
  },
  {
   "cell_type": "code",
   "execution_count": 8,
   "metadata": {},
   "outputs": [
    {
     "name": "stderr",
     "output_type": "stream",
     "text": [
      "\n",
      "Attaching package: ‘dplyr’\n",
      "\n",
      "The following objects are masked from ‘package:stats’:\n",
      "\n",
      "    filter, lag\n",
      "\n",
      "The following objects are masked from ‘package:base’:\n",
      "\n",
      "    intersect, setdiff, setequal, union\n",
      "\n"
     ]
    },
    {
     "data": {
      "text/html": [
       "<table>\n",
       "<thead><tr><th scope=col>n_users</th><th scope=col>n_movies</th></tr></thead>\n",
       "<tbody>\n",
       "\t<tr><td>671 </td><td>9066</td></tr>\n",
       "</tbody>\n",
       "</table>\n"
      ],
      "text/latex": [
       "\\begin{tabular}{r|ll}\n",
       " n\\_users & n\\_movies\\\\\n",
       "\\hline\n",
       "\t 671  & 9066\\\\\n",
       "\\end{tabular}\n"
      ],
      "text/markdown": [
       "\n",
       "n_users | n_movies | \n",
       "|---|\n",
       "| 671  | 9066 | \n",
       "\n",
       "\n"
      ],
      "text/plain": [
       "  n_users n_movies\n",
       "1 671     9066    "
      ]
     },
     "metadata": {},
     "output_type": "display_data"
    }
   ],
   "source": [
    "library(purrr)\n",
    "library(dplyr)\n",
    "library(ggplot2)\n",
    "\n",
    "movielens %>% summarize(n_users = n_distinct(userId),\n",
    "                       n_movies = n_distinct(movieId))"
   ]
  },
  {
   "cell_type": "code",
   "execution_count": 11,
   "metadata": {},
   "outputs": [
    {
     "data": {},
     "metadata": {},
     "output_type": "display_data"
    },
    {
     "data": {
      "image/png": "[encoded data removed]",
      "text/plain": [
       "plot without title"
      ]
     },
     "metadata": {},
     "output_type": "display_data",
     "source": "R display func"
    }
   ],
   "source": [
    "movielens %>% \n",
    "  count(movieId) %>% \n",
    "  ggplot(aes(n)) + \n",
    "  geom_histogram(bins = 30, color = \"black\") + \n",
    "  scale_x_log10() + \n",
    "  ggtitle(\"Movies\")"
   ]
  },
  {
   "cell_type": "code",
   "execution_count": 12,
   "metadata": {},
   "outputs": [
    {
     "data": {},
     "metadata": {},
     "output_type": "display_data"
    },
    {
     "data": {
      "image/png": "[encoded data removed]",
      "text/plain": [
       "plot without title"
      ]
     },
     "metadata": {},
     "output_type": "display_data",
     "source": "R display func"
    }
   ],
   "source": [
    "movielens %>% \n",
    "  count(userId) %>% \n",
    "  ggplot(aes(n)) + \n",
    "  geom_histogram(bins = 30, color = \"black\") + \n",
    "  scale_x_log10() + \n",
    "  ggtitle(\"Users\")"
   ]
  },
  {
   "cell_type": "code",
   "execution_count": 9,
   "metadata": {},
   "outputs": [
    {
     "name": "stderr",
     "output_type": "stream",
     "text": [
      "also installing the dependencies ‘numDeriv’, ‘SQUAREM’, ‘lava’, ‘prodlim’, ‘generics’, ‘gower’, ‘ipred’, ‘RcppRoll’, ‘timeDate’, ‘recipes’\n",
      "\n",
      "Updating HTML index of packages in '.Library'\n",
      "Making 'packages.html' ... done\n"
     ]
    }
   ],
   "source": [
    "install.packages('caret')"
   ]
  },
  {
   "cell_type": "code",
   "execution_count": 13,
   "metadata": {},
   "outputs": [],
   "source": [
    "library(caret)\n",
    "set.seed(755)\n",
    "\n",
    "test_index <- createDataPartition(y=movielens$rating, times=1,p=0.2,list=FALSE)\n",
    "\n",
    "train_set <- movielens[-test_index,]\n",
    "test_set <- movielens[test_index,]\n",
    "\n",
    "test_set <- test_set %>% semi_join(train_set, by='movieId') %>% semi_join(train_set,by='userId')"
   ]
  },
  {
   "cell_type": "code",
   "execution_count": 14,
   "metadata": {},
   "outputs": [],
   "source": [
    "RMSE <- function(true_ratings, predicted_ratings){\n",
    "    sqrt(mean((true_ratings - predicted_ratings)^2))\n",
    "}"
   ]
  },
  {
   "cell_type": "code",
   "execution_count": 16,
   "metadata": {},
   "outputs": [
    {
     "data": {
      "text/html": [
       "3.542792680183"
      ],
      "text/latex": [
       "3.542792680183"
      ],
      "text/markdown": [
       "3.542792680183"
      ],
      "text/plain": [
       "[1] 3.542793"
      ]
     },
     "metadata": {},
     "output_type": "display_data"
    }
   ],
   "source": [
    "mu_hat <- mean(train_set$rating)\n",
    "mu_hat"
   ]
  },
  {
   "cell_type": "code",
   "execution_count": 17,
   "metadata": {},
   "outputs": [
    {
     "data": {
      "text/html": [
       "1.04822019268817"
      ],
      "text/latex": [
       "1.04822019268817"
      ],
      "text/markdown": [
       "1.04822019268817"
      ],
      "text/plain": [
       "[1] 1.04822"
      ]
     },
     "metadata": {},
     "output_type": "display_data"
    }
   ],
   "source": [
    "naive_rmse <- RMSE(test_set$rating, mu_hat)\n",
    "naive_rmse"
   ]
  },
  {
   "cell_type": "code",
   "execution_count": 18,
   "metadata": {},
   "outputs": [],
   "source": [
    "rmse_results <- data_frame(method = 'Just the average', RMSE = naive_rmse)"
   ]
  },
  {
   "cell_type": "code",
   "execution_count": null,
   "metadata": {},
   "outputs": [],
   "source": [
    "fit <- lm(rating ~ as.factor(userId), data=movielens)"
   ]
  },
  {
   "cell_type": "code",
   "execution_count": 20,
   "metadata": {},
   "outputs": [],
   "source": [
    "mu <- mean(train_set$rating)\n",
    "movie_avgs <- train_set %>% group_by(movieId) %>% summarize(b_i = mean(rating-mu))"
   ]
  },
  {
   "cell_type": "code",
   "execution_count": 21,
   "metadata": {},
   "outputs": [
    {
     "data": {},
     "metadata": {},
     "output_type": "display_data"
    },
    {
     "data": {
      "image/png": "[encoded data removed]",
      "text/plain": [
       "plot without title"
      ]
     },
     "metadata": {},
     "output_type": "display_data",
     "source": "R display func"
    }
   ],
   "source": [
    "movie_avgs %>% qplot(b_i, geom =\"histogram\", bins = 10, data = ., color = I(\"black\"))"
   ]
  },
  {
   "cell_type": "code",
   "execution_count": 25,
   "metadata": {},
   "outputs": [
    {
     "data": {
      "text/plain": [
       "\n",
       "\n",
       "|method             |      RMSE|\n",
       "|:------------------|---------:|\n",
       "|Just the average   | 1.0482202|\n",
       "|Movie Effect Model |       NaN|\n",
       "|Movie Effect Model | 0.9862839|"
      ]
     },
     "metadata": {},
     "output_type": "display_data"
    }
   ],
   "source": [
    "predicted_ratings <- mu + test_set %>% \n",
    "  left_join(movie_avgs, by='movieId') %>%\n",
    "  .$b_i\n",
    "\n",
    "model_1_rmse <- RMSE(predicted_ratings, test_set$rating)\n",
    "rmse_results <- bind_rows(rmse_results,\n",
    "                          data_frame(method=\"Movie Effect Model\",  \n",
    "                                     RMSE = model_1_rmse ))\n",
    "rmse_results %>% knitr::kable()"
   ]
  },
  {
   "cell_type": "code",
   "execution_count": 26,
   "metadata": {},
   "outputs": [
    {
     "data": {},
     "metadata": {},
     "output_type": "display_data"
    },
    {
     "data": {
      "image/png": "[encoded data removed]",
      "text/plain": [
       "plot without title"
      ]
     },
     "metadata": {},
     "output_type": "display_data",
     "source": "R display func"
    }
   ],
   "source": [
    "train_set %>% \n",
    "  group_by(userId) %>% \n",
    "  summarize(b_u = mean(rating)) %>% \n",
    "  filter(n()>=100) %>%\n",
    "  ggplot(aes(b_u)) + \n",
    "  geom_histogram(bins = 30, color = \"black\")"
   ]
  },
  {
   "cell_type": "code",
   "execution_count": null,
   "metadata": {},
   "outputs": [],
   "source": [
    "lm(rating ~ as.factor(movieId) + as.factor(userId))"
   ]
  },
  {
   "cell_type": "code",
   "execution_count": 27,
   "metadata": {},
   "outputs": [],
   "source": [
    "user_avgs <- test_set %>% \n",
    "  left_join(movie_avgs, by='movieId') %>%\n",
    "  group_by(userId) %>%\n",
    "  summarize(b_u = mean(rating - mu - b_i))"
   ]
  },
  {
   "cell_type": "code",
   "execution_count": 28,
   "metadata": {},
   "outputs": [
    {
     "data": {
      "text/plain": [
       "\n",
       "\n",
       "|method                     |      RMSE|\n",
       "|:--------------------------|---------:|\n",
       "|Just the average           | 1.0482202|\n",
       "|Movie Effect Model         |       NaN|\n",
       "|Movie Effect Model         | 0.9862839|\n",
       "|Movie + User Effects Model | 0.8848688|"
      ]
     },
     "metadata": {},
     "output_type": "display_data"
    }
   ],
   "source": [
    "predicted_ratings <- test_set %>% \n",
    "  left_join(movie_avgs, by='movieId') %>%\n",
    "  left_join(user_avgs, by='userId') %>%\n",
    "  mutate(pred = mu + b_i + b_u) %>%\n",
    "  .$pred\n",
    "\n",
    "\n",
    "model_2_rmse <- RMSE(predicted_ratings, test_set$rating)\n",
    "rmse_results <- bind_rows(rmse_results,\n",
    "                          data_frame(method=\"Movie + User Effects Model\",  \n",
    "                                     RMSE = model_2_rmse ))\n",
    "rmse_results %>% knitr::kable()"
   ]
  },
  {
   "cell_type": "code",
   "execution_count": 31,
   "metadata": {},
   "outputs": [
    {
     "data": {
      "text/plain": [
       "\n",
       "\n",
       "|title                                            |  residual|\n",
       "|:------------------------------------------------|---------:|\n",
       "|Day of the Beast, The (Día de la Bestia, El)     |  4.500000|\n",
       "|Horror Express                                   | -4.000000|\n",
       "|No Holds Barred                                  |  4.000000|\n",
       "|Dear Zachary: A Letter to a Son About His Father | -4.000000|\n",
       "|Faust                                            | -4.000000|\n",
       "|Hear My Song                                     | -4.000000|\n",
       "|Confessions of a Shopaholic                      | -4.000000|\n",
       "|Twilight Saga: Breaking Dawn - Part 1, The       | -4.000000|\n",
       "|Taxi Driver                                      | -3.806931|\n",
       "|Taxi Driver                                      | -3.806931|"
      ]
     },
     "metadata": {},
     "output_type": "display_data"
    }
   ],
   "source": [
    "test_set %>%\n",
    "    left_join(movie_avgs, by='movieId') %>%\n",
    "    mutate(residual = rating - (mu + b_i)) %>%\n",
    "    arrange(desc(abs(residual))) %>%\n",
    "    select(title, residual) %>% slice(1:10) %>% knitr::kable()"
   ]
  },
  {
   "cell_type": "code",
   "execution_count": 32,
   "metadata": {},
   "outputs": [
    {
     "data": {
      "text/plain": [
       "\n",
       "\n",
       "|title                                                   |      b_i|\n",
       "|:-------------------------------------------------------|--------:|\n",
       "|Lamerica                                                | 1.457207|\n",
       "|Love & Human Remains                                    | 1.457207|\n",
       "|Enfer, L'                                               | 1.457207|\n",
       "|Picture Bride (Bijo photo)                              | 1.457207|\n",
       "|Red Firecracker, Green Firecracker (Pao Da Shuang Deng) | 1.457207|\n",
       "|Faces                                                   | 1.457207|\n",
       "|Maya Lin: A Strong Clear Vision                         | 1.457207|\n",
       "|Heavy                                                   | 1.457207|\n",
       "|Gate of Heavenly Peace, The                             | 1.457207|\n",
       "|Death in the Garden (Mort en ce jardin, La)             | 1.457207|"
      ]
     },
     "metadata": {},
     "output_type": "display_data"
    }
   ],
   "source": [
    "movie_titles <- movielens %>%\n",
    "    select(movieId, title) %>%\n",
    "    distinct()\n",
    "movie_avgs %>% left_join(movie_titles, by='movieId') %>%\n",
    "    arrange(desc(b_i)) %>%\n",
    "    select(title, b_i) %>%\n",
    "    slice(1:10) %>%\n",
    "    knitr::kable()"
   ]
  },
  {
   "cell_type": "code",
   "execution_count": 33,
   "metadata": {},
   "outputs": [
    {
     "name": "stderr",
     "output_type": "stream",
     "text": [
      "Joining, by = \"movieId\"\n"
     ]
    },
    {
     "data": {
      "text/plain": [
       "\n",
       "\n",
       "|title                                                   |      b_i|  n|\n",
       "|:-------------------------------------------------------|--------:|--:|\n",
       "|Lamerica                                                | 1.457207|  1|\n",
       "|Love & Human Remains                                    | 1.457207|  3|\n",
       "|Enfer, L'                                               | 1.457207|  1|\n",
       "|Picture Bride (Bijo photo)                              | 1.457207|  1|\n",
       "|Red Firecracker, Green Firecracker (Pao Da Shuang Deng) | 1.457207|  3|\n",
       "|Faces                                                   | 1.457207|  1|\n",
       "|Maya Lin: A Strong Clear Vision                         | 1.457207|  2|\n",
       "|Heavy                                                   | 1.457207|  1|\n",
       "|Gate of Heavenly Peace, The                             | 1.457207|  1|\n",
       "|Death in the Garden (Mort en ce jardin, La)             | 1.457207|  1|"
      ]
     },
     "metadata": {},
     "output_type": "display_data"
    }
   ],
   "source": [
    "train_set %>% count(movieId) %>%\n",
    "    left_join(movie_avgs) %>%\n",
    "    left_join(movie_titles, by='movieId') %>%\n",
    "    arrange(desc(b_i)) %>%\n",
    "    select(title, b_i, n) %>%\n",
    "    slice(1:10) %>%\n",
    "    knitr::kable()"
   ]
  },
  {
   "cell_type": "code",
   "execution_count": 36,
   "metadata": {},
   "outputs": [],
   "source": [
    "lambda <- 3\n",
    "mu <- mean(train_set$rating)\n",
    "movie_reg_avgs <- train_set %>%\n",
    "    group_by(movieId) %>%\n",
    "    summarize(b_i = sum(rating - mu)/(n()+lambda), n_i = n())"
   ]
  },
  {
   "cell_type": "code",
   "execution_count": 37,
   "metadata": {},
   "outputs": [
    {
     "data": {},
     "metadata": {},
     "output_type": "display_data"
    },
    {
     "data": {
      "image/png": "[encoded data removed]",
      "text/plain": [
       "plot without title"
      ]
     },
     "metadata": {},
     "output_type": "display_data",
     "source": "R display func"
    }
   ],
   "source": [
    "data_frame(original = movie_avgs$b_i, \n",
    "           regularlized = movie_reg_avgs$b_i, \n",
    "           n = movie_reg_avgs$n_i) %>%\n",
    "    ggplot(aes(original, regularlized, size=sqrt(n))) + \n",
    "        geom_point(shape=1, alpha=0.5)"
   ]
  },
  {
   "cell_type": "code",
   "execution_count": 38,
   "metadata": {},
   "outputs": [
    {
     "name": "stderr",
     "output_type": "stream",
     "text": [
      "Joining, by = \"movieId\"\n"
     ]
    },
    {
     "data": {
      "text/plain": [
       "\n",
       "\n",
       "|title                          |       b_i|   n|\n",
       "|:------------------------------|---------:|---:|\n",
       "|All About Eve                  | 0.9271514|  26|\n",
       "|Shawshank Redemption, The      | 0.9206986| 240|\n",
       "|Godfather, The                 | 0.8971328| 153|\n",
       "|Godfather: Part II, The        | 0.8710751| 100|\n",
       "|Maltese Falcon, The            | 0.8597749|  47|\n",
       "|Best Years of Our Lives, The   | 0.8592343|  11|\n",
       "|On the Waterfront              | 0.8467603|  23|\n",
       "|Face in the Crowd, A           | 0.8326899|   4|\n",
       "|African Queen, The             | 0.8322939|  36|\n",
       "|All Quiet on the Western Front | 0.8235200|  11|"
      ]
     },
     "metadata": {},
     "output_type": "display_data"
    }
   ],
   "source": [
    "train_set %>%\n",
    "  count(movieId) %>% \n",
    "  left_join(movie_reg_avgs) %>%\n",
    "  left_join(movie_titles, by=\"movieId\") %>%\n",
    "  arrange(desc(b_i)) %>% \n",
    "  select(title, b_i, n) %>% \n",
    "  slice(1:10) %>% \n",
    "  knitr::kable()\n",
    "#> Joining, by = \"movieId\""
   ]
  },
  {
   "cell_type": "code",
   "execution_count": 39,
   "metadata": {},
   "outputs": [
    {
     "name": "stderr",
     "output_type": "stream",
     "text": [
      "Joining, by = \"movieId\"\n"
     ]
    },
    {
     "data": {
      "text/plain": [
       "\n",
       "\n",
       "|title                              |       b_i|  n|\n",
       "|:----------------------------------|---------:|--:|\n",
       "|Battlefield Earth                  | -2.064653| 14|\n",
       "|Joe's Apartment                    | -1.779955|  7|\n",
       "|Speed 2: Cruise Control            | -1.689385| 20|\n",
       "|Super Mario Bros.                  | -1.597269| 13|\n",
       "|Police Academy 6: City Under Siege | -1.571379| 10|\n",
       "|After Earth                        | -1.524453|  4|\n",
       "|Disaster Movie                     | -1.521396|  3|\n",
       "|Little Nicky                       | -1.511374| 17|\n",
       "|Cats & Dogs                        | -1.472973|  6|\n",
       "|Blade: Trinity                     | -1.462194| 11|"
      ]
     },
     "metadata": {},
     "output_type": "display_data"
    }
   ],
   "source": [
    "train_set %>%\n",
    "  count(movieId) %>% \n",
    "  left_join(movie_reg_avgs) %>%\n",
    "  left_join(movie_titles, by=\"movieId\") %>%\n",
    "  arrange(b_i) %>% \n",
    "  select(title, b_i, n) %>% \n",
    "  slice(1:10) %>% \n",
    "  knitr::kable()\n",
    "#> Joining, by = \"movieId\""
   ]
  },
  {
   "cell_type": "code",
   "execution_count": 40,
   "metadata": {},
   "outputs": [
    {
     "data": {
      "text/plain": [
       "\n",
       "\n",
       "|method                         |      RMSE|\n",
       "|:------------------------------|---------:|\n",
       "|Just the average               | 1.0482202|\n",
       "|Movie Effect Model             |       NaN|\n",
       "|Movie Effect Model             | 0.9862839|\n",
       "|Movie + User Effects Model     | 0.8848688|\n",
       "|Regularized Movie Effect Model | 0.8848688|"
      ]
     },
     "metadata": {},
     "output_type": "display_data"
    }
   ],
   "source": [
    "predicted_ratings <- test_set %>% \n",
    "  left_join(movie_reg_avgs, by='movieId') %>%\n",
    "  mutate(pred = mu + b_i) %>%\n",
    "  .$pred\n",
    "\n",
    "model_3_rmse <- RMSE(predicted_ratings, test_set$rating)\n",
    "rmse_results <- bind_rows(rmse_results,\n",
    "                          data_frame(method=\"Regularized Movie Effect Model\",  \n",
    "                                     RMSE = model_2_rmse ))\n",
    "rmse_results %>% knitr::kable()"
   ]
  },
  {
   "cell_type": "code",
   "execution_count": 41,
   "metadata": {},
   "outputs": [
    {
     "data": {},
     "metadata": {},
     "output_type": "display_data"
    },
    {
     "data": {
      "text/html": [
       "3"
      ],
      "text/latex": [
       "3"
      ],
      "text/markdown": [
       "3"
      ],
      "text/plain": [
       "[1] 3"
      ]
     },
     "metadata": {},
     "output_type": "display_data"
    },
    {
     "data": {
      "image/png": "[encoded data removed]",
      "text/plain": [
       "plot without title"
      ]
     },
     "metadata": {},
     "output_type": "display_data",
     "source": "R display func"
    }
   ],
   "source": [
    "lambdas <- seq(0, 10, 0.25)\n",
    "\n",
    "mu <- mean(train_set$rating)\n",
    "just_the_sum <- train_set %>% \n",
    "  group_by(movieId) %>% \n",
    "  summarize(s = sum(rating - mu), n_i = n())\n",
    "\n",
    "rmses <- sapply(lambdas, function(l){\n",
    "  predicted_ratings <- test_set %>% \n",
    "    left_join(just_the_sum, by='movieId') %>% \n",
    "    mutate(b_i = s/(n_i+l)) %>%\n",
    "    mutate(pred = mu + b_i) %>%\n",
    "    .$pred\n",
    "  return(RMSE(predicted_ratings, test_set$rating))\n",
    "})\n",
    "qplot(lambdas, rmses)  \n",
    "lambdas[which.min(rmses)]\n",
    "#> [1] 3"
   ]
  },
  {
   "cell_type": "code",
   "execution_count": 42,
   "metadata": {},
   "outputs": [
    {
     "data": {},
     "metadata": {},
     "output_type": "display_data"
    },
    {
     "data": {
      "image/png": "[encoded data removed]",
      "text/plain": [
       "plot without title"
      ]
     },
     "metadata": {},
     "output_type": "display_data",
     "source": "R display func"
    }
   ],
   "source": [
    "rmses <- sapply(lambdas, function(l){\n",
    "\n",
    "  mu <- mean(train_set$rating)\n",
    "  \n",
    "  b_i <- train_set %>% \n",
    "    group_by(movieId) %>%\n",
    "    summarize(b_i = sum(rating - mu)/(n()+l))\n",
    "  \n",
    "  b_u <- train_set %>% \n",
    "    left_join(b_i, by=\"movieId\") %>%\n",
    "    group_by(userId) %>%\n",
    "    summarize(b_u = sum(rating - b_i - mu)/(n()+l))\n",
    "\n",
    "  predicted_ratings <- \n",
    "    test_set %>% \n",
    "    left_join(b_i, by = \"movieId\") %>%\n",
    "    left_join(b_u, by = \"userId\") %>%\n",
    "    mutate(pred = mu + b_i + b_u) %>%\n",
    "    .$pred\n",
    "  \n",
    "    return(RMSE(predicted_ratings, test_set$rating))\n",
    "})\n",
    "\n",
    "qplot(lambdas, rmses)  "
   ]
  },
  {
   "cell_type": "code",
   "execution_count": 43,
   "metadata": {},
   "outputs": [
    {
     "data": {
      "text/html": [
       "3.75"
      ],
      "text/latex": [
       "3.75"
      ],
      "text/markdown": [
       "3.75"
      ],
      "text/plain": [
       "[1] 3.75"
      ]
     },
     "metadata": {},
     "output_type": "display_data"
    }
   ],
   "source": [
    "lambda <- lambdas[which.min(rmses)]\n",
    "lambda"
   ]
  },
  {
   "cell_type": "code",
   "execution_count": 44,
   "metadata": {},
   "outputs": [
    {
     "data": {
      "text/plain": [
       "\n",
       "\n",
       "|method                                |      RMSE|\n",
       "|:-------------------------------------|---------:|\n",
       "|Just the average                      | 1.0482202|\n",
       "|Movie Effect Model                    |       NaN|\n",
       "|Movie Effect Model                    | 0.9862839|\n",
       "|Movie + User Effects Model            | 0.8848688|\n",
       "|Regularized Movie Effect Model        | 0.8848688|\n",
       "|Regularized Movie + User Effect Model | 0.8806419|"
      ]
     },
     "metadata": {},
     "output_type": "display_data"
    }
   ],
   "source": [
    "rmse_results <- bind_rows(rmse_results,\n",
    "                          data_frame(method=\"Regularized Movie + User Effect Model\",  \n",
    "                                     RMSE = min(rmses)))\n",
    "rmse_results %>% knitr::kable()"
   ]
  },
  {
   "cell_type": "code",
   "execution_count": null,
   "metadata": {},
   "outputs": [],
   "source": []
  },
  {
   "cell_type": "code",
   "execution_count": null,
   "metadata": {},
   "outputs": [],
   "source": []
  }
 ],
 "metadata": {
  "kernelspec": {
   "display_name": "R",
   "language": "R",
   "name": "ir"
  },
  "language_info": {
   "codemirror_mode": "r",
   "file_extension": ".r",
   "mimetype": "text/x-r-source",
   "name": "R",
   "pygments_lexer": "r",
   "version": "3.3.2"
  }
 },
 "nbformat": 4,
 "nbformat_minor": 2
}
