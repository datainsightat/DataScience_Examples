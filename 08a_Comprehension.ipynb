{
 "cells": [
  {
   "cell_type": "code",
   "execution_count": 4,
   "metadata": {},
   "outputs": [
    {
     "name": "stderr",
     "output_type": "stream",
     "text": [
      "Warning message:\n",
      "“dependency ‘libcoin’ is not available”also installing the dependencies ‘inum’, ‘partykit’\n",
      "\n",
      "Warning message in install.packages(\"mboost\"):\n",
      "“installation of package ‘inum’ had non-zero exit status”Warning message in install.packages(\"mboost\"):\n",
      "“installation of package ‘partykit’ had non-zero exit status”Warning message in install.packages(\"mboost\"):\n",
      "“installation of package ‘mboost’ had non-zero exit status”Updating HTML index of packages in '.Library'\n",
      "Making 'packages.html' ... done\n",
      "Updating HTML index of packages in '.Library'\n",
      "Making 'packages.html' ... done\n"
     ]
    }
   ],
   "source": [
    "#install.packages('dslabs')\n",
    "#install.packages('matrixStats')\n",
    "#install.packages('ggplot2')\n",
    "#install.packages('e1071')\n",
    "#install.packages('caret')\n",
    "#install.packages('Rborist')\n",
    "#install.packages('randomForest')\n",
    "#install.packages('naivebayes')\n",
    "#install.packages('kernlab')\n",
    "install.packages('mboost')\n",
    "install.packages('import')"
   ]
  },
  {
   "cell_type": "code",
   "execution_count": 2,
   "metadata": {},
   "outputs": [],
   "source": [
    "models <- c(\"glm\", \"lda\",  \"naive_bayes\",  \"svmLinear\", \n",
    "                \"gamboost\",  \"gamLoess\", \"qda\", \n",
    "                \"knn\", \"kknn\", \"loclda\", \"gam\",\n",
    "                \"rf\", \"ranger\",  \"wsrf\", \"Rborist\", \n",
    "                \"avNNet\", \"mlp\", \"monmlp\",\n",
    "                \"adaboost\", \"gbm\",\n",
    "                \"svmRadial\", \"svmRadialCost\", \"svmRadialSigma\")"
   ]
  },
  {
   "cell_type": "code",
   "execution_count": 3,
   "metadata": {},
   "outputs": [
    {
     "name": "stderr",
     "output_type": "stream",
     "text": [
      "Loading required package: lattice\n",
      "Loading required package: ggplot2\n"
     ]
    },
    {
     "name": "stdout",
     "output_type": "stream",
     "text": [
      "[1] \"glm\"\n",
      "[1] \"lda\"\n",
      "[1] \"naive_bayes\"\n",
      "[1] \"svmLinear\"\n",
      "[1] \"gamboost\"\n",
      "1 package is needed for this model and is not installed. (mboost). Would you like to try to install it now?"
     ]
    },
    {
     "ename": "ERROR",
     "evalue": "Error: Required package is missing\n",
     "execution_count": 3,
     "output_type": "error",
     "traceback": [
      "Error: Required package is missing\nTraceback:\n",
      "1. lapply(models, function(model) {\n .     print(model)\n .     train(y ~ ., method = model, data = mnist_27$train)\n . })",
      "2. FUN(X[[i]], ...)",
      "3. train(y ~ ., method = model, data = mnist_27$train)   # at line 8 of file <text>",
      "4. train.formula(y ~ ., method = model, data = mnist_27$train)",
      "5. train(x, y, weights = w, ...)",
      "6. train.default(x, y, weights = w, ...)",
      "7. checkInstall(models$library)",
      "8. stop(\"Required package is missing\", call. = FALSE)"
     ]
    }
   ],
   "source": [
    "library(caret)\n",
    "library(dslabs)\n",
    "set.seed(1)\n",
    "data(\"mnist_27\")\n",
    "\n",
    "fits <- lapply(models, function(model){ \n",
    "\tprint(model)\n",
    "\ttrain(y ~ ., method = model, data = mnist_27$train)\n",
    "}) \n",
    "    \n",
    "names(fits) <- models"
   ]
  },
  {
   "cell_type": "code",
   "execution_count": null,
   "metadata": {},
   "outputs": [],
   "source": []
  }
 ],
 "metadata": {
  "kernelspec": {
   "display_name": "R",
   "language": "R",
   "name": "ir"
  },
  "language_info": {
   "codemirror_mode": "r",
   "file_extension": ".r",
   "mimetype": "text/x-r-source",
   "name": "R",
   "pygments_lexer": "r",
   "version": "3.3.2"
  }
 },
 "nbformat": 4,
 "nbformat_minor": 2
}
