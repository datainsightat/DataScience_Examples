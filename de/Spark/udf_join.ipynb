{
  "nbformat": 4,
  "nbformat_minor": 0,
  "metadata": {
    "colab": {
      "name": "pyspark_udf_join.ipynb",
      "provenance": [],
      "collapsed_sections": []
    },
    "kernelspec": {
      "name": "python3",
      "display_name": "Python 3"
    },
    "language_info": {
      "name": "python"
    }
  },
  "cells": [
    {
      "cell_type": "markdown",
      "metadata": {
        "id": "tcb-afJbLm_d"
      },
      "source": [
        "**Install Spark Environment**"
      ]
    },
    {
      "cell_type": "code",
      "metadata": {
        "colab": {
          "base_uri": "https://localhost:8080/"
        },
        "id": "JHC9Cqs3LipZ",
        "outputId": "02e701ad-4c6f-4711-a43e-e57730e4236e"
      },
      "source": [
        "!apt-get install openjdk-8-jdk-headless -qq > /dev/null\n",
        "!wget -q https://archive.apache.org/dist/spark/spark-2.4.3/spark-2.4.3-bin-hadoop2.6.tgz\n",
        "!tar -xvf spark-2.4.3-bin-hadoop2.6.tgz\n",
        "!pip install -q findspark\n",
        "import os\n",
        "os.environ[\"JAVA_HOME\"] = \"/usr/lib/jvm/java-8-openjdk-amd64\"\n",
        "os.environ[\"SPARK_HOME\"] = \"/content/spark-2.4.3-bin-hadoop2.6\"\n",
        "import findspark\n",
        "findspark.init()\n",
        "from pyspark.sql import SparkSession\n",
        "spark = SparkSession.builder.master(\"local[*]\").getOrCreate()"
      ],
      "execution_count": 1,
      "outputs": [
        {
          "output_type": "stream",
          "name": "stdout",
          "text": [
            "spark-2.4.3-bin-hadoop2.6/\n",
            "spark-2.4.3-bin-hadoop2.6/python/\n",
            "...\n",
            "spark-2.4.3-bin-hadoop2.6/LICENSE\n"
          ]
        }
      ]
    },
    {
      "cell_type": "markdown",
      "metadata": {
        "id": "hms1e4KwLuT9"
      },
      "source": [
        "Test Spark"
      ]
    },
    {
      "cell_type": "code",
      "metadata": {
        "colab": {
          "base_uri": "https://localhost:8080/"
        },
        "id": "jDj3B4MfLw1N",
        "outputId": "df6db744-98f1-4a39-eb88-afaf01c6656c"
      },
      "source": [
        "df = spark.createDataFrame([{\"Google\": \"Colab\",\"Spark\": \"Scala\"} ,{\"Google\": \"Dataproc\",\"Spark\":\"Python\"}])\n",
        "df.show()"
      ],
      "execution_count": 2,
      "outputs": [
        {
          "output_type": "stream",
          "name": "stderr",
          "text": [
            "/content/spark-2.4.3-bin-hadoop2.6/python/pyspark/sql/session.py:346: UserWarning: inferring schema from dict is deprecated,please use pyspark.sql.Row instead\n",
            "  warnings.warn(\"inferring schema from dict is deprecated,\"\n"
          ]
        },
        {
          "output_type": "stream",
          "name": "stdout",
          "text": [
            "+--------+------+\n",
            "|  Google| Spark|\n",
            "+--------+------+\n",
            "|   Colab| Scala|\n",
            "|Dataproc|Python|\n",
            "+--------+------+\n",
            "\n"
          ]
        }
      ]
    },
    {
      "cell_type": "markdown",
      "metadata": {
        "id": "SARQBhc5L_en"
      },
      "source": [
        "Copy data in notebook environment"
      ]
    },
    {
      "cell_type": "code",
      "metadata": {
        "colab": {
          "base_uri": "https://localhost:8080/"
        },
        "id": "KBKWqwDnMEEt",
        "outputId": "fb0654e6-8308-4f7d-daf0-da76fb2740c2"
      },
      "source": [
        "!wget https://raw.githubusercontent.com/futurexskill/bigdata/master/store_customers.csv\n",
        "!wget https://raw.githubusercontent.com/futurexskill/bigdata/master/store_transactions.csv"
      ],
      "execution_count": 3,
      "outputs": [
        {
          "output_type": "stream",
          "name": "stdout",
          "text": [
            "--2021-10-20 05:33:48--  https://raw.githubusercontent.com/futurexskill/bigdata/master/store_customers.csv\n",
            "Resolving raw.githubusercontent.com (raw.githubusercontent.com)... 185.199.108.133, 185.199.109.133, 185.199.110.133, ...\n",
            "Connecting to raw.githubusercontent.com (raw.githubusercontent.com)|185.199.108.133|:443... connected.\n",
            "HTTP request sent, awaiting response... 200 OK\n",
            "Length: 199132 (194K) [text/plain]\n",
            "Saving to: ‘store_customers.csv’\n",
            "\n",
            "store_customers.csv 100%[===================>] 194.46K  --.-KB/s    in 0.02s   \n",
            "\n",
            "2021-10-20 05:33:48 (7.77 MB/s) - ‘store_customers.csv’ saved [199132/199132]\n",
            "\n",
            "--2021-10-20 05:33:48--  https://raw.githubusercontent.com/futurexskill/bigdata/master/store_transactions.csv\n",
            "Resolving raw.githubusercontent.com (raw.githubusercontent.com)... 185.199.108.133, 185.199.109.133, 185.199.110.133, ...\n",
            "Connecting to raw.githubusercontent.com (raw.githubusercontent.com)|185.199.108.133|:443... connected.\n",
            "HTTP request sent, awaiting response... 200 OK\n",
            "Length: 7257374 (6.9M) [text/plain]\n",
            "Saving to: ‘store_transactions.csv’\n",
            "\n",
            "store_transactions. 100%[===================>]   6.92M  --.-KB/s    in 0.09s   \n",
            "\n",
            "2021-10-20 05:33:48 (73.9 MB/s) - ‘store_transactions.csv’ saved [7257374/7257374]\n",
            "\n"
          ]
        }
      ]
    },
    {
      "cell_type": "code",
      "metadata": {
        "colab": {
          "base_uri": "https://localhost:8080/"
        },
        "id": "EQ6Y_9OQMSDc",
        "outputId": "779adfe2-9664-414d-e82b-676c912f4906"
      },
      "source": [
        "ls"
      ],
      "execution_count": 4,
      "outputs": [
        {
          "output_type": "stream",
          "name": "stdout",
          "text": [
            "\u001b[0m\u001b[01;34msample_data\u001b[0m/                   store_customers.csv\n",
            "\u001b[01;34mspark-2.4.3-bin-hadoop2.6\u001b[0m/     store_transactions.csv\n",
            "spark-2.4.3-bin-hadoop2.6.tgz\n"
          ]
        }
      ]
    },
    {
      "cell_type": "markdown",
      "metadata": {
        "id": "tlXFekFiMVq4"
      },
      "source": [
        "Read file in dataframe"
      ]
    },
    {
      "cell_type": "code",
      "metadata": {
        "colab": {
          "base_uri": "https://localhost:8080/"
        },
        "id": "fbT5QKumMXqP",
        "outputId": "b579c549-53f2-49ea-f903-768f30a4d011"
      },
      "source": [
        "customerDF = spark.read.csv(\"store_customers.csv\",header=True)\n",
        "\n",
        "customerDF.show()\n",
        "customerDF.count()\n",
        "\n",
        "transactionDF = spark.read.csv(\"store_transactions.csv\",header=True)\n",
        "\n",
        "transactionDF.show()\n",
        "transactionDF.count()"
      ],
      "execution_count": 5,
      "outputs": [
        {
          "output_type": "stream",
          "name": "stdout",
          "text": [
            "+----------+---+------+------+-------+\n",
            "|CustomerID|Age|Salary|Gender|Country|\n",
            "+----------+---+------+------+-------+\n",
            "|         1| 72| 20000|  Male|Germany|\n",
            "|         2| 72| 22000|Female| France|\n",
            "|         3| 70| 24000|Female|England|\n",
            "|         4| 75|  2600|  Male|England|\n",
            "|         5| 33| 50000|  Male| France|\n",
            "|         6| 52| 35000|Female|England|\n",
            "|         7| 31|  4300|  Male|Germany|\n",
            "|         8| 37| 32000|Female| France|\n",
            "|         9| 76| 35000|  Male|Germany|\n",
            "|        10| 58| 37000|Female| France|\n",
            "|        11| 70| 25000|  Male|Germany|\n",
            "|        12| 28| 27000|Female| France|\n",
            "|        13| 21| 29000|Female|England|\n",
            "|        14| 34|  7600|  Male|England|\n",
            "|        15| 45| 55000|  Male| France|\n",
            "|        16| 32| 40000|Female|England|\n",
            "|        17| 62|  9300|  Male|Germany|\n",
            "|        18| 54| 37000|Female| France|\n",
            "|        19| 33| 40000|  Male|Germany|\n",
            "|        20| 46| 42000|Female| France|\n",
            "+----------+---+------+------+-------+\n",
            "only showing top 20 rows\n",
            "\n",
            "+----------+---------+------+----------+\n",
            "|CustomerID|ProductID|Amount|      Date|\n",
            "+----------+---------+------+----------+\n",
            "|      3427|        3|  7541|22-11-2019|\n",
            "|      4378|       14|  7271|15-12-2019|\n",
            "|      3751|       47|  4276|20-11-2019|\n",
            "|      6899|      146|  8923|22-11-2019|\n",
            "|      4561|       46|  4891|30-11-2019|\n",
            "|      2299|      143|  7545|05-12-2019|\n",
            "|       553|       43|  1147|08-12-2019|\n",
            "|      3406|      134|   245|12-12-2019|\n",
            "|      5278|       34|  8765|09-12-2019|\n",
            "|      2456|       68|  3820|30-11-2019|\n",
            "|      6963|       58|  1850|27-11-2019|\n",
            "|      4700|      140|  3948|27-11-2019|\n",
            "|      3566|       76|   401|17-12-2019|\n",
            "|      2212|       38|  4750|16-12-2019|\n",
            "|      4677|       18|  1149|18-11-2019|\n",
            "|      4295|       35|  3241|19-11-2019|\n",
            "|      4228|       91|  6405|01-12-2019|\n",
            "|      2466|       83|  2978|10-12-2019|\n",
            "|      3136|       67|  6581|28-11-2019|\n",
            "|      6563|       80|  2878|21-11-2019|\n",
            "+----------+---------+------+----------+\n",
            "only showing top 20 rows\n",
            "\n"
          ]
        },
        {
          "output_type": "execute_result",
          "data": {
            "text/plain": [
              "1048575"
            ]
          },
          "metadata": {},
          "execution_count": 5
        }
      ]
    },
    {
      "cell_type": "markdown",
      "metadata": {
        "id": "gfP83WIrMfkz"
      },
      "source": [
        "**UDF User Defined Functions**"
      ]
    },
    {
      "cell_type": "code",
      "metadata": {
        "colab": {
          "base_uri": "https://localhost:8080/"
        },
        "id": "BKYKz2MyMiER",
        "outputId": "277d7872-3a21-41ad-d9d9-05832ac8c722"
      },
      "source": [
        "from pyspark.sql.functions import udf\n",
        "\n",
        "extract_year = udf (lambda Date:Date.split('-')[2])\n",
        "\n",
        "transactionDF = transactionDF.withColumn(\"year\",extract_year(transactionDF.Date))\n",
        "\n",
        "transactionDF.show()"
      ],
      "execution_count": 6,
      "outputs": [
        {
          "output_type": "stream",
          "name": "stdout",
          "text": [
            "+----------+---------+------+----------+----+\n",
            "|CustomerID|ProductID|Amount|      Date|year|\n",
            "+----------+---------+------+----------+----+\n",
            "|      3427|        3|  7541|22-11-2019|2019|\n",
            "|      4378|       14|  7271|15-12-2019|2019|\n",
            "|      3751|       47|  4276|20-11-2019|2019|\n",
            "|      6899|      146|  8923|22-11-2019|2019|\n",
            "|      4561|       46|  4891|30-11-2019|2019|\n",
            "|      2299|      143|  7545|05-12-2019|2019|\n",
            "|       553|       43|  1147|08-12-2019|2019|\n",
            "|      3406|      134|   245|12-12-2019|2019|\n",
            "|      5278|       34|  8765|09-12-2019|2019|\n",
            "|      2456|       68|  3820|30-11-2019|2019|\n",
            "|      6963|       58|  1850|27-11-2019|2019|\n",
            "|      4700|      140|  3948|27-11-2019|2019|\n",
            "|      3566|       76|   401|17-12-2019|2019|\n",
            "|      2212|       38|  4750|16-12-2019|2019|\n",
            "|      4677|       18|  1149|18-11-2019|2019|\n",
            "|      4295|       35|  3241|19-11-2019|2019|\n",
            "|      4228|       91|  6405|01-12-2019|2019|\n",
            "|      2466|       83|  2978|10-12-2019|2019|\n",
            "|      3136|       67|  6581|28-11-2019|2019|\n",
            "|      6563|       80|  2878|21-11-2019|2019|\n",
            "+----------+---------+------+----------+----+\n",
            "only showing top 20 rows\n",
            "\n"
          ]
        }
      ]
    },
    {
      "cell_type": "markdown",
      "metadata": {
        "id": "BYMepzscM3NQ"
      },
      "source": [
        "**Joins**"
      ]
    },
    {
      "cell_type": "markdown",
      "metadata": {
        "id": "1s-0aqgxOxZ5"
      },
      "source": [
        "Create data per country"
      ]
    },
    {
      "cell_type": "code",
      "metadata": {
        "colab": {
          "base_uri": "https://localhost:8080/"
        },
        "id": "R4v35D3mM1mO",
        "outputId": "b79a848b-fc5d-41e4-fd82-ff504c30dc1c"
      },
      "source": [
        "country_spend_details = customerDF.join(transactionDF,customerDF.CustomerID == transactionDF.CustomerID )\n",
        "\n",
        "country_spend_details.show()\n",
        "\n",
        "country_spend_details.groupBy(\"Country\").agg({\"Amount\" : \"sum\"}).show()\n"
      ],
      "execution_count": 7,
      "outputs": [
        {
          "output_type": "stream",
          "name": "stdout",
          "text": [
            "+----------+---+------+------+-------+----------+---------+------+----------+----+\n",
            "|CustomerID|Age|Salary|Gender|Country|CustomerID|ProductID|Amount|      Date|year|\n",
            "+----------+---+------+------+-------+----------+---------+------+----------+----+\n",
            "|      3427| 69| 14300|Female|England|      3427|        3|  7541|22-11-2019|2019|\n",
            "|      4378| 78| 42000|  Male|Germany|      4378|       14|  7271|15-12-2019|2019|\n",
            "|      3751| 57| 45000|Female|England|      3751|       47|  4276|20-11-2019|2019|\n",
            "|      6899| 34| 12600|  Male|Germany|      6899|      146|  8923|22-11-2019|2019|\n",
            "|      4561| 37| 50000|Female|Germany|      4561|       46|  4891|30-11-2019|2019|\n",
            "|      2299| 50| 12600|Female| France|      2299|      143|  7545|05-12-2019|2019|\n",
            "|       553| 29| 42000|  Male|Germany|       553|       43|  1147|08-12-2019|2019|\n",
            "|      3406| 37| 35000|Female|England|      3406|      134|   245|12-12-2019|2019|\n",
            "|      5278| 64| 42000|Female|England|      5278|       34|  8765|09-12-2019|2019|\n",
            "|      2456| 77| 35000|Female|Germany|      2456|       68|  3820|30-11-2019|2019|\n",
            "|      6963| 26| 29000|  Male|Germany|      6963|       58|  1850|27-11-2019|2019|\n",
            "|      4700| 40| 60000|Female|Germany|      4700|      140|  3948|27-11-2019|2019|\n",
            "|      3566| 56| 40000|  Male|England|      3566|       76|   401|17-12-2019|2019|\n",
            "|      2212| 28| 19300|  Male|England|      2212|       38|  4750|16-12-2019|2019|\n",
            "|      4677| 37| 14300|  Male| France|      4677|       18|  1149|18-11-2019|2019|\n",
            "|      4295| 60| 42000|  Male|Germany|      4295|       35|  3241|19-11-2019|2019|\n",
            "|      4228| 36| 42000|Female|England|      4228|       91|  6405|01-12-2019|2019|\n",
            "|      2466| 75| 40000|  Male|England|      2466|       83|  2978|10-12-2019|2019|\n",
            "|      3136| 39| 50000|Female| France|      3136|       67|  6581|28-11-2019|2019|\n",
            "|      6563| 47| 29000|Female|England|      6563|       80|  2878|21-11-2019|2019|\n",
            "+----------+---+------+------+-------+----------+---------+------+----------+----+\n",
            "only showing top 20 rows\n",
            "\n",
            "+-------+------------+\n",
            "|Country| sum(Amount)|\n",
            "+-------+------------+\n",
            "|Germany|1.34377551E8|\n",
            "| France|1.45868556E8|\n",
            "|England|2.30855023E8|\n",
            "+-------+------------+\n",
            "\n"
          ]
        }
      ]
    },
    {
      "cell_type": "code",
      "metadata": {
        "colab": {
          "base_uri": "https://localhost:8080/"
        },
        "id": "1B7l9QnAOkOl",
        "outputId": "4b3a486d-82d2-4e19-8d4e-5c78e4916a48"
      },
      "source": [
        "!wget https://raw.githubusercontent.com/futurexskill/bigdata/master/store_customers_mini.csv\n",
        "\n",
        "!wget https://raw.githubusercontent.com/futurexskill/bigdata/master/store_transactions_mini.csv\n",
        "\n",
        "!ls"
      ],
      "execution_count": 8,
      "outputs": [
        {
          "output_type": "stream",
          "name": "stdout",
          "text": [
            "--2021-10-20 05:46:52--  https://raw.githubusercontent.com/futurexskill/bigdata/master/store_customers_mini.csv\n",
            "Resolving raw.githubusercontent.com (raw.githubusercontent.com)... 185.199.108.133, 185.199.109.133, 185.199.110.133, ...\n",
            "Connecting to raw.githubusercontent.com (raw.githubusercontent.com)|185.199.108.133|:443... connected.\n",
            "HTTP request sent, awaiting response... 200 OK\n",
            "Length: 190 [text/plain]\n",
            "Saving to: ‘store_customers_mini.csv’\n",
            "\n",
            "\rstore_customers_min   0%[                    ]       0  --.-KB/s               \rstore_customers_min 100%[===================>]     190  --.-KB/s    in 0s      \n",
            "\n",
            "2021-10-20 05:46:52 (11.4 MB/s) - ‘store_customers_mini.csv’ saved [190/190]\n",
            "\n",
            "--2021-10-20 05:46:52--  https://raw.githubusercontent.com/futurexskill/bigdata/master/store_transactions_mini.csv\n",
            "Resolving raw.githubusercontent.com (raw.githubusercontent.com)... 185.199.110.133, 185.199.111.133, 185.199.108.133, ...\n",
            "Connecting to raw.githubusercontent.com (raw.githubusercontent.com)|185.199.110.133|:443... connected.\n",
            "HTTP request sent, awaiting response... 200 OK\n",
            "Length: 167 [text/plain]\n",
            "Saving to: ‘store_transactions_mini.csv’\n",
            "\n",
            "store_transactions_ 100%[===================>]     167  --.-KB/s    in 0s      \n",
            "\n",
            "2021-10-20 05:46:52 (8.57 MB/s) - ‘store_transactions_mini.csv’ saved [167/167]\n",
            "\n",
            "sample_data\t\t       store_customers_mini.csv\n",
            "spark-2.4.3-bin-hadoop2.6      store_transactions.csv\n",
            "spark-2.4.3-bin-hadoop2.6.tgz  store_transactions_mini.csv\n",
            "store_customers.csv\n"
          ]
        }
      ]
    },
    {
      "cell_type": "code",
      "metadata": {
        "colab": {
          "base_uri": "https://localhost:8080/"
        },
        "id": "PZLUcTlwOmyM",
        "outputId": "8cd9e081-edec-41ef-ac60-fe00fe34fa22"
      },
      "source": [
        "customerDFMini = spark.read.csv(\"store_customers_mini.csv\",header=True)\n",
        "\n",
        "customerDFMini.show()\n",
        "\n",
        "transactionDFMini = spark.read.csv(\"store_transactions_mini.csv\",header=True)\n",
        "\n",
        "transactionDFMini.show()"
      ],
      "execution_count": 9,
      "outputs": [
        {
          "output_type": "stream",
          "name": "stdout",
          "text": [
            "+----------+---+------+------+-------+\n",
            "|CustomerID|Age|Salary|Gender|Country|\n",
            "+----------+---+------+------+-------+\n",
            "|         1| 72| 20000|  Male|Germany|\n",
            "|         2| 72| 22000|Female| France|\n",
            "|         5| 33| 50000|  Male| France|\n",
            "|         6| 52| 35000|Female|England|\n",
            "|         7| 31|  4300|  Male|Germany|\n",
            "|         8| 37| 32000|Female| France|\n",
            "+----------+---+------+------+-------+\n",
            "\n",
            "+----------+---------+------+----------+\n",
            "|CustomerID|ProductID|Amount|      Date|\n",
            "+----------+---------+------+----------+\n",
            "|         1|        3|  7541|22-11-2019|\n",
            "|         2|       14|  7271|15-12-2019|\n",
            "|         3|       47|  4276|20-11-2019|\n",
            "|         4|      146|  8923|22-11-2019|\n",
            "|         5|       46|  4891|30-11-2019|\n",
            "|         6|      143|  7545|05-12-2019|\n",
            "+----------+---------+------+----------+\n",
            "\n"
          ]
        }
      ]
    },
    {
      "cell_type": "markdown",
      "metadata": {
        "id": "Xg-oixMWPUe3"
      },
      "source": [
        "Inner Join"
      ]
    },
    {
      "cell_type": "code",
      "metadata": {
        "colab": {
          "base_uri": "https://localhost:8080/"
        },
        "id": "LLvz8pByPWF2",
        "outputId": "98875aa2-7ef2-49fa-ac3d-a2e607a12d69"
      },
      "source": [
        "customerDFMini.join(transactionDFMini,customerDFMini.CustomerID == transactionDFMini.CustomerID ).show()\n",
        "\n",
        "customerDFMini.join(transactionDFMini,customerDFMini.CustomerID == transactionDFMini.CustomerID,how=\"inner\" ).show()"
      ],
      "execution_count": 11,
      "outputs": [
        {
          "output_type": "stream",
          "name": "stdout",
          "text": [
            "+----------+---+------+------+-------+----------+---------+------+----------+\n",
            "|CustomerID|Age|Salary|Gender|Country|CustomerID|ProductID|Amount|      Date|\n",
            "+----------+---+------+------+-------+----------+---------+------+----------+\n",
            "|         1| 72| 20000|  Male|Germany|         1|        3|  7541|22-11-2019|\n",
            "|         2| 72| 22000|Female| France|         2|       14|  7271|15-12-2019|\n",
            "|         5| 33| 50000|  Male| France|         5|       46|  4891|30-11-2019|\n",
            "|         6| 52| 35000|Female|England|         6|      143|  7545|05-12-2019|\n",
            "+----------+---+------+------+-------+----------+---------+------+----------+\n",
            "\n",
            "+----------+---+------+------+-------+----------+---------+------+----------+\n",
            "|CustomerID|Age|Salary|Gender|Country|CustomerID|ProductID|Amount|      Date|\n",
            "+----------+---+------+------+-------+----------+---------+------+----------+\n",
            "|         1| 72| 20000|  Male|Germany|         1|        3|  7541|22-11-2019|\n",
            "|         2| 72| 22000|Female| France|         2|       14|  7271|15-12-2019|\n",
            "|         5| 33| 50000|  Male| France|         5|       46|  4891|30-11-2019|\n",
            "|         6| 52| 35000|Female|England|         6|      143|  7545|05-12-2019|\n",
            "+----------+---+------+------+-------+----------+---------+------+----------+\n",
            "\n"
          ]
        }
      ]
    },
    {
      "cell_type": "code",
      "metadata": {
        "id": "brgdeWVdPuFU"
      },
      "source": [
        "Left Join"
      ],
      "execution_count": null,
      "outputs": []
    },
    {
      "cell_type": "code",
      "metadata": {
        "colab": {
          "base_uri": "https://localhost:8080/"
        },
        "id": "ieBy0yhcPvlo",
        "outputId": "6478e824-2982-4fbe-b502-5f69ae68583e"
      },
      "source": [
        "customerDFMini.join(transactionDFMini,customerDFMini.CustomerID == transactionDFMini.CustomerID, how=\"left\" ).show()"
      ],
      "execution_count": 12,
      "outputs": [
        {
          "output_type": "stream",
          "name": "stdout",
          "text": [
            "+----------+---+------+------+-------+----------+---------+------+----------+\n",
            "|CustomerID|Age|Salary|Gender|Country|CustomerID|ProductID|Amount|      Date|\n",
            "+----------+---+------+------+-------+----------+---------+------+----------+\n",
            "|         1| 72| 20000|  Male|Germany|         1|        3|  7541|22-11-2019|\n",
            "|         2| 72| 22000|Female| France|         2|       14|  7271|15-12-2019|\n",
            "|         5| 33| 50000|  Male| France|         5|       46|  4891|30-11-2019|\n",
            "|         6| 52| 35000|Female|England|         6|      143|  7545|05-12-2019|\n",
            "|         7| 31|  4300|  Male|Germany|      null|     null|  null|      null|\n",
            "|         8| 37| 32000|Female| France|      null|     null|  null|      null|\n",
            "+----------+---+------+------+-------+----------+---------+------+----------+\n",
            "\n"
          ]
        }
      ]
    },
    {
      "cell_type": "code",
      "metadata": {
        "id": "DK9J7BLNPzCL"
      },
      "source": [
        "Right Join"
      ],
      "execution_count": null,
      "outputs": []
    },
    {
      "cell_type": "code",
      "metadata": {
        "colab": {
          "base_uri": "https://localhost:8080/"
        },
        "id": "wdJtua95P0d3",
        "outputId": "7a3fda4f-149a-4e21-da65-e180d02b6d97"
      },
      "source": [
        "customerDFMini.join(transactionDFMini,customerDFMini.CustomerID == transactionDFMini.CustomerID, how=\"right\" ).show()"
      ],
      "execution_count": 13,
      "outputs": [
        {
          "output_type": "stream",
          "name": "stdout",
          "text": [
            "+----------+----+------+------+-------+----------+---------+------+----------+\n",
            "|CustomerID| Age|Salary|Gender|Country|CustomerID|ProductID|Amount|      Date|\n",
            "+----------+----+------+------+-------+----------+---------+------+----------+\n",
            "|         1|  72| 20000|  Male|Germany|         1|        3|  7541|22-11-2019|\n",
            "|         2|  72| 22000|Female| France|         2|       14|  7271|15-12-2019|\n",
            "|      null|null|  null|  null|   null|         3|       47|  4276|20-11-2019|\n",
            "|      null|null|  null|  null|   null|         4|      146|  8923|22-11-2019|\n",
            "|         5|  33| 50000|  Male| France|         5|       46|  4891|30-11-2019|\n",
            "|         6|  52| 35000|Female|England|         6|      143|  7545|05-12-2019|\n",
            "+----------+----+------+------+-------+----------+---------+------+----------+\n",
            "\n"
          ]
        }
      ]
    },
    {
      "cell_type": "code",
      "metadata": {
        "id": "r5Li-sPdP3gW"
      },
      "source": [
        "Full Outer Join"
      ],
      "execution_count": null,
      "outputs": []
    },
    {
      "cell_type": "code",
      "metadata": {
        "colab": {
          "base_uri": "https://localhost:8080/"
        },
        "id": "Ih_GrInBP6FY",
        "outputId": "c8367312-9da5-4414-e0af-2624570bc130"
      },
      "source": [
        "customerDFMini.join(transactionDFMini,customerDFMini.CustomerID == transactionDFMini.CustomerID, how=\"full\" ).show()"
      ],
      "execution_count": 14,
      "outputs": [
        {
          "output_type": "stream",
          "name": "stdout",
          "text": [
            "+----------+----+------+------+-------+----------+---------+------+----------+\n",
            "|CustomerID| Age|Salary|Gender|Country|CustomerID|ProductID|Amount|      Date|\n",
            "+----------+----+------+------+-------+----------+---------+------+----------+\n",
            "|         7|  31|  4300|  Male|Germany|      null|     null|  null|      null|\n",
            "|      null|null|  null|  null|   null|         3|       47|  4276|20-11-2019|\n",
            "|         8|  37| 32000|Female| France|      null|     null|  null|      null|\n",
            "|         5|  33| 50000|  Male| France|         5|       46|  4891|30-11-2019|\n",
            "|         6|  52| 35000|Female|England|         6|      143|  7545|05-12-2019|\n",
            "|         1|  72| 20000|  Male|Germany|         1|        3|  7541|22-11-2019|\n",
            "|      null|null|  null|  null|   null|         4|      146|  8923|22-11-2019|\n",
            "|         2|  72| 22000|Female| France|         2|       14|  7271|15-12-2019|\n",
            "+----------+----+------+------+-------+----------+---------+------+----------+\n",
            "\n"
          ]
        }
      ]
    },
    {
      "cell_type": "markdown",
      "metadata": {
        "id": "S1QkHlyrP-wl"
      },
      "source": [
        "Left Semi Join"
      ]
    },
    {
      "cell_type": "code",
      "metadata": {
        "colab": {
          "base_uri": "https://localhost:8080/"
        },
        "id": "8vO3SZ9GP9Ls",
        "outputId": "078ea27e-5297-4a62-8f3d-c086c101c9bf"
      },
      "source": [
        "customerDFMini.join(transactionDFMini,customerDFMini.CustomerID == transactionDFMini.CustomerID, how=\"left_semi\" ).show()"
      ],
      "execution_count": 15,
      "outputs": [
        {
          "output_type": "stream",
          "name": "stdout",
          "text": [
            "+----------+---+------+------+-------+\n",
            "|CustomerID|Age|Salary|Gender|Country|\n",
            "+----------+---+------+------+-------+\n",
            "|         1| 72| 20000|  Male|Germany|\n",
            "|         2| 72| 22000|Female| France|\n",
            "|         5| 33| 50000|  Male| France|\n",
            "|         6| 52| 35000|Female|England|\n",
            "+----------+---+------+------+-------+\n",
            "\n"
          ]
        }
      ]
    },
    {
      "cell_type": "markdown",
      "metadata": {
        "id": "oEr5XQNOQFCo"
      },
      "source": [
        "Left Anti Join"
      ]
    },
    {
      "cell_type": "code",
      "metadata": {
        "colab": {
          "base_uri": "https://localhost:8080/"
        },
        "id": "fw2B6C_-QG1a",
        "outputId": "78e67b79-5d34-430b-ce6a-6452696e5663"
      },
      "source": [
        "customerDFMini.join(transactionDFMini,customerDFMini.CustomerID == transactionDFMini.CustomerID, how=\"left_anti\" ).show()"
      ],
      "execution_count": 16,
      "outputs": [
        {
          "output_type": "stream",
          "name": "stdout",
          "text": [
            "+----------+---+------+------+-------+\n",
            "|CustomerID|Age|Salary|Gender|Country|\n",
            "+----------+---+------+------+-------+\n",
            "|         7| 31|  4300|  Male|Germany|\n",
            "|         8| 37| 32000|Female| France|\n",
            "+----------+---+------+------+-------+\n",
            "\n"
          ]
        }
      ]
    },
    {
      "cell_type": "markdown",
      "metadata": {
        "id": "e1HWiJ8TQJih"
      },
      "source": [
        "Innter Join Advanced"
      ]
    },
    {
      "cell_type": "code",
      "metadata": {
        "colab": {
          "base_uri": "https://localhost:8080/"
        },
        "id": "znQADHPQQMfY",
        "outputId": "19080771-f54e-4d8c-93df-4bd0d0bc2c2f"
      },
      "source": [
        "customerDFMini.join(transactionDFMini,customerDFMini.CustomerID > transactionDFMini.CustomerID,how=\"inner\" ).show()\n",
        "\n",
        "customerDFMini.join(transactionDFMini,customerDFMini.CustomerID < transactionDFMini.CustomerID,how=\"inner\" ).show()"
      ],
      "execution_count": 17,
      "outputs": [
        {
          "output_type": "stream",
          "name": "stdout",
          "text": [
            "+----------+---+------+------+-------+----------+---------+------+----------+\n",
            "|CustomerID|Age|Salary|Gender|Country|CustomerID|ProductID|Amount|      Date|\n",
            "+----------+---+------+------+-------+----------+---------+------+----------+\n",
            "|         2| 72| 22000|Female| France|         1|        3|  7541|22-11-2019|\n",
            "|         5| 33| 50000|  Male| France|         1|        3|  7541|22-11-2019|\n",
            "|         5| 33| 50000|  Male| France|         2|       14|  7271|15-12-2019|\n",
            "|         5| 33| 50000|  Male| France|         3|       47|  4276|20-11-2019|\n",
            "|         5| 33| 50000|  Male| France|         4|      146|  8923|22-11-2019|\n",
            "|         6| 52| 35000|Female|England|         1|        3|  7541|22-11-2019|\n",
            "|         6| 52| 35000|Female|England|         2|       14|  7271|15-12-2019|\n",
            "|         6| 52| 35000|Female|England|         3|       47|  4276|20-11-2019|\n",
            "|         6| 52| 35000|Female|England|         4|      146|  8923|22-11-2019|\n",
            "|         6| 52| 35000|Female|England|         5|       46|  4891|30-11-2019|\n",
            "|         7| 31|  4300|  Male|Germany|         1|        3|  7541|22-11-2019|\n",
            "|         7| 31|  4300|  Male|Germany|         2|       14|  7271|15-12-2019|\n",
            "|         7| 31|  4300|  Male|Germany|         3|       47|  4276|20-11-2019|\n",
            "|         7| 31|  4300|  Male|Germany|         4|      146|  8923|22-11-2019|\n",
            "|         7| 31|  4300|  Male|Germany|         5|       46|  4891|30-11-2019|\n",
            "|         7| 31|  4300|  Male|Germany|         6|      143|  7545|05-12-2019|\n",
            "|         8| 37| 32000|Female| France|         1|        3|  7541|22-11-2019|\n",
            "|         8| 37| 32000|Female| France|         2|       14|  7271|15-12-2019|\n",
            "|         8| 37| 32000|Female| France|         3|       47|  4276|20-11-2019|\n",
            "|         8| 37| 32000|Female| France|         4|      146|  8923|22-11-2019|\n",
            "+----------+---+------+------+-------+----------+---------+------+----------+\n",
            "only showing top 20 rows\n",
            "\n",
            "+----------+---+------+------+-------+----------+---------+------+----------+\n",
            "|CustomerID|Age|Salary|Gender|Country|CustomerID|ProductID|Amount|      Date|\n",
            "+----------+---+------+------+-------+----------+---------+------+----------+\n",
            "|         1| 72| 20000|  Male|Germany|         2|       14|  7271|15-12-2019|\n",
            "|         1| 72| 20000|  Male|Germany|         3|       47|  4276|20-11-2019|\n",
            "|         1| 72| 20000|  Male|Germany|         4|      146|  8923|22-11-2019|\n",
            "|         1| 72| 20000|  Male|Germany|         5|       46|  4891|30-11-2019|\n",
            "|         1| 72| 20000|  Male|Germany|         6|      143|  7545|05-12-2019|\n",
            "|         2| 72| 22000|Female| France|         3|       47|  4276|20-11-2019|\n",
            "|         2| 72| 22000|Female| France|         4|      146|  8923|22-11-2019|\n",
            "|         2| 72| 22000|Female| France|         5|       46|  4891|30-11-2019|\n",
            "|         2| 72| 22000|Female| France|         6|      143|  7545|05-12-2019|\n",
            "|         5| 33| 50000|  Male| France|         6|      143|  7545|05-12-2019|\n",
            "+----------+---+------+------+-------+----------+---------+------+----------+\n",
            "\n"
          ]
        }
      ]
    }
  ]
}
